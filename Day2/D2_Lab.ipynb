{
 "cells": [
  {
   "cell_type": "markdown",
   "metadata": {
    "id": "wzWpqL_UI3QV"
   },
   "source": [
    "# Ray theoretical travel times and paths\n",
    "\n",
    "[![Open In Colab](https://img.shields.io/badge/open%20in-Colab-b5e2fa?logo=googlecolab&style=flat-square&color=ffd670)](https://colab.research.google.com/github/tsonpham/ObsSeisHUS2025/blob/master/Day2/D2_Lab.ipynb)\n",
    "\n",
    "Prepared by Thanh-Son Pham (thanhson.pham@anu.edu.au), April 2025.\n",
    "\n",
    "---\n",
    "## What do we do in this notebook\n",
    "- Brief introduction of instrumental responses, and digital filter.\n",
    "- Here we demonstrate `obspy taup` to predict travel times and ray paths in a spherical Earth's model.\n",
    "\n",
    "Note: The content of this notebook follows closely the package [documentation](https://docs.obspy.org/packages/obspy.taup.html#basic-usage)."
   ]
  },
  {
   "cell_type": "code",
   "execution_count": null,
   "metadata": {
    "colab": {
     "base_uri": "https://localhost:8080/"
    },
    "executionInfo": {
     "elapsed": 4046,
     "status": "ok",
     "timestamp": 1745275334435,
     "user": {
      "displayName": "",
      "userId": ""
     },
     "user_tz": -420
    },
    "id": "COLJLJI7vc56",
    "outputId": "723a204b-2287-4cfc-dd43-3b119772ad5b"
   },
   "outputs": [],
   "source": [
    "# Environemtal setup (uncomment if running in colab)\n",
    "\n",
    "# !pip install obspy numpy==1.26.4"
   ]
  },
  {
   "cell_type": "code",
   "execution_count": null,
   "metadata": {
    "executionInfo": {
     "elapsed": 32,
     "status": "ok",
     "timestamp": 1745275334469,
     "user": {
      "displayName": "",
      "userId": ""
     },
     "user_tz": -420
    },
    "id": "Uk-_Lnphvc58"
   },
   "outputs": [],
   "source": [
    "#@title Run to activate retina display\n",
    "\n",
    "%config InlineBackend.figure_format = \"retina\"\n",
    "from matplotlib import rcParams\n",
    "\n",
    "rcParams[\"savefig.dpi\"] = 100\n",
    "rcParams[\"figure.dpi\"] = 100\n",
    "rcParams[\"font.size\"] = 10"
   ]
  },
  {
   "cell_type": "markdown",
   "metadata": {
    "id": "SxL8Lh3Ag2L9"
   },
   "source": [
    "---\n",
    "## Instrumental response, correction and digital filters\n",
    "\n",
    "Yesterday, you learnd to download station metadata. Today, we learn to download seismic waveform and inspect it."
   ]
  },
  {
   "cell_type": "code",
   "execution_count": null,
   "metadata": {
    "colab": {
     "base_uri": "https://localhost:8080/",
     "height": 674
    },
    "executionInfo": {
     "elapsed": 2018,
     "status": "ok",
     "timestamp": 1745275389421,
     "user": {
      "displayName": "",
      "userId": ""
     },
     "user_tz": -420
    },
    "id": "rnDMN3HSg2L9",
    "outputId": "c604f966-8f93-427c-a7c3-0b9de9706553"
   },
   "outputs": [],
   "source": [
    "#@title here we download the stations including the instrumental response from station RM.SLV (Son La, Vietnam).\n",
    "from obspy.clients.fdsn import Client\n",
    "import matplotlib.pyplot as plt\n",
    "\n",
    "inv = Client(\"IRIS\").get_stations(network=\"RM\", station=\"SLV\", level=\"response\")\n",
    "print (inv.select(channel='?HZ'))\n",
    "inv.plot_response(0.001, station=\"SLV\", channel=\"?HZ\")\n",
    "plt.show()"
   ]
  },
  {
   "cell_type": "markdown",
   "metadata": {
    "id": "9iCXhaqwg2L9"
   },
   "source": [
    "Station SLV has three vertical channels, LHZ, BHZ, and HHZ. The channel names follow this [naming convention](https://docs.fdsn.org/projects/source-identifiers/en/latest/channel-codes.html#seismometer).\n",
    "\n",
    "For example, in `LHZ` channel name:\n",
    "- L is the bandcode, meaning it's a long period sensor (~1 second)\n",
    "- H is the source code, meaning it's a high gain sensor (more sensitive)\n",
    "- Z is the subsource code, meaning it's a vertical component\n",
    "\n",
    "Unfortunately, this station does not record ground motions of the M5.2 Kon Tum 28/07/2024 earthquake. Later we consider data from station `PS.VIVO` to demonstrate the effect of instrumental response."
   ]
  },
  {
   "cell_type": "code",
   "execution_count": null,
   "metadata": {
    "colab": {
     "base_uri": "https://localhost:8080/",
     "height": 503
    },
    "executionInfo": {
     "elapsed": 1648,
     "status": "ok",
     "timestamp": 1745275396235,
     "user": {
      "displayName": "",
      "userId": ""
     },
     "user_tz": -420
    },
    "id": "026vsZkcg2L-",
    "outputId": "9f26474b-6c01-480f-f338-d7068bc57c3e"
   },
   "outputs": [],
   "source": [
    "#@title Download all high-gain vertical channels from station PS.VIVO (Vinh, VN) for 5 minutes from the origin time\n",
    "from obspy import UTCDateTime\n",
    "\n",
    "starttime = UTCDateTime(\"2024-07-28T04:35:13\")\n",
    "endtime = UTCDateTime(\"2024-07-28T04:40:13\")\n",
    "\n",
    "dstream = Client(\"IRIS\").get_waveforms(\n",
    "    network=\"PS\",\n",
    "    station=\"VIVO\",\n",
    "    channel=\"?HZ\",\n",
    "    location=\"*\",\n",
    "    starttime=starttime,\n",
    "    endtime=endtime,\n",
    "    attach_response=True)\n",
    "dstream.plot()\n",
    "plt.show()"
   ]
  },
  {
   "cell_type": "markdown",
   "metadata": {
    "id": "3i772jTAg2L-"
   },
   "source": [
    "If `attach_response=True` is set, the response will be attached to the stream. This means that the response will be removed when you call `dstream.remove_response()`.\n",
    "\n",
    "Original seismometer output are time series of integer vontage counts. You need to `remove_response()` to obtain the physical measurements (i.e., displacement, velocity or acceleration) of ground motions."
   ]
  },
  {
   "cell_type": "code",
   "execution_count": null,
   "metadata": {
    "colab": {
     "base_uri": "https://localhost:8080/",
     "height": 628
    },
    "executionInfo": {
     "elapsed": 578,
     "status": "ok",
     "timestamp": 1745275402257,
     "user": {
      "displayName": "",
      "userId": ""
     },
     "user_tz": -420
    },
    "id": "4U6SsDJwg2L_",
    "outputId": "7c8111c7-8e6f-446a-c371-22d379b92edb"
   },
   "outputs": [],
   "source": [
    "print (dstream[0].stats.response)\n",
    "\n",
    "dstream.remove_response(output=\"VEL\") # remove the instrument response to ground velocity in m/s\n",
    "dstream.plot()\n",
    "\n",
    "plt.show()"
   ]
  },
  {
   "cell_type": "markdown",
   "metadata": {
    "id": "hJma51b2g2L_"
   },
   "source": [
    "Do you notice the visual difference in the two seismograms? This is because their sensor have different bands. If they are filtered in the same bandwidths, they are very similar."
   ]
  },
  {
   "cell_type": "code",
   "execution_count": null,
   "metadata": {
    "colab": {
     "base_uri": "https://localhost:8080/",
     "height": 557
    },
    "executionInfo": {
     "elapsed": 1079,
     "status": "ok",
     "timestamp": 1745275435334,
     "user": {
      "displayName": "",
      "userId": ""
     },
     "user_tz": -420
    },
    "id": "gJrIlxd2g2L_",
    "outputId": "f9db6019-daed-4098-faa1-0ad36aaa23bd"
   },
   "outputs": [],
   "source": [
    "print (dstream)\n",
    "\n",
    "dstream.filter('bandpass', freqmin=0.01, freqmax=0.4, corners=4, zerophase=True)\n",
    "dstream.plot()\n",
    "plt.show()"
   ]
  },
  {
   "cell_type": "markdown",
   "metadata": {
    "id": "-O_Pwz4wvc58"
   },
   "source": [
    "---\n",
    "## Conversion between distances in kms and degrees\n",
    "\n",
    "In passive seismology, it is conventionally convenient to work with angular distances in degrees rather than kilometers. The conversions between the two quantities uses the nominal radius of the Earth, $R = 6371$ km. One degree along the Earth's circumference, often called as the great circle path, is $\\dfrac{2 \\pi \\times R \\; (km)}{360^\\circ} \\approx 111.195\\; km/^\\circ$."
   ]
  },
  {
   "cell_type": "code",
   "execution_count": null,
   "metadata": {
    "colab": {
     "base_uri": "https://localhost:8080/"
    },
    "executionInfo": {
     "elapsed": 6,
     "status": "ok",
     "timestamp": 1745275440756,
     "user": {
      "displayName": "",
      "userId": ""
     },
     "user_tz": -420
    },
    "id": "xVzYU_4KIgrg",
    "outputId": "04de30ef-8966-40f8-996c-7079035e1e64"
   },
   "outputs": [],
   "source": [
    "import numpy as np\n",
    "import matplotlib.pyplot as plt\n",
    "\n",
    "R = 6371\n",
    "C = 2 * 3.14159265359 * R\n",
    "KMPERDEG = C / 360\n",
    "print(f\"Distance in kms = distance in degrees times {np.round(KMPERDEG, 3)} (km/deg).\")"
   ]
  },
  {
   "cell_type": "markdown",
   "metadata": {
    "id": "18Oc4tzjvc5-"
   },
   "source": [
    "---\n",
    "## Travel Times\n",
    "\n",
    "[`get_travel_time()`](https://docs.obspy.org/packages/autogen/obspy.taup.tau.TauPyModel.get_travel_times.html#obspy.taup.tau.TauPyModel.get_travel_times) method predicts the travel time of a chosen seismic phase from a source at depth, in kms, over a distance, in degrees.\n"
   ]
  },
  {
   "cell_type": "code",
   "execution_count": null,
   "metadata": {
    "colab": {
     "base_uri": "https://localhost:8080/"
    },
    "executionInfo": {
     "elapsed": 345,
     "status": "ok",
     "timestamp": 1745275444254,
     "user": {
      "displayName": "",
      "userId": ""
     },
     "user_tz": -420
    },
    "id": "gmESrRH6vc5_",
    "outputId": "125d35ae-64d5-4b72-f90d-c724220e23d3"
   },
   "outputs": [],
   "source": [
    "# Import obspy.taup and initialize a taup model\n",
    "from obspy.taup import TauPyModel\n",
    "# iasp91 is the default model, which can be changed to others, ak135 or prem are often used alternatives\n",
    "model = TauPyModel(model=\"iasp91\")\n",
    "\n",
    "# Output of get_travel_times() method is a list of seismic arrivals\n",
    "arrivals = model.get_travel_times(source_depth_in_km=10, distance_in_degree=30)\n",
    "\n",
    "print (\"List all possible phases (when `phase_list` not specified) existing for a seismic source at 10 km depth and distance at 30 degree:\")\n",
    "print(arrivals) # Print the list of seismic arrivals"
   ]
  },
  {
   "cell_type": "markdown",
   "metadata": {
    "id": "Akd0qaKtvc6A"
   },
   "source": [
    "If seismic phases are not specified, all possible arrivals at 30° epicentral distance will be calculated and returned. One can use `phase_list` parameter to specify the list of [seismic phases](https://docs.obspy.org/packages/obspy.taup.html#phase-naming-in-obspy-taup) of interest."
   ]
  },
  {
   "cell_type": "code",
   "execution_count": null,
   "metadata": {
    "colab": {
     "base_uri": "https://localhost:8080/",
     "height": 474
    },
    "executionInfo": {
     "elapsed": 348,
     "status": "ok",
     "timestamp": 1745275448069,
     "user": {
      "displayName": "",
      "userId": ""
     },
     "user_tz": -420
    },
    "id": "nzps1tYSvc6B",
    "outputId": "a2f17b7e-c394-49b8-c1a5-bc705a66d5e2"
   },
   "outputs": [],
   "source": [
    "arrivals = model.get_ray_paths(source_depth_in_km=10, distance_in_degree=30, phase_list=[\"P\", \"S\"])\n",
    "print (arrivals)\n",
    "arrivals.plot_rays()\n",
    "plt.show()"
   ]
  },
  {
   "cell_type": "markdown",
   "metadata": {
    "id": "8KppicNRvc6B"
   },
   "source": [
    "The method returns one arrival each for P and S waves at the configuration described above. Let inspect the arrivals and show more information!"
   ]
  },
  {
   "cell_type": "code",
   "execution_count": null,
   "metadata": {
    "colab": {
     "base_uri": "https://localhost:8080/"
    },
    "executionInfo": {
     "elapsed": 6,
     "status": "ok",
     "timestamp": 1745275451606,
     "user": {
      "displayName": "",
      "userId": ""
     },
     "user_tz": -420
    },
    "id": "Ll-ZloG-vc6B",
    "outputId": "48497a7c-372c-4f38-884b-d7c79d202cd1"
   },
   "outputs": [],
   "source": [
    "for arrival in arrivals:\n",
    "    print (\"_________________________\")\n",
    "    print (f\"Phase name: {arrival.name}\")\n",
    "    print (f\"Arrival time: {arrival.time:.2f} seconds\")\n",
    "    print (f\"Distance: {arrival.distance}°\")\n",
    "    print (f\"Take-off angle: {arrival.takeoff_angle:.2f}°\")\n",
    "    print (f\"Ray parameter: {arrival.ray_param:.2f} (s/rad) = {arrival.ray_param/R:.2f} (s/km)\")"
   ]
  },
  {
   "cell_type": "markdown",
   "metadata": {
    "id": "Yi_dVN0Uvc6C"
   },
   "source": [
    "The ray parameter, defined as $\\dfrac{\\sin i}{v}$, is constant along the ray path according to the Snell's law. Because the ray parameter is inversely propotional to speed, it is also refered as *slowness*. The take-off angle, as its name suggested, is the angle of the ray path when it leaves the source."
   ]
  },
  {
   "cell_type": "markdown",
   "metadata": {
    "id": "E3cNgoqfvc6C"
   },
   "source": [
    "---\n",
    "## Ray Paths\n",
    "We can also calulate the path of a seismic ray propagating in a spherical Earth model using `get_ray_paths()`. The following cell calculates the ray paths of seismic arrivals from a seismic source placed at 10 km depth to a receiver at 30° epicentral distance."
   ]
  },
  {
   "cell_type": "code",
   "execution_count": null,
   "metadata": {
    "colab": {
     "base_uri": "https://localhost:8080/"
    },
    "executionInfo": {
     "elapsed": 522,
     "status": "ok",
     "timestamp": 1745275456149,
     "user": {
      "displayName": "",
      "userId": ""
     },
     "user_tz": -420
    },
    "id": "6cQefDujvc6C",
    "outputId": "3ce20dd6-f2c7-4e61-9755-fbd794e05535"
   },
   "outputs": [],
   "source": [
    "arrivals = model.get_ray_paths(source_depth_in_km=10, distance_in_degree=30,\n",
    "                               # ttbasic is not a standard phase name, but refers to a group of basic phases\n",
    "                               phase_list=[\"ttbasic\"])\n",
    "print (arrivals[0].path.dtype)"
   ]
  },
  {
   "cell_type": "markdown",
   "metadata": {
    "id": "DIRBR8vNvc6C"
   },
   "source": [
    "Now, the ray path for each arrival is stored in `path` field. Note the `path` field is  `None` or empty if `get_travel_times()` was used. This field is a list of tuples each constains the unique ray parameter `p`, travel time `time`, distance `dist`, and depth `depth` of each calculation nodes along the ray path.\n",
    "\n",
    "One can used `get_ray_paths_geo()` to calculate ray paths use source and receiver's latitudes and longitudes. If `geographiclib` library (used pip install geographiclib) is installed, the `path` field tuples have six rather than four items, with additional lat and lon of each discrete steps.\n",
    "\n",
    "Use function `arrivals.plot_rays()` to see the ray paths in a cross section of the Earth."
   ]
  },
  {
   "cell_type": "code",
   "execution_count": null,
   "metadata": {
    "colab": {
     "base_uri": "https://localhost:8080/",
     "height": 420
    },
    "executionInfo": {
     "elapsed": 815,
     "status": "ok",
     "timestamp": 1745275460945,
     "user": {
      "displayName": "",
      "userId": ""
     },
     "user_tz": -420
    },
    "id": "C1K7pRPVvc6D",
    "outputId": "04817ac5-14ed-4136-fdc5-adc9cc9fe820"
   },
   "outputs": [],
   "source": [
    "arrivals.plot_rays(plot_type=\"spherical\", legend=True)\n",
    "plt.show()"
   ]
  },
  {
   "cell_type": "markdown",
   "metadata": {
    "id": "4omeodtHvc6D"
   },
   "source": [
    "The ray paths also be plotted in a flatten Earth when `plot_type` is set to `catersian`."
   ]
  },
  {
   "cell_type": "code",
   "execution_count": null,
   "metadata": {
    "colab": {
     "base_uri": "https://localhost:8080/",
     "height": 452
    },
    "executionInfo": {
     "elapsed": 492,
     "status": "ok",
     "timestamp": 1745275466595,
     "user": {
      "displayName": "",
      "userId": ""
     },
     "user_tz": -420
    },
    "id": "GWcjD8Gevc6D",
    "outputId": "c2beeef5-a869-4c8b-bfb7-bcf770908eb2"
   },
   "outputs": [],
   "source": [
    "arrivals.plot_rays(plot_type=\"cartesian\", legend=True)\n",
    "plt.show()"
   ]
  },
  {
   "cell_type": "markdown",
   "metadata": {
    "id": "haE_JLsWvc6D"
   },
   "source": [
    "---\n",
    "## Travel Time Curves\n",
    "\n",
    "The ray path of a seismic phase from source to receiver is deteministic in an Earth model and is function of epicentral distance and source depth. Given the same source depth, a travel time curve represents the variation of travel times as function of epicentral distances.\n",
    "\n",
    "Please refer to this page [Travel Time Curves: How they are created](https://www.iris.edu/hq/inclass/animation/traveltime_curves_how_they_are_created) for more information.\n",
    "\n",
    "Let's consider the travel of P waves from a source on the Earth surface, i.e., depth = 0 km, to an arrange of seismic array equally distributed from 10 to 50 degrees."
   ]
  },
  {
   "cell_type": "code",
   "execution_count": null,
   "metadata": {
    "colab": {
     "base_uri": "https://localhost:8080/",
     "height": 420
    },
    "executionInfo": {
     "elapsed": 970,
     "status": "ok",
     "timestamp": 1745275472670,
     "user": {
      "displayName": "",
      "userId": ""
     },
     "user_tz": -420
    },
    "id": "NgULe0EDvc6D",
    "outputId": "cb6a224c-5641-4b60-9cbe-6008e25e6357"
   },
   "outputs": [],
   "source": [
    "from obspy.taup.tau import Arrivals\n",
    "list_of_distances = np.arange(0, 91, 5)\n",
    "list_of_arrivals = []\n",
    "for dist in list_of_distances:\n",
    "    arrivals = model.get_ray_paths(source_depth_in_km=0, distance_in_degree=dist, phase_list=[\"P\"])\n",
    "    list_of_arrivals.append(arrivals[0]) # append arrivals to list for every 5 degrees\n",
    "arrivals = Arrivals(list_of_arrivals, model.model) # create an Arrivals object\n",
    "arrivals.plot_rays(plot_type=\"spherical\", legend=True)\n",
    "plt.show()"
   ]
  },
  {
   "cell_type": "markdown",
   "metadata": {
    "id": "U-yQZs3fvc6E"
   },
   "source": [
    "And, the travel time curve is"
   ]
  },
  {
   "cell_type": "code",
   "execution_count": null,
   "metadata": {
    "colab": {
     "base_uri": "https://localhost:8080/",
     "height": 471
    },
    "executionInfo": {
     "elapsed": 270,
     "status": "ok",
     "timestamp": 1745275476835,
     "user": {
      "displayName": "",
      "userId": ""
     },
     "user_tz": -420
    },
    "id": "_hX0RBnEvc6E",
    "outputId": "693a6437-3862-490d-cfe3-39ac859f33be"
   },
   "outputs": [],
   "source": [
    "list_of_ttimes = []\n",
    "for arrivals in list_of_arrivals:\n",
    "    list_of_ttimes.append(arrivals.time)\n",
    "plt.plot(list_of_distances, list_of_ttimes, \"o-\")\n",
    "plt.xlabel(\"Distance (°)\")\n",
    "plt.ylabel(\"Travel time (s)\")\n",
    "plt.title(\"Travel time vs. Distance\")\n",
    "plt.show()"
   ]
  },
  {
   "cell_type": "markdown",
   "metadata": {
    "id": "IjGh56Mnvc6E"
   },
   "source": [
    "Note that, the P-wave's travel time curve above has been calculated at a discrete collection of epicentral distances and the calculation time is propotional to the desired number of distances. To avoid unnecessary computation, the calculated points can be interpolated to get the travel time for an arbitrary epicentral distance."
   ]
  },
  {
   "cell_type": "code",
   "execution_count": null,
   "metadata": {
    "colab": {
     "base_uri": "https://localhost:8080/"
    },
    "executionInfo": {
     "elapsed": 4,
     "status": "ok",
     "timestamp": 1745275480553,
     "user": {
      "displayName": "",
      "userId": ""
     },
     "user_tz": -420
    },
    "id": "iWNu1ZUIvc6E",
    "outputId": "207ddc2e-7820-4764-f9bd-4cf79209cb64"
   },
   "outputs": [],
   "source": [
    "# Interpolated function for travel time vs. distance\n",
    "P_time = 50\n",
    "dist = np.interp(P_time, list_of_ttimes, list_of_distances)\n",
    "# What's the epicentral distance if P-wave takes 50 seconds to travel from source to receiver?\n",
    "print (f\"Distance for {P_time} seconds: {dist:.2f}° or {dist*KMPERDEG:.2f} km\")"
   ]
  },
  {
   "cell_type": "markdown",
   "metadata": {
    "id": "ZPxtKnOmvc6F"
   },
   "source": [
    "Have you notice that the slop of the travel time curve as unit of `s/°`, which is the unit of ray parameter, also know as slowness?! Indeed, the slope of the travel time curve at a given distance is the ray parameter of its travel ray path. This proof can be found in any seismological textbook, for example Stein & Wysession (2003), but remains beyond the scope of this introductory workshop."
   ]
  },
  {
   "cell_type": "markdown",
   "metadata": {
    "id": "sERq5Ul-vc6F"
   },
   "source": [
    "---\n",
    "## Challenge 1\n",
    "\n",
    "Let's try what you have learned!\n",
    "\n",
    "In the example above, you are determined to determine the epicentral distance given a measured P-wave travel time. Now we look at how we can calculate the distance given the measured difference between S and P-wave arrivals.  To complete this excercise, please copy the following code blocks to a new Python cell, replace all <CHANGE ME> instances with your codes.\n",
    "\n",
    "```\n",
    "# Add your name to show in the plot title\n",
    "your_name = <CHANGE ME>\n",
    "\n",
    "# Calculate travel times for P and S waves for distances from 0 to 20 degrees\n",
    "distances = np.arange(21)\n",
    "P_times = [] # List to store P-wave travel times\n",
    "S_times = [] # List to store S-wave travel times\n",
    "for dist in distances:\n",
    "    # Calculate and save P-wave travel time\n",
    "    arrivals = <CHANGE ME>\n",
    "    P_times.append(arrivals[0].time)\n",
    "    # Calculate and save S-wave travel time\n",
    "    arrivals = model.get_travel_times(0, dist, [\"S\"])\n",
    "    S_times.<CHANGE ME>\n",
    "\n",
    "# Convert lists to numpy arrays for easy manipulation\n",
    "P_times = np.array(P_times)\n",
    "S_times = np.array(S_times)\n",
    "\n",
    "# Use numpy.interp() to interpolate distance for a given differential travel time (ΔT)\n",
    "dtime = 100\n",
    "dist = np.interp(dtime, S_times-P_times, distances)\n",
    "\n",
    "# Calculate P and S wave travel times for the interploated distance\n",
    "P_time = <CHANGE ME>\n",
    "S_time = <CHANGE ME>\n",
    "\n",
    "# Plot the results\n",
    "fig, ax = plt.subplots()\n",
    "ax.plot(distances, S_times, \"-\", label=\"S-wave\")\n",
    "ax.plot(distances, P_times, \"-\", label=\"P-wave\")\n",
    "ax.axvline(x=dist, color=\"black\", linestyle=\"--\", lw=0.75)\n",
    "ax.annotate(\"\", xy=(dist, S_time), xytext=(dist, P_time), arrowprops=dict(arrowstyle=\"<|-|>\"))\n",
    "ax.text(dist+.2, (P_time+S_time)/2, f\"ΔT = {dtime:.0f} s\")\n",
    "ax.set(xlabel=\"Distance (°)\", ylabel=\"Travel time (s)\", title=f\"Travel time curve by {your_name}\")\n",
    "ax.text(dist+.2, 0, f\"D = {dist:.2f}°\")\n",
    "ax.grid()\n",
    "ax.legend()\n",
    "fig.tight_layout()\n",
    "plt.show()\n",
    "```"
   ]
  },
  {
   "cell_type": "code",
   "execution_count": null,
   "metadata": {
    "id": "YTKDhIUGvc6F"
   },
   "outputs": [],
   "source": [
    "## Enter your code here & Replace <CHANGE ME> with your code\n"
   ]
  },
  {
   "cell_type": "code",
   "execution_count": null,
   "metadata": {
    "cellView": "form",
    "colab": {
     "base_uri": "https://localhost:8080/",
     "height": 486
    },
    "executionInfo": {
     "elapsed": 1444,
     "status": "ok",
     "timestamp": 1745275494250,
     "user": {
      "displayName": "",
      "userId": ""
     },
     "user_tz": -420
    },
    "id": "vOPDF8QFvc6F",
    "outputId": "e2a7cce7-9b6e-4540-ed46-2681a789104d"
   },
   "outputs": [],
   "source": [
    "#@title Click for solution\n",
    "\n",
    "# Add your name to show in the plot title\n",
    "your_name = \"Son Pham\"\n",
    "\n",
    "# Calculate travel times for P and S waves for distances from 0 to 20 degrees\n",
    "distances = np.arange(21)\n",
    "P_times = [] # List to store P-wave travel times\n",
    "S_times = [] # List to store S-wave travel times\n",
    "for dist in distances:\n",
    "    # Calculate and save P-wave travel time\n",
    "    arrivals = model.get_travel_times(0, dist, [\"P\"])\n",
    "    P_times.append(arrivals[0].time)\n",
    "    # Calculate and save S-wave travel time\n",
    "    arrivals = model.get_travel_times(0, dist, [\"S\"])\n",
    "    S_times.append(arrivals[0].time)\n",
    "\n",
    "# Convert lists to numpy arrays for easy manipulation\n",
    "P_times = np.array(P_times)\n",
    "S_times = np.array(S_times)\n",
    "\n",
    "# Use numpy.interp() to interpolate distance for a given differential travel time (ΔT)\n",
    "dtime = 100\n",
    "dist = np.interp(dtime, S_times-P_times, distances)\n",
    "\n",
    "# Calculate P and S wave travel times for the interploated distance\n",
    "P_time = np.interp(dist, distances, P_times)\n",
    "S_time = np.interp(dist, distances, S_times)\n",
    "\n",
    "# Plot the results\n",
    "fig, ax = plt.subplots()\n",
    "ax.plot(distances, S_times, \"-\", label=\"S-wave\")\n",
    "ax.plot(distances, P_times, \"-\", label=\"P-wave\")\n",
    "ax.axvline(x=dist, color=\"black\", linestyle=\"--\", lw=0.75)\n",
    "ax.annotate(\"\", xy=(dist, S_time), xytext=(dist, P_time), arrowprops=dict(arrowstyle=\"<|-|>\"))\n",
    "ax.text(dist+.2, (P_time+S_time)/2, f\"ΔT = {dtime:.0f} s\")\n",
    "ax.set(xlabel=\"Distance (°)\", ylabel=\"Travel time (s)\", title=f\"Travel time curve by {your_name}\")\n",
    "ax.text(dist+.2, 0, f\"D = {dist:.2f}°\")\n",
    "ax.grid()\n",
    "ax.legend()\n",
    "fig.tight_layout()\n",
    "plt.show()"
   ]
  },
  {
   "cell_type": "markdown",
   "metadata": {
    "id": "9gTStQA2vc6G"
   },
   "source": [
    "---\n",
    "## Challenge 2\n",
    "The travel time curves plotted above are calculated for the first arrival only. Given that you have some understanding of seismic travel time curves, let's try to follow the instruction of function `plot_travel_times` [link](https://docs.obspy.org/packages/autogen/obspy.taup.tau.plot_travel_times.html) to plot the travel time curves of PKP and PKIKP phases from a source at 50 km depth. Feel free to experiment with different Earth's models such as `ak135` or `prem`. You might want to plot their ray paths at 153° to have some clues of what's happening.\n",
    "\n",
    "You will probably see two PKP ray paths connecting the source and receiver? Do you think it conflicts with the Fermat's [pinciple](https://www.britannica.com/science/Fermats-principle)?"
   ]
  },
  {
   "cell_type": "code",
   "execution_count": null,
   "metadata": {
    "id": "7d2eFndkvc6G"
   },
   "outputs": [],
   "source": [
    "# Enter your code here"
   ]
  },
  {
   "cell_type": "code",
   "execution_count": null,
   "metadata": {
    "cellView": "form",
    "colab": {
     "base_uri": "https://localhost:8080/",
     "height": 857
    },
    "executionInfo": {
     "elapsed": 968,
     "status": "ok",
     "timestamp": 1745275498948,
     "user": {
      "displayName": "",
      "userId": ""
     },
     "user_tz": -420
    },
    "id": "7Q0MbtZUvc6G",
    "outputId": "b715b38c-e6ef-41cf-f0a3-797ff6cf545b"
   },
   "outputs": [],
   "source": [
    "# @title Click for solution\n",
    "# Import plot_travel_times function\n",
    "from obspy.taup import plot_travel_times\n",
    "\n",
    "# Plot travel times for PKP and PKIKP phases\n",
    "fig, ax = plt.subplots()\n",
    "plot_travel_times(50, phase_list=['PKP', 'PKIKP'], model='ak135', ax=ax, min_degrees=114, max_degrees=180, show=False)\n",
    "ax.set(ylim=(18.5, 22))\n",
    "\n",
    "# Plot ray paths for PKP and PKIKP phases\n",
    "arrivals = model.get_ray_paths(source_depth_in_km=50, distance_in_degree=153, phase_list=['PKP', 'PKIKP'])\n",
    "arrivals.plot_rays(plot_type='spherical', legend=True, show=False)\n",
    "plt.show()"
   ]
  },
  {
   "cell_type": "markdown",
   "metadata": {
    "id": "cXExZap9vc6G"
   },
   "source": [
    "---\n",
    "## Conclusions\n",
    "- At high frequency approximation, ray theory can be satisfactorily used to predict travel times and ray paths through Earth's interior.\n",
    "\n",
    "- Being able to predict travel times and trace ray paths through an 1D Earth model play important roles in seismology (as you will see in the rest of the course)."
   ]
  }
 ],
 "metadata": {
  "colab": {
   "provenance": [
    {
     "file_id": "https://github.com/tsonpham/ObsSeisHUS2025/blob/master/Day2/D2_Lab.ipynb",
     "timestamp": 1745275682854
    }
   ]
  },
  "kernelspec": {
   "display_name": "emcee",
   "language": "python",
   "name": "python3"
  },
  "language_info": {
   "codemirror_mode": {
    "name": "ipython",
    "version": 3
   },
   "file_extension": ".py",
   "mimetype": "text/x-python",
   "name": "python",
   "nbconvert_exporter": "python",
   "pygments_lexer": "ipython3",
   "version": "3.11.7"
  }
 },
 "nbformat": 4,
 "nbformat_minor": 0
}
