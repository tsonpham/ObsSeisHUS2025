





<!DOCTYPE html>
<html
  lang="en"
  
  data-color-mode="auto" data-light-theme="light" data-dark-theme="dark"
  data-a11y-animated-images="system" data-a11y-link-underlines="true"
  
  >



  <head>
    <meta charset="utf-8">
  <link rel="dns-prefetch" href="https://github.githubassets.com">
  <link rel="dns-prefetch" href="https://avatars.githubusercontent.com">
  <link rel="dns-prefetch" href="https://github-cloud.s3.amazonaws.com">
  <link rel="dns-prefetch" href="https://user-images.githubusercontent.com/">
  <link rel="preconnect" href="https://github.githubassets.com" crossorigin>
  <link rel="preconnect" href="https://avatars.githubusercontent.com">

  


  <link crossorigin="anonymous" media="all" rel="stylesheet" href="https://github.githubassets.com/assets/light-605318cbe3a1.css" /><link crossorigin="anonymous" media="all" rel="stylesheet" href="https://github.githubassets.com/assets/dark-bd1cb5575fff.css" /><link data-color-theme="dark_dimmed" crossorigin="anonymous" media="all" rel="stylesheet" data-href="https://github.githubassets.com/assets/dark_dimmed-52a2075571c3.css" /><link data-color-theme="dark_high_contrast" crossorigin="anonymous" media="all" rel="stylesheet" data-href="https://github.githubassets.com/assets/dark_high_contrast-bf3988586de0.css" /><link data-color-theme="dark_colorblind" crossorigin="anonymous" media="all" rel="stylesheet" data-href="https://github.githubassets.com/assets/dark_colorblind-27a437876a92.css" /><link data-color-theme="light_colorblind" crossorigin="anonymous" media="all" rel="stylesheet" data-href="https://github.githubassets.com/assets/light_colorblind-97f0dc959f8f.css" /><link data-color-theme="light_high_contrast" crossorigin="anonymous" media="all" rel="stylesheet" data-href="https://github.githubassets.com/assets/light_high_contrast-708e3a93215a.css" /><link data-color-theme="light_tritanopia" crossorigin="anonymous" media="all" rel="stylesheet" data-href="https://github.githubassets.com/assets/light_tritanopia-9217138a8d5b.css" /><link data-color-theme="dark_tritanopia" crossorigin="anonymous" media="all" rel="stylesheet" data-href="https://github.githubassets.com/assets/dark_tritanopia-4397d91bdb49.css" />

    <link crossorigin="anonymous" media="all" rel="stylesheet" href="https://github.githubassets.com/assets/primer-primitives-225433424a87.css" />
    <link crossorigin="anonymous" media="all" rel="stylesheet" href="https://github.githubassets.com/assets/primer-93aded0ee8a1.css" />
    <link crossorigin="anonymous" media="all" rel="stylesheet" href="https://github.githubassets.com/assets/global-5b2991c52993.css" />
    <link crossorigin="anonymous" media="all" rel="stylesheet" href="https://github.githubassets.com/assets/github-d92840ce6f97.css" />
  <link crossorigin="anonymous" media="all" rel="stylesheet" href="https://github.githubassets.com/assets/repository-4fce88777fa8.css" />
<link crossorigin="anonymous" media="all" rel="stylesheet" href="https://github.githubassets.com/assets/code-0210be90f4d3.css" />

  


  <script type="application/json" id="client-env">{"locale":"en","featureFlags":["a11y_quote_reply_fix","allow_subscription_halted_error","contentful_lp_optimize_image","contentful_lp_hero_video_cover_image","copilot_immersive_plugin_system","copilot_new_references_ui","copilot_chat_repo_custom_instructions_preview","copilot_chat_immersive_subthreading","copilot_chat_opening_thread_switch","copilot_no_floating_button","copilot_smell_icebreaker_ux","copilot_read_shared_conversation","dotcom_chat_client_side_skills","experimentation_azure_variant_endpoint","enterprise_nav_redesign","failbot_handle_non_errors","geojson_azure_maps","ghost_pilot_confidence_truncation_25","ghost_pilot_confidence_truncation_40","github_models_gateway","github_models_o3_mini_streaming","hovercard_accessibility","insert_before_patch","issues_advanced_search","issues_react_remove_placeholders","issues_react_blur_item_picker_on_close","marketing_pages_search_explore_provider","react_data_router_pull_requests","remove_child_patch","repository_suggester_elastic_search","sample_network_conn_type","swp_enterprise_contact_form","site_proxima_australia_update","issues_react_create_milestone","issues_react_cache_fix_workaround","lifecycle_label_name_updates","item_picker_new_select_panel","copilot_task_oriented_assistive_prompts","issues_react_assignee_warning","issue_types_prevent_private_type_creation","issues_react_grouped_diff_on_edit_history","use_paginated_organization_picker"],"login":"tsonpham"}</script>
<script crossorigin="anonymous" defer="defer" type="application/javascript" src="https://github.githubassets.com/assets/wp-runtime-7b48293b3dd7.js"></script>
<script crossorigin="anonymous" defer="defer" type="application/javascript" src="https://github.githubassets.com/assets/vendors-node_modules_oddbird_popover-polyfill_dist_popover_js-9da652f58479.js"></script>
<script crossorigin="anonymous" defer="defer" type="application/javascript" src="https://github.githubassets.com/assets/vendors-node_modules_github_arianotify-polyfill_ariaNotify-polyfill_js-node_modules_github_mi-3abb8f-d7e6bc799724.js"></script>
<script crossorigin="anonymous" defer="defer" type="application/javascript" src="https://github.githubassets.com/assets/ui_packages_failbot_failbot_ts-4600dbf2d60a.js"></script>
<script crossorigin="anonymous" defer="defer" type="application/javascript" src="https://github.githubassets.com/assets/environment-f04cb2a9fc8c.js"></script>
<script crossorigin="anonymous" defer="defer" type="application/javascript" src="https://github.githubassets.com/assets/vendors-node_modules_primer_behaviors_dist_esm_index_mjs-0dbb79f97f8f.js"></script>
<script crossorigin="anonymous" defer="defer" type="application/javascript" src="https://github.githubassets.com/assets/vendors-node_modules_github_selector-observer_dist_index_esm_js-f690fd9ae3d5.js"></script>
<script crossorigin="anonymous" defer="defer" type="application/javascript" src="https://github.githubassets.com/assets/vendors-node_modules_github_relative-time-element_dist_index_js-f6da4b3fa34c.js"></script>
<script crossorigin="anonymous" defer="defer" type="application/javascript" src="https://github.githubassets.com/assets/vendors-node_modules_github_text-expander-element_dist_index_js-78748950cb0c.js"></script>
<script crossorigin="anonymous" defer="defer" type="application/javascript" src="https://github.githubassets.com/assets/vendors-node_modules_github_auto-complete-element_dist_index_js-node_modules_github_catalyst_-8e9f78-a74b4e0a8a6b.js"></script>
<script crossorigin="anonymous" defer="defer" type="application/javascript" src="https://github.githubassets.com/assets/vendors-node_modules_github_filter-input-element_dist_index_js-node_modules_github_remote-inp-b5f1d7-a1760ffda83d.js"></script>
<script crossorigin="anonymous" defer="defer" type="application/javascript" src="https://github.githubassets.com/assets/vendors-node_modules_github_markdown-toolbar-element_dist_index_js-ceef33f593fa.js"></script>
<script crossorigin="anonymous" defer="defer" type="application/javascript" src="https://github.githubassets.com/assets/vendors-node_modules_github_file-attachment-element_dist_index_js-node_modules_primer_view-co-c44a69-8094ee2ecc5e.js"></script>
<script crossorigin="anonymous" defer="defer" type="application/javascript" src="https://github.githubassets.com/assets/github-elements-e73c59eabd5a.js"></script>
<script crossorigin="anonymous" defer="defer" type="application/javascript" src="https://github.githubassets.com/assets/element-registry-0339e35021ae.js"></script>
<script crossorigin="anonymous" defer="defer" type="application/javascript" src="https://github.githubassets.com/assets/vendors-node_modules_braintree_browser-detection_dist_browser-detection_js-node_modules_githu-bb80ec-72267f4e3ff9.js"></script>
<script crossorigin="anonymous" defer="defer" type="application/javascript" src="https://github.githubassets.com/assets/vendors-node_modules_lit-html_lit-html_js-be8cb88f481b.js"></script>
<script crossorigin="anonymous" defer="defer" type="application/javascript" src="https://github.githubassets.com/assets/vendors-node_modules_github_mini-throttle_dist_index_js-node_modules_morphdom_dist_morphdom-e-7c534c-a4a1922eb55f.js"></script>
<script crossorigin="anonymous" defer="defer" type="application/javascript" src="https://github.githubassets.com/assets/vendors-node_modules_github_turbo_dist_turbo_es2017-esm_js-e3cbe28f1638.js"></script>
<script crossorigin="anonymous" defer="defer" type="application/javascript" src="https://github.githubassets.com/assets/vendors-node_modules_github_remote-form_dist_index_js-node_modules_delegated-events_dist_inde-893f9f-6cf3320416b8.js"></script>
<script crossorigin="anonymous" defer="defer" type="application/javascript" src="https://github.githubassets.com/assets/vendors-node_modules_color-convert_index_js-e3180fe3bcb3.js"></script>
<script crossorigin="anonymous" defer="defer" type="application/javascript" src="https://github.githubassets.com/assets/vendors-node_modules_github_quote-selection_dist_index_js-node_modules_github_session-resume_-69cfcc-bc42a18e77d5.js"></script>
<script crossorigin="anonymous" defer="defer" type="application/javascript" src="https://github.githubassets.com/assets/ui_packages_updatable-content_updatable-content_ts-2a55124d5c52.js"></script>
<script crossorigin="anonymous" defer="defer" type="application/javascript" src="https://github.githubassets.com/assets/app_assets_modules_github_behaviors_task-list_ts-app_assets_modules_github_sso_ts-ui_packages-900dde-768abe60b1f8.js"></script>
<script crossorigin="anonymous" defer="defer" type="application/javascript" src="https://github.githubassets.com/assets/app_assets_modules_github_sticky-scroll-into-view_ts-3e000c5d31a9.js"></script>
<script crossorigin="anonymous" defer="defer" type="application/javascript" src="https://github.githubassets.com/assets/app_assets_modules_github_behaviors_ajax-error_ts-app_assets_modules_github_behaviors_include-87a4ae-21948f72ce0b.js"></script>
<script crossorigin="anonymous" defer="defer" type="application/javascript" src="https://github.githubassets.com/assets/app_assets_modules_github_behaviors_commenting_edit_ts-app_assets_modules_github_behaviors_ht-83c235-e429cff6ceb1.js"></script>
<script crossorigin="anonymous" defer="defer" type="application/javascript" src="https://github.githubassets.com/assets/behaviors-c37b8eb215ba.js"></script>
<script crossorigin="anonymous" defer="defer" type="application/javascript" src="https://github.githubassets.com/assets/vendors-node_modules_delegated-events_dist_index_js-node_modules_github_catalyst_lib_index_js-f6223d90c7ba.js"></script>
<script crossorigin="anonymous" defer="defer" type="application/javascript" src="https://github.githubassets.com/assets/notifications-global-01e85cd1be94.js"></script>
<script crossorigin="anonymous" defer="defer" type="application/javascript" src="https://github.githubassets.com/assets/vendors-node_modules_github_mini-throttle_dist_index_js-node_modules_github_catalyst_lib_inde-dbbea9-26cce2010167.js"></script>
<script crossorigin="anonymous" defer="defer" type="application/javascript" src="https://github.githubassets.com/assets/code-menu-1c0aedc134b1.js"></script>
  
  <script crossorigin="anonymous" defer="defer" type="application/javascript" src="https://github.githubassets.com/assets/primer-react-d4f7d0473d87.js"></script>
<script crossorigin="anonymous" defer="defer" type="application/javascript" src="https://github.githubassets.com/assets/react-core-88273863451e.js"></script>
<script crossorigin="anonymous" defer="defer" type="application/javascript" src="https://github.githubassets.com/assets/react-lib-f1bca44e0926.js"></script>
<script crossorigin="anonymous" defer="defer" type="application/javascript" src="https://github.githubassets.com/assets/octicons-react-611691cca2f6.js"></script>
<script crossorigin="anonymous" defer="defer" type="application/javascript" src="https://github.githubassets.com/assets/vendors-node_modules_emotion_is-prop-valid_dist_emotion-is-prop-valid_esm_js-node_modules_emo-62da9f-2df2f32ec596.js"></script>
<script crossorigin="anonymous" defer="defer" type="application/javascript" src="https://github.githubassets.com/assets/vendors-node_modules_github_mini-throttle_dist_index_js-node_modules_stacktrace-parser_dist_s-e7dcdd-f7cc96ebae76.js"></script>
<script crossorigin="anonymous" defer="defer" type="application/javascript" src="https://github.githubassets.com/assets/vendors-node_modules_oddbird_popover-polyfill_dist_popover-fn_js-55fea94174bf.js"></script>
<script crossorigin="anonymous" defer="defer" type="application/javascript" src="https://github.githubassets.com/assets/vendors-node_modules_dompurify_dist_purify_es_mjs-dd1d3ea6a436.js"></script>
<script crossorigin="anonymous" defer="defer" type="application/javascript" src="https://github.githubassets.com/assets/vendors-node_modules_lodash-es__Stack_js-node_modules_lodash-es__Uint8Array_js-node_modules_l-4faaa6-4a736fde5c2f.js"></script>
<script crossorigin="anonymous" defer="defer" type="application/javascript" src="https://github.githubassets.com/assets/vendors-node_modules_lodash-es__baseIsEqual_js-8929eb9718d5.js"></script>
<script crossorigin="anonymous" defer="defer" type="application/javascript" src="https://github.githubassets.com/assets/vendors-node_modules_github_hydro-analytics-client_dist_analytics-client_js-node_modules_gith-40531a-09af0ef9a562.js"></script>
<script crossorigin="anonymous" defer="defer" type="application/javascript" src="https://github.githubassets.com/assets/ui_packages_aria-live_aria-live_ts-ui_packages_promise-with-resolvers-polyfill_promise-with-r-17c672-34345cb18aac.js"></script>
<script crossorigin="anonymous" defer="defer" type="application/javascript" src="https://github.githubassets.com/assets/ui_packages_paths_index_ts-f4b1f66d3ae9.js"></script>
<script crossorigin="anonymous" defer="defer" type="application/javascript" src="https://github.githubassets.com/assets/ui_packages_ref-selector_RefSelector_tsx-7496afc3784d.js"></script>
<script crossorigin="anonymous" defer="defer" type="application/javascript" src="https://github.githubassets.com/assets/ui_packages_commit-attribution_index_ts-ui_packages_commit-checks-status_index_ts-ui_packages-7094d4-88b083eead7f.js"></script>
<script crossorigin="anonymous" defer="defer" type="application/javascript" src="https://github.githubassets.com/assets/ui_packages_diffs_diff-parts_ts-b05d9274ce63.js"></script>
<script crossorigin="anonymous" defer="defer" type="application/javascript" src="https://github.githubassets.com/assets/ui_packages_code-view-shared_hooks_shortcuts_ts-ui_packages_code-view-shared_utilities_styles-0dc246-f8753c5db08d.js"></script>
<script crossorigin="anonymous" defer="defer" type="application/javascript" src="https://github.githubassets.com/assets/ui_packages_code-view-shared_hooks_use-canonical-object_ts-ui_packages_document-metadata_docu-eb3d48-1697b118301c.js"></script>
<script crossorigin="anonymous" defer="defer" type="application/javascript" src="https://github.githubassets.com/assets/ui_packages_code-view-shared_hooks_use-file-page-payload_ts-ui_packages_hydro-analytics_hydro-8ae148-1bd3788d78c1.js"></script>
<script crossorigin="anonymous" defer="defer" type="application/javascript" src="https://github.githubassets.com/assets/app_assets_modules_github_blob-anchor_ts-ui_packages_code-nav_code-nav_ts-ui_packages_filter--8253c1-91468a3354f9.js"></script>
<script crossorigin="anonymous" defer="defer" type="application/javascript" src="https://github.githubassets.com/assets/react-code-view-8a3af82fc23c.js"></script>
<link crossorigin="anonymous" media="all" rel="stylesheet" href="https://github.githubassets.com/assets/primer-react.62102b3a56146f8b8424.module.css" />
<link crossorigin="anonymous" media="all" rel="stylesheet" href="https://github.githubassets.com/assets/react-code-view.a0633e3d36c876a6eaa1.module.css" />


  <title>PCodaAutocorrelation/Pcoda_autocorrelation.ipynb at master · tsonpham/PCodaAutocorrelation</title>



  <meta name="route-pattern" content="/:user_id/:repository/blob/*name(/*path)" data-turbo-transient>
  <meta name="route-controller" content="blob" data-turbo-transient>
  <meta name="route-action" content="show" data-turbo-transient>

    
  <meta name="current-catalog-service-hash" content="f3abb0cc802f3d7b95fc8762b94bdcb13bf39634c40c357301c4aa1d67a256fb">


  <meta name="request-id" content="DEF8:71377:2245DE:2BA034:67D20F16" data-turbo-transient="true" /><meta name="html-safe-nonce" content="e43a6b20992ebe786d73bad8f96e1dd41ef06ddff2feef2a2d84356ffed575df" data-turbo-transient="true" /><meta name="visitor-payload" content="eyJyZWZlcnJlciI6Imh0dHBzOi8vZ2l0aHViLmNvbS90c29ucGhhbS9QQ29kYUF1dG9jb3JyZWxhdGlvbiIsInJlcXVlc3RfaWQiOiJERUY4OjcxMzc3OjIyNDVERToyQkEwMzQ6NjdEMjBGMTYiLCJ2aXNpdG9yX2lkIjoiMjE3MTM0NzA1NDk0NzQ3MDE1MiIsInJlZ2lvbl9lZGdlIjoiYXVzdHJhbGlhZWFzdCIsInJlZ2lvbl9yZW5kZXIiOiJpYWQifQ==" data-turbo-transient="true" /><meta name="visitor-hmac" content="fa6b267cb6d381fb435c9810ff64be5e3dc26da782c56462b5a218fc0699ef4b" data-turbo-transient="true" />


    <meta name="hovercard-subject-tag" content="repository:106248531" data-turbo-transient>


  <meta name="github-keyboard-shortcuts" content="repository,source-code,file-tree,copilot" data-turbo-transient="true" />
  

  <meta name="selected-link" value="repo_source" data-turbo-transient>
  <link rel="assets" href="https://github.githubassets.com/">

    <meta name="google-site-verification" content="Apib7-x98H0j5cPqHWwSMm6dNU4GmODRoqxLiDzdx9I">

<meta name="octolytics-url" content="https://collector.github.com/github/collect" /><meta name="octolytics-actor-id" content="5291674" /><meta name="octolytics-actor-login" content="tsonpham" /><meta name="octolytics-actor-hash" content="23d6faa1dde4f9bc27277ba130a50956ae9e7946026acfbc40b706fa358652ed" />

  <meta name="analytics-location" content="/&lt;user-name&gt;/&lt;repo-name&gt;/blob/show" data-turbo-transient="true" />

  




    <meta name="user-login" content="tsonpham">

  <link rel="sudo-modal" href="/sessions/sudo_modal">

    <meta name="viewport" content="width=device-width">

    

      <meta name="description" content="A Python code for &#39;P wave coda autocorrelation&#39;. Contribute to tsonpham/PCodaAutocorrelation development by creating an account on GitHub.">

      <link rel="search" type="application/opensearchdescription+xml" href="/opensearch.xml" title="GitHub">

    <link rel="fluid-icon" href="https://github.com/fluidicon.png" title="GitHub">
    <meta property="fb:app_id" content="1401488693436528">
    <meta name="apple-itunes-app" content="app-id=1477376905, app-argument=https://github.com/tsonpham/PCodaAutocorrelation/blob/master/Pcoda_autocorrelation.ipynb" />

      <meta name="twitter:image" content="https://opengraph.githubassets.com/f8081343ec72d9decc0ae338e5a721dcda75a9c003878197a9d601f908466d1c/tsonpham/PCodaAutocorrelation" /><meta name="twitter:site" content="@github" /><meta name="twitter:card" content="summary_large_image" /><meta name="twitter:title" content="PCodaAutocorrelation/Pcoda_autocorrelation.ipynb at master · tsonpham/PCodaAutocorrelation" /><meta name="twitter:description" content="A Python code for &#39;P wave coda autocorrelation&#39;. Contribute to tsonpham/PCodaAutocorrelation development by creating an account on GitHub." />
  <meta property="og:image" content="https://opengraph.githubassets.com/f8081343ec72d9decc0ae338e5a721dcda75a9c003878197a9d601f908466d1c/tsonpham/PCodaAutocorrelation" /><meta property="og:image:alt" content="A Python code for &#39;P wave coda autocorrelation&#39;. Contribute to tsonpham/PCodaAutocorrelation development by creating an account on GitHub." /><meta property="og:image:width" content="1200" /><meta property="og:image:height" content="600" /><meta property="og:site_name" content="GitHub" /><meta property="og:type" content="object" /><meta property="og:title" content="PCodaAutocorrelation/Pcoda_autocorrelation.ipynb at master · tsonpham/PCodaAutocorrelation" /><meta property="og:url" content="https://github.com/tsonpham/PCodaAutocorrelation/blob/master/Pcoda_autocorrelation.ipynb" /><meta property="og:description" content="A Python code for &#39;P wave coda autocorrelation&#39;. Contribute to tsonpham/PCodaAutocorrelation development by creating an account on GitHub." />
  


      <link rel="shared-web-socket" href="wss://alive.github.com/_sockets/u/5291674/ws?session=eyJ2IjoiVjMiLCJ1Ijo1MjkxNjc0LCJzIjoxNjE2NjE4MTE2LCJjIjo4OTgyNTc2OCwidCI6MTc0MTgxOTY3MH0=--17a345da5c40a4d45e9b9e50b7ad44faec13bab4f2dc86d1590be44986276369" data-refresh-url="/_alive" data-session-id="c8e238bdbabe34de05a2d315bad904cc7b32aacdbf0b245a3ed0d53e54b780bf">
      <link rel="shared-web-socket-src" href="/assets-cdn/worker/socket-worker-eff89a71ae86.js">


      <meta name="hostname" content="github.com">


      <meta name="keyboard-shortcuts-preference" content="all">
      <meta name="hovercards-preference" content="true">
      <meta name="announcement-preference-hovercard" content="true">

        <meta name="expected-hostname" content="github.com">


  <meta http-equiv="x-pjax-version" content="59c57a8aab7c833ebeefef1236acf3c37f2a882fc885d2263164c6a3b924b70e" data-turbo-track="reload">
  <meta http-equiv="x-pjax-csp-version" content="1387756d457e2f7c930482f0374bab8f35110d772491ea950a7236d69098c3a6" data-turbo-track="reload">
  <meta http-equiv="x-pjax-css-version" content="186f65b5487bc65e2a0f43760d5795a426974816c46cfaeaa4073cf2b9a348d3" data-turbo-track="reload">
  <meta http-equiv="x-pjax-js-version" content="1ae73fe46e81ba78ffdd23edd1b95da435317e6d0da89183772308e28fe2e087" data-turbo-track="reload">

  <meta name="turbo-cache-control" content="no-preview" data-turbo-transient="">

      <meta name="turbo-cache-control" content="no-cache" data-turbo-transient>

    <meta data-hydrostats="publish">
  <meta name="go-import" content="github.com/tsonpham/PCodaAutocorrelation git https://github.com/tsonpham/PCodaAutocorrelation.git">

  <meta name="octolytics-dimension-user_id" content="5291674" /><meta name="octolytics-dimension-user_login" content="tsonpham" /><meta name="octolytics-dimension-repository_id" content="106248531" /><meta name="octolytics-dimension-repository_nwo" content="tsonpham/PCodaAutocorrelation" /><meta name="octolytics-dimension-repository_public" content="true" /><meta name="octolytics-dimension-repository_is_fork" content="false" /><meta name="octolytics-dimension-repository_network_root_id" content="106248531" /><meta name="octolytics-dimension-repository_network_root_nwo" content="tsonpham/PCodaAutocorrelation" />



    

    <meta name="turbo-body-classes" content="logged-in env-production page-responsive">


  <meta name="browser-stats-url" content="https://api.github.com/_private/browser/stats">

  <meta name="browser-errors-url" content="https://api.github.com/_private/browser/errors">

  <link rel="mask-icon" href="https://github.githubassets.com/assets/pinned-octocat-093da3e6fa40.svg" color="#000000">
  <link rel="alternate icon" class="js-site-favicon" type="image/png" href="https://github.githubassets.com/favicons/favicon.png">
  <link rel="icon" class="js-site-favicon" type="image/svg+xml" href="https://github.githubassets.com/favicons/favicon.svg" data-base-href="https://github.githubassets.com/favicons/favicon">

<meta name="theme-color" content="#1e2327">
<meta name="color-scheme" content="light dark" />


  <link rel="manifest" href="/manifest.json" crossOrigin="use-credentials">

  </head>

  <body class="logged-in env-production page-responsive" style="word-wrap: break-word;">
    <div data-turbo-body class="logged-in env-production page-responsive" style="word-wrap: break-word;">
      


    <div class="position-relative header-wrapper js-header-wrapper ">
      <a href="#start-of-content" data-skip-target-assigned="false" class="p-3 color-bg-accent-emphasis color-fg-on-emphasis show-on-focus js-skip-to-content">Skip to content</a>

      <span data-view-component="true" class="progress-pjax-loader Progress position-fixed width-full">
    <span style="width: 0%;" data-view-component="true" class="Progress-item progress-pjax-loader-bar left-0 top-0 color-bg-accent-emphasis"></span>
</span>      
      
      <script crossorigin="anonymous" defer="defer" type="application/javascript" src="https://github.githubassets.com/assets/ui_packages_ui-commands_ui-commands_ts-97496b0f52ba.js"></script>
<script crossorigin="anonymous" defer="defer" type="application/javascript" src="https://github.githubassets.com/assets/keyboard-shortcuts-dialog-ac448fe050d6.js"></script>
<link crossorigin="anonymous" media="all" rel="stylesheet" href="https://github.githubassets.com/assets/primer-react.62102b3a56146f8b8424.module.css" />

<react-partial
  partial-name="keyboard-shortcuts-dialog"
  data-ssr="false"
  data-attempted-ssr="false"
>
  
  <script type="application/json" data-target="react-partial.embeddedData">{"props":{"docsUrl":"https://docs.github.com/get-started/accessibility/keyboard-shortcuts"}}</script>
  <div data-target="react-partial.reactRoot"></div>
</react-partial>




      

          

              <header class="AppHeader" role="banner">
  <h2 class="sr-only">Navigation Menu</h2>

    

    <div class="AppHeader-globalBar pb-2 js-global-bar">
      <div class="AppHeader-globalBar-start">
          <deferred-side-panel data-url="/_side-panels/global">
  <include-fragment data-target="deferred-side-panel.fragment">
      <button aria-label="Open global navigation menu" data-action="click:deferred-side-panel#loadPanel click:deferred-side-panel#panelOpened" data-show-dialog-id="dialog-203afed2-f8e6-4385-bda0-d9df3e232668" id="dialog-show-dialog-203afed2-f8e6-4385-bda0-d9df3e232668" type="button" data-view-component="true" class="Button Button--iconOnly Button--secondary Button--medium AppHeader-button p-0 color-fg-muted">  <svg aria-hidden="true" height="16" viewBox="0 0 16 16" version="1.1" width="16" data-view-component="true" class="octicon octicon-three-bars Button-visual">
    <path d="M1 2.75A.75.75 0 0 1 1.75 2h12.5a.75.75 0 0 1 0 1.5H1.75A.75.75 0 0 1 1 2.75Zm0 5A.75.75 0 0 1 1.75 7h12.5a.75.75 0 0 1 0 1.5H1.75A.75.75 0 0 1 1 7.75ZM1.75 12h12.5a.75.75 0 0 1 0 1.5H1.75a.75.75 0 0 1 0-1.5Z"></path>
</svg>
</button>

<dialog-helper>
  <dialog data-target="deferred-side-panel.panel" id="dialog-203afed2-f8e6-4385-bda0-d9df3e232668" aria-modal="true" aria-labelledby="dialog-203afed2-f8e6-4385-bda0-d9df3e232668-title" aria-describedby="dialog-203afed2-f8e6-4385-bda0-d9df3e232668-description" data-view-component="true" class="Overlay Overlay-whenNarrow Overlay--size-small-portrait Overlay--motion-scaleFade Overlay--placement-left SidePanel Overlay--disableScroll">
    <div styles="flex-direction: row;" data-view-component="true" class="Overlay-header">
  <div class="Overlay-headerContentWrap">
    <div class="Overlay-titleWrap">
      <h1 class="Overlay-title sr-only" id="dialog-203afed2-f8e6-4385-bda0-d9df3e232668-title">
        Global navigation
      </h1>
            <div data-view-component="true" class="d-flex">
      <div data-view-component="true" class="AppHeader-logo position-relative">
        <svg aria-hidden="true" height="24" viewBox="0 0 24 24" version="1.1" width="24" data-view-component="true" class="octicon octicon-mark-github">
    <path d="M12.5.75C6.146.75 1 5.896 1 12.25c0 5.089 3.292 9.387 7.863 10.91.575.101.79-.244.79-.546 0-.273-.014-1.178-.014-2.142-2.889.532-3.636-.704-3.866-1.35-.13-.331-.69-1.352-1.18-1.625-.402-.216-.977-.748-.014-.762.906-.014 1.553.834 1.769 1.179 1.035 1.74 2.688 1.25 3.349.948.1-.747.402-1.25.733-1.538-2.559-.287-5.232-1.279-5.232-5.678 0-1.25.445-2.285 1.178-3.09-.115-.288-.517-1.467.115-3.048 0 0 .963-.302 3.163 1.179.92-.259 1.897-.388 2.875-.388.977 0 1.955.13 2.875.388 2.2-1.495 3.162-1.179 3.162-1.179.633 1.581.23 2.76.115 3.048.733.805 1.179 1.825 1.179 3.09 0 4.413-2.688 5.39-5.247 5.678.417.36.776 1.05.776 2.128 0 1.538-.014 2.774-.014 3.162 0 .302.216.662.79.547C20.709 21.637 24 17.324 24 12.25 24 5.896 18.854.75 12.5.75Z"></path>
</svg>
</div></div>
    </div>
    <div class="Overlay-actionWrap">
      <button data-close-dialog-id="dialog-203afed2-f8e6-4385-bda0-d9df3e232668" aria-label="Close" type="button" data-view-component="true" class="close-button Overlay-closeButton"><svg aria-hidden="true" height="16" viewBox="0 0 16 16" version="1.1" width="16" data-view-component="true" class="octicon octicon-x">
    <path d="M3.72 3.72a.75.75 0 0 1 1.06 0L8 6.94l3.22-3.22a.749.749 0 0 1 1.275.326.749.749 0 0 1-.215.734L9.06 8l3.22 3.22a.749.749 0 0 1-.326 1.275.749.749 0 0 1-.734-.215L8 9.06l-3.22 3.22a.751.751 0 0 1-1.042-.018.751.751 0 0 1-.018-1.042L6.94 8 3.72 4.78a.75.75 0 0 1 0-1.06Z"></path>
</svg></button>
    </div>
  </div>
  
</div>
      <scrollable-region data-labelled-by="dialog-203afed2-f8e6-4385-bda0-d9df3e232668-title">
        <div data-view-component="true" class="Overlay-body d-flex flex-column px-2">    <div data-view-component="true" class="d-flex flex-column mb-3">
        <nav aria-label="Site navigation" data-view-component="true" class="ActionList">
  
  <nav-list>
    <ul data-target="nav-list.topLevelList" data-view-component="true" class="ActionListWrap">
        
          
<li data-item-id="" data-targets="nav-list.items" data-view-component="true" class="ActionListItem">
    
    
    <a data-hotkey="g d" data-analytics-event="{&quot;category&quot;:&quot;Global navigation&quot;,&quot;action&quot;:&quot;HOME&quot;,&quot;label&quot;:null}" id="item-f63ecc2d-dc5e-49e9-b9bf-cf2ac93cb96e" href="/dashboard" data-view-component="true" class="ActionListContent ActionListContent--visual16">
        <span class="ActionListItem-visual ActionListItem-visual--leading">
          <svg aria-hidden="true" height="16" viewBox="0 0 16 16" version="1.1" width="16" data-view-component="true" class="octicon octicon-home">
    <path d="M6.906.664a1.749 1.749 0 0 1 2.187 0l5.25 4.2c.415.332.657.835.657 1.367v7.019A1.75 1.75 0 0 1 13.25 15h-3.5a.75.75 0 0 1-.75-.75V9H7v5.25a.75.75 0 0 1-.75.75h-3.5A1.75 1.75 0 0 1 1 13.25V6.23c0-.531.242-1.034.657-1.366l5.25-4.2Zm1.25 1.171a.25.25 0 0 0-.312 0l-5.25 4.2a.25.25 0 0 0-.094.196v7.019c0 .138.112.25.25.25H5.5V8.25a.75.75 0 0 1 .75-.75h3.5a.75.75 0 0 1 .75.75v5.25h2.75a.25.25 0 0 0 .25-.25V6.23a.25.25 0 0 0-.094-.195Z"></path>
</svg>
        </span>
      
        <span data-view-component="true" class="ActionListItem-label">
          Home
</span>      
</a>
  
</li>

        
          
<li data-item-id="" data-targets="nav-list.items" data-view-component="true" class="ActionListItem">
    
    
    <a data-hotkey="g i" data-analytics-event="{&quot;category&quot;:&quot;Global navigation&quot;,&quot;action&quot;:&quot;ISSUES&quot;,&quot;label&quot;:null}" id="item-dd1dcd44-edd4-4ddd-b934-084dabd8ba53" href="/issues" data-view-component="true" class="ActionListContent ActionListContent--visual16">
        <span class="ActionListItem-visual ActionListItem-visual--leading">
          <svg aria-hidden="true" height="16" viewBox="0 0 16 16" version="1.1" width="16" data-view-component="true" class="octicon octicon-issue-opened">
    <path d="M8 9.5a1.5 1.5 0 1 0 0-3 1.5 1.5 0 0 0 0 3Z"></path><path d="M8 0a8 8 0 1 1 0 16A8 8 0 0 1 8 0ZM1.5 8a6.5 6.5 0 1 0 13 0 6.5 6.5 0 0 0-13 0Z"></path>
</svg>
        </span>
      
        <span data-view-component="true" class="ActionListItem-label">
          Issues
</span>      
</a>
  
</li>

        
          
<li data-item-id="" data-targets="nav-list.items" data-view-component="true" class="ActionListItem">
    
    
    <a data-hotkey="g p" data-analytics-event="{&quot;category&quot;:&quot;Global navigation&quot;,&quot;action&quot;:&quot;PULL_REQUESTS&quot;,&quot;label&quot;:null}" id="item-a5b2c45d-0368-4a94-8386-ba64161d80d4" href="/pulls" data-view-component="true" class="ActionListContent ActionListContent--visual16">
        <span class="ActionListItem-visual ActionListItem-visual--leading">
          <svg aria-hidden="true" height="16" viewBox="0 0 16 16" version="1.1" width="16" data-view-component="true" class="octicon octicon-git-pull-request">
    <path d="M1.5 3.25a2.25 2.25 0 1 1 3 2.122v5.256a2.251 2.251 0 1 1-1.5 0V5.372A2.25 2.25 0 0 1 1.5 3.25Zm5.677-.177L9.573.677A.25.25 0 0 1 10 .854V2.5h1A2.5 2.5 0 0 1 13.5 5v5.628a2.251 2.251 0 1 1-1.5 0V5a1 1 0 0 0-1-1h-1v1.646a.25.25 0 0 1-.427.177L7.177 3.427a.25.25 0 0 1 0-.354ZM3.75 2.5a.75.75 0 1 0 0 1.5.75.75 0 0 0 0-1.5Zm0 9.5a.75.75 0 1 0 0 1.5.75.75 0 0 0 0-1.5Zm8.25.75a.75.75 0 1 0 1.5 0 .75.75 0 0 0-1.5 0Z"></path>
</svg>
        </span>
      
        <span data-view-component="true" class="ActionListItem-label">
          Pull requests
</span>      
</a>
  
</li>

        
          
<li data-item-id="" data-targets="nav-list.items" data-item-id="projects" data-view-component="true" class="ActionListItem">
    
    
    <a data-analytics-event="{&quot;category&quot;:&quot;Global navigation&quot;,&quot;action&quot;:&quot;PROJECTS&quot;,&quot;label&quot;:null}" id="item-2a767b84-1bd7-4516-b4ea-5ca9f5b5dc28" href="/projects" data-view-component="true" class="ActionListContent ActionListContent--visual16">
        <span class="ActionListItem-visual ActionListItem-visual--leading">
          <svg aria-hidden="true" height="16" viewBox="0 0 16 16" version="1.1" width="16" data-view-component="true" class="octicon octicon-table">
    <path d="M0 1.75C0 .784.784 0 1.75 0h12.5C15.216 0 16 .784 16 1.75v12.5A1.75 1.75 0 0 1 14.25 16H1.75A1.75 1.75 0 0 1 0 14.25ZM6.5 6.5v8h7.75a.25.25 0 0 0 .25-.25V6.5Zm8-1.5V1.75a.25.25 0 0 0-.25-.25H6.5V5Zm-13 1.5v7.75c0 .138.112.25.25.25H5v-8ZM5 5V1.5H1.75a.25.25 0 0 0-.25.25V5Z"></path>
</svg>
        </span>
      
        <span data-view-component="true" class="ActionListItem-label">
          Projects
</span>      
</a>
  
</li>

        
          
<li data-item-id="" data-targets="nav-list.items" data-view-component="true" class="ActionListItem">
    
    
    <a data-analytics-event="{&quot;category&quot;:&quot;Global navigation&quot;,&quot;action&quot;:&quot;DISCUSSIONS&quot;,&quot;label&quot;:null}" id="item-48f0f37e-0f25-432c-b217-f4acc1b14513" href="/discussions" data-view-component="true" class="ActionListContent ActionListContent--visual16">
        <span class="ActionListItem-visual ActionListItem-visual--leading">
          <svg aria-hidden="true" height="16" viewBox="0 0 16 16" version="1.1" width="16" data-view-component="true" class="octicon octicon-comment-discussion">
    <path d="M1.75 1h8.5c.966 0 1.75.784 1.75 1.75v5.5A1.75 1.75 0 0 1 10.25 10H7.061l-2.574 2.573A1.458 1.458 0 0 1 2 11.543V10h-.25A1.75 1.75 0 0 1 0 8.25v-5.5C0 1.784.784 1 1.75 1ZM1.5 2.75v5.5c0 .138.112.25.25.25h1a.75.75 0 0 1 .75.75v2.19l2.72-2.72a.749.749 0 0 1 .53-.22h3.5a.25.25 0 0 0 .25-.25v-5.5a.25.25 0 0 0-.25-.25h-8.5a.25.25 0 0 0-.25.25Zm13 2a.25.25 0 0 0-.25-.25h-.5a.75.75 0 0 1 0-1.5h.5c.966 0 1.75.784 1.75 1.75v5.5A1.75 1.75 0 0 1 14.25 12H14v1.543a1.458 1.458 0 0 1-2.487 1.03L9.22 12.28a.749.749 0 0 1 .326-1.275.749.749 0 0 1 .734.215l2.22 2.22v-2.19a.75.75 0 0 1 .75-.75h1a.25.25 0 0 0 .25-.25Z"></path>
</svg>
        </span>
      
        <span data-view-component="true" class="ActionListItem-label">
          Discussions
</span>      
</a>
  
</li>

        
          
<li data-item-id="" data-targets="nav-list.items" data-view-component="true" class="ActionListItem">
    
    
    <a data-analytics-event="{&quot;category&quot;:&quot;Global navigation&quot;,&quot;action&quot;:&quot;CODESPACES&quot;,&quot;label&quot;:null}" id="item-8b87ad2c-8724-4c2b-8359-d9bba57dc893" href="https://github.com/codespaces" data-view-component="true" class="ActionListContent ActionListContent--visual16">
        <span class="ActionListItem-visual ActionListItem-visual--leading">
          <svg aria-hidden="true" height="16" viewBox="0 0 16 16" version="1.1" width="16" data-view-component="true" class="octicon octicon-codespaces">
    <path d="M0 11.25c0-.966.784-1.75 1.75-1.75h12.5c.966 0 1.75.784 1.75 1.75v3A1.75 1.75 0 0 1 14.25 16H1.75A1.75 1.75 0 0 1 0 14.25Zm2-9.5C2 .784 2.784 0 3.75 0h8.5C13.216 0 14 .784 14 1.75v5a1.75 1.75 0 0 1-1.75 1.75h-8.5A1.75 1.75 0 0 1 2 6.75Zm1.75-.25a.25.25 0 0 0-.25.25v5c0 .138.112.25.25.25h8.5a.25.25 0 0 0 .25-.25v-5a.25.25 0 0 0-.25-.25Zm-2 9.5a.25.25 0 0 0-.25.25v3c0 .138.112.25.25.25h12.5a.25.25 0 0 0 .25-.25v-3a.25.25 0 0 0-.25-.25Z"></path><path d="M7 12.75a.75.75 0 0 1 .75-.75h4.5a.75.75 0 0 1 0 1.5h-4.5a.75.75 0 0 1-.75-.75Zm-4 0a.75.75 0 0 1 .75-.75h.5a.75.75 0 0 1 0 1.5h-.5a.75.75 0 0 1-.75-.75Z"></path>
</svg>
        </span>
      
        <span data-view-component="true" class="ActionListItem-label">
          Codespaces
</span>      
</a>
  
</li>

        
          
<li data-item-id="" data-targets="nav-list.items" data-view-component="true" class="ActionListItem">
    
    
    <a data-analytics-event="{&quot;category&quot;:&quot;Global navigation&quot;,&quot;action&quot;:&quot;COPILOT&quot;,&quot;label&quot;:null}" id="item-2b987cb7-598a-4c4c-9bee-1afc2d26e909" href="/copilot" data-view-component="true" class="ActionListContent ActionListContent--visual16">
        <span class="ActionListItem-visual ActionListItem-visual--leading">
          <svg aria-hidden="true" height="16" viewBox="0 0 16 16" version="1.1" width="16" data-view-component="true" class="octicon octicon-copilot">
    <path d="M7.998 15.035c-4.562 0-7.873-2.914-7.998-3.749V9.338c.085-.628.677-1.686 1.588-2.065.013-.07.024-.143.036-.218.029-.183.06-.384.126-.612-.201-.508-.254-1.084-.254-1.656 0-.87.128-1.769.693-2.484.579-.733 1.494-1.124 2.724-1.261 1.206-.134 2.262.034 2.944.765.05.053.096.108.139.165.044-.057.094-.112.143-.165.682-.731 1.738-.899 2.944-.765 1.23.137 2.145.528 2.724 1.261.566.715.693 1.614.693 2.484 0 .572-.053 1.148-.254 1.656.066.228.098.429.126.612.012.076.024.148.037.218.924.385 1.522 1.471 1.591 2.095v1.872c0 .766-3.351 3.795-8.002 3.795Zm0-1.485c2.28 0 4.584-1.11 5.002-1.433V7.862l-.023-.116c-.49.21-1.075.291-1.727.291-1.146 0-2.059-.327-2.71-.991A3.222 3.222 0 0 1 8 6.303a3.24 3.24 0 0 1-.544.743c-.65.664-1.563.991-2.71.991-.652 0-1.236-.081-1.727-.291l-.023.116v4.255c.419.323 2.722 1.433 5.002 1.433ZM6.762 2.83c-.193-.206-.637-.413-1.682-.297-1.019.113-1.479.404-1.713.7-.247.312-.369.789-.369 1.554 0 .793.129 1.171.308 1.371.162.181.519.379 1.442.379.853 0 1.339-.235 1.638-.54.315-.322.527-.827.617-1.553.117-.935-.037-1.395-.241-1.614Zm4.155-.297c-1.044-.116-1.488.091-1.681.297-.204.219-.359.679-.242 1.614.091.726.303 1.231.618 1.553.299.305.784.54 1.638.54.922 0 1.28-.198 1.442-.379.179-.2.308-.578.308-1.371 0-.765-.123-1.242-.37-1.554-.233-.296-.693-.587-1.713-.7Z"></path><path d="M6.25 9.037a.75.75 0 0 1 .75.75v1.501a.75.75 0 0 1-1.5 0V9.787a.75.75 0 0 1 .75-.75Zm4.25.75v1.501a.75.75 0 0 1-1.5 0V9.787a.75.75 0 0 1 1.5 0Z"></path>
</svg>
        </span>
      
        <span data-view-component="true" class="ActionListItem-label">
          Copilot
</span>      
</a>
  
</li>

        
          <li role="presentation" aria-hidden="true" data-view-component="true" class="ActionList-sectionDivider"></li>
        
          
<li data-item-id="" data-targets="nav-list.items" data-view-component="true" class="ActionListItem">
    
    
    <a data-analytics-event="{&quot;category&quot;:&quot;Global navigation&quot;,&quot;action&quot;:&quot;EXPLORE&quot;,&quot;label&quot;:null}" id="item-6f8badd7-b18d-4bb0-af6a-51992fd7a5c0" href="/explore" data-view-component="true" class="ActionListContent ActionListContent--visual16">
        <span class="ActionListItem-visual ActionListItem-visual--leading">
          <svg aria-hidden="true" height="16" viewBox="0 0 16 16" version="1.1" width="16" data-view-component="true" class="octicon octicon-telescope">
    <path d="M14.184 1.143v-.001l1.422 2.464a1.75 1.75 0 0 1-.757 2.451L3.104 11.713a1.75 1.75 0 0 1-2.275-.702l-.447-.775a1.75 1.75 0 0 1 .53-2.32L11.682.573a1.748 1.748 0 0 1 2.502.57Zm-4.709 9.32h-.001l2.644 3.863a.75.75 0 1 1-1.238.848l-1.881-2.75v2.826a.75.75 0 0 1-1.5 0v-2.826l-1.881 2.75a.75.75 0 1 1-1.238-.848l2.049-2.992a.746.746 0 0 1 .293-.253l1.809-.87a.749.749 0 0 1 .944.252ZM9.436 3.92h-.001l-4.97 3.39.942 1.63 5.42-2.61Zm3.091-2.108h.001l-1.85 1.26 1.505 2.605 2.016-.97a.247.247 0 0 0 .13-.151.247.247 0 0 0-.022-.199l-1.422-2.464a.253.253 0 0 0-.161-.119.254.254 0 0 0-.197.038ZM1.756 9.157a.25.25 0 0 0-.075.33l.447.775a.25.25 0 0 0 .325.1l1.598-.769-.83-1.436-1.465 1Z"></path>
</svg>
        </span>
      
        <span data-view-component="true" class="ActionListItem-label">
          Explore
</span>      
</a>
  
</li>

        
          
<li data-item-id="" data-targets="nav-list.items" data-view-component="true" class="ActionListItem">
    
    
    <a data-analytics-event="{&quot;category&quot;:&quot;Global navigation&quot;,&quot;action&quot;:&quot;MARKETPLACE&quot;,&quot;label&quot;:null}" id="item-b3283c49-789a-4757-904f-fa54762c97b9" href="/marketplace" data-view-component="true" class="ActionListContent ActionListContent--visual16">
        <span class="ActionListItem-visual ActionListItem-visual--leading">
          <svg aria-hidden="true" height="16" viewBox="0 0 16 16" version="1.1" width="16" data-view-component="true" class="octicon octicon-gift">
    <path d="M2 2.75A2.75 2.75 0 0 1 4.75 0c.983 0 1.873.42 2.57 1.232.268.318.497.668.68 1.042.183-.375.411-.725.68-1.044C9.376.42 10.266 0 11.25 0a2.75 2.75 0 0 1 2.45 4h.55c.966 0 1.75.784 1.75 1.75v2c0 .698-.409 1.301-1 1.582v4.918A1.75 1.75 0 0 1 13.25 16H2.75A1.75 1.75 0 0 1 1 14.25V9.332C.409 9.05 0 8.448 0 7.75v-2C0 4.784.784 4 1.75 4h.55c-.192-.375-.3-.8-.3-1.25ZM7.25 9.5H2.5v4.75c0 .138.112.25.25.25h4.5Zm1.5 0v5h4.5a.25.25 0 0 0 .25-.25V9.5Zm0-4V8h5.5a.25.25 0 0 0 .25-.25v-2a.25.25 0 0 0-.25-.25Zm-7 0a.25.25 0 0 0-.25.25v2c0 .138.112.25.25.25h5.5V5.5h-5.5Zm3-4a1.25 1.25 0 0 0 0 2.5h2.309c-.233-.818-.542-1.401-.878-1.793-.43-.502-.915-.707-1.431-.707ZM8.941 4h2.309a1.25 1.25 0 0 0 0-2.5c-.516 0-1 .205-1.43.707-.337.392-.646.975-.879 1.793Z"></path>
</svg>
        </span>
      
        <span data-view-component="true" class="ActionListItem-label">
          Marketplace
</span>      
</a>
  
</li>

</ul>  </nav-list>
</nav>

        <div data-view-component="true" class="my-3 d-flex flex-justify-center height-full">
          <span data-view-component="true">
  <svg style="box-sizing: content-box; color: var(--color-icon-primary);" width="16" height="16" viewBox="0 0 16 16" fill="none" aria-hidden="true" data-view-component="true" class="anim-rotate">
    <circle cx="8" cy="8" r="7" stroke="currentColor" stroke-opacity="0.25" stroke-width="2" vector-effect="non-scaling-stroke" fill="none" />
    <path d="M15 8a7.002 7.002 0 00-7-7" stroke="currentColor" stroke-width="2" stroke-linecap="round" vector-effect="non-scaling-stroke" />
</svg>    <span class="sr-only">Loading</span>
</span>
</div>
</div>
      <div data-view-component="true" class="flex-1"></div>


      <div data-view-component="true" class="px-2">      <p class="color-fg-subtle text-small text-light">&copy; 2025 GitHub, Inc.</p>

      <div data-view-component="true" class="d-flex flex-wrap text-small text-light">
          <a target="_blank" href="https://github.com/about" data-view-component="true" class="Link mr-2">About</a>
          <a target="_blank" href="https://github.blog" data-view-component="true" class="Link mr-2">Blog</a>
          <a target="_blank" href="https://docs.github.com/site-policy/github-terms/github-terms-of-service" data-view-component="true" class="Link mr-2">Terms</a>
          <a target="_blank" href="https://docs.github.com/site-policy/privacy-policies/github-privacy-statement" data-view-component="true" class="Link mr-2">Privacy</a>
          <a target="_blank" href="https://github.com/security" data-view-component="true" class="Link mr-2">Security</a>
          <a target="_blank" href="https://www.githubstatus.com/" data-view-component="true" class="Link mr-3">Status</a>

</div></div>
</div>
      </scrollable-region>
      
</dialog></dialog-helper>

  </include-fragment>
</deferred-side-panel>

        <a
          class="AppHeader-logo ml-1 "
          href="https://github.com/"
          data-hotkey="g d"
          aria-label="Homepage "
          data-turbo="false"
          data-analytics-event="{&quot;category&quot;:&quot;Header&quot;,&quot;action&quot;:&quot;go to dashboard&quot;,&quot;label&quot;:&quot;icon:logo&quot;}"
        >
          <svg height="32" aria-hidden="true" viewBox="0 0 24 24" version="1.1" width="32" data-view-component="true" class="octicon octicon-mark-github v-align-middle">
    <path d="M12.5.75C6.146.75 1 5.896 1 12.25c0 5.089 3.292 9.387 7.863 10.91.575.101.79-.244.79-.546 0-.273-.014-1.178-.014-2.142-2.889.532-3.636-.704-3.866-1.35-.13-.331-.69-1.352-1.18-1.625-.402-.216-.977-.748-.014-.762.906-.014 1.553.834 1.769 1.179 1.035 1.74 2.688 1.25 3.349.948.1-.747.402-1.25.733-1.538-2.559-.287-5.232-1.279-5.232-5.678 0-1.25.445-2.285 1.178-3.09-.115-.288-.517-1.467.115-3.048 0 0 .963-.302 3.163 1.179.92-.259 1.897-.388 2.875-.388.977 0 1.955.13 2.875.388 2.2-1.495 3.162-1.179 3.162-1.179.633 1.581.23 2.76.115 3.048.733.805 1.179 1.825 1.179 3.09 0 4.413-2.688 5.39-5.247 5.678.417.36.776 1.05.776 2.128 0 1.538-.014 2.774-.014 3.162 0 .302.216.662.79.547C20.709 21.637 24 17.324 24 12.25 24 5.896 18.854.75 12.5.75Z"></path>
</svg>
        </a>

          <div class="AppHeader-context" >
  <div class="AppHeader-context-compact">
      <button aria-expanded="false" aria-haspopup="dialog" aria-label="Page context: tsonpham / PCodaAutocorrelation" id="dialog-show-context-region-dialog" data-show-dialog-id="context-region-dialog" type="button" data-view-component="true" class="AppHeader-context-compact-trigger Truncate Button--secondary Button--medium Button box-shadow-none">  <span class="Button-content">
    <span class="Button-label"><span class="AppHeader-context-compact-lead">
                  <span class="AppHeader-context-compact-parentItem">tsonpham</span>

                <span class="no-wrap">&nbsp;/</span>

            </span>

            <strong class="AppHeader-context-compact-mainItem d-flex flex-items-center Truncate" >
  

  <span class="Truncate-text ">PCodaAutocorrelation</span>

</strong></span>
  </span>
</button>

<dialog-helper>
  <dialog id="context-region-dialog" aria-modal="true" aria-labelledby="context-region-dialog-title" aria-describedby="context-region-dialog-description" data-view-component="true" class="Overlay Overlay-whenNarrow Overlay--size-medium Overlay--motion-scaleFade Overlay--disableScroll">
    <div data-view-component="true" class="Overlay-header">
  <div class="Overlay-headerContentWrap">
    <div class="Overlay-titleWrap">
      <h1 class="Overlay-title " id="context-region-dialog-title">
        Navigate back to
      </h1>
        
    </div>
    <div class="Overlay-actionWrap">
      <button data-close-dialog-id="context-region-dialog" aria-label="Close" type="button" data-view-component="true" class="close-button Overlay-closeButton"><svg aria-hidden="true" height="16" viewBox="0 0 16 16" version="1.1" width="16" data-view-component="true" class="octicon octicon-x">
    <path d="M3.72 3.72a.75.75 0 0 1 1.06 0L8 6.94l3.22-3.22a.749.749 0 0 1 1.275.326.749.749 0 0 1-.215.734L9.06 8l3.22 3.22a.749.749 0 0 1-.326 1.275.749.749 0 0 1-.734-.215L8 9.06l-3.22 3.22a.751.751 0 0 1-1.042-.018.751.751 0 0 1-.018-1.042L6.94 8 3.72 4.78a.75.75 0 0 1 0-1.06Z"></path>
</svg></button>
    </div>
  </div>
  
</div>
      <scrollable-region data-labelled-by="context-region-dialog-title">
        <div data-view-component="true" class="Overlay-body">          <ul role="list" class="list-style-none" >
    <li>
      <a data-analytics-event="{&quot;category&quot;:&quot;SiteHeaderComponent&quot;,&quot;action&quot;:&quot;context_region_crumb&quot;,&quot;label&quot;:&quot;tsonpham&quot;,&quot;screen_size&quot;:&quot;compact&quot;}" href="/tsonpham" data-view-component="true" class="Link--primary Truncate d-flex flex-items-center py-1">
        <span class="AppHeader-context-item-label Truncate-text ">
              <svg aria-hidden="true" height="12" viewBox="0 0 16 16" version="1.1" width="12" data-view-component="true" class="octicon octicon-person mr-1">
    <path d="M10.561 8.073a6.005 6.005 0 0 1 3.432 5.142.75.75 0 1 1-1.498.07 4.5 4.5 0 0 0-8.99 0 .75.75 0 0 1-1.498-.07 6.004 6.004 0 0 1 3.431-5.142 3.999 3.999 0 1 1 5.123 0ZM10.5 5a2.5 2.5 0 1 0-5 0 2.5 2.5 0 0 0 5 0Z"></path>
</svg>

            tsonpham
        </span>

</a>
    </li>
    <li>
      <a data-analytics-event="{&quot;category&quot;:&quot;SiteHeaderComponent&quot;,&quot;action&quot;:&quot;context_region_crumb&quot;,&quot;label&quot;:&quot;PCodaAutocorrelation&quot;,&quot;screen_size&quot;:&quot;compact&quot;}" href="/tsonpham/PCodaAutocorrelation" data-view-component="true" class="Link--primary Truncate d-flex flex-items-center py-1">
        <span class="AppHeader-context-item-label Truncate-text ">
              <svg aria-hidden="true" height="12" viewBox="0 0 16 16" version="1.1" width="12" data-view-component="true" class="octicon octicon-repo mr-1">
    <path d="M2 2.5A2.5 2.5 0 0 1 4.5 0h8.75a.75.75 0 0 1 .75.75v12.5a.75.75 0 0 1-.75.75h-2.5a.75.75 0 0 1 0-1.5h1.75v-2h-8a1 1 0 0 0-.714 1.7.75.75 0 1 1-1.072 1.05A2.495 2.495 0 0 1 2 11.5Zm10.5-1h-8a1 1 0 0 0-1 1v6.708A2.486 2.486 0 0 1 4.5 9h8ZM5 12.25a.25.25 0 0 1 .25-.25h3.5a.25.25 0 0 1 .25.25v3.25a.25.25 0 0 1-.4.2l-1.45-1.087a.249.249 0 0 0-.3 0L5.4 15.7a.25.25 0 0 1-.4-.2Z"></path>
</svg>

            PCodaAutocorrelation
        </span>

</a>
    </li>
</ul>

</div>
      </scrollable-region>
      
</dialog></dialog-helper>
  </div>

  <div class="AppHeader-context-full">
    <nav role="navigation" aria-label="Page context">
      <ul role="list" class="list-style-none" >
    <li>
      <a data-analytics-event="{&quot;category&quot;:&quot;SiteHeaderComponent&quot;,&quot;action&quot;:&quot;context_region_crumb&quot;,&quot;label&quot;:&quot;tsonpham&quot;,&quot;screen_size&quot;:&quot;full&quot;}" data-hovercard-type="user" data-hovercard-url="/users/tsonpham/hovercard" data-octo-click="hovercard-link-click" data-octo-dimensions="link_type:self" href="/tsonpham" data-view-component="true" class="AppHeader-context-item">
        <span class="AppHeader-context-item-label  ">

            tsonpham
        </span>

</a>
        <span class="AppHeader-context-item-separator">
          <span class='sr-only'>/</span>
          <svg width="16" height="16" viewBox="0 0 16 16" xmlns="http://www.w3.org/2000/svg" aria-hidden="true">
            <path d="M10.956 1.27994L6.06418 14.7201L5 14.7201L9.89181 1.27994L10.956 1.27994Z" fill="currentcolor"/>
          </svg>
        </span>
    </li>
    <li>
      <a data-analytics-event="{&quot;category&quot;:&quot;SiteHeaderComponent&quot;,&quot;action&quot;:&quot;context_region_crumb&quot;,&quot;label&quot;:&quot;PCodaAutocorrelation&quot;,&quot;screen_size&quot;:&quot;full&quot;}" href="/tsonpham/PCodaAutocorrelation" data-view-component="true" class="AppHeader-context-item">
        <span class="AppHeader-context-item-label  ">

            PCodaAutocorrelation
        </span>

</a>
    </li>
</ul>

    </nav>
  </div>
</div>

      </div>
      <div class="AppHeader-globalBar-end">
          <div class="AppHeader-search" >
              


<qbsearch-input class="search-input" data-scope="repo:tsonpham/PCodaAutocorrelation" data-custom-scopes-path="/search/custom_scopes" data-delete-custom-scopes-csrf="XGKrrnr6rAy0X8gdMvGCUGJIZGoBChfBH0FgNIaXaPqv7AKeKtHmZS55Hm2fnl8D-X0Uq2OU0AQpLe64aW0ZFQ" data-max-custom-scopes="10" data-header-redesign-enabled="true" data-initial-value="" data-blackbird-suggestions-path="/search/suggestions" data-jump-to-suggestions-path="/_graphql/GetSuggestedNavigationDestinations" data-current-repository="tsonpham/PCodaAutocorrelation" data-current-org="" data-current-owner="tsonpham" data-logged-in="true" data-copilot-chat-enabled="true" data-nl-search-enabled="false">
  <div
    class="search-input-container search-with-dialog position-relative d-flex flex-row flex-items-center height-auto color-bg-transparent border-0 color-fg-subtle mx-0"
    data-action="click:qbsearch-input#searchInputContainerClicked"
  >
      
            <button type="button" data-action="click:qbsearch-input#handleExpand" class="AppHeader-button AppHeader-search-whenNarrow" aria-label="Search or jump to…" aria-expanded="false" aria-haspopup="dialog">
            <svg aria-hidden="true" height="16" viewBox="0 0 16 16" version="1.1" width="16" data-view-component="true" class="octicon octicon-search">
    <path d="M10.68 11.74a6 6 0 0 1-7.922-8.982 6 6 0 0 1 8.982 7.922l3.04 3.04a.749.749 0 0 1-.326 1.275.749.749 0 0 1-.734-.215ZM11.5 7a4.499 4.499 0 1 0-8.997 0A4.499 4.499 0 0 0 11.5 7Z"></path>
</svg>
          </button>


<div class="AppHeader-search-whenRegular">
  <div class="AppHeader-search-wrap AppHeader-search-wrap--hasTrailing">
    <div class="AppHeader-search-control AppHeader-search-control-overflow">
      <label
        for="AppHeader-searchInput"
        aria-label="Search or jump to…"
        class="AppHeader-search-visual--leading"
      >
        <svg aria-hidden="true" height="16" viewBox="0 0 16 16" version="1.1" width="16" data-view-component="true" class="octicon octicon-search">
    <path d="M10.68 11.74a6 6 0 0 1-7.922-8.982 6 6 0 0 1 8.982 7.922l3.04 3.04a.749.749 0 0 1-.326 1.275.749.749 0 0 1-.734-.215ZM11.5 7a4.499 4.499 0 1 0-8.997 0A4.499 4.499 0 0 0 11.5 7Z"></path>
</svg>
      </label>

                <button
            type="button"
            data-target="qbsearch-input.inputButton"
            data-action="click:qbsearch-input#handleExpand"
            class="AppHeader-searchButton form-control input-contrast text-left color-fg-subtle no-wrap"
            data-hotkey="s,/"
            data-analytics-event="{&quot;location&quot;:&quot;navbar&quot;,&quot;action&quot;:&quot;searchbar&quot;,&quot;context&quot;:&quot;global&quot;,&quot;tag&quot;:&quot;input&quot;,&quot;label&quot;:&quot;searchbar_input_global_navbar&quot;}"
            aria-describedby="search-error-message-flash"
          >
            <div class="overflow-hidden">
              <span id="qb-input-query" data-target="qbsearch-input.inputButtonText">
                  Type <kbd class="AppHeader-search-kbd">/</kbd> to search
              </span>
            </div>
          </button>

    </div>


  </div>
</div>

    <input type="hidden" name="type" class="js-site-search-type-field">

    
<div class="Overlay--hidden " data-modal-dialog-overlay>
  <modal-dialog data-action="close:qbsearch-input#handleClose cancel:qbsearch-input#handleClose" data-target="qbsearch-input.searchSuggestionsDialog" role="dialog" id="search-suggestions-dialog" aria-modal="true" aria-labelledby="search-suggestions-dialog-header" data-view-component="true" class="Overlay Overlay--width-medium Overlay--height-auto">
      <h1 id="search-suggestions-dialog-header" class="sr-only">Search code, repositories, users, issues, pull requests...</h1>
    <div class="Overlay-body Overlay-body--paddingNone">
      
          <div data-view-component="true">        <div class="search-suggestions position-absolute width-full color-shadow-large border color-fg-default color-bg-default overflow-hidden d-flex flex-column query-builder-container"
          style="border-radius: 12px;"
          data-target="qbsearch-input.queryBuilderContainer"
          hidden
        >
          <!-- '"` --><!-- </textarea></xmp> --></option></form><form id="query-builder-test-form" action="" accept-charset="UTF-8" method="get">
  <query-builder data-target="qbsearch-input.queryBuilder" id="query-builder-query-builder-test" data-filter-key=":" data-view-component="true" class="QueryBuilder search-query-builder">
    <div class="FormControl FormControl--fullWidth">
      <label id="query-builder-test-label" for="query-builder-test" class="FormControl-label sr-only">
        Search
      </label>
      <div
        class="QueryBuilder-StyledInput width-fit "
        data-target="query-builder.styledInput"
      >
          <span id="query-builder-test-leadingvisual-wrap" class="FormControl-input-leadingVisualWrap QueryBuilder-leadingVisualWrap">
            <svg aria-hidden="true" height="16" viewBox="0 0 16 16" version="1.1" width="16" data-view-component="true" class="octicon octicon-search FormControl-input-leadingVisual">
    <path d="M10.68 11.74a6 6 0 0 1-7.922-8.982 6 6 0 0 1 8.982 7.922l3.04 3.04a.749.749 0 0 1-.326 1.275.749.749 0 0 1-.734-.215ZM11.5 7a4.499 4.499 0 1 0-8.997 0A4.499 4.499 0 0 0 11.5 7Z"></path>
</svg>
          </span>
        <div data-target="query-builder.styledInputContainer" class="QueryBuilder-StyledInputContainer">
          <div
            aria-hidden="true"
            class="QueryBuilder-StyledInputContent"
            data-target="query-builder.styledInputContent"
          ></div>
          <div class="QueryBuilder-InputWrapper">
            <div aria-hidden="true" class="QueryBuilder-Sizer" data-target="query-builder.sizer"></div>
            <input id="query-builder-test" name="query-builder-test" value="" autocomplete="off" type="text" role="combobox" spellcheck="false" aria-expanded="false" aria-describedby="validation-c875a7bd-e541-4cb1-af06-28920fb5eaee" data-target="query-builder.input" data-action="
          input:query-builder#inputChange
          blur:query-builder#inputBlur
          keydown:query-builder#inputKeydown
          focus:query-builder#inputFocus
        " data-view-component="true" class="FormControl-input QueryBuilder-Input FormControl-medium" />
          </div>
        </div>
          <span class="sr-only" id="query-builder-test-clear">Clear</span>
          <button role="button" id="query-builder-test-clear-button" aria-labelledby="query-builder-test-clear query-builder-test-label" data-target="query-builder.clearButton" data-action="
                click:query-builder#clear
                focus:query-builder#clearButtonFocus
                blur:query-builder#clearButtonBlur
              " variant="small" hidden="hidden" type="button" data-view-component="true" class="Button Button--iconOnly Button--invisible Button--medium mr-1 px-2 py-0 d-flex flex-items-center rounded-1 color-fg-muted">  <svg aria-hidden="true" height="16" viewBox="0 0 16 16" version="1.1" width="16" data-view-component="true" class="octicon octicon-x-circle-fill Button-visual">
    <path d="M2.343 13.657A8 8 0 1 1 13.658 2.343 8 8 0 0 1 2.343 13.657ZM6.03 4.97a.751.751 0 0 0-1.042.018.751.751 0 0 0-.018 1.042L6.94 8 4.97 9.97a.749.749 0 0 0 .326 1.275.749.749 0 0 0 .734-.215L8 9.06l1.97 1.97a.749.749 0 0 0 1.275-.326.749.749 0 0 0-.215-.734L9.06 8l1.97-1.97a.749.749 0 0 0-.326-1.275.749.749 0 0 0-.734.215L8 6.94Z"></path>
</svg>
</button>

      </div>
      <template id="search-icon">
  <svg aria-hidden="true" height="16" viewBox="0 0 16 16" version="1.1" width="16" data-view-component="true" class="octicon octicon-search">
    <path d="M10.68 11.74a6 6 0 0 1-7.922-8.982 6 6 0 0 1 8.982 7.922l3.04 3.04a.749.749 0 0 1-.326 1.275.749.749 0 0 1-.734-.215ZM11.5 7a4.499 4.499 0 1 0-8.997 0A4.499 4.499 0 0 0 11.5 7Z"></path>
</svg>
</template>

<template id="code-icon">
  <svg aria-hidden="true" height="16" viewBox="0 0 16 16" version="1.1" width="16" data-view-component="true" class="octicon octicon-code">
    <path d="m11.28 3.22 4.25 4.25a.75.75 0 0 1 0 1.06l-4.25 4.25a.749.749 0 0 1-1.275-.326.749.749 0 0 1 .215-.734L13.94 8l-3.72-3.72a.749.749 0 0 1 .326-1.275.749.749 0 0 1 .734.215Zm-6.56 0a.751.751 0 0 1 1.042.018.751.751 0 0 1 .018 1.042L2.06 8l3.72 3.72a.749.749 0 0 1-.326 1.275.749.749 0 0 1-.734-.215L.47 8.53a.75.75 0 0 1 0-1.06Z"></path>
</svg>
</template>

<template id="file-code-icon">
  <svg aria-hidden="true" height="16" viewBox="0 0 16 16" version="1.1" width="16" data-view-component="true" class="octicon octicon-file-code">
    <path d="M4 1.75C4 .784 4.784 0 5.75 0h5.586c.464 0 .909.184 1.237.513l2.914 2.914c.329.328.513.773.513 1.237v8.586A1.75 1.75 0 0 1 14.25 15h-9a.75.75 0 0 1 0-1.5h9a.25.25 0 0 0 .25-.25V6h-2.75A1.75 1.75 0 0 1 10 4.25V1.5H5.75a.25.25 0 0 0-.25.25v2.5a.75.75 0 0 1-1.5 0Zm1.72 4.97a.75.75 0 0 1 1.06 0l2 2a.75.75 0 0 1 0 1.06l-2 2a.749.749 0 0 1-1.275-.326.749.749 0 0 1 .215-.734l1.47-1.47-1.47-1.47a.75.75 0 0 1 0-1.06ZM3.28 7.78 1.81 9.25l1.47 1.47a.751.751 0 0 1-.018 1.042.751.751 0 0 1-1.042.018l-2-2a.75.75 0 0 1 0-1.06l2-2a.751.751 0 0 1 1.042.018.751.751 0 0 1 .018 1.042Zm8.22-6.218V4.25c0 .138.112.25.25.25h2.688l-.011-.013-2.914-2.914-.013-.011Z"></path>
</svg>
</template>

<template id="history-icon">
  <svg aria-hidden="true" height="16" viewBox="0 0 16 16" version="1.1" width="16" data-view-component="true" class="octicon octicon-history">
    <path d="m.427 1.927 1.215 1.215a8.002 8.002 0 1 1-1.6 5.685.75.75 0 1 1 1.493-.154 6.5 6.5 0 1 0 1.18-4.458l1.358 1.358A.25.25 0 0 1 3.896 6H.25A.25.25 0 0 1 0 5.75V2.104a.25.25 0 0 1 .427-.177ZM7.75 4a.75.75 0 0 1 .75.75v2.992l2.028.812a.75.75 0 0 1-.557 1.392l-2.5-1A.751.751 0 0 1 7 8.25v-3.5A.75.75 0 0 1 7.75 4Z"></path>
</svg>
</template>

<template id="repo-icon">
  <svg aria-hidden="true" height="16" viewBox="0 0 16 16" version="1.1" width="16" data-view-component="true" class="octicon octicon-repo">
    <path d="M2 2.5A2.5 2.5 0 0 1 4.5 0h8.75a.75.75 0 0 1 .75.75v12.5a.75.75 0 0 1-.75.75h-2.5a.75.75 0 0 1 0-1.5h1.75v-2h-8a1 1 0 0 0-.714 1.7.75.75 0 1 1-1.072 1.05A2.495 2.495 0 0 1 2 11.5Zm10.5-1h-8a1 1 0 0 0-1 1v6.708A2.486 2.486 0 0 1 4.5 9h8ZM5 12.25a.25.25 0 0 1 .25-.25h3.5a.25.25 0 0 1 .25.25v3.25a.25.25 0 0 1-.4.2l-1.45-1.087a.249.249 0 0 0-.3 0L5.4 15.7a.25.25 0 0 1-.4-.2Z"></path>
</svg>
</template>

<template id="bookmark-icon">
  <svg aria-hidden="true" height="16" viewBox="0 0 16 16" version="1.1" width="16" data-view-component="true" class="octicon octicon-bookmark">
    <path d="M3 2.75C3 1.784 3.784 1 4.75 1h6.5c.966 0 1.75.784 1.75 1.75v11.5a.75.75 0 0 1-1.227.579L8 11.722l-3.773 3.107A.751.751 0 0 1 3 14.25Zm1.75-.25a.25.25 0 0 0-.25.25v9.91l3.023-2.489a.75.75 0 0 1 .954 0l3.023 2.49V2.75a.25.25 0 0 0-.25-.25Z"></path>
</svg>
</template>

<template id="plus-circle-icon">
  <svg aria-hidden="true" height="16" viewBox="0 0 16 16" version="1.1" width="16" data-view-component="true" class="octicon octicon-plus-circle">
    <path d="M8 0a8 8 0 1 1 0 16A8 8 0 0 1 8 0ZM1.5 8a6.5 6.5 0 1 0 13 0 6.5 6.5 0 0 0-13 0Zm7.25-3.25v2.5h2.5a.75.75 0 0 1 0 1.5h-2.5v2.5a.75.75 0 0 1-1.5 0v-2.5h-2.5a.75.75 0 0 1 0-1.5h2.5v-2.5a.75.75 0 0 1 1.5 0Z"></path>
</svg>
</template>

<template id="circle-icon">
  <svg aria-hidden="true" height="16" viewBox="0 0 16 16" version="1.1" width="16" data-view-component="true" class="octicon octicon-dot-fill">
    <path d="M8 4a4 4 0 1 1 0 8 4 4 0 0 1 0-8Z"></path>
</svg>
</template>

<template id="trash-icon">
  <svg aria-hidden="true" height="16" viewBox="0 0 16 16" version="1.1" width="16" data-view-component="true" class="octicon octicon-trash">
    <path d="M11 1.75V3h2.25a.75.75 0 0 1 0 1.5H2.75a.75.75 0 0 1 0-1.5H5V1.75C5 .784 5.784 0 6.75 0h2.5C10.216 0 11 .784 11 1.75ZM4.496 6.675l.66 6.6a.25.25 0 0 0 .249.225h5.19a.25.25 0 0 0 .249-.225l.66-6.6a.75.75 0 0 1 1.492.149l-.66 6.6A1.748 1.748 0 0 1 10.595 15h-5.19a1.75 1.75 0 0 1-1.741-1.575l-.66-6.6a.75.75 0 1 1 1.492-.15ZM6.5 1.75V3h3V1.75a.25.25 0 0 0-.25-.25h-2.5a.25.25 0 0 0-.25.25Z"></path>
</svg>
</template>

<template id="team-icon">
  <svg aria-hidden="true" height="16" viewBox="0 0 16 16" version="1.1" width="16" data-view-component="true" class="octicon octicon-people">
    <path d="M2 5.5a3.5 3.5 0 1 1 5.898 2.549 5.508 5.508 0 0 1 3.034 4.084.75.75 0 1 1-1.482.235 4 4 0 0 0-7.9 0 .75.75 0 0 1-1.482-.236A5.507 5.507 0 0 1 3.102 8.05 3.493 3.493 0 0 1 2 5.5ZM11 4a3.001 3.001 0 0 1 2.22 5.018 5.01 5.01 0 0 1 2.56 3.012.749.749 0 0 1-.885.954.752.752 0 0 1-.549-.514 3.507 3.507 0 0 0-2.522-2.372.75.75 0 0 1-.574-.73v-.352a.75.75 0 0 1 .416-.672A1.5 1.5 0 0 0 11 5.5.75.75 0 0 1 11 4Zm-5.5-.5a2 2 0 1 0-.001 3.999A2 2 0 0 0 5.5 3.5Z"></path>
</svg>
</template>

<template id="project-icon">
  <svg aria-hidden="true" height="16" viewBox="0 0 16 16" version="1.1" width="16" data-view-component="true" class="octicon octicon-project">
    <path d="M1.75 0h12.5C15.216 0 16 .784 16 1.75v12.5A1.75 1.75 0 0 1 14.25 16H1.75A1.75 1.75 0 0 1 0 14.25V1.75C0 .784.784 0 1.75 0ZM1.5 1.75v12.5c0 .138.112.25.25.25h12.5a.25.25 0 0 0 .25-.25V1.75a.25.25 0 0 0-.25-.25H1.75a.25.25 0 0 0-.25.25ZM11.75 3a.75.75 0 0 1 .75.75v7.5a.75.75 0 0 1-1.5 0v-7.5a.75.75 0 0 1 .75-.75Zm-8.25.75a.75.75 0 0 1 1.5 0v5.5a.75.75 0 0 1-1.5 0ZM8 3a.75.75 0 0 1 .75.75v3.5a.75.75 0 0 1-1.5 0v-3.5A.75.75 0 0 1 8 3Z"></path>
</svg>
</template>

<template id="pencil-icon">
  <svg aria-hidden="true" height="16" viewBox="0 0 16 16" version="1.1" width="16" data-view-component="true" class="octicon octicon-pencil">
    <path d="M11.013 1.427a1.75 1.75 0 0 1 2.474 0l1.086 1.086a1.75 1.75 0 0 1 0 2.474l-8.61 8.61c-.21.21-.47.364-.756.445l-3.251.93a.75.75 0 0 1-.927-.928l.929-3.25c.081-.286.235-.547.445-.758l8.61-8.61Zm.176 4.823L9.75 4.81l-6.286 6.287a.253.253 0 0 0-.064.108l-.558 1.953 1.953-.558a.253.253 0 0 0 .108-.064Zm1.238-3.763a.25.25 0 0 0-.354 0L10.811 3.75l1.439 1.44 1.263-1.263a.25.25 0 0 0 0-.354Z"></path>
</svg>
</template>

<template id="copilot-icon">
  <svg aria-hidden="true" height="16" viewBox="0 0 16 16" version="1.1" width="16" data-view-component="true" class="octicon octicon-copilot">
    <path d="M7.998 15.035c-4.562 0-7.873-2.914-7.998-3.749V9.338c.085-.628.677-1.686 1.588-2.065.013-.07.024-.143.036-.218.029-.183.06-.384.126-.612-.201-.508-.254-1.084-.254-1.656 0-.87.128-1.769.693-2.484.579-.733 1.494-1.124 2.724-1.261 1.206-.134 2.262.034 2.944.765.05.053.096.108.139.165.044-.057.094-.112.143-.165.682-.731 1.738-.899 2.944-.765 1.23.137 2.145.528 2.724 1.261.566.715.693 1.614.693 2.484 0 .572-.053 1.148-.254 1.656.066.228.098.429.126.612.012.076.024.148.037.218.924.385 1.522 1.471 1.591 2.095v1.872c0 .766-3.351 3.795-8.002 3.795Zm0-1.485c2.28 0 4.584-1.11 5.002-1.433V7.862l-.023-.116c-.49.21-1.075.291-1.727.291-1.146 0-2.059-.327-2.71-.991A3.222 3.222 0 0 1 8 6.303a3.24 3.24 0 0 1-.544.743c-.65.664-1.563.991-2.71.991-.652 0-1.236-.081-1.727-.291l-.023.116v4.255c.419.323 2.722 1.433 5.002 1.433ZM6.762 2.83c-.193-.206-.637-.413-1.682-.297-1.019.113-1.479.404-1.713.7-.247.312-.369.789-.369 1.554 0 .793.129 1.171.308 1.371.162.181.519.379 1.442.379.853 0 1.339-.235 1.638-.54.315-.322.527-.827.617-1.553.117-.935-.037-1.395-.241-1.614Zm4.155-.297c-1.044-.116-1.488.091-1.681.297-.204.219-.359.679-.242 1.614.091.726.303 1.231.618 1.553.299.305.784.54 1.638.54.922 0 1.28-.198 1.442-.379.179-.2.308-.578.308-1.371 0-.765-.123-1.242-.37-1.554-.233-.296-.693-.587-1.713-.7Z"></path><path d="M6.25 9.037a.75.75 0 0 1 .75.75v1.501a.75.75 0 0 1-1.5 0V9.787a.75.75 0 0 1 .75-.75Zm4.25.75v1.501a.75.75 0 0 1-1.5 0V9.787a.75.75 0 0 1 1.5 0Z"></path>
</svg>
</template>

<template id="copilot-error-icon">
  <svg aria-hidden="true" height="16" viewBox="0 0 16 16" version="1.1" width="16" data-view-component="true" class="octicon octicon-copilot-error">
    <path d="M16 11.24c0 .112-.072.274-.21.467L13 9.688V7.862l-.023-.116c-.49.21-1.075.291-1.727.291-.198 0-.388-.009-.571-.029L6.833 5.226a4.01 4.01 0 0 0 .17-.782c.117-.935-.037-1.395-.241-1.614-.193-.206-.637-.413-1.682-.297-.683.076-1.115.231-1.395.415l-1.257-.91c.579-.564 1.413-.877 2.485-.996 1.206-.134 2.262.034 2.944.765.05.053.096.108.139.165.044-.057.094-.112.143-.165.682-.731 1.738-.899 2.944-.765 1.23.137 2.145.528 2.724 1.261.566.715.693 1.614.693 2.484 0 .572-.053 1.148-.254 1.656.066.228.098.429.126.612.012.076.024.148.037.218.924.385 1.522 1.471 1.591 2.095Zm-5.083-8.707c-1.044-.116-1.488.091-1.681.297-.204.219-.359.679-.242 1.614.091.726.303 1.231.618 1.553.299.305.784.54 1.638.54.922 0 1.28-.198 1.442-.379.179-.2.308-.578.308-1.371 0-.765-.123-1.242-.37-1.554-.233-.296-.693-.587-1.713-.7Zm2.511 11.074c-1.393.776-3.272 1.428-5.43 1.428-4.562 0-7.873-2.914-7.998-3.749V9.338c.085-.628.677-1.686 1.588-2.065.013-.07.024-.143.036-.218.029-.183.06-.384.126-.612-.18-.455-.241-.963-.252-1.475L.31 4.107A.747.747 0 0 1 0 3.509V3.49a.748.748 0 0 1 .625-.73c.156-.026.306.047.435.139l14.667 10.578a.592.592 0 0 1 .227.264.752.752 0 0 1 .046.249v.022a.75.75 0 0 1-1.19.596Zm-1.367-.991L5.635 7.964a5.128 5.128 0 0 1-.889.073c-.652 0-1.236-.081-1.727-.291l-.023.116v4.255c.419.323 2.722 1.433 5.002 1.433 1.539 0 3.089-.505 4.063-.934Z"></path>
</svg>
</template>

<template id="workflow-icon">
  <svg aria-hidden="true" height="16" viewBox="0 0 16 16" version="1.1" width="16" data-view-component="true" class="octicon octicon-workflow">
    <path d="M0 1.75C0 .784.784 0 1.75 0h3.5C6.216 0 7 .784 7 1.75v3.5A1.75 1.75 0 0 1 5.25 7H4v4a1 1 0 0 0 1 1h4v-1.25C9 9.784 9.784 9 10.75 9h3.5c.966 0 1.75.784 1.75 1.75v3.5A1.75 1.75 0 0 1 14.25 16h-3.5A1.75 1.75 0 0 1 9 14.25v-.75H5A2.5 2.5 0 0 1 2.5 11V7h-.75A1.75 1.75 0 0 1 0 5.25Zm1.75-.25a.25.25 0 0 0-.25.25v3.5c0 .138.112.25.25.25h3.5a.25.25 0 0 0 .25-.25v-3.5a.25.25 0 0 0-.25-.25Zm9 9a.25.25 0 0 0-.25.25v3.5c0 .138.112.25.25.25h3.5a.25.25 0 0 0 .25-.25v-3.5a.25.25 0 0 0-.25-.25Z"></path>
</svg>
</template>

<template id="book-icon">
  <svg aria-hidden="true" height="16" viewBox="0 0 16 16" version="1.1" width="16" data-view-component="true" class="octicon octicon-book">
    <path d="M0 1.75A.75.75 0 0 1 .75 1h4.253c1.227 0 2.317.59 3 1.501A3.743 3.743 0 0 1 11.006 1h4.245a.75.75 0 0 1 .75.75v10.5a.75.75 0 0 1-.75.75h-4.507a2.25 2.25 0 0 0-1.591.659l-.622.621a.75.75 0 0 1-1.06 0l-.622-.621A2.25 2.25 0 0 0 5.258 13H.75a.75.75 0 0 1-.75-.75Zm7.251 10.324.004-5.073-.002-2.253A2.25 2.25 0 0 0 5.003 2.5H1.5v9h3.757a3.75 3.75 0 0 1 1.994.574ZM8.755 4.75l-.004 7.322a3.752 3.752 0 0 1 1.992-.572H14.5v-9h-3.495a2.25 2.25 0 0 0-2.25 2.25Z"></path>
</svg>
</template>

<template id="code-review-icon">
  <svg aria-hidden="true" height="16" viewBox="0 0 16 16" version="1.1" width="16" data-view-component="true" class="octicon octicon-code-review">
    <path d="M1.75 1h12.5c.966 0 1.75.784 1.75 1.75v8.5A1.75 1.75 0 0 1 14.25 13H8.061l-2.574 2.573A1.458 1.458 0 0 1 3 14.543V13H1.75A1.75 1.75 0 0 1 0 11.25v-8.5C0 1.784.784 1 1.75 1ZM1.5 2.75v8.5c0 .138.112.25.25.25h2a.75.75 0 0 1 .75.75v2.19l2.72-2.72a.749.749 0 0 1 .53-.22h6.5a.25.25 0 0 0 .25-.25v-8.5a.25.25 0 0 0-.25-.25H1.75a.25.25 0 0 0-.25.25Zm5.28 1.72a.75.75 0 0 1 0 1.06L5.31 7l1.47 1.47a.751.751 0 0 1-.018 1.042.751.751 0 0 1-1.042.018l-2-2a.75.75 0 0 1 0-1.06l2-2a.75.75 0 0 1 1.06 0Zm2.44 0a.75.75 0 0 1 1.06 0l2 2a.75.75 0 0 1 0 1.06l-2 2a.751.751 0 0 1-1.042-.018.751.751 0 0 1-.018-1.042L10.69 7 9.22 5.53a.75.75 0 0 1 0-1.06Z"></path>
</svg>
</template>

<template id="codespaces-icon">
  <svg aria-hidden="true" height="16" viewBox="0 0 16 16" version="1.1" width="16" data-view-component="true" class="octicon octicon-codespaces">
    <path d="M0 11.25c0-.966.784-1.75 1.75-1.75h12.5c.966 0 1.75.784 1.75 1.75v3A1.75 1.75 0 0 1 14.25 16H1.75A1.75 1.75 0 0 1 0 14.25Zm2-9.5C2 .784 2.784 0 3.75 0h8.5C13.216 0 14 .784 14 1.75v5a1.75 1.75 0 0 1-1.75 1.75h-8.5A1.75 1.75 0 0 1 2 6.75Zm1.75-.25a.25.25 0 0 0-.25.25v5c0 .138.112.25.25.25h8.5a.25.25 0 0 0 .25-.25v-5a.25.25 0 0 0-.25-.25Zm-2 9.5a.25.25 0 0 0-.25.25v3c0 .138.112.25.25.25h12.5a.25.25 0 0 0 .25-.25v-3a.25.25 0 0 0-.25-.25Z"></path><path d="M7 12.75a.75.75 0 0 1 .75-.75h4.5a.75.75 0 0 1 0 1.5h-4.5a.75.75 0 0 1-.75-.75Zm-4 0a.75.75 0 0 1 .75-.75h.5a.75.75 0 0 1 0 1.5h-.5a.75.75 0 0 1-.75-.75Z"></path>
</svg>
</template>

<template id="comment-icon">
  <svg aria-hidden="true" height="16" viewBox="0 0 16 16" version="1.1" width="16" data-view-component="true" class="octicon octicon-comment">
    <path d="M1 2.75C1 1.784 1.784 1 2.75 1h10.5c.966 0 1.75.784 1.75 1.75v7.5A1.75 1.75 0 0 1 13.25 12H9.06l-2.573 2.573A1.458 1.458 0 0 1 4 13.543V12H2.75A1.75 1.75 0 0 1 1 10.25Zm1.75-.25a.25.25 0 0 0-.25.25v7.5c0 .138.112.25.25.25h2a.75.75 0 0 1 .75.75v2.19l2.72-2.72a.749.749 0 0 1 .53-.22h4.5a.25.25 0 0 0 .25-.25v-7.5a.25.25 0 0 0-.25-.25Z"></path>
</svg>
</template>

<template id="comment-discussion-icon">
  <svg aria-hidden="true" height="16" viewBox="0 0 16 16" version="1.1" width="16" data-view-component="true" class="octicon octicon-comment-discussion">
    <path d="M1.75 1h8.5c.966 0 1.75.784 1.75 1.75v5.5A1.75 1.75 0 0 1 10.25 10H7.061l-2.574 2.573A1.458 1.458 0 0 1 2 11.543V10h-.25A1.75 1.75 0 0 1 0 8.25v-5.5C0 1.784.784 1 1.75 1ZM1.5 2.75v5.5c0 .138.112.25.25.25h1a.75.75 0 0 1 .75.75v2.19l2.72-2.72a.749.749 0 0 1 .53-.22h3.5a.25.25 0 0 0 .25-.25v-5.5a.25.25 0 0 0-.25-.25h-8.5a.25.25 0 0 0-.25.25Zm13 2a.25.25 0 0 0-.25-.25h-.5a.75.75 0 0 1 0-1.5h.5c.966 0 1.75.784 1.75 1.75v5.5A1.75 1.75 0 0 1 14.25 12H14v1.543a1.458 1.458 0 0 1-2.487 1.03L9.22 12.28a.749.749 0 0 1 .326-1.275.749.749 0 0 1 .734.215l2.22 2.22v-2.19a.75.75 0 0 1 .75-.75h1a.25.25 0 0 0 .25-.25Z"></path>
</svg>
</template>

<template id="organization-icon">
  <svg aria-hidden="true" height="16" viewBox="0 0 16 16" version="1.1" width="16" data-view-component="true" class="octicon octicon-organization">
    <path d="M1.75 16A1.75 1.75 0 0 1 0 14.25V1.75C0 .784.784 0 1.75 0h8.5C11.216 0 12 .784 12 1.75v12.5c0 .085-.006.168-.018.25h2.268a.25.25 0 0 0 .25-.25V8.285a.25.25 0 0 0-.111-.208l-1.055-.703a.749.749 0 1 1 .832-1.248l1.055.703c.487.325.779.871.779 1.456v5.965A1.75 1.75 0 0 1 14.25 16h-3.5a.766.766 0 0 1-.197-.026c-.099.017-.2.026-.303.026h-3a.75.75 0 0 1-.75-.75V14h-1v1.25a.75.75 0 0 1-.75.75Zm-.25-1.75c0 .138.112.25.25.25H4v-1.25a.75.75 0 0 1 .75-.75h2.5a.75.75 0 0 1 .75.75v1.25h2.25a.25.25 0 0 0 .25-.25V1.75a.25.25 0 0 0-.25-.25h-8.5a.25.25 0 0 0-.25.25ZM3.75 6h.5a.75.75 0 0 1 0 1.5h-.5a.75.75 0 0 1 0-1.5ZM3 3.75A.75.75 0 0 1 3.75 3h.5a.75.75 0 0 1 0 1.5h-.5A.75.75 0 0 1 3 3.75Zm4 3A.75.75 0 0 1 7.75 6h.5a.75.75 0 0 1 0 1.5h-.5A.75.75 0 0 1 7 6.75ZM7.75 3h.5a.75.75 0 0 1 0 1.5h-.5a.75.75 0 0 1 0-1.5ZM3 9.75A.75.75 0 0 1 3.75 9h.5a.75.75 0 0 1 0 1.5h-.5A.75.75 0 0 1 3 9.75ZM7.75 9h.5a.75.75 0 0 1 0 1.5h-.5a.75.75 0 0 1 0-1.5Z"></path>
</svg>
</template>

<template id="rocket-icon">
  <svg aria-hidden="true" height="16" viewBox="0 0 16 16" version="1.1" width="16" data-view-component="true" class="octicon octicon-rocket">
    <path d="M14.064 0h.186C15.216 0 16 .784 16 1.75v.186a8.752 8.752 0 0 1-2.564 6.186l-.458.459c-.314.314-.641.616-.979.904v3.207c0 .608-.315 1.172-.833 1.49l-2.774 1.707a.749.749 0 0 1-1.11-.418l-.954-3.102a1.214 1.214 0 0 1-.145-.125L3.754 9.816a1.218 1.218 0 0 1-.124-.145L.528 8.717a.749.749 0 0 1-.418-1.11l1.71-2.774A1.748 1.748 0 0 1 3.31 4h3.204c.288-.338.59-.665.904-.979l.459-.458A8.749 8.749 0 0 1 14.064 0ZM8.938 3.623h-.002l-.458.458c-.76.76-1.437 1.598-2.02 2.5l-1.5 2.317 2.143 2.143 2.317-1.5c.902-.583 1.74-1.26 2.499-2.02l.459-.458a7.25 7.25 0 0 0 2.123-5.127V1.75a.25.25 0 0 0-.25-.25h-.186a7.249 7.249 0 0 0-5.125 2.123ZM3.56 14.56c-.732.732-2.334 1.045-3.005 1.148a.234.234 0 0 1-.201-.064.234.234 0 0 1-.064-.201c.103-.671.416-2.273 1.15-3.003a1.502 1.502 0 1 1 2.12 2.12Zm6.94-3.935c-.088.06-.177.118-.266.175l-2.35 1.521.548 1.783 1.949-1.2a.25.25 0 0 0 .119-.213ZM3.678 8.116 5.2 5.766c.058-.09.117-.178.176-.266H3.309a.25.25 0 0 0-.213.119l-1.2 1.95ZM12 5a1 1 0 1 1-2 0 1 1 0 0 1 2 0Z"></path>
</svg>
</template>

<template id="shield-check-icon">
  <svg aria-hidden="true" height="16" viewBox="0 0 16 16" version="1.1" width="16" data-view-component="true" class="octicon octicon-shield-check">
    <path d="m8.533.133 5.25 1.68A1.75 1.75 0 0 1 15 3.48V7c0 1.566-.32 3.182-1.303 4.682-.983 1.498-2.585 2.813-5.032 3.855a1.697 1.697 0 0 1-1.33 0c-2.447-1.042-4.049-2.357-5.032-3.855C1.32 10.182 1 8.566 1 7V3.48a1.75 1.75 0 0 1 1.217-1.667l5.25-1.68a1.748 1.748 0 0 1 1.066 0Zm-.61 1.429.001.001-5.25 1.68a.251.251 0 0 0-.174.237V7c0 1.36.275 2.666 1.057 3.859.784 1.194 2.121 2.342 4.366 3.298a.196.196 0 0 0 .154 0c2.245-.957 3.582-2.103 4.366-3.297C13.225 9.666 13.5 8.358 13.5 7V3.48a.25.25 0 0 0-.174-.238l-5.25-1.68a.25.25 0 0 0-.153 0ZM11.28 6.28l-3.5 3.5a.75.75 0 0 1-1.06 0l-1.5-1.5a.749.749 0 0 1 .326-1.275.749.749 0 0 1 .734.215l.97.97 2.97-2.97a.751.751 0 0 1 1.042.018.751.751 0 0 1 .018 1.042Z"></path>
</svg>
</template>

<template id="heart-icon">
  <svg aria-hidden="true" height="16" viewBox="0 0 16 16" version="1.1" width="16" data-view-component="true" class="octicon octicon-heart">
    <path d="m8 14.25.345.666a.75.75 0 0 1-.69 0l-.008-.004-.018-.01a7.152 7.152 0 0 1-.31-.17 22.055 22.055 0 0 1-3.434-2.414C2.045 10.731 0 8.35 0 5.5 0 2.836 2.086 1 4.25 1 5.797 1 7.153 1.802 8 3.02 8.847 1.802 10.203 1 11.75 1 13.914 1 16 2.836 16 5.5c0 2.85-2.045 5.231-3.885 6.818a22.066 22.066 0 0 1-3.744 2.584l-.018.01-.006.003h-.002ZM4.25 2.5c-1.336 0-2.75 1.164-2.75 3 0 2.15 1.58 4.144 3.365 5.682A20.58 20.58 0 0 0 8 13.393a20.58 20.58 0 0 0 3.135-2.211C12.92 9.644 14.5 7.65 14.5 5.5c0-1.836-1.414-3-2.75-3-1.373 0-2.609.986-3.029 2.456a.749.749 0 0 1-1.442 0C6.859 3.486 5.623 2.5 4.25 2.5Z"></path>
</svg>
</template>

<template id="server-icon">
  <svg aria-hidden="true" height="16" viewBox="0 0 16 16" version="1.1" width="16" data-view-component="true" class="octicon octicon-server">
    <path d="M1.75 1h12.5c.966 0 1.75.784 1.75 1.75v4c0 .372-.116.717-.314 1 .198.283.314.628.314 1v4a1.75 1.75 0 0 1-1.75 1.75H1.75A1.75 1.75 0 0 1 0 12.75v-4c0-.358.109-.707.314-1a1.739 1.739 0 0 1-.314-1v-4C0 1.784.784 1 1.75 1ZM1.5 2.75v4c0 .138.112.25.25.25h12.5a.25.25 0 0 0 .25-.25v-4a.25.25 0 0 0-.25-.25H1.75a.25.25 0 0 0-.25.25Zm.25 5.75a.25.25 0 0 0-.25.25v4c0 .138.112.25.25.25h12.5a.25.25 0 0 0 .25-.25v-4a.25.25 0 0 0-.25-.25ZM7 4.75A.75.75 0 0 1 7.75 4h4.5a.75.75 0 0 1 0 1.5h-4.5A.75.75 0 0 1 7 4.75ZM7.75 10h4.5a.75.75 0 0 1 0 1.5h-4.5a.75.75 0 0 1 0-1.5ZM3 4.75A.75.75 0 0 1 3.75 4h.5a.75.75 0 0 1 0 1.5h-.5A.75.75 0 0 1 3 4.75ZM3.75 10h.5a.75.75 0 0 1 0 1.5h-.5a.75.75 0 0 1 0-1.5Z"></path>
</svg>
</template>

<template id="globe-icon">
  <svg aria-hidden="true" height="16" viewBox="0 0 16 16" version="1.1" width="16" data-view-component="true" class="octicon octicon-globe">
    <path d="M8 0a8 8 0 1 1 0 16A8 8 0 0 1 8 0ZM5.78 8.75a9.64 9.64 0 0 0 1.363 4.177c.255.426.542.832.857 1.215.245-.296.551-.705.857-1.215A9.64 9.64 0 0 0 10.22 8.75Zm4.44-1.5a9.64 9.64 0 0 0-1.363-4.177c-.307-.51-.612-.919-.857-1.215a9.927 9.927 0 0 0-.857 1.215A9.64 9.64 0 0 0 5.78 7.25Zm-5.944 1.5H1.543a6.507 6.507 0 0 0 4.666 5.5c-.123-.181-.24-.365-.352-.552-.715-1.192-1.437-2.874-1.581-4.948Zm-2.733-1.5h2.733c.144-2.074.866-3.756 1.58-4.948.12-.197.237-.381.353-.552a6.507 6.507 0 0 0-4.666 5.5Zm10.181 1.5c-.144 2.074-.866 3.756-1.58 4.948-.12.197-.237.381-.353.552a6.507 6.507 0 0 0 4.666-5.5Zm2.733-1.5a6.507 6.507 0 0 0-4.666-5.5c.123.181.24.365.353.552.714 1.192 1.436 2.874 1.58 4.948Z"></path>
</svg>
</template>

<template id="issue-opened-icon">
  <svg aria-hidden="true" height="16" viewBox="0 0 16 16" version="1.1" width="16" data-view-component="true" class="octicon octicon-issue-opened">
    <path d="M8 9.5a1.5 1.5 0 1 0 0-3 1.5 1.5 0 0 0 0 3Z"></path><path d="M8 0a8 8 0 1 1 0 16A8 8 0 0 1 8 0ZM1.5 8a6.5 6.5 0 1 0 13 0 6.5 6.5 0 0 0-13 0Z"></path>
</svg>
</template>

<template id="device-mobile-icon">
  <svg aria-hidden="true" height="16" viewBox="0 0 16 16" version="1.1" width="16" data-view-component="true" class="octicon octicon-device-mobile">
    <path d="M3.75 0h8.5C13.216 0 14 .784 14 1.75v12.5A1.75 1.75 0 0 1 12.25 16h-8.5A1.75 1.75 0 0 1 2 14.25V1.75C2 .784 2.784 0 3.75 0ZM3.5 1.75v12.5c0 .138.112.25.25.25h8.5a.25.25 0 0 0 .25-.25V1.75a.25.25 0 0 0-.25-.25h-8.5a.25.25 0 0 0-.25.25ZM8 13a1 1 0 1 1 0-2 1 1 0 0 1 0 2Z"></path>
</svg>
</template>

<template id="package-icon">
  <svg aria-hidden="true" height="16" viewBox="0 0 16 16" version="1.1" width="16" data-view-component="true" class="octicon octicon-package">
    <path d="m8.878.392 5.25 3.045c.54.314.872.89.872 1.514v6.098a1.75 1.75 0 0 1-.872 1.514l-5.25 3.045a1.75 1.75 0 0 1-1.756 0l-5.25-3.045A1.75 1.75 0 0 1 1 11.049V4.951c0-.624.332-1.201.872-1.514L7.122.392a1.75 1.75 0 0 1 1.756 0ZM7.875 1.69l-4.63 2.685L8 7.133l4.755-2.758-4.63-2.685a.248.248 0 0 0-.25 0ZM2.5 5.677v5.372c0 .09.047.171.125.216l4.625 2.683V8.432Zm6.25 8.271 4.625-2.683a.25.25 0 0 0 .125-.216V5.677L8.75 8.432Z"></path>
</svg>
</template>

<template id="credit-card-icon">
  <svg aria-hidden="true" height="16" viewBox="0 0 16 16" version="1.1" width="16" data-view-component="true" class="octicon octicon-credit-card">
    <path d="M10.75 9a.75.75 0 0 0 0 1.5h1.5a.75.75 0 0 0 0-1.5h-1.5Z"></path><path d="M0 3.75C0 2.784.784 2 1.75 2h12.5c.966 0 1.75.784 1.75 1.75v8.5A1.75 1.75 0 0 1 14.25 14H1.75A1.75 1.75 0 0 1 0 12.25ZM14.5 6.5h-13v5.75c0 .138.112.25.25.25h12.5a.25.25 0 0 0 .25-.25Zm0-2.75a.25.25 0 0 0-.25-.25H1.75a.25.25 0 0 0-.25.25V5h13Z"></path>
</svg>
</template>

<template id="play-icon">
  <svg aria-hidden="true" height="16" viewBox="0 0 16 16" version="1.1" width="16" data-view-component="true" class="octicon octicon-play">
    <path d="M8 0a8 8 0 1 1 0 16A8 8 0 0 1 8 0ZM1.5 8a6.5 6.5 0 1 0 13 0 6.5 6.5 0 0 0-13 0Zm4.879-2.773 4.264 2.559a.25.25 0 0 1 0 .428l-4.264 2.559A.25.25 0 0 1 6 10.559V5.442a.25.25 0 0 1 .379-.215Z"></path>
</svg>
</template>

<template id="gift-icon">
  <svg aria-hidden="true" height="16" viewBox="0 0 16 16" version="1.1" width="16" data-view-component="true" class="octicon octicon-gift">
    <path d="M2 2.75A2.75 2.75 0 0 1 4.75 0c.983 0 1.873.42 2.57 1.232.268.318.497.668.68 1.042.183-.375.411-.725.68-1.044C9.376.42 10.266 0 11.25 0a2.75 2.75 0 0 1 2.45 4h.55c.966 0 1.75.784 1.75 1.75v2c0 .698-.409 1.301-1 1.582v4.918A1.75 1.75 0 0 1 13.25 16H2.75A1.75 1.75 0 0 1 1 14.25V9.332C.409 9.05 0 8.448 0 7.75v-2C0 4.784.784 4 1.75 4h.55c-.192-.375-.3-.8-.3-1.25ZM7.25 9.5H2.5v4.75c0 .138.112.25.25.25h4.5Zm1.5 0v5h4.5a.25.25 0 0 0 .25-.25V9.5Zm0-4V8h5.5a.25.25 0 0 0 .25-.25v-2a.25.25 0 0 0-.25-.25Zm-7 0a.25.25 0 0 0-.25.25v2c0 .138.112.25.25.25h5.5V5.5h-5.5Zm3-4a1.25 1.25 0 0 0 0 2.5h2.309c-.233-.818-.542-1.401-.878-1.793-.43-.502-.915-.707-1.431-.707ZM8.941 4h2.309a1.25 1.25 0 0 0 0-2.5c-.516 0-1 .205-1.43.707-.337.392-.646.975-.879 1.793Z"></path>
</svg>
</template>

<template id="code-square-icon">
  <svg aria-hidden="true" height="16" viewBox="0 0 16 16" version="1.1" width="16" data-view-component="true" class="octicon octicon-code-square">
    <path d="M0 1.75C0 .784.784 0 1.75 0h12.5C15.216 0 16 .784 16 1.75v12.5A1.75 1.75 0 0 1 14.25 16H1.75A1.75 1.75 0 0 1 0 14.25Zm1.75-.25a.25.25 0 0 0-.25.25v12.5c0 .138.112.25.25.25h12.5a.25.25 0 0 0 .25-.25V1.75a.25.25 0 0 0-.25-.25Zm7.47 3.97a.75.75 0 0 1 1.06 0l2 2a.75.75 0 0 1 0 1.06l-2 2a.749.749 0 0 1-1.275-.326.749.749 0 0 1 .215-.734L10.69 8 9.22 6.53a.75.75 0 0 1 0-1.06ZM6.78 6.53 5.31 8l1.47 1.47a.749.749 0 0 1-.326 1.275.749.749 0 0 1-.734-.215l-2-2a.75.75 0 0 1 0-1.06l2-2a.751.751 0 0 1 1.042.018.751.751 0 0 1 .018 1.042Z"></path>
</svg>
</template>

<template id="device-desktop-icon">
  <svg aria-hidden="true" height="16" viewBox="0 0 16 16" version="1.1" width="16" data-view-component="true" class="octicon octicon-device-desktop">
    <path d="M14.25 1c.966 0 1.75.784 1.75 1.75v7.5A1.75 1.75 0 0 1 14.25 12h-3.727c.099 1.041.52 1.872 1.292 2.757A.752.752 0 0 1 11.25 16h-6.5a.75.75 0 0 1-.565-1.243c.772-.885 1.192-1.716 1.292-2.757H1.75A1.75 1.75 0 0 1 0 10.25v-7.5C0 1.784.784 1 1.75 1ZM1.75 2.5a.25.25 0 0 0-.25.25v7.5c0 .138.112.25.25.25h12.5a.25.25 0 0 0 .25-.25v-7.5a.25.25 0 0 0-.25-.25ZM9.018 12H6.982a5.72 5.72 0 0 1-.765 2.5h3.566a5.72 5.72 0 0 1-.765-2.5Z"></path>
</svg>
</template>

        <div class="position-relative">
                <ul
                  role="listbox"
                  class="ActionListWrap QueryBuilder-ListWrap"
                  aria-label="Suggestions"
                  data-action="
                    combobox-commit:query-builder#comboboxCommit
                    mousedown:query-builder#resultsMousedown
                  "
                  data-target="query-builder.resultsList"
                  data-persist-list=false
                  id="query-builder-test-results"
                ></ul>
        </div>
      <div class="FormControl-inlineValidation" id="validation-c875a7bd-e541-4cb1-af06-28920fb5eaee" hidden="hidden">
        <span class="FormControl-inlineValidation--visual">
          <svg aria-hidden="true" height="12" viewBox="0 0 12 12" version="1.1" width="12" data-view-component="true" class="octicon octicon-alert-fill">
    <path d="M4.855.708c.5-.896 1.79-.896 2.29 0l4.675 8.351a1.312 1.312 0 0 1-1.146 1.954H1.33A1.313 1.313 0 0 1 .183 9.058ZM7 7V3H5v4Zm-1 3a1 1 0 1 0 0-2 1 1 0 0 0 0 2Z"></path>
</svg>
        </span>
        <span></span>
</div>    </div>
    <div data-target="query-builder.screenReaderFeedback" aria-live="polite" aria-atomic="true" class="sr-only"></div>
</query-builder></form>
          <div class="d-flex flex-row color-fg-muted px-3 text-small color-bg-default search-feedback-prompt">
            <a target="_blank" href="https://docs.github.com/search-github/github-code-search/understanding-github-code-search-syntax" data-view-component="true" class="Link color-fg-accent text-normal ml-2">Search syntax tips</a>            <div class="d-flex flex-1"></div>
              <button data-action="click:qbsearch-input#showFeedbackDialog" type="button" data-view-component="true" class="Button--link Button--medium Button color-fg-accent text-normal ml-2">  <span class="Button-content">
    <span class="Button-label">Give feedback</span>
  </span>
</button>
          </div>
        </div>
</div>

    </div>
</modal-dialog></div>
  </div>
  <div data-action="click:qbsearch-input#retract" class="dark-backdrop position-fixed" hidden data-target="qbsearch-input.darkBackdrop"></div>
  <div class="color-fg-default">
    
<dialog-helper>
  <dialog data-target="qbsearch-input.feedbackDialog" data-action="close:qbsearch-input#handleDialogClose cancel:qbsearch-input#handleDialogClose" id="feedback-dialog" aria-modal="true" aria-labelledby="feedback-dialog-title" aria-describedby="feedback-dialog-description" data-view-component="true" class="Overlay Overlay-whenNarrow Overlay--size-medium Overlay--motion-scaleFade Overlay--disableScroll">
    <div data-view-component="true" class="Overlay-header">
  <div class="Overlay-headerContentWrap">
    <div class="Overlay-titleWrap">
      <h1 class="Overlay-title " id="feedback-dialog-title">
        Provide feedback
      </h1>
        
    </div>
    <div class="Overlay-actionWrap">
      <button data-close-dialog-id="feedback-dialog" aria-label="Close" type="button" data-view-component="true" class="close-button Overlay-closeButton"><svg aria-hidden="true" height="16" viewBox="0 0 16 16" version="1.1" width="16" data-view-component="true" class="octicon octicon-x">
    <path d="M3.72 3.72a.75.75 0 0 1 1.06 0L8 6.94l3.22-3.22a.749.749 0 0 1 1.275.326.749.749 0 0 1-.215.734L9.06 8l3.22 3.22a.749.749 0 0 1-.326 1.275.749.749 0 0 1-.734-.215L8 9.06l-3.22 3.22a.751.751 0 0 1-1.042-.018.751.751 0 0 1-.018-1.042L6.94 8 3.72 4.78a.75.75 0 0 1 0-1.06Z"></path>
</svg></button>
    </div>
  </div>
  
</div>
      <scrollable-region data-labelled-by="feedback-dialog-title">
        <div data-view-component="true" class="Overlay-body">        <!-- '"` --><!-- </textarea></xmp> --></option></form><form id="code-search-feedback-form" data-turbo="false" action="/search/feedback" accept-charset="UTF-8" method="post"><input type="hidden" name="authenticity_token" value="oaNpVWUmmGT5vDDuLlZy1pqg9yhRURCJ-XFeQAxTzgVPCgmkYJdRN94KOiu_7vtOLfW70n0wHwqpbxSDF5Udyw" />
          <p>We read every piece of feedback, and take your input very seriously.</p>
          <textarea name="feedback" class="form-control width-full mb-2" style="height: 120px" id="feedback"></textarea>
          <input name="include_email" id="include_email" aria-label="Include my email address so I can be contacted" class="form-control mr-2" type="checkbox">
          <label for="include_email" style="font-weight: normal">Include my email address so I can be contacted</label>
</form></div>
      </scrollable-region>
      <div data-view-component="true" class="Overlay-footer Overlay-footer--alignEnd">          <button data-close-dialog-id="feedback-dialog" type="button" data-view-component="true" class="btn">    Cancel
</button>
          <button form="code-search-feedback-form" data-action="click:qbsearch-input#submitFeedback" type="submit" data-view-component="true" class="btn-primary btn">    Submit feedback
</button>
</div>
</dialog></dialog-helper>

    <custom-scopes data-target="qbsearch-input.customScopesManager">
    
<dialog-helper>
  <dialog data-target="custom-scopes.customScopesModalDialog" data-action="close:qbsearch-input#handleDialogClose cancel:qbsearch-input#handleDialogClose" id="custom-scopes-dialog" aria-modal="true" aria-labelledby="custom-scopes-dialog-title" aria-describedby="custom-scopes-dialog-description" data-view-component="true" class="Overlay Overlay-whenNarrow Overlay--size-medium Overlay--motion-scaleFade Overlay--disableScroll">
    <div data-view-component="true" class="Overlay-header Overlay-header--divided">
  <div class="Overlay-headerContentWrap">
    <div class="Overlay-titleWrap">
      <h1 class="Overlay-title " id="custom-scopes-dialog-title">
        Saved searches
      </h1>
        <h2 id="custom-scopes-dialog-description" class="Overlay-description">Use saved searches to filter your results more quickly</h2>
    </div>
    <div class="Overlay-actionWrap">
      <button data-close-dialog-id="custom-scopes-dialog" aria-label="Close" type="button" data-view-component="true" class="close-button Overlay-closeButton"><svg aria-hidden="true" height="16" viewBox="0 0 16 16" version="1.1" width="16" data-view-component="true" class="octicon octicon-x">
    <path d="M3.72 3.72a.75.75 0 0 1 1.06 0L8 6.94l3.22-3.22a.749.749 0 0 1 1.275.326.749.749 0 0 1-.215.734L9.06 8l3.22 3.22a.749.749 0 0 1-.326 1.275.749.749 0 0 1-.734-.215L8 9.06l-3.22 3.22a.751.751 0 0 1-1.042-.018.751.751 0 0 1-.018-1.042L6.94 8 3.72 4.78a.75.75 0 0 1 0-1.06Z"></path>
</svg></button>
    </div>
  </div>
  
</div>
      <scrollable-region data-labelled-by="custom-scopes-dialog-title">
        <div data-view-component="true" class="Overlay-body">        <div data-target="custom-scopes.customScopesModalDialogFlash"></div>

        <div hidden class="create-custom-scope-form" data-target="custom-scopes.createCustomScopeForm">
        <!-- '"` --><!-- </textarea></xmp> --></option></form><form id="custom-scopes-dialog-form" data-turbo="false" action="/search/custom_scopes" accept-charset="UTF-8" method="post"><input type="hidden" name="authenticity_token" value="vQEr8CJosYcr4L2SRIOQtqNZqtCIUWV-yrg8Oy0QzyW8ZU2athS3EX7u6hLD1eO9M5EouyCamozV4n2iV4GA8g" />
          <div data-target="custom-scopes.customScopesModalDialogFlash"></div>

          <input type="hidden" id="custom_scope_id" name="custom_scope_id" data-target="custom-scopes.customScopesIdField">

          <div class="form-group">
            <label for="custom_scope_name">Name</label>
            <auto-check src="/search/custom_scopes/check_name" required only-validate-on-blur="true">
              <input
                type="text"
                name="custom_scope_name"
                id="custom_scope_name"
                data-target="custom-scopes.customScopesNameField"
                class="form-control"
                autocomplete="off"
                placeholder="github-ruby"
                required
                maxlength="50">
              <input type="hidden" value="AINIPc1D4ViZeTbY0bZSXfN3AoI9foHxSxDQ2E3skQ6wUpvK6nHASUWPbMtTT0CnA3A2WzAZ1pOxynVmR2UVUQ" data-csrf="true" />
            </auto-check>
          </div>

          <div class="form-group">
            <label for="custom_scope_query">Query</label>
            <input
              type="text"
              name="custom_scope_query"
              id="custom_scope_query"
              data-target="custom-scopes.customScopesQueryField"
              class="form-control"
              autocomplete="off"
              placeholder="(repo:mona/a OR repo:mona/b) AND lang:python"
              required
              maxlength="500">
          </div>

          <p class="text-small color-fg-muted">
            To see all available qualifiers, see our <a class="Link--inTextBlock" href="https://docs.github.com/search-github/github-code-search/understanding-github-code-search-syntax">documentation</a>.
          </p>
</form>        </div>

        <div data-target="custom-scopes.manageCustomScopesForm">
          <div data-target="custom-scopes.list"></div>
        </div>

</div>
      </scrollable-region>
      <div data-view-component="true" class="Overlay-footer Overlay-footer--alignEnd Overlay-footer--divided">          <button data-action="click:custom-scopes#customScopesCancel" type="button" data-view-component="true" class="btn">    Cancel
</button>
          <button form="custom-scopes-dialog-form" data-action="click:custom-scopes#customScopesSubmit" data-target="custom-scopes.customScopesSubmitButton" type="submit" data-view-component="true" class="btn-primary btn">    Create saved search
</button>
</div>
</dialog></dialog-helper>
    </custom-scopes>
  </div>
</qbsearch-input>  <input type="hidden" value="_PUGxu7uRPJR54AW1Rl5uTZCk9cmKTEgUAIhcpRZZxLsumB8riuJxpdm5857xq40MyQqreTw5AmLPIbvyrZDNQ" data-csrf="true" class="js-data-jump-to-suggestions-path-csrf" />


          </div>

        
          <div class="AppHeader-CopilotChat">
  <react-partial-anchor>
    <button id="copilot-chat-header-button" data-target="react-partial-anchor.anchor" data-hotkey="Shift+C" aria-expanded="false" aria-controls="copilot-chat-panel" aria-labelledby="tooltip-174d1430-685d-4056-8f68-f74972a17ef2" type="button" disabled="disabled" data-view-component="true" class="Button Button--iconOnly Button--secondary Button--medium AppHeader-button AppHeader-buttonLeft cursor-wait">  <svg aria-hidden="true" height="16" viewBox="0 0 16 16" version="1.1" width="16" data-view-component="true" class="octicon octicon-copilot Button-visual">
    <path d="M7.998 15.035c-4.562 0-7.873-2.914-7.998-3.749V9.338c.085-.628.677-1.686 1.588-2.065.013-.07.024-.143.036-.218.029-.183.06-.384.126-.612-.201-.508-.254-1.084-.254-1.656 0-.87.128-1.769.693-2.484.579-.733 1.494-1.124 2.724-1.261 1.206-.134 2.262.034 2.944.765.05.053.096.108.139.165.044-.057.094-.112.143-.165.682-.731 1.738-.899 2.944-.765 1.23.137 2.145.528 2.724 1.261.566.715.693 1.614.693 2.484 0 .572-.053 1.148-.254 1.656.066.228.098.429.126.612.012.076.024.148.037.218.924.385 1.522 1.471 1.591 2.095v1.872c0 .766-3.351 3.795-8.002 3.795Zm0-1.485c2.28 0 4.584-1.11 5.002-1.433V7.862l-.023-.116c-.49.21-1.075.291-1.727.291-1.146 0-2.059-.327-2.71-.991A3.222 3.222 0 0 1 8 6.303a3.24 3.24 0 0 1-.544.743c-.65.664-1.563.991-2.71.991-.652 0-1.236-.081-1.727-.291l-.023.116v4.255c.419.323 2.722 1.433 5.002 1.433ZM6.762 2.83c-.193-.206-.637-.413-1.682-.297-1.019.113-1.479.404-1.713.7-.247.312-.369.789-.369 1.554 0 .793.129 1.171.308 1.371.162.181.519.379 1.442.379.853 0 1.339-.235 1.638-.54.315-.322.527-.827.617-1.553.117-.935-.037-1.395-.241-1.614Zm4.155-.297c-1.044-.116-1.488.091-1.681.297-.204.219-.359.679-.242 1.614.091.726.303 1.231.618 1.553.299.305.784.54 1.638.54.922 0 1.28-.198 1.442-.379.179-.2.308-.578.308-1.371 0-.765-.123-1.242-.37-1.554-.233-.296-.693-.587-1.713-.7Z"></path><path d="M6.25 9.037a.75.75 0 0 1 .75.75v1.501a.75.75 0 0 1-1.5 0V9.787a.75.75 0 0 1 .75-.75Zm4.25.75v1.501a.75.75 0 0 1-1.5 0V9.787a.75.75 0 0 1 1.5 0Z"></path>
</svg>
</button><tool-tip id="tooltip-174d1430-685d-4056-8f68-f74972a17ef2" for="copilot-chat-header-button" popover="manual" data-direction="s" data-type="label" data-view-component="true" class="sr-only position-absolute">Chat with Copilot</tool-tip>

    <template data-target="react-partial-anchor.template">
      <script crossorigin="anonymous" defer="defer" type="application/javascript" src="https://github.githubassets.com/assets/vendors-node_modules_react-relay_index_js-3e4c69718bad.js"></script>
<script crossorigin="anonymous" defer="defer" type="application/javascript" src="https://github.githubassets.com/assets/vendors-node_modules_tanstack_query-core_build_modern_queryObserver_js-node_modules_tanstack_-defd52-843b41414e0e.js"></script>
<script crossorigin="anonymous" defer="defer" type="application/javascript" src="https://github.githubassets.com/assets/vendors-node_modules_remark-gfm_lib_index_js-node_modules_remark-parse_lib_index_js-node_modu-44d0fc-3771aaaad894.js"></script>
<script crossorigin="anonymous" defer="defer" type="application/javascript" src="https://github.githubassets.com/assets/vendors-node_modules_tanstack_react-query_build_modern_useQuery_js-node_modules_highlight_js_-3bd41b-c8999f0fc2d0.js"></script>
<script crossorigin="anonymous" defer="defer" type="application/javascript" src="https://github.githubassets.com/assets/vendors-node_modules_react-markdown_lib_index_js-2816acae350e.js"></script>
<script crossorigin="anonymous" defer="defer" type="application/javascript" src="https://github.githubassets.com/assets/vendors-node_modules_github_mini-throttle_dist_decorators_js-node_modules_accname_dist_access-1b81f7-92668ac01abd.js"></script>
<script crossorigin="anonymous" defer="defer" type="application/javascript" src="https://github.githubassets.com/assets/vendors-node_modules_hast-util-find-and-replace_lib_index_js-node_modules_hastscript_lib_inde-8cd5e2-6beda58999d1.js"></script>
<script crossorigin="anonymous" defer="defer" type="application/javascript" src="https://github.githubassets.com/assets/vendors-node_modules_github_combobox-nav_dist_index_js-node_modules_github_hotkey_dist_index_-cabcbb-bf4a9a9b0aa1.js"></script>
<script crossorigin="anonymous" defer="defer" type="application/javascript" src="https://github.githubassets.com/assets/ui_packages_item-picker_constants_labels_ts-ui_packages_item-picker_constants_values_ts-ui_pa-163a9a-c20565dec94d.js"></script>
<script crossorigin="anonymous" defer="defer" type="application/javascript" src="https://github.githubassets.com/assets/ui_packages_item-picker_components_RepositoryPicker_tsx-3840f58896cc.js"></script>
<script crossorigin="anonymous" defer="defer" type="application/javascript" src="https://github.githubassets.com/assets/ui_packages_copilot-chat_utils_copilot-local-storage_ts-ui_packages_hydro-analytics_hydro-ana-74ad7c-34919430e835.js"></script>
<script crossorigin="anonymous" defer="defer" type="application/javascript" src="https://github.githubassets.com/assets/ui_packages_copilot-chat_utils_CopilotChatContext_tsx-ebf2971c0a57.js"></script>
<script crossorigin="anonymous" defer="defer" type="application/javascript" src="https://github.githubassets.com/assets/ui_packages_test-id-props_test-id-props_ts-ui_packages_copilot-markdown_MarkdownRenderer_tsx-1724719d55e9.js"></script>
<script crossorigin="anonymous" defer="defer" type="application/javascript" src="https://github.githubassets.com/assets/copilot-chat-c32c57009101.js"></script>
<link crossorigin="anonymous" media="all" rel="stylesheet" href="https://github.githubassets.com/assets/primer-react.62102b3a56146f8b8424.module.css" />
<link crossorigin="anonymous" media="all" rel="stylesheet" href="https://github.githubassets.com/assets/copilot-chat.eba7f074bf9b78d48464.module.css" />
      <link crossorigin="anonymous" media="all" rel="stylesheet" href="https://github.githubassets.com/assets/copilot-markdown-rendering-f6845e8f5d6b.css" />
      <include-fragment src="/github-copilot/chat?skip_anchor=true"></include-fragment>
    </template>
  </react-partial-anchor>
  <react-partial-anchor>
    <button id="global-copilot-menu-button" data-target="react-partial-anchor.anchor" aria-expanded="false" aria-labelledby="tooltip-5715d408-27cf-4871-8727-f0ca5addf9d6" type="button" data-view-component="true" class="Button Button--iconOnly Button--secondary Button--medium AppHeader-button AppHeader-buttonRight">  <svg aria-hidden="true" height="16" viewBox="0 0 16 16" version="1.1" width="16" data-view-component="true" class="octicon octicon-triangle-down Button-visual">
    <path d="m4.427 7.427 3.396 3.396a.25.25 0 0 0 .354 0l3.396-3.396A.25.25 0 0 0 11.396 7H4.604a.25.25 0 0 0-.177.427Z"></path>
</svg>
</button><tool-tip id="tooltip-5715d408-27cf-4871-8727-f0ca5addf9d6" for="global-copilot-menu-button" popover="manual" data-direction="s" data-type="label" data-view-component="true" class="sr-only position-absolute">Open Copilot…</tool-tip>

    <template data-target="react-partial-anchor.template">
      <script crossorigin="anonymous" defer="defer" type="application/javascript" src="https://github.githubassets.com/assets/global-copilot-menu-4f904fc45f80.js"></script>
<link crossorigin="anonymous" media="all" rel="stylesheet" href="https://github.githubassets.com/assets/primer-react.62102b3a56146f8b8424.module.css" />

<react-partial
  partial-name="global-copilot-menu"
  data-ssr="false"
  data-attempted-ssr="false"
>
  
  <script type="application/json" data-target="react-partial.embeddedData">{"props":{}}</script>
  <div data-target="react-partial.reactRoot"></div>
</react-partial>

    </template>
  </react-partial-anchor>
</div>


        <div class="AppHeader-actions position-relative">
             <react-partial-anchor>
      <button id="global-create-menu-anchor" aria-label="Create something new" data-target="react-partial-anchor.anchor" type="button" disabled="disabled" data-view-component="true" class="AppHeader-button global-create-button cursor-wait Button--secondary Button--medium Button width-auto color-fg-muted">  <span class="Button-content">
      <span class="Button-visual Button-leadingVisual">
        <svg aria-hidden="true" height="16" viewBox="0 0 16 16" version="1.1" width="16" data-view-component="true" class="octicon octicon-plus">
    <path d="M7.75 2a.75.75 0 0 1 .75.75V7h4.25a.75.75 0 0 1 0 1.5H8.5v4.25a.75.75 0 0 1-1.5 0V8.5H2.75a.75.75 0 0 1 0-1.5H7V2.75A.75.75 0 0 1 7.75 2Z"></path>
</svg>
      </span>
    <span class="Button-label"><svg aria-hidden="true" height="16" viewBox="0 0 16 16" version="1.1" width="16" data-view-component="true" class="octicon octicon-triangle-down">
    <path d="m4.427 7.427 3.396 3.396a.25.25 0 0 0 .354 0l3.396-3.396A.25.25 0 0 0 11.396 7H4.604a.25.25 0 0 0-.177.427Z"></path>
</svg></span>
  </span>
</button><tool-tip id="tooltip-d08be8c9-8462-4dc6-a701-de49c000425e" for="global-create-menu-anchor" popover="manual" data-direction="s" data-type="description" data-view-component="true" class="sr-only position-absolute">Create new...</tool-tip>

      <template data-target="react-partial-anchor.template">
        <script crossorigin="anonymous" defer="defer" type="application/javascript" src="https://github.githubassets.com/assets/ui_packages_promise-with-resolvers-polyfill_promise-with-resolvers-polyfill_ts-ui_packages_re-8d43b0-e650bd687fbc.js"></script>
<script crossorigin="anonymous" defer="defer" type="application/javascript" src="https://github.githubassets.com/assets/global-create-menu-7510a0ee7657.js"></script>
<link crossorigin="anonymous" media="all" rel="stylesheet" href="https://github.githubassets.com/assets/primer-react.62102b3a56146f8b8424.module.css" />

<react-partial
  partial-name="global-create-menu"
  data-ssr="false"
  data-attempted-ssr="false"
>
  
  <script type="application/json" data-target="react-partial.embeddedData">{"props":{"createRepo":true,"importRepo":true,"codespaces":true,"spark":false,"gist":true,"createOrg":true,"createProject":false,"createProjectUrl":"/tsonpham?tab=projects","createLegacyProject":false,"createIssue":false,"org":null,"owner":"tsonpham","repo":"PCodaAutocorrelation"}}</script>
  <div data-target="react-partial.reactRoot"></div>
</react-partial>

      </template>
    </react-partial-anchor>


          <a href="/issues" data-analytics-event="{&quot;category&quot;:&quot;Global navigation&quot;,&quot;action&quot;:&quot;ISSUES_HEADER&quot;,&quot;label&quot;:null}" id="icon-button-6b2cd4b3-7c68-46b7-8c64-3578f4cac705" aria-labelledby="tooltip-4c244465-1195-4fb8-b9c7-3fc95efb7bb9" data-view-component="true" class="Button Button--iconOnly Button--secondary Button--medium AppHeader-button color-fg-muted">  <svg aria-hidden="true" height="16" viewBox="0 0 16 16" version="1.1" width="16" data-view-component="true" class="octicon octicon-issue-opened Button-visual">
    <path d="M8 9.5a1.5 1.5 0 1 0 0-3 1.5 1.5 0 0 0 0 3Z"></path><path d="M8 0a8 8 0 1 1 0 16A8 8 0 0 1 8 0ZM1.5 8a6.5 6.5 0 1 0 13 0 6.5 6.5 0 0 0-13 0Z"></path>
</svg>
</a><tool-tip id="tooltip-4c244465-1195-4fb8-b9c7-3fc95efb7bb9" for="icon-button-6b2cd4b3-7c68-46b7-8c64-3578f4cac705" popover="manual" data-direction="s" data-type="label" data-view-component="true" class="sr-only position-absolute">Your issues</tool-tip>

          <a href="/pulls" data-analytics-event="{&quot;category&quot;:&quot;Global navigation&quot;,&quot;action&quot;:&quot;PULL_REQUESTS_HEADER&quot;,&quot;label&quot;:null}" id="icon-button-9bb79e89-34d1-46d2-82be-d38143b8b31d" aria-labelledby="tooltip-7667e516-2504-4817-a70f-b4607ebc42c9" data-view-component="true" class="Button Button--iconOnly Button--secondary Button--medium AppHeader-button color-fg-muted">  <svg aria-hidden="true" height="16" viewBox="0 0 16 16" version="1.1" width="16" data-view-component="true" class="octicon octicon-git-pull-request Button-visual">
    <path d="M1.5 3.25a2.25 2.25 0 1 1 3 2.122v5.256a2.251 2.251 0 1 1-1.5 0V5.372A2.25 2.25 0 0 1 1.5 3.25Zm5.677-.177L9.573.677A.25.25 0 0 1 10 .854V2.5h1A2.5 2.5 0 0 1 13.5 5v5.628a2.251 2.251 0 1 1-1.5 0V5a1 1 0 0 0-1-1h-1v1.646a.25.25 0 0 1-.427.177L7.177 3.427a.25.25 0 0 1 0-.354ZM3.75 2.5a.75.75 0 1 0 0 1.5.75.75 0 0 0 0-1.5Zm0 9.5a.75.75 0 1 0 0 1.5.75.75 0 0 0 0-1.5Zm8.25.75a.75.75 0 1 0 1.5 0 .75.75 0 0 0-1.5 0Z"></path>
</svg>
</a><tool-tip id="tooltip-7667e516-2504-4817-a70f-b4607ebc42c9" for="icon-button-9bb79e89-34d1-46d2-82be-d38143b8b31d" popover="manual" data-direction="s" data-type="label" data-view-component="true" class="sr-only position-absolute">Your pull requests</tool-tip>

        </div>

        <notification-indicator data-channel="eyJjIjoibm90aWZpY2F0aW9uLWNoYW5nZWQ6NTI5MTY3NCIsInQiOjE3NDE4MTk2NzB9--322d9a3d7db9cf24cd290734373377f047e3f4de511f3a284e69a6f0653b1305" data-indicator-mode="none" data-tooltip-global="You have unread notifications" data-tooltip-unavailable="Notifications are unavailable at the moment." data-tooltip-none="You have no unread notifications" data-header-redesign-enabled="true" data-fetch-indicator-src="/notifications/indicator" data-fetch-indicator-enabled="true" data-view-component="true" class="js-socket-channel">
    <a id="AppHeader-notifications-button" href="/notifications" aria-labelledby="notification-indicator-tooltip" data-hotkey="g n" data-target="notification-indicator.link" data-analytics-event="{&quot;category&quot;:&quot;Global navigation&quot;,&quot;action&quot;:&quot;NOTIFICATIONS_HEADER&quot;,&quot;label&quot;:null}" data-view-component="true" class="Button Button--iconOnly Button--secondary Button--medium AppHeader-button  color-fg-muted">  <svg aria-hidden="true" height="16" viewBox="0 0 16 16" version="1.1" width="16" data-view-component="true" class="octicon octicon-inbox Button-visual">
    <path d="M2.8 2.06A1.75 1.75 0 0 1 4.41 1h7.18c.7 0 1.333.417 1.61 1.06l2.74 6.395c.04.093.06.194.06.295v4.5A1.75 1.75 0 0 1 14.25 15H1.75A1.75 1.75 0 0 1 0 13.25v-4.5c0-.101.02-.202.06-.295Zm1.61.44a.25.25 0 0 0-.23.152L1.887 8H4.75a.75.75 0 0 1 .6.3L6.625 10h2.75l1.275-1.7a.75.75 0 0 1 .6-.3h2.863L11.82 2.652a.25.25 0 0 0-.23-.152Zm10.09 7h-2.875l-1.275 1.7a.75.75 0 0 1-.6.3h-3.5a.75.75 0 0 1-.6-.3L4.375 9.5H1.5v3.75c0 .138.112.25.25.25h12.5a.25.25 0 0 0 .25-.25Z"></path>
</svg>
</a>

    <tool-tip id="notification-indicator-tooltip" data-target="notification-indicator.tooltip" for="AppHeader-notifications-button" popover="manual" data-direction="s" data-type="label" data-view-component="true" class="sr-only position-absolute">Notifications</tool-tip>
</notification-indicator>

        <div class="AppHeader-user">
          <deferred-side-panel data-url="/_side-panels/user?repository_id=106248531">
  <include-fragment data-target="deferred-side-panel.fragment">
    <react-partial-anchor
  
>
  <button data-target="react-partial-anchor.anchor" data-login="tsonpham" aria-label="Open user navigation menu" type="button" data-view-component="true" class="cursor-wait Button--invisible Button--medium Button Button--invisible-noVisuals color-bg-transparent p-0">  <span class="Button-content">
    <span class="Button-label"><img src="https://avatars.githubusercontent.com/u/5291674?v=4" alt="" size="32" height="32" width="32" data-view-component="true" class="avatar circle" /></span>
  </span>
</button>
  <template data-target="react-partial-anchor.template">
    <script crossorigin="anonymous" defer="defer" type="application/javascript" src="https://github.githubassets.com/assets/global-user-nav-drawer-487d63bb6986.js"></script>
<link crossorigin="anonymous" media="all" rel="stylesheet" href="https://github.githubassets.com/assets/primer-react.62102b3a56146f8b8424.module.css" />
<link crossorigin="anonymous" media="all" rel="stylesheet" href="https://github.githubassets.com/assets/global-user-nav-drawer.830d6c10c9fea7fc134e.module.css" />

<react-partial
  partial-name="global-user-nav-drawer"
  data-ssr="false"
  data-attempted-ssr="false"
>
  
  <script type="application/json" data-target="react-partial.embeddedData">{"props":{"owner":{"login":"tsonpham","name":"Thanh-Son Pham","avatarUrl":"https://avatars.githubusercontent.com/u/5291674?v=4"},"drawerId":"global-user-nav-drawer","lazyLoadItemDataFetchUrl":"/_side-panels/user.json","canAddAccount":true,"addAccountPath":"/login?add_account=1\u0026return_to=https%3A%2F%2Fgithub.com%2Ftsonpham%2FPCodaAutocorrelation%2Fblob%2Fmaster%2FPcoda_autocorrelation.ipynb","switchAccountPath":"/switch_account","loginAccountPath":"/login?add_account=1","projectsPath":"/tsonpham?tab=projects","gistsUrl":"https://gist.github.com/mine","docsUrl":"https://docs.github.com","yourEnterpriseUrl":null,"enterpriseSettingsUrl":null,"supportUrl":"https://support.github.com","showAccountSwitcher":true,"showCopilot":true,"showEnterprises":true,"showEnterprise":false,"showGists":true,"showOrganizations":true,"showSponsors":true,"showUpgrade":true,"showFeaturesPreviews":true,"showEnterpriseSettings":false,"createMenuProps":{"createRepo":true,"importRepo":true,"codespaces":true,"spark":false,"gist":true,"createOrg":true,"createProject":false,"createProjectUrl":"/tsonpham?tab=projects","createLegacyProject":false,"createIssue":false,"org":null,"owner":"tsonpham","repo":"PCodaAutocorrelation"}}}</script>
  <div data-target="react-partial.reactRoot"></div>
</react-partial>

  </template>
</react-partial-anchor>

  </include-fragment>
</deferred-side-panel>
        </div>

        <div class="position-absolute mt-2">
            
<site-header-logged-in-user-menu>

</site-header-logged-in-user-menu>

        </div>
      </div>
    </div>


    
        <div class="AppHeader-localBar" >
          <nav data-pjax="#js-repo-pjax-container" aria-label="Repository" data-view-component="true" class="js-repo-nav js-sidenav-container-pjax js-responsive-underlinenav overflow-hidden UnderlineNav">

  <ul data-view-component="true" class="UnderlineNav-body list-style-none">
      <li data-view-component="true" class="d-inline-flex">
  <a id="code-tab" href="/tsonpham/PCodaAutocorrelation" data-tab-item="i0code-tab" data-selected-links="repo_source repo_downloads repo_commits repo_releases repo_tags repo_branches repo_packages repo_deployments repo_attestations /tsonpham/PCodaAutocorrelation" data-pjax="#repo-content-pjax-container" data-turbo-frame="repo-content-turbo-frame" data-hotkey="g c" data-analytics-event="{&quot;category&quot;:&quot;Underline navbar&quot;,&quot;action&quot;:&quot;Click tab&quot;,&quot;label&quot;:&quot;Code&quot;,&quot;target&quot;:&quot;UNDERLINE_NAV.TAB&quot;}" data-view-component="true" class="UnderlineNav-item no-wrap js-responsive-underlinenav-item js-selected-navigation-item">
    
              <svg aria-hidden="true" height="16" viewBox="0 0 16 16" version="1.1" width="16" data-view-component="true" class="octicon octicon-code UnderlineNav-octicon d-none d-sm-inline">
    <path d="m11.28 3.22 4.25 4.25a.75.75 0 0 1 0 1.06l-4.25 4.25a.749.749 0 0 1-1.275-.326.749.749 0 0 1 .215-.734L13.94 8l-3.72-3.72a.749.749 0 0 1 .326-1.275.749.749 0 0 1 .734.215Zm-6.56 0a.751.751 0 0 1 1.042.018.751.751 0 0 1 .018 1.042L2.06 8l3.72 3.72a.749.749 0 0 1-.326 1.275.749.749 0 0 1-.734-.215L.47 8.53a.75.75 0 0 1 0-1.06Z"></path>
</svg>
        <span data-content="Code">Code</span>
          <span id="code-repo-tab-count" data-pjax-replace="" data-turbo-replace="" title="Not available" data-view-component="true" class="Counter"></span>


    
</a></li>
      <li data-view-component="true" class="d-inline-flex">
  <a id="issues-tab" href="/tsonpham/PCodaAutocorrelation/issues" data-tab-item="i1issues-tab" data-selected-links="repo_issues repo_labels repo_milestones /tsonpham/PCodaAutocorrelation/issues" data-pjax="#repo-content-pjax-container" data-turbo-frame="repo-content-turbo-frame" data-hotkey="g i" data-analytics-event="{&quot;category&quot;:&quot;Underline navbar&quot;,&quot;action&quot;:&quot;Click tab&quot;,&quot;label&quot;:&quot;Issues&quot;,&quot;target&quot;:&quot;UNDERLINE_NAV.TAB&quot;}" data-view-component="true" class="UnderlineNav-item no-wrap js-responsive-underlinenav-item js-selected-navigation-item">
    
              <svg aria-hidden="true" height="16" viewBox="0 0 16 16" version="1.1" width="16" data-view-component="true" class="octicon octicon-issue-opened UnderlineNav-octicon d-none d-sm-inline">
    <path d="M8 9.5a1.5 1.5 0 1 0 0-3 1.5 1.5 0 0 0 0 3Z"></path><path d="M8 0a8 8 0 1 1 0 16A8 8 0 0 1 8 0ZM1.5 8a6.5 6.5 0 1 0 13 0 6.5 6.5 0 0 0-13 0Z"></path>
</svg>
        <span data-content="Issues">Issues</span>
          <span id="issues-repo-tab-count" data-pjax-replace="" data-turbo-replace="" title="1" data-view-component="true" class="Counter">1</span>


    
</a></li>
      <li data-view-component="true" class="d-inline-flex">
  <a id="pull-requests-tab" href="/tsonpham/PCodaAutocorrelation/pulls" data-tab-item="i2pull-requests-tab" data-selected-links="repo_pulls checks /tsonpham/PCodaAutocorrelation/pulls" data-pjax="#repo-content-pjax-container" data-turbo-frame="repo-content-turbo-frame" data-hotkey="g p" data-analytics-event="{&quot;category&quot;:&quot;Underline navbar&quot;,&quot;action&quot;:&quot;Click tab&quot;,&quot;label&quot;:&quot;Pull requests&quot;,&quot;target&quot;:&quot;UNDERLINE_NAV.TAB&quot;}" data-view-component="true" class="UnderlineNav-item no-wrap js-responsive-underlinenav-item js-selected-navigation-item">
    
              <svg aria-hidden="true" height="16" viewBox="0 0 16 16" version="1.1" width="16" data-view-component="true" class="octicon octicon-git-pull-request UnderlineNav-octicon d-none d-sm-inline">
    <path d="M1.5 3.25a2.25 2.25 0 1 1 3 2.122v5.256a2.251 2.251 0 1 1-1.5 0V5.372A2.25 2.25 0 0 1 1.5 3.25Zm5.677-.177L9.573.677A.25.25 0 0 1 10 .854V2.5h1A2.5 2.5 0 0 1 13.5 5v5.628a2.251 2.251 0 1 1-1.5 0V5a1 1 0 0 0-1-1h-1v1.646a.25.25 0 0 1-.427.177L7.177 3.427a.25.25 0 0 1 0-.354ZM3.75 2.5a.75.75 0 1 0 0 1.5.75.75 0 0 0 0-1.5Zm0 9.5a.75.75 0 1 0 0 1.5.75.75 0 0 0 0-1.5Zm8.25.75a.75.75 0 1 0 1.5 0 .75.75 0 0 0-1.5 0Z"></path>
</svg>
        <span data-content="Pull requests">Pull requests</span>
          <span id="pull-requests-repo-tab-count" data-pjax-replace="" data-turbo-replace="" title="0" hidden="hidden" data-view-component="true" class="Counter">0</span>


    
</a></li>
      <li data-view-component="true" class="d-inline-flex">
  <a id="actions-tab" href="/tsonpham/PCodaAutocorrelation/actions" data-tab-item="i3actions-tab" data-selected-links="repo_actions /tsonpham/PCodaAutocorrelation/actions" data-pjax="#repo-content-pjax-container" data-turbo-frame="repo-content-turbo-frame" data-hotkey="g a" data-analytics-event="{&quot;category&quot;:&quot;Underline navbar&quot;,&quot;action&quot;:&quot;Click tab&quot;,&quot;label&quot;:&quot;Actions&quot;,&quot;target&quot;:&quot;UNDERLINE_NAV.TAB&quot;}" data-view-component="true" class="UnderlineNav-item no-wrap js-responsive-underlinenav-item js-selected-navigation-item">
    
              <svg aria-hidden="true" height="16" viewBox="0 0 16 16" version="1.1" width="16" data-view-component="true" class="octicon octicon-play UnderlineNav-octicon d-none d-sm-inline">
    <path d="M8 0a8 8 0 1 1 0 16A8 8 0 0 1 8 0ZM1.5 8a6.5 6.5 0 1 0 13 0 6.5 6.5 0 0 0-13 0Zm4.879-2.773 4.264 2.559a.25.25 0 0 1 0 .428l-4.264 2.559A.25.25 0 0 1 6 10.559V5.442a.25.25 0 0 1 .379-.215Z"></path>
</svg>
        <span data-content="Actions">Actions</span>
          <span id="actions-repo-tab-count" data-pjax-replace="" data-turbo-replace="" title="Not available" data-view-component="true" class="Counter"></span>


    
</a></li>
      <li data-view-component="true" class="d-inline-flex">
  <a id="projects-tab" href="/tsonpham/PCodaAutocorrelation/projects" data-tab-item="i4projects-tab" data-selected-links="repo_projects new_repo_project repo_project /tsonpham/PCodaAutocorrelation/projects" data-pjax="#repo-content-pjax-container" data-turbo-frame="repo-content-turbo-frame" data-hotkey="g b" data-analytics-event="{&quot;category&quot;:&quot;Underline navbar&quot;,&quot;action&quot;:&quot;Click tab&quot;,&quot;label&quot;:&quot;Projects&quot;,&quot;target&quot;:&quot;UNDERLINE_NAV.TAB&quot;}" data-view-component="true" class="UnderlineNav-item no-wrap js-responsive-underlinenav-item js-selected-navigation-item">
    
              <svg aria-hidden="true" height="16" viewBox="0 0 16 16" version="1.1" width="16" data-view-component="true" class="octicon octicon-table UnderlineNav-octicon d-none d-sm-inline">
    <path d="M0 1.75C0 .784.784 0 1.75 0h12.5C15.216 0 16 .784 16 1.75v12.5A1.75 1.75 0 0 1 14.25 16H1.75A1.75 1.75 0 0 1 0 14.25ZM6.5 6.5v8h7.75a.25.25 0 0 0 .25-.25V6.5Zm8-1.5V1.75a.25.25 0 0 0-.25-.25H6.5V5Zm-13 1.5v7.75c0 .138.112.25.25.25H5v-8ZM5 5V1.5H1.75a.25.25 0 0 0-.25.25V5Z"></path>
</svg>
        <span data-content="Projects">Projects</span>
          <span id="projects-repo-tab-count" data-pjax-replace="" data-turbo-replace="" title="0" hidden="hidden" data-view-component="true" class="Counter">0</span>


    
</a></li>
      <li data-view-component="true" class="d-inline-flex">
  <a id="security-tab" href="/tsonpham/PCodaAutocorrelation/security" data-tab-item="i5security-tab" data-selected-links="security overview alerts policy token_scanning code_scanning /tsonpham/PCodaAutocorrelation/security" data-pjax="#repo-content-pjax-container" data-turbo-frame="repo-content-turbo-frame" data-hotkey="g s" data-analytics-event="{&quot;category&quot;:&quot;Underline navbar&quot;,&quot;action&quot;:&quot;Click tab&quot;,&quot;label&quot;:&quot;Security&quot;,&quot;target&quot;:&quot;UNDERLINE_NAV.TAB&quot;}" data-view-component="true" class="UnderlineNav-item no-wrap js-responsive-underlinenav-item js-selected-navigation-item">
    
              <svg aria-hidden="true" height="16" viewBox="0 0 16 16" version="1.1" width="16" data-view-component="true" class="octicon octicon-shield UnderlineNav-octicon d-none d-sm-inline">
    <path d="M7.467.133a1.748 1.748 0 0 1 1.066 0l5.25 1.68A1.75 1.75 0 0 1 15 3.48V7c0 1.566-.32 3.182-1.303 4.682-.983 1.498-2.585 2.813-5.032 3.855a1.697 1.697 0 0 1-1.33 0c-2.447-1.042-4.049-2.357-5.032-3.855C1.32 10.182 1 8.566 1 7V3.48a1.75 1.75 0 0 1 1.217-1.667Zm.61 1.429a.25.25 0 0 0-.153 0l-5.25 1.68a.25.25 0 0 0-.174.238V7c0 1.358.275 2.666 1.057 3.86.784 1.194 2.121 2.34 4.366 3.297a.196.196 0 0 0 .154 0c2.245-.956 3.582-2.104 4.366-3.298C13.225 9.666 13.5 8.36 13.5 7V3.48a.251.251 0 0 0-.174-.237l-5.25-1.68ZM8.75 4.75v3a.75.75 0 0 1-1.5 0v-3a.75.75 0 0 1 1.5 0ZM9 10.5a1 1 0 1 1-2 0 1 1 0 0 1 2 0Z"></path>
</svg>
        <span data-content="Security">Security</span>
          <include-fragment src="/tsonpham/PCodaAutocorrelation/security/overall-count" accept="text/fragment+html"></include-fragment>

    
</a></li>
      <li data-view-component="true" class="d-inline-flex">
  <a id="insights-tab" href="/tsonpham/PCodaAutocorrelation/pulse" data-tab-item="i6insights-tab" data-selected-links="repo_graphs repo_contributors dependency_graph dependabot_updates pulse people community /tsonpham/PCodaAutocorrelation/pulse" data-pjax="#repo-content-pjax-container" data-turbo-frame="repo-content-turbo-frame" data-analytics-event="{&quot;category&quot;:&quot;Underline navbar&quot;,&quot;action&quot;:&quot;Click tab&quot;,&quot;label&quot;:&quot;Insights&quot;,&quot;target&quot;:&quot;UNDERLINE_NAV.TAB&quot;}" data-view-component="true" class="UnderlineNav-item no-wrap js-responsive-underlinenav-item js-selected-navigation-item">
    
              <svg aria-hidden="true" height="16" viewBox="0 0 16 16" version="1.1" width="16" data-view-component="true" class="octicon octicon-graph UnderlineNav-octicon d-none d-sm-inline">
    <path d="M1.5 1.75V13.5h13.75a.75.75 0 0 1 0 1.5H.75a.75.75 0 0 1-.75-.75V1.75a.75.75 0 0 1 1.5 0Zm14.28 2.53-5.25 5.25a.75.75 0 0 1-1.06 0L7 7.06 4.28 9.78a.751.751 0 0 1-1.042-.018.751.751 0 0 1-.018-1.042l3.25-3.25a.75.75 0 0 1 1.06 0L10 7.94l4.72-4.72a.751.751 0 0 1 1.042.018.751.751 0 0 1 .018 1.042Z"></path>
</svg>
        <span data-content="Insights">Insights</span>
          <span id="insights-repo-tab-count" data-pjax-replace="" data-turbo-replace="" title="Not available" data-view-component="true" class="Counter"></span>


    
</a></li>
      <li data-view-component="true" class="d-inline-flex">
  <a id="settings-tab" href="/tsonpham/PCodaAutocorrelation/settings" data-tab-item="i7settings-tab" data-selected-links="code_review_limits codespaces_repository_settings collaborators custom_tabs hooks integration_installations interaction_limits issue_template_editor key_links_settings notifications repo_announcements repo_branch_settings repo_custom_properties repo_keys_settings repo_pages_settings repo_protected_tags_settings repo_rule_insights repo_rules_bypass_requests repo_rulesets repo_settings_copilot_coding_guidelines repo_settings_copilot_content_exclusion repo_settings reported_content repository_actions_settings_add_new_runner repository_actions_settings_general repository_actions_settings_runner_details repository_actions_settings_runners repository_actions_settings repository_environments role_details secrets_settings_actions secrets_settings_codespaces secrets_settings_dependabot secrets security_analysis security_products /tsonpham/PCodaAutocorrelation/settings" data-pjax="#repo-content-pjax-container" data-turbo-frame="repo-content-turbo-frame" data-analytics-event="{&quot;category&quot;:&quot;Underline navbar&quot;,&quot;action&quot;:&quot;Click tab&quot;,&quot;label&quot;:&quot;Settings&quot;,&quot;target&quot;:&quot;UNDERLINE_NAV.TAB&quot;}" data-view-component="true" class="UnderlineNav-item no-wrap js-responsive-underlinenav-item js-selected-navigation-item">
    
              <svg aria-hidden="true" height="16" viewBox="0 0 16 16" version="1.1" width="16" data-view-component="true" class="octicon octicon-gear UnderlineNav-octicon d-none d-sm-inline">
    <path d="M8 0a8.2 8.2 0 0 1 .701.031C9.444.095 9.99.645 10.16 1.29l.288 1.107c.018.066.079.158.212.224.231.114.454.243.668.386.123.082.233.09.299.071l1.103-.303c.644-.176 1.392.021 1.82.63.27.385.506.792.704 1.218.315.675.111 1.422-.364 1.891l-.814.806c-.049.048-.098.147-.088.294.016.257.016.515 0 .772-.01.147.038.246.088.294l.814.806c.475.469.679 1.216.364 1.891a7.977 7.977 0 0 1-.704 1.217c-.428.61-1.176.807-1.82.63l-1.102-.302c-.067-.019-.177-.011-.3.071a5.909 5.909 0 0 1-.668.386c-.133.066-.194.158-.211.224l-.29 1.106c-.168.646-.715 1.196-1.458 1.26a8.006 8.006 0 0 1-1.402 0c-.743-.064-1.289-.614-1.458-1.26l-.289-1.106c-.018-.066-.079-.158-.212-.224a5.738 5.738 0 0 1-.668-.386c-.123-.082-.233-.09-.299-.071l-1.103.303c-.644.176-1.392-.021-1.82-.63a8.12 8.12 0 0 1-.704-1.218c-.315-.675-.111-1.422.363-1.891l.815-.806c.05-.048.098-.147.088-.294a6.214 6.214 0 0 1 0-.772c.01-.147-.038-.246-.088-.294l-.815-.806C.635 6.045.431 5.298.746 4.623a7.92 7.92 0 0 1 .704-1.217c.428-.61 1.176-.807 1.82-.63l1.102.302c.067.019.177.011.3-.071.214-.143.437-.272.668-.386.133-.066.194-.158.211-.224l.29-1.106C6.009.645 6.556.095 7.299.03 7.53.01 7.764 0 8 0Zm-.571 1.525c-.036.003-.108.036-.137.146l-.289 1.105c-.147.561-.549.967-.998 1.189-.173.086-.34.183-.5.29-.417.278-.97.423-1.529.27l-1.103-.303c-.109-.03-.175.016-.195.045-.22.312-.412.644-.573.99-.014.031-.021.11.059.19l.815.806c.411.406.562.957.53 1.456a4.709 4.709 0 0 0 0 .582c.032.499-.119 1.05-.53 1.456l-.815.806c-.081.08-.073.159-.059.19.162.346.353.677.573.989.02.03.085.076.195.046l1.102-.303c.56-.153 1.113-.008 1.53.27.161.107.328.204.501.29.447.222.85.629.997 1.189l.289 1.105c.029.109.101.143.137.146a6.6 6.6 0 0 0 1.142 0c.036-.003.108-.036.137-.146l.289-1.105c.147-.561.549-.967.998-1.189.173-.086.34-.183.5-.29.417-.278.97-.423 1.529-.27l1.103.303c.109.029.175-.016.195-.045.22-.313.411-.644.573-.99.014-.031.021-.11-.059-.19l-.815-.806c-.411-.406-.562-.957-.53-1.456a4.709 4.709 0 0 0 0-.582c-.032-.499.119-1.05.53-1.456l.815-.806c.081-.08.073-.159.059-.19a6.464 6.464 0 0 0-.573-.989c-.02-.03-.085-.076-.195-.046l-1.102.303c-.56.153-1.113.008-1.53-.27a4.44 4.44 0 0 0-.501-.29c-.447-.222-.85-.629-.997-1.189l-.289-1.105c-.029-.11-.101-.143-.137-.146a6.6 6.6 0 0 0-1.142 0ZM11 8a3 3 0 1 1-6 0 3 3 0 0 1 6 0ZM9.5 8a1.5 1.5 0 1 0-3.001.001A1.5 1.5 0 0 0 9.5 8Z"></path>
</svg>
        <span data-content="Settings">Settings</span>
          <span id="settings-repo-tab-count" data-pjax-replace="" data-turbo-replace="" title="Not available" data-view-component="true" class="Counter"></span>


    
</a></li>
</ul>
    <div style="visibility:hidden;" data-view-component="true" class="UnderlineNav-actions js-responsive-underlinenav-overflow position-absolute pr-3 pr-md-4 pr-lg-5 right-0">      <action-menu data-select-variant="none" data-view-component="true">
  <focus-group direction="vertical" mnemonics retain>
    <button id="action-menu-5ae04ce1-4dd8-4de9-998a-5daf8ea99959-button" popovertarget="action-menu-5ae04ce1-4dd8-4de9-998a-5daf8ea99959-overlay" aria-controls="action-menu-5ae04ce1-4dd8-4de9-998a-5daf8ea99959-list" aria-haspopup="true" aria-labelledby="tooltip-451be08f-f68a-42b0-aec1-c128f9fa41ce" type="button" data-view-component="true" class="Button Button--iconOnly Button--secondary Button--medium UnderlineNav-item">  <svg aria-hidden="true" height="16" viewBox="0 0 16 16" version="1.1" width="16" data-view-component="true" class="octicon octicon-kebab-horizontal Button-visual">
    <path d="M8 9a1.5 1.5 0 1 0 0-3 1.5 1.5 0 0 0 0 3ZM1.5 9a1.5 1.5 0 1 0 0-3 1.5 1.5 0 0 0 0 3Zm13 0a1.5 1.5 0 1 0 0-3 1.5 1.5 0 0 0 0 3Z"></path>
</svg>
</button><tool-tip id="tooltip-451be08f-f68a-42b0-aec1-c128f9fa41ce" for="action-menu-5ae04ce1-4dd8-4de9-998a-5daf8ea99959-button" popover="manual" data-direction="s" data-type="label" data-view-component="true" class="sr-only position-absolute">Additional navigation options</tool-tip>


<anchored-position data-target="action-menu.overlay" id="action-menu-5ae04ce1-4dd8-4de9-998a-5daf8ea99959-overlay" anchor="action-menu-5ae04ce1-4dd8-4de9-998a-5daf8ea99959-button" align="start" side="outside-bottom" anchor-offset="normal" popover="auto" data-view-component="true">
  <div data-view-component="true" class="Overlay Overlay--size-auto">
    
      <div data-view-component="true" class="Overlay-body Overlay-body--paddingNone">          <action-list>
  <div data-view-component="true">
    <ul aria-labelledby="action-menu-5ae04ce1-4dd8-4de9-998a-5daf8ea99959-button" id="action-menu-5ae04ce1-4dd8-4de9-998a-5daf8ea99959-list" role="menu" data-view-component="true" class="ActionListWrap--inset ActionListWrap">
        <li hidden="hidden" data-menu-item="i0code-tab" data-targets="action-list.items" role="none" data-view-component="true" class="ActionListItem">
    
    
    <a tabindex="-1" id="item-213536e9-5c45-4216-8f71-197709e8c63d" href="/tsonpham/PCodaAutocorrelation" role="menuitem" data-view-component="true" class="ActionListContent ActionListContent--visual16">
        <span class="ActionListItem-visual ActionListItem-visual--leading">
          <svg aria-hidden="true" height="16" viewBox="0 0 16 16" version="1.1" width="16" data-view-component="true" class="octicon octicon-code">
    <path d="m11.28 3.22 4.25 4.25a.75.75 0 0 1 0 1.06l-4.25 4.25a.749.749 0 0 1-1.275-.326.749.749 0 0 1 .215-.734L13.94 8l-3.72-3.72a.749.749 0 0 1 .326-1.275.749.749 0 0 1 .734.215Zm-6.56 0a.751.751 0 0 1 1.042.018.751.751 0 0 1 .018 1.042L2.06 8l3.72 3.72a.749.749 0 0 1-.326 1.275.749.749 0 0 1-.734-.215L.47 8.53a.75.75 0 0 1 0-1.06Z"></path>
</svg>
        </span>
      
        <span data-view-component="true" class="ActionListItem-label">
          Code
</span>      
</a>
  
</li>
        <li hidden="hidden" data-menu-item="i1issues-tab" data-targets="action-list.items" role="none" data-view-component="true" class="ActionListItem">
    
    
    <a tabindex="-1" id="item-b74d0dec-7691-4a77-88fe-8e1a08cdb60d" href="/tsonpham/PCodaAutocorrelation/issues" role="menuitem" data-view-component="true" class="ActionListContent ActionListContent--visual16">
        <span class="ActionListItem-visual ActionListItem-visual--leading">
          <svg aria-hidden="true" height="16" viewBox="0 0 16 16" version="1.1" width="16" data-view-component="true" class="octicon octicon-issue-opened">
    <path d="M8 9.5a1.5 1.5 0 1 0 0-3 1.5 1.5 0 0 0 0 3Z"></path><path d="M8 0a8 8 0 1 1 0 16A8 8 0 0 1 8 0ZM1.5 8a6.5 6.5 0 1 0 13 0 6.5 6.5 0 0 0-13 0Z"></path>
</svg>
        </span>
      
        <span data-view-component="true" class="ActionListItem-label">
          Issues
</span>      
</a>
  
</li>
        <li hidden="hidden" data-menu-item="i2pull-requests-tab" data-targets="action-list.items" role="none" data-view-component="true" class="ActionListItem">
    
    
    <a tabindex="-1" id="item-bf4a35dc-bd23-4e06-8684-6ad10be9f346" href="/tsonpham/PCodaAutocorrelation/pulls" role="menuitem" data-view-component="true" class="ActionListContent ActionListContent--visual16">
        <span class="ActionListItem-visual ActionListItem-visual--leading">
          <svg aria-hidden="true" height="16" viewBox="0 0 16 16" version="1.1" width="16" data-view-component="true" class="octicon octicon-git-pull-request">
    <path d="M1.5 3.25a2.25 2.25 0 1 1 3 2.122v5.256a2.251 2.251 0 1 1-1.5 0V5.372A2.25 2.25 0 0 1 1.5 3.25Zm5.677-.177L9.573.677A.25.25 0 0 1 10 .854V2.5h1A2.5 2.5 0 0 1 13.5 5v5.628a2.251 2.251 0 1 1-1.5 0V5a1 1 0 0 0-1-1h-1v1.646a.25.25 0 0 1-.427.177L7.177 3.427a.25.25 0 0 1 0-.354ZM3.75 2.5a.75.75 0 1 0 0 1.5.75.75 0 0 0 0-1.5Zm0 9.5a.75.75 0 1 0 0 1.5.75.75 0 0 0 0-1.5Zm8.25.75a.75.75 0 1 0 1.5 0 .75.75 0 0 0-1.5 0Z"></path>
</svg>
        </span>
      
        <span data-view-component="true" class="ActionListItem-label">
          Pull requests
</span>      
</a>
  
</li>
        <li hidden="hidden" data-menu-item="i3actions-tab" data-targets="action-list.items" role="none" data-view-component="true" class="ActionListItem">
    
    
    <a tabindex="-1" id="item-35e2526b-968b-44d6-8ac1-4e7329b2a2cf" href="/tsonpham/PCodaAutocorrelation/actions" role="menuitem" data-view-component="true" class="ActionListContent ActionListContent--visual16">
        <span class="ActionListItem-visual ActionListItem-visual--leading">
          <svg aria-hidden="true" height="16" viewBox="0 0 16 16" version="1.1" width="16" data-view-component="true" class="octicon octicon-play">
    <path d="M8 0a8 8 0 1 1 0 16A8 8 0 0 1 8 0ZM1.5 8a6.5 6.5 0 1 0 13 0 6.5 6.5 0 0 0-13 0Zm4.879-2.773 4.264 2.559a.25.25 0 0 1 0 .428l-4.264 2.559A.25.25 0 0 1 6 10.559V5.442a.25.25 0 0 1 .379-.215Z"></path>
</svg>
        </span>
      
        <span data-view-component="true" class="ActionListItem-label">
          Actions
</span>      
</a>
  
</li>
        <li hidden="hidden" data-menu-item="i4projects-tab" data-targets="action-list.items" role="none" data-view-component="true" class="ActionListItem">
    
    
    <a tabindex="-1" id="item-69995ea3-9045-4427-8f27-b7f40194f8ad" href="/tsonpham/PCodaAutocorrelation/projects" role="menuitem" data-view-component="true" class="ActionListContent ActionListContent--visual16">
        <span class="ActionListItem-visual ActionListItem-visual--leading">
          <svg aria-hidden="true" height="16" viewBox="0 0 16 16" version="1.1" width="16" data-view-component="true" class="octicon octicon-table">
    <path d="M0 1.75C0 .784.784 0 1.75 0h12.5C15.216 0 16 .784 16 1.75v12.5A1.75 1.75 0 0 1 14.25 16H1.75A1.75 1.75 0 0 1 0 14.25ZM6.5 6.5v8h7.75a.25.25 0 0 0 .25-.25V6.5Zm8-1.5V1.75a.25.25 0 0 0-.25-.25H6.5V5Zm-13 1.5v7.75c0 .138.112.25.25.25H5v-8ZM5 5V1.5H1.75a.25.25 0 0 0-.25.25V5Z"></path>
</svg>
        </span>
      
        <span data-view-component="true" class="ActionListItem-label">
          Projects
</span>      
</a>
  
</li>
        <li hidden="hidden" data-menu-item="i5security-tab" data-targets="action-list.items" role="none" data-view-component="true" class="ActionListItem">
    
    
    <a tabindex="-1" id="item-29d07e9f-8870-4cc9-ab51-e2416ab84069" href="/tsonpham/PCodaAutocorrelation/security" role="menuitem" data-view-component="true" class="ActionListContent ActionListContent--visual16">
        <span class="ActionListItem-visual ActionListItem-visual--leading">
          <svg aria-hidden="true" height="16" viewBox="0 0 16 16" version="1.1" width="16" data-view-component="true" class="octicon octicon-shield">
    <path d="M7.467.133a1.748 1.748 0 0 1 1.066 0l5.25 1.68A1.75 1.75 0 0 1 15 3.48V7c0 1.566-.32 3.182-1.303 4.682-.983 1.498-2.585 2.813-5.032 3.855a1.697 1.697 0 0 1-1.33 0c-2.447-1.042-4.049-2.357-5.032-3.855C1.32 10.182 1 8.566 1 7V3.48a1.75 1.75 0 0 1 1.217-1.667Zm.61 1.429a.25.25 0 0 0-.153 0l-5.25 1.68a.25.25 0 0 0-.174.238V7c0 1.358.275 2.666 1.057 3.86.784 1.194 2.121 2.34 4.366 3.297a.196.196 0 0 0 .154 0c2.245-.956 3.582-2.104 4.366-3.298C13.225 9.666 13.5 8.36 13.5 7V3.48a.251.251 0 0 0-.174-.237l-5.25-1.68ZM8.75 4.75v3a.75.75 0 0 1-1.5 0v-3a.75.75 0 0 1 1.5 0ZM9 10.5a1 1 0 1 1-2 0 1 1 0 0 1 2 0Z"></path>
</svg>
        </span>
      
        <span data-view-component="true" class="ActionListItem-label">
          Security
</span>      
</a>
  
</li>
        <li hidden="hidden" data-menu-item="i6insights-tab" data-targets="action-list.items" role="none" data-view-component="true" class="ActionListItem">
    
    
    <a tabindex="-1" id="item-e78da65b-9123-493a-a385-59e5705eb5fa" href="/tsonpham/PCodaAutocorrelation/pulse" role="menuitem" data-view-component="true" class="ActionListContent ActionListContent--visual16">
        <span class="ActionListItem-visual ActionListItem-visual--leading">
          <svg aria-hidden="true" height="16" viewBox="0 0 16 16" version="1.1" width="16" data-view-component="true" class="octicon octicon-graph">
    <path d="M1.5 1.75V13.5h13.75a.75.75 0 0 1 0 1.5H.75a.75.75 0 0 1-.75-.75V1.75a.75.75 0 0 1 1.5 0Zm14.28 2.53-5.25 5.25a.75.75 0 0 1-1.06 0L7 7.06 4.28 9.78a.751.751 0 0 1-1.042-.018.751.751 0 0 1-.018-1.042l3.25-3.25a.75.75 0 0 1 1.06 0L10 7.94l4.72-4.72a.751.751 0 0 1 1.042.018.751.751 0 0 1 .018 1.042Z"></path>
</svg>
        </span>
      
        <span data-view-component="true" class="ActionListItem-label">
          Insights
</span>      
</a>
  
</li>
        <li hidden="hidden" data-menu-item="i7settings-tab" data-targets="action-list.items" role="none" data-view-component="true" class="ActionListItem">
    
    
    <a tabindex="-1" id="item-aa274845-4b1e-4ec7-98b5-9a6aa2e83c1c" href="/tsonpham/PCodaAutocorrelation/settings" role="menuitem" data-view-component="true" class="ActionListContent ActionListContent--visual16">
        <span class="ActionListItem-visual ActionListItem-visual--leading">
          <svg aria-hidden="true" height="16" viewBox="0 0 16 16" version="1.1" width="16" data-view-component="true" class="octicon octicon-gear">
    <path d="M8 0a8.2 8.2 0 0 1 .701.031C9.444.095 9.99.645 10.16 1.29l.288 1.107c.018.066.079.158.212.224.231.114.454.243.668.386.123.082.233.09.299.071l1.103-.303c.644-.176 1.392.021 1.82.63.27.385.506.792.704 1.218.315.675.111 1.422-.364 1.891l-.814.806c-.049.048-.098.147-.088.294.016.257.016.515 0 .772-.01.147.038.246.088.294l.814.806c.475.469.679 1.216.364 1.891a7.977 7.977 0 0 1-.704 1.217c-.428.61-1.176.807-1.82.63l-1.102-.302c-.067-.019-.177-.011-.3.071a5.909 5.909 0 0 1-.668.386c-.133.066-.194.158-.211.224l-.29 1.106c-.168.646-.715 1.196-1.458 1.26a8.006 8.006 0 0 1-1.402 0c-.743-.064-1.289-.614-1.458-1.26l-.289-1.106c-.018-.066-.079-.158-.212-.224a5.738 5.738 0 0 1-.668-.386c-.123-.082-.233-.09-.299-.071l-1.103.303c-.644.176-1.392-.021-1.82-.63a8.12 8.12 0 0 1-.704-1.218c-.315-.675-.111-1.422.363-1.891l.815-.806c.05-.048.098-.147.088-.294a6.214 6.214 0 0 1 0-.772c.01-.147-.038-.246-.088-.294l-.815-.806C.635 6.045.431 5.298.746 4.623a7.92 7.92 0 0 1 .704-1.217c.428-.61 1.176-.807 1.82-.63l1.102.302c.067.019.177.011.3-.071.214-.143.437-.272.668-.386.133-.066.194-.158.211-.224l.29-1.106C6.009.645 6.556.095 7.299.03 7.53.01 7.764 0 8 0Zm-.571 1.525c-.036.003-.108.036-.137.146l-.289 1.105c-.147.561-.549.967-.998 1.189-.173.086-.34.183-.5.29-.417.278-.97.423-1.529.27l-1.103-.303c-.109-.03-.175.016-.195.045-.22.312-.412.644-.573.99-.014.031-.021.11.059.19l.815.806c.411.406.562.957.53 1.456a4.709 4.709 0 0 0 0 .582c.032.499-.119 1.05-.53 1.456l-.815.806c-.081.08-.073.159-.059.19.162.346.353.677.573.989.02.03.085.076.195.046l1.102-.303c.56-.153 1.113-.008 1.53.27.161.107.328.204.501.29.447.222.85.629.997 1.189l.289 1.105c.029.109.101.143.137.146a6.6 6.6 0 0 0 1.142 0c.036-.003.108-.036.137-.146l.289-1.105c.147-.561.549-.967.998-1.189.173-.086.34-.183.5-.29.417-.278.97-.423 1.529-.27l1.103.303c.109.029.175-.016.195-.045.22-.313.411-.644.573-.99.014-.031.021-.11-.059-.19l-.815-.806c-.411-.406-.562-.957-.53-1.456a4.709 4.709 0 0 0 0-.582c-.032-.499.119-1.05.53-1.456l.815-.806c.081-.08.073-.159.059-.19a6.464 6.464 0 0 0-.573-.989c-.02-.03-.085-.076-.195-.046l-1.102.303c-.56.153-1.113.008-1.53-.27a4.44 4.44 0 0 0-.501-.29c-.447-.222-.85-.629-.997-1.189l-.289-1.105c-.029-.11-.101-.143-.137-.146a6.6 6.6 0 0 0-1.142 0ZM11 8a3 3 0 1 1-6 0 3 3 0 0 1 6 0ZM9.5 8a1.5 1.5 0 1 0-3.001.001A1.5 1.5 0 0 0 9.5 8Z"></path>
</svg>
        </span>
      
        <span data-view-component="true" class="ActionListItem-label">
          Settings
</span>      
</a>
  
</li>
</ul>    
</div></action-list>


</div>
      
</div></anchored-position>  </focus-group>
</action-menu></div>
</nav>
        </div>
</header>


      <div hidden="hidden" data-view-component="true" class="js-stale-session-flash stale-session-flash flash flash-warn flash-full">
  
        <svg aria-hidden="true" height="16" viewBox="0 0 16 16" version="1.1" width="16" data-view-component="true" class="octicon octicon-alert">
    <path d="M6.457 1.047c.659-1.234 2.427-1.234 3.086 0l6.082 11.378A1.75 1.75 0 0 1 14.082 15H1.918a1.75 1.75 0 0 1-1.543-2.575Zm1.763.707a.25.25 0 0 0-.44 0L1.698 13.132a.25.25 0 0 0 .22.368h12.164a.25.25 0 0 0 .22-.368Zm.53 3.996v2.5a.75.75 0 0 1-1.5 0v-2.5a.75.75 0 0 1 1.5 0ZM9 11a1 1 0 1 1-2 0 1 1 0 0 1 2 0Z"></path>
</svg>
        <span class="js-stale-session-flash-signed-in" hidden>You signed in with another tab or window. <a class="Link--inTextBlock" href="">Reload</a> to refresh your session.</span>
        <span class="js-stale-session-flash-signed-out" hidden>You signed out in another tab or window. <a class="Link--inTextBlock" href="">Reload</a> to refresh your session.</span>
        <span class="js-stale-session-flash-switched" hidden>You switched accounts on another tab or window. <a class="Link--inTextBlock" href="">Reload</a> to refresh your session.</span>

    <button id="icon-button-8af68835-d1f1-45cd-b6c0-3066b4f9a9cc" aria-labelledby="tooltip-604417f4-2048-4a4f-9ef8-6fa90a439222" type="button" data-view-component="true" class="Button Button--iconOnly Button--invisible Button--medium flash-close js-flash-close">  <svg aria-hidden="true" height="16" viewBox="0 0 16 16" version="1.1" width="16" data-view-component="true" class="octicon octicon-x Button-visual">
    <path d="M3.72 3.72a.75.75 0 0 1 1.06 0L8 6.94l3.22-3.22a.749.749 0 0 1 1.275.326.749.749 0 0 1-.215.734L9.06 8l3.22 3.22a.749.749 0 0 1-.326 1.275.749.749 0 0 1-.734-.215L8 9.06l-3.22 3.22a.751.751 0 0 1-1.042-.018.751.751 0 0 1-.018-1.042L6.94 8 3.72 4.78a.75.75 0 0 1 0-1.06Z"></path>
</svg>
</button><tool-tip id="tooltip-604417f4-2048-4a4f-9ef8-6fa90a439222" for="icon-button-8af68835-d1f1-45cd-b6c0-3066b4f9a9cc" popover="manual" data-direction="s" data-type="label" data-view-component="true" class="sr-only position-absolute">Dismiss alert</tool-tip>


  
</div>
          
    </div>

  <div id="start-of-content" class="show-on-focus"></div>








    <div id="js-flash-container" class="flash-container" data-turbo-replace>




  <template class="js-flash-template">
    
<div class="flash flash-full   {{ className }}">
  <div >
    <button autofocus class="flash-close js-flash-close" type="button" aria-label="Dismiss this message">
      <svg aria-hidden="true" height="16" viewBox="0 0 16 16" version="1.1" width="16" data-view-component="true" class="octicon octicon-x">
    <path d="M3.72 3.72a.75.75 0 0 1 1.06 0L8 6.94l3.22-3.22a.749.749 0 0 1 1.275.326.749.749 0 0 1-.215.734L9.06 8l3.22 3.22a.749.749 0 0 1-.326 1.275.749.749 0 0 1-.734-.215L8 9.06l-3.22 3.22a.751.751 0 0 1-1.042-.018.751.751 0 0 1-.018-1.042L6.94 8 3.72 4.78a.75.75 0 0 1 0-1.06Z"></path>
</svg>
    </button>
    <div aria-atomic="true" role="alert" class="js-flash-alert">
      
      <div>{{ message }}</div>

    </div>
  </div>
</div>
  </template>
</div>


    
  <notification-shelf-watcher data-base-url="https://github.com/notifications/beta/shelf" data-channel="eyJjIjoibm90aWZpY2F0aW9uLWNoYW5nZWQ6NTI5MTY3NCIsInQiOjE3NDE4MTk2NzB9--322d9a3d7db9cf24cd290734373377f047e3f4de511f3a284e69a6f0653b1305" data-view-component="true" class="js-socket-channel"></notification-shelf-watcher>
  <div hidden data-initial data-target="notification-shelf-watcher.placeholder"></div>






  <div
    class="application-main "
    data-commit-hovercards-enabled
    data-discussion-hovercards-enabled
    data-issue-and-pr-hovercards-enabled
    data-project-hovercards-enabled
  >
        <div itemscope itemtype="http://schema.org/SoftwareSourceCode" class="">
    <main id="js-repo-pjax-container" >
      
      






    
  <div id="repository-container-header" data-turbo-replace hidden ></div>




<turbo-frame id="repo-content-turbo-frame" target="_top" data-turbo-action="advance" class="">
    <div id="repo-content-pjax-container" class="repository-content " >
      <a href="https://github.dev/" class="d-none js-github-dev-shortcut" data-hotkey=".,Mod+Alt+.">Open in github.dev</a>
  <a href="https://github.dev/" class="d-none js-github-dev-new-tab-shortcut" data-hotkey="Shift+.,Shift+&gt;,&gt;" target="_blank" rel="noopener noreferrer">Open in a new github.dev tab</a>
    <a class="d-none" data-hotkey=",,Mod+Alt+," target="_blank" href="/codespaces/new/tsonpham/PCodaAutocorrelation/tree/master?resume=1">Open in codespace</a>




    
      
    








<react-app
  app-name="react-code-view"
  initial-path="/tsonpham/PCodaAutocorrelation/blob/master/Pcoda_autocorrelation.ipynb"
    style="display: block; min-height: calc(100vh - 64px);"
  data-attempted-ssr="true"
  data-ssr="true"
  data-lazy="false"
  data-alternate="false"
  data-data-router-enabled="false"
>
  
  <script type="application/json" data-target="react-app.embeddedData">{"payload":{"allShortcutsEnabled":true,"fileTree":{"":{"items":[{"name":"ST01","path":"ST01","contentType":"directory"},{"name":".gitignore","path":".gitignore","contentType":"file"},{"name":"Pcoda_autocorrelation.ipynb","path":"Pcoda_autocorrelation.ipynb","contentType":"file"},{"name":"Pcoda_autocorrelation.py","path":"Pcoda_autocorrelation.py","contentType":"file"},{"name":"Pham_Tkalcic_JGR2017.pdf","path":"Pham_Tkalcic_JGR2017.pdf","contentType":"file"},{"name":"Pham_Tkalcic_JGR2018.pdf","path":"Pham_Tkalcic_JGR2018.pdf","contentType":"file"},{"name":"README.md","path":"README.md","contentType":"file"}],"totalCount":7}},"fileTreeProcessingTime":9.043387,"foldersToFetch":[],"repo":{"id":106248531,"defaultBranch":"master","name":"PCodaAutocorrelation","ownerLogin":"tsonpham","currentUserCanPush":true,"isFork":false,"isEmpty":false,"createdAt":"2017-10-09T18:09:59.000+11:00","ownerAvatar":"https://avatars.githubusercontent.com/u/5291674?v=4","public":true,"private":false,"isOrgOwned":false},"codeLineWrapEnabled":false,"symbolsExpanded":true,"treeExpanded":true,"refInfo":{"name":"master","listCacheKey":"v0:1507533001.0","canEdit":true,"refType":"branch","currentOid":"37f8e8df57ce338e89c13a3328e805e564b2ba3e"},"path":"Pcoda_autocorrelation.ipynb","currentUser":{"id":5291674,"login":"tsonpham","userEmail":"thanhson.pham@anu.edu.au"},"blob":{"rawLines":["{"," \"cells\": [","  {","   \"cell_type\": \"markdown\",","   \"metadata\": {},","   \"source\": [","    \"# P wave coda autocorrelation\\n\",","    \"Thanh-Son, Pham (ThanhSon.Pham@anu.edu.au) - RSES, ANU - October, 2017\"","   ]","  },","  {","   \"cell_type\": \"markdown\",","   \"metadata\": {},","   \"source\": [","    \"This note provides the implementation of the *P wave coda autocorrelation* in Python language. We demonstrate the method with data obtained from an ice station ST01 in West Antarctica.\\n\",","    \"\\n\",","    \"For more information, we refer to the following articles:\\n\",","    \"- Phạm T-S. and H. Tkalčić, *On the feasibility and use of teleseismic P-wave coda autocorrelation for mapping shallow seismic discontinuities*, J. Geophys. Res., 122, doi:10.1002/2017JB013975, 2017.\\n\",","    \"- Phạm T.-S. and H. Tkalčić, Antarctic ice properties revealed from teleseismic P wave coda autocorrelation, J. Geophys. Res., 123, doi:10.1029/2018JB016115, 2018.\"","   ]","  },","  {","   \"cell_type\": \"markdown\",","   \"metadata\": {},","   \"source\": [","    \"## Spectral whitening (normalization)\"","   ]","  },","  {","   \"cell_type\": \"markdown\",","   \"metadata\": {},","   \"source\": [","    \"We use an adaptive weighting function to normalize the complex spectrum of the input waveform before computing the autocorrelation function. The spectral whitening is defined in a similar way to the running-absolute-mean normalization [Bensen et al., 2007] in the time domain as\\n\",","    \"\\n\",","    \"\\\\begin{equation}\\n\",","    \"\\\\hat{s}_n = \\\\frac{s_n} {\\\\frac{1}{2N + 1} \\\\sum_{j=n-N}^{n+N} |s_j|}.\\n\",","    \"\\\\end{equation}\\n\",","    \"\\n\",","    \"The number of averaging points $N$ in the denominator is alternatively refered as spectral whitening width $\\\\Delta W = 2 N \\\\Delta \\\\omega$, where $\\\\Delta \\\\omega$ is the discrete frequency step $\\\\Delta \\\\omega = 1/L$ and $L$ is the length of the input time trace. Tuning the whitening width $\\\\Delta W$ may change the performance of the method. We recommend to do experiments with this parameter to find an optimal value for your application.\"","   ]","  },","  {","   \"cell_type\": \"code\",","   \"execution_count\": 1,","   \"metadata\": {","    \"collapsed\": true","   },","   \"outputs\": [],","   \"source\": [","    \"import numpy as np\\n\",","    \"from scipy.signal import fftconvolve, hilbert\\n\",","    \"\\n\",","    \"def smooth_avg(arr, winlen):\\n\",","    \"    \\\"\\\"\\\"\\n\",","    \"    Smoothing a time series by averaging its values in a moving window. This averaging \\n\",","    \"    window operation can be done efficiently with an convolution in the frequency domain.\\n\",","    \"    \\\"\\\"\\\"\\n\",","    \"\\n\",","    \"    window = np.ones(winlen) / (1.0 * winlen)\\n\",","    \"    return fftconvolve(arr, window, 'same')\\n\",","    \"\\n\",","    \"def spectral_whitening(arr, delta, freq_width, returnweight=False):\\n\",","    \"    \\\"\\\"\\\"\\n\",","    \"    Frequency whitening of a time series by balancing its spectrum by smoothed absolute\\n\",","    \"    array of the spectrum.\\n\",","    \"    \\n\",","    \"    arr        : input seismogram\\n\",","    \"    delta      : sampling time step of the input\\n\",","    \"    freq_width : spectral whitening width\\n\",","    \"    returnweith: return the averaging width or not\\n\",","    \"    \\\"\\\"\\\"\\n\",","    \"    npts = len(arr)\\n\",","    \"    carr = np.fft.fftshift(np.fft.fft(arr, 2 * npts))\\n\",","    \"\\n\",","    \"    Nyfreq = 0.5 / delta\\n\",","    \"    spec_step = Nyfreq / npts\\n\",","    \"    if freq_width != None:\\n\",","    \"        winlen = int(0.5 * freq_width / spec_step) * 2 + 1\\n\",","    \"        weight = smooth_avg(np.abs(carr), winlen)\\n\",","    \"        if any(weight \u003c 1e-8): raise Exception('Zero division')\\n\",","    \"        \\n\",","    \"        carr /= weight\\n\",","    \"        carr[weight\u003c1e-8] = 0\\n\",","    \"\\n\",","    \"    if returnweight:\\n\",","    \"        return carr[npts-1:2*npts], weight[npts-1:2*npts]\\n\",","    \"    else:\\n\",","    \"        return carr[npts-1:2*npts]\"","   ]","  },","  {","   \"cell_type\": \"markdown\",","   \"metadata\": {},","   \"source\": [","    \"## Autocorrelation\"","   ]","  },","  {","   \"cell_type\": \"markdown\",","   \"metadata\": {},","   \"source\": [","    \"The autocorrelation of a time trace is the inverse transform of the whitend power spectrum. The only causal part of the autocorrelation trace is retained. We use a cosine taper to the central peak and bandpass in the frequency band 1-5 Hz. \"","   ]","  },","  {","   \"cell_type\": \"code\",","   \"execution_count\": 2,","   \"metadata\": {","    \"collapsed\": true","   },","   \"outputs\": [],","   \"source\": [","    \"def compute_auto(tr, freq_width):\\n\",","    \"    \\\"\\\"\\\"\\n\",","    \"    Computing the autocorrelation function of the whitened trace.\\n\",","    \"    \\n\",","    \"    tr: input data seismogram\\n\",","    \"    freq_width: spectral whitening width\\n\",","    \"    \\\"\\\"\\\"\\n\",","    \"    \\n\",","    \"    ## whitening and autocorrelating\\n\",","    \"    spectrum = spectral_whitening(tr.data, tr.stats.delta, freq_width)\\n\",","    \"    ## autocorrelating\\n\",","    \"    tr.data = np.fft.irfft(np.abs(spectrum)**2)[0:tr.stats.npts]\\n\",","    \"    \\n\",","    \"    # post processing: tapering and filtering\\n\",","    \"    taper_width = 0.5 / (tr.stats.npts * tr.stats.delta)\\n\",","    \"    tr.taper(type='cosine', max_percentage=taper_width)\\n\",","    \"    tr.filter('bandpass', freqmin=1.0, freqmax=5.0, corners=4, zerophase=True)\\n\",","    \"    tr.taper(type='cosine', max_percentage=taper_width)\\n\",","    \"\\n\",","    \"    return tr\"","   ]","  },","  {","   \"cell_type\": \"markdown\",","   \"metadata\": {},","   \"source\": [","    \"## Phase weighted stacking\"","   ]","  },","  {","   \"cell_type\": \"markdown\",","   \"metadata\": {},","   \"source\": [","    \"*Phase-weighted stacking* is a nonlinear stacking technique to sufficiently enhance coherent signals and suppress noise [Schimmel and Paulssen, 1997]. It uses the averaging phase of the input traces to weight the linear stack of the input.\\n\",","    \"\\n\",","    \"The analytical signals of a one-sided autocorrelogram $s_n$ is given by\\n\",","    \"$$\\n\",","    \"S_n(t) = s_n(t) + i H_n(t) = A_n(t) e^{i\\\\Phi_n(t)}\\n\",","    \"$$\\n\",","    \"where $H_n(t)$ is the Hilbert transform of the original trace $s_n(t)$. And, $A_n(t)$, $\\\\Phi_n(t)$ are the amplitude and phase components of the analytic signal. The phase-weighted stack of $N$ input traces is defined as\\n\",","    \"$$\\n\",","    \"g(t) = \\\\frac{1}{N} \\\\sum_{n=1}^N s_n(t) \\\\; \\\\left|\\\\frac{1}{N}\\\\sum_{n=1}^N e^{i\\\\Phi_n(t)}\\\\right|^\\\\eta.\\n\",","    \"$$\\n\",","    \"The order $\\\\eta$ is used to adjust the importance of the phase weighting factor. When $\\\\eta = 0$, the 0th order phase-weighted stack becomes a linear stack.\"","   ]","  },","  {","   \"cell_type\": \"code\",","   \"execution_count\": 3,","   \"metadata\": {","    \"collapsed\": true","   },","   \"outputs\": [],","   \"source\": [","    \"from obspy.core import Trace\\n\",","    \"\\n\",","    \"def data_stack(stream, order):\\n\",","    \"    \\\"\\\"\\\"\\n\",","    \"    Phase weighted stacking\\n\",","    \"    \\n\",","    \"    stream: input stream of one-sided autocorrelograms\\n\",","    \"    order : order of the weight phase\\n\",","    \"    \\\"\\\"\\\"\\n\",","    \"    stack = 0\\n\",","    \"    phase = 0j\\n\",","    \"    \\n\",","    \"    if order == 0:\\n\",","    \"        for acorr in stream:\\n\",","    \"            stack += acorr\\n\",","    \"        stack /= len(stream)\\n\",","    \"        return Trace(header={'npts': len(stack), 'delta': stream[0].stats.delta}, data=stack)\\n\",","    \"    \\n\",","    \"    for acorr in stream:\\n\",","    \"        stack += acorr.data\\n\",","    \"\\n\",","    \"        ## calculate phase\\n\",","    \"        asig = hilbert(acorr.data)\\n\",","    \"        phase += asig / np.abs(asig)\\n\",","    \"\\n\",","    \"    stack /= len(stream)\\n\",","    \"    weight = np.abs(phase / len(stream))\\n\",","    \"\\n\",","    \"    return Trace(header={'npts': len(stack), 'delta': stream[0].stats.delta}, data=stack * weight**order)\"","   ]","  },","  {","   \"cell_type\": \"markdown\",","   \"metadata\": {},","   \"source\": [","    \"## Example: An ice station ST01 in West Antarctica\"","   ]","  },","  {","   \"cell_type\": \"markdown\",","   \"metadata\": {},","   \"source\": [","    \"In the data directory ST01, we store seismogram windows from 5s before to 25 s after the predicted P onset of teleseismic with magnitude 5.5 or above.\\n\",","    \"\\n\",","    \"Please select another time window that suits you application!\\n\",","    \"\\n\",","    \"To run this example here:\\n\",","    \"1. put the data directory ST01 to the same directory of the notebook\\n\",","    \"2. in the control tab choose Cell -\u003e Run All\\n\",","    \"\\n\",","    \"If you wish to use the pure Python code in the command line of your own system. Select File -\u003e Download as Python\"","   ]","  },","  {","   \"cell_type\": \"code\",","   \"execution_count\": 6,","   \"metadata\": {},","   \"outputs\": [","    {","     \"data\": {","      \"image/png\": \"iVBORw0KGgoAAAANSUhEUgAAAZwAAAELCAYAAADtIjDCAAAABHNCSVQICAgIfAhkiAAAAAlwSFlz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\\nQ7Hwf012PQPUWsZWAAAAAElFTkSuQmCC\\n\",","      \"text/plain\": [","       \"\u003cmatplotlib.figure.Figure at 0x1c0f2acf90\u003e\"","      ]","     },","     \"metadata\": {},","     \"output_type\": \"display_data\"","    }","   ],","   \"source\": [","    \"import matplotlib.pyplot as plt\\n\",","    \"from obspy import read\\n\",","    \"from obspy.core import Stream\\n\",","    \"from glob import glob\\n\",","    \"\\n\",","    \"if __name__ == '__main__':\\n\",","    \"    ## fixed parameter\\n\",","    \"    freq_width = 0.5\\n\",","    \"    order = 1\\n\",","    \"    \\n\",","    \"    ## MAIN PROCESSING FOR VERTICAL AUTOCORRELOGRAMS\\n\",","    \"    auto_stream = Stream()\\n\",","    \"    for fname in glob('ST01/*BHZ*.SAC'):\\n\",","    \"        tr = read(fname, format='SAC')[0]\\n\",","    \"        tr.detrend('linear')\\n\",","    \"        tr.resample(40)\\n\",","    \"        \\n\",","    \"        auto = compute_auto(tr, freq_width)\\n\",","    \"        auto_stream.append(auto)\\n\",","    \"    stack = data_stack(auto_stream, order)\\n\",","    \"    time = np.arange(stack.stats.npts) * stack.stats.delta\\n\",","    \"    \\n\",","    \"    ## PLOTTING\\n\",","    \"    fig = plt.figure(figsize=(6, 3.5))\\n\",","    \"    ax1 = fig.add_axes([0.1, 0.57, 0.7, 0.35])\\n\",","    \"    ax1.set_xlim(30, 95)\\n\",","    \"    ax1.set_ylim(6, 0)\\n\",","    \"    ax1.set_ylabel('Time (s)')\\n\",","    \"    ax1.annotate('Vertical autocorrelograms', xy=(0.05, 0.1), xycoords='axes fraction')\\n\",","    \"    ax1.set_title('Individual')\\n\",","    \"    for auto in auto_stream:\\n\",","    \"        auto.data /= np.max(np.abs(auto.data))\\n\",","    \"        epi_dist = auto.stats.sac.gcarc\\n\",","    \"        ax1.plot(auto.data + epi_dist, time, lw=0.5, color='black')\\n\",","    \"        ax1.fill_betweenx(time, epi_dist, auto.data + epi_dist, lw=0.5, \\n\",","    \"                          color='gray', where=(auto.data \u003c 0))\\n\",","    \"    \\n\",","    \"    ax2 = fig.add_axes([0.85, 0.57, 0.1, 0.35])\\n\",","    \"    ax2.set_ylim(6, 0)\\n\",","    \"    ax2.set_xlim(-1, 1)\\n\",","    \"    ax2.set_title('PWS')\\n\",","    \"    stack.data /= np.max(np.abs(stack.data))\\n\",","    \"    ax2.plot(stack.data, time, lw=0.5, color='black')\\n\",","    \"    ax2.fill_betweenx(time, 0, stack.data, lw=0.5, \\n\",","    \"                          color='gray', where=(stack.data \u003c 0))\\n\",","    \"    \\n\",","    \"    ## MAIN PROCESSING FOR RADIAL AUTOCORRELOGRAMS\\n\",","    \"    auto_stream = Stream()\\n\",","    \"    for fname in glob('ST01/*BHR*.SAC'):\\n\",","    \"        tr = read(fname, format='SAC')[0]\\n\",","    \"        tr.detrend('linear')\\n\",","    \"        tr.resample(40)\\n\",","    \"        \\n\",","    \"        auto = compute_auto(tr, freq_width)\\n\",","    \"        auto_stream.append(auto)\\n\",","    \"    stack = data_stack(auto_stream, order)\\n\",","    \"    time = np.arange(stack.stats.npts) * stack.stats.delta\\n\",","    \"    \\n\",","    \"    ## PLOTTING\\n\",","    \"    ax1 = fig.add_axes([0.1, 0.12, 0.7, 0.35])\\n\",","    \"    ax1.set_xlim(30, 95)\\n\",","    \"    ax1.set_ylim(6, 0)\\n\",","    \"    ax1.set_ylabel('Time (s)')\\n\",","    \"    ax1.set_xlabel('Epicentral distance ($^\\\\circ$)')\\n\",","    \"    ax1.annotate('Radial autocorrelograms', xy=(0.05, 0.1), xycoords='axes fraction')\\n\",","    \"    for auto in auto_stream:\\n\",","    \"        auto.data /= np.max(np.abs(auto.data))\\n\",","    \"        epi_dist = auto.stats.sac.gcarc\\n\",","    \"        ax1.plot(auto.data + epi_dist, time, lw=0.5, color='black')\\n\",","    \"        ax1.fill_betweenx(time, epi_dist, auto.data + epi_dist, lw=0.5, \\n\",","    \"                          color='gray', where=(auto.data \u003c 0))\\n\",","    \"    \\n\",","    \"    ax2 = fig.add_axes([0.85, 0.12, 0.1, 0.35])\\n\",","    \"    ax2.set_ylim(6, 0)\\n\",","    \"    ax2.set_xlim(-1, 1)\\n\",","    \"    stack.data /= np.max(np.abs(stack.data))\\n\",","    \"    ax2.plot(stack.data, time, lw=0.5, color='black')\\n\",","    \"    ax2.fill_betweenx(time, 0, stack.data, lw=0.5, \\n\",","    \"                          color='gray', where=(stack.data \u003c 0))\\n\",","    \"    \\n\",","    \"    plt.show()\\n\",","    \"    \"","   ]","  }"," ],"," \"metadata\": {","  \"kernelspec\": {","   \"display_name\": \"Python 3\",","   \"language\": \"python\",","   \"name\": \"python3\"","  },","  \"language_info\": {","   \"codemirror_mode\": {","    \"name\": \"ipython\",","    \"version\": 3","   },","   \"file_extension\": \".py\",","   \"mimetype\": \"text/x-python\",","   \"name\": \"python\",","   \"nbconvert_exporter\": \"python\",","   \"pygments_lexer\": \"ipython3\",","   \"version\": \"3.7.3\"","  }"," },"," \"nbformat\": 4,"," \"nbformat_minor\": 2","}"],"stylingDirectives":null,"colorizedLines":null,"csv":null,"csvError":null,"dependabotInfo":{"showConfigurationBanner":false,"configFilePath":null,"networkDependabotPath":"/tsonpham/PCodaAutocorrelation/network/updates","dismissConfigurationNoticePath":"/settings/dismiss-notice/dependabot_configuration_notice","configurationNoticeDismissed":false},"displayName":"Pcoda_autocorrelation.ipynb","displayUrl":"https://notebooks.githubusercontent.com/view/ipynb?browser=chrome\u0026bypass_fastly=true\u0026color_mode=auto\u0026commit=37f8e8df57ce338e89c13a3328e805e564b2ba3e\u0026device=unknown_device\u0026docs_host=https%3A%2F%2Fdocs.github.com\u0026enc_url=68747470733a2f2f7261772e67697468756275736572636f6e74656e742e636f6d2f74736f6e7068616d2f50436f64614175746f636f7272656c6174696f6e2f333766386538646635376365333338653839633133613333323865383035653536346232626133652f50636f64615f6175746f636f7272656c6174696f6e2e6970796e62\u0026logged_in=true\u0026nwo=tsonpham%2FPCodaAutocorrelation\u0026path=Pcoda_autocorrelation.ipynb\u0026platform=linux\u0026repository_id=106248531\u0026repository_type=Repository\u0026version=133","headerInfo":{"blobSize":"112 KB","deleteTooltip":"Delete this file","editTooltip":"Edit this file","ghDesktopPath":"https://desktop.github.com","isGitLfs":false,"onBranch":true,"shortPath":"ba8bc9b","siteNavLoginPath":"/login?return_to=https%3A%2F%2Fgithub.com%2Ftsonpham%2FPCodaAutocorrelation%2Fblob%2Fmaster%2FPcoda_autocorrelation.ipynb","isCSV":false,"isRichtext":false,"toc":null,"lineInfo":{"truncatedLoc":"343","truncatedSloc":"343"},"mode":"executable file"},"image":false,"isCodeownersFile":null,"isPlain":false,"isValidLegacyIssueTemplate":false,"issueTemplate":null,"discussionTemplate":null,"language":"Jupyter Notebook","languageID":185,"large":false,"planSupportInfo":{"repoIsFork":null,"repoOwnedByCurrentUser":null,"requestFullPath":"/tsonpham/PCodaAutocorrelation/blob/master/Pcoda_autocorrelation.ipynb","showFreeOrgGatedFeatureMessage":null,"showPlanSupportBanner":null,"upgradeDataAttributes":null,"upgradePath":null},"publishBannersInfo":{"dismissActionNoticePath":"/settings/dismiss-notice/publish_action_from_dockerfile","releasePath":"/tsonpham/PCodaAutocorrelation/releases/new?marketplace=true","showPublishActionBanner":false},"rawBlobUrl":"https://github.com/tsonpham/PCodaAutocorrelation/raw/refs/heads/master/Pcoda_autocorrelation.ipynb","renderImageOrRaw":false,"richText":null,"renderedFileInfo":{"identityUUID":"205dd847-a65d-4195-a430-6eaf18117224","renderFileType":"ipynb","size":114720},"shortPath":null,"symbolsEnabled":true,"tabSize":8,"topBannersInfo":{"overridingGlobalFundingFile":false,"globalPreferredFundingPath":null,"showInvalidCitationWarning":false,"citationHelpUrl":"https://docs.github.com/github/creating-cloning-and-archiving-repositories/creating-a-repository-on-github/about-citation-files","actionsOnboardingTip":null},"truncated":false,"viewable":true,"workflowRedirectUrl":null,"symbols":{"timed_out":false,"not_analyzed":true,"symbols":[]}},"copilotInfo":null,"copilotAccessAllowed":true,"modelsAccessAllowed":false,"csrf_tokens":{"/tsonpham/PCodaAutocorrelation/branches":{"post":"E7X0Uy29ts1uyODudJUPunNWFYw96sua_yqVEDnZQuFKQkWL9boRA4ZfJR8GtLLPf0uEiyLkHV4pnXILo2_1ZA"},"/repos/preferences":{"post":"fFhpMO4xpgpjy1yY5L1u_YCJFiGblQr78urn1sWoCarG4-WOB1igsEfirFmfRaxh-QwO7Y5R8QnWowuuoxRlww"}}},"title":"PCodaAutocorrelation/Pcoda_autocorrelation.ipynb at master · tsonpham/PCodaAutocorrelation","appPayload":{"helpUrl":"https://docs.github.com","findFileWorkerPath":"/assets-cdn/worker/find-file-worker-7d7eb7c71814.js","findInFileWorkerPath":"/assets-cdn/worker/find-in-file-worker-96e76d5fdb2c.js","githubDevUrl":"https://github.dev/","enabled_features":{"code_nav_ui_events":false,"overview_shared_code_dropdown_button":false,"react_blob_overlay":true,"copilot_smell_icebreaker_ux":true,"accessible_code_button":true}}}</script>
  <div data-target="react-app.reactRoot"><style data-styled="true" data-styled-version="5.3.11">.hOfjFo{padding:0;}/*!sc*/
.oDGAe{max-width:100%;margin-left:auto;margin-right:auto;display:-webkit-box;display:-webkit-flex;display:-ms-flexbox;display:flex;-webkit-flex-wrap:wrap;-ms-flex-wrap:wrap;flex-wrap:wrap;}/*!sc*/
.kowOcT{display:-webkit-box;display:-webkit-flex;display:-ms-flexbox;display:flex;-webkit-flex:1 1 100%;-ms-flex:1 1 100%;flex:1 1 100%;-webkit-flex-wrap:wrap;-ms-flex-wrap:wrap;flex-wrap:wrap;max-width:100%;}/*!sc*/
.gISSDQ{width:100%;}/*!sc*/
@media screen and (min-width:544px){.gISSDQ{width:100%;}}/*!sc*/
@media screen and (min-width:768px){.gISSDQ{width:auto;}}/*!sc*/
.fHCyST{display:-webkit-box;display:-webkit-flex;display:-ms-flexbox;display:flex;-webkit-order:1;-ms-flex-order:1;order:1;width:100%;margin-left:0;margin-right:0;-webkit-flex-direction:column-reverse;-ms-flex-direction:column-reverse;flex-direction:column-reverse;margin-bottom:0;min-width:0;}/*!sc*/
@media screen and (min-width:768px){.fHCyST{width:auto;margin-top:0 !important;margin-bottom:0 !important;position:-webkit-sticky;position:sticky;top:0px;max-height:100vh !important;-webkit-flex-direction:row;-ms-flex-direction:row;flex-direction:row;margin-right:0;height:100vh;}}/*!sc*/
@media print,screen and (max-width:1349px) and (min-width:768px){.fHCyST{display:none;}}/*!sc*/
.hPvFuC{margin-left:0;margin-right:0;display:none;margin-top:0;}/*!sc*/
@media screen and (min-width:768px){.hPvFuC{margin-left:0 !important;margin-right:0 !important;}}/*!sc*/
.fFSoPl{--pane-min-width:256px;--pane-max-width-diff:511px;--pane-max-width:calc(100vw - var(--pane-max-width-diff));width:100%;padding:0;}/*!sc*/
@media screen and (min-width:544px){}/*!sc*/
@media screen and (min-width:768px){.fFSoPl{width:clamp(var(--pane-min-width),var(--pane-width),var(--pane-max-width));overflow:auto;}}/*!sc*/
@media screen and (min-width:1280px){.fFSoPl{--pane-max-width-diff:959px;}}/*!sc*/
.birIjn{max-height:100%;height:100%;display:-webkit-box;display:-webkit-flex;display:-ms-flexbox;display:flex;-webkit-flex-direction:column;-ms-flex-direction:column;flex-direction:column;}/*!sc*/
@media screen and (max-width:768px){.birIjn{display:none;}}/*!sc*/
@media screen and (min-width:768px){.birIjn{max-height:100vh;height:100vh;}}/*!sc*/
.hNNCwk{display:-webkit-box;display:-webkit-flex;display:-ms-flexbox;display:flex;-webkit-flex-direction:column;-ms-flex-direction:column;flex-direction:column;-webkit-align-items:center;-webkit-box-align:center;-ms-flex-align:center;align-items:center;padding-left:16px;padding-right:16px;padding-bottom:8px;padding-top:16px;}/*!sc*/
.jfIeyl{display:-webkit-box;display:-webkit-flex;display:-ms-flexbox;display:flex;width:100%;margin-bottom:16px;-webkit-align-items:center;-webkit-box-align:center;-ms-flex-align:center;align-items:center;}/*!sc*/
.XosP{display:-webkit-box;display:-webkit-flex;display:-ms-flexbox;display:flex;font-size:14px;}/*!sc*/
.bCKfWo[data-size="medium"]{color:var(--fgColor-muted,var(--color-fg-muted,#656d76));padding-left:8px;padding-right:8px;display:none;}/*!sc*/
@media screen and (max-width:768px){.bCKfWo[data-size="medium"]{display:block;}}/*!sc*/
.gUkoLg{-webkit-box-pack:center;-webkit-justify-content:center;-ms-flex-pack:center;justify-content:center;}/*!sc*/
.kOkWgo{font-size:16px;margin-left:8px;}/*!sc*/
.lhbroM{margin-left:24px;margin-right:24px;display:-webkit-box;display:-webkit-flex;display:-ms-flexbox;display:flex;width:100%;}/*!sc*/
.khzwtX{-webkit-box-flex:1;-webkit-flex-grow:1;-ms-flex-positive:1;flex-grow:1;}/*!sc*/
.gMOVLe[data-size="medium"]{display:-webkit-box;display:-webkit-flex;display:-ms-flexbox;display:flex;min-width:0;}/*!sc*/
.gMOVLe[data-size="medium"] svg{color:var(--fgColor-muted,var(--color-fg-muted,#656d76));}/*!sc*/
.gMOVLe[data-size="medium"] > span{width:inherit;}/*!sc*/
.bZBlpz{display:-webkit-box;display:-webkit-flex;display:-ms-flexbox;display:flex;width:100%;}/*!sc*/
.lhTYNA{margin-right:4px;color:var(--fgColor-muted,var(--color-fg-muted,#656d76));}/*!sc*/
.ffLUq{font-size:14px;min-width:0;overflow:hidden;text-overflow:ellipsis;white-space:nowrap;}/*!sc*/
.eTeVqd{margin-left:8px;white-space:nowrap;}/*!sc*/
.eTeVqd:hover button:not(:hover){border-left-color:var(--button-default-borderColor-hover,var(--color-btn-hover-border));}/*!sc*/
.fhbevO[data-size="medium"][data-no-visuals]{color:var(--fgColor-muted,var(--color-fg-subtle,#6e7781));border-top-right-radius:0;border-bottom-right-radius:0;border-right:0;}/*!sc*/
.fCjIQM[data-size="medium"][data-no-visuals]{color:var(--fgColor-muted,var(--color-fg-subtle,#6e7781));font-size:14px;font-weight:400;-webkit-flex-shrink:0;-ms-flex-negative:0;flex-shrink:0;border-top-left-radius:0;border-bottom-left-radius:0;}/*!sc*/
.ftzGWg{margin-left:16px;margin-right:16px;margin-bottom:12px;}/*!sc*/
@media screen and (max-width:768px){.ftzGWg{display:none;}}/*!sc*/
.dItACB{margin-right:-6px;}/*!sc*/
.gjtfVk{-webkit-box-flex:1;-webkit-flex-grow:1;-ms-flex-positive:1;flex-grow:1;max-height:100% !important;overflow-y:auto;-webkit-scrollbar-gutter:stable;-moz-scrollbar-gutter:stable;-ms-scrollbar-gutter:stable;scrollbar-gutter:stable;}/*!sc*/
@media screen and (max-width:768px){.gjtfVk{display:none;}}/*!sc*/
.cOxzdh{padding-left:16px;padding-right:16px;padding-bottom:8px;}/*!sc*/
.bTBnTW{height:100%;position:relative;display:none;margin-left:0;}/*!sc*/
.bHLmSv{position:absolute;inset:0 -2px;cursor:col-resize;background-color:transparent;-webkit-transition-delay:0.1s;transition-delay:0.1s;}/*!sc*/
.bHLmSv:hover{background-color:var(--bgColor-neutral-muted,var(--color-neutral-muted,rgba(175,184,193,0.2)));}/*!sc*/
.iKqMNA{display:-webkit-box;display:-webkit-flex;display:-ms-flexbox;display:flex;-webkit-flex-direction:column;-ms-flex-direction:column;flex-direction:column;-webkit-order:2;-ms-flex-order:2;order:2;-webkit-flex-basis:0;-ms-flex-preferred-size:0;flex-basis:0;-webkit-box-flex:1;-webkit-flex-grow:1;-ms-flex-positive:1;flex-grow:1;-webkit-flex-shrink:1;-ms-flex-negative:1;flex-shrink:1;min-width:1px;margin-right:auto;}/*!sc*/
@media print{.iKqMNA{display:-webkit-box !important;display:-webkit-flex !important;display:-ms-flexbox !important;display:flex !important;}}/*!sc*/
.FxAyp{width:100%;max-width:100%;margin-left:auto;margin-right:auto;-webkit-box-flex:1;-webkit-flex-grow:1;-ms-flex-positive:1;flex-grow:1;padding:0;}/*!sc*/
.leYMvG{margin-left:auto;margin-right:auto;-webkit-flex-direction:column;-ms-flex-direction:column;flex-direction:column;padding-bottom:40px;max-width:100%;margin-top:0;}/*!sc*/
.KMPzq{display:inherit;}/*!sc*/
.hfKjHv{width:100%;}/*!sc*/
.gZWyZE{display:-webkit-box;display:-webkit-flex;display:-ms-flexbox;display:flex;gap:8px;-webkit-flex-direction:column;-ms-flex-direction:column;flex-direction:column;width:100%;}/*!sc*/
.dwYKDk{display:-webkit-box;display:-webkit-flex;display:-ms-flexbox;display:flex;-webkit-align-items:start;-webkit-box-align:start;-ms-flex-align:start;align-items:start;-webkit-box-pack:justify;-webkit-justify-content:space-between;-ms-flex-pack:justify;justify-content:space-between;gap:8px;}/*!sc*/
.iDtIiT{-webkit-align-self:center;-ms-flex-item-align:center;align-self:center;display:-webkit-box;display:-webkit-flex;display:-ms-flexbox;display:flex;padding-right:8px;min-width:0;}/*!sc*/
.cEytCf{display:-webkit-box;display:-webkit-flex;display:-ms-flexbox;display:flex;-webkit-flex-direction:row;-ms-flex-direction:row;flex-direction:row;font-size:16px;min-width:0;-webkit-flex-shrink:1;-ms-flex-negative:1;flex-shrink:1;-webkit-flex-wrap:wrap;-ms-flex-wrap:wrap;flex-wrap:wrap;max-width:100%;-webkit-align-items:center;-webkit-box-align:center;-ms-flex-align:center;align-items:center;}/*!sc*/
.fzFXnm{max-width:100%;}/*!sc*/
.iMnkmv{max-width:100%;list-style:none;display:inline-block;}/*!sc*/
.ghzDag{display:inline-block;max-width:100%;}/*!sc*/
.kHuKdh{font-weight:600;}/*!sc*/
.jGhzSQ{font-weight:600;display:inline-block;max-width:100%;font-size:16px;}/*!sc*/
.faNtbn{min-height:32px;display:-webkit-box;display:-webkit-flex;display:-ms-flexbox;display:flex;-webkit-align-items:start;-webkit-box-align:start;-ms-flex-align:start;align-items:start;}/*!sc*/
.dwNhzn[data-size="medium"][data-no-visuals]{border-top-left-radius:0;border-bottom-left-radius:0;display:none;}/*!sc*/
.fGwBZA[data-size="medium"][data-no-visuals]{color:var(--fgColor-muted,var(--color-fg-muted,#656d76));}/*!sc*/
.dJxjrT{margin-left:16px;margin-right:16px;}/*!sc*/
.eFxKDQ{display:-webkit-box;display:-webkit-flex;display:-ms-flexbox;display:flex;-webkit-flex-direction:column;-ms-flex-direction:column;flex-direction:column;}/*!sc*/
.dzCJzi{display:-webkit-box;display:-webkit-flex;display:-ms-flexbox;display:flex;-webkit-flex-direction:row;-ms-flex-direction:row;flex-direction:row;-webkit-flex-wrap:wrap;-ms-flex-wrap:wrap;flex-wrap:wrap;-webkit-box-pack:justify;-webkit-justify-content:space-between;-ms-flex-pack:justify;justify-content:space-between;-webkit-align-items:center;-webkit-box-align:center;-ms-flex-align:center;align-items:center;gap:8px;min-width:273px;padding:8px;}/*!sc*/
@media screen and (min-width:544px){.dzCJzi{-webkit-flex-wrap:nowrap;-ms-flex-wrap:nowrap;flex-wrap:nowrap;}}/*!sc*/
.ldRxiI{display:-webkit-box;display:-webkit-flex;display:-ms-flexbox;display:flex;-webkit-flex-direction:row;-ms-flex-direction:row;flex-direction:row;}/*!sc*/
.fVkfyA{width:100%;height:-webkit-fit-content;height:-moz-fit-content;height:fit-content;min-width:0;margin-right:0;}/*!sc*/
.gNAmSV{height:40px;padding-left:4px;padding-bottom:16px;}/*!sc*/
.jNEwzY{-webkit-align-items:center;-webkit-box-align:center;-ms-flex-align:center;align-items:center;}/*!sc*/
.bsDwxw{font-size:12px;-webkit-flex:auto;-ms-flex:auto;flex:auto;padding-right:16px;color:var(--fgColor-muted,var(--color-fg-muted,#656d76));min-width:0;}/*!sc*/
.jdLMhu{top:0px;z-index:4;background:var(--bgColor-default,var(--color-canvas-default));position:-webkit-sticky;position:sticky;}/*!sc*/
.tOISc{display:-webkit-box;display:-webkit-flex;display:-ms-flexbox;display:flex;-webkit-flex-direction:column;-ms-flex-direction:column;flex-direction:column;width:100%;position:absolute;}/*!sc*/
.hqwSEx{display:none;min-width:0;padding-top:8px;padding-bottom:8px;}/*!sc*/
.lzKZY{margin-right:8px;margin-left:16px;text-overflow:ellipsis;overflow:hidden;display:-webkit-box;display:-webkit-flex;display:-ms-flexbox;display:flex;-webkit-flex-direction:row;-ms-flex-direction:row;flex-direction:row;-webkit-align-items:center;-webkit-box-align:center;-ms-flex-align:center;align-items:center;-webkit-box-pack:justify;-webkit-justify-content:space-between;-ms-flex-pack:justify;justify-content:space-between;width:100%;}/*!sc*/
.fHind{display:-webkit-box;display:-webkit-flex;display:-ms-flexbox;display:flex;-webkit-flex-direction:row;-ms-flex-direction:row;flex-direction:row;font-size:14px;min-width:0;-webkit-flex-shrink:1;-ms-flex-negative:1;flex-shrink:1;-webkit-flex-wrap:wrap;-ms-flex-wrap:wrap;flex-wrap:wrap;max-width:100%;-webkit-align-items:center;-webkit-box-align:center;-ms-flex-align:center;align-items:center;}/*!sc*/
.dnZoUW{font-weight:600;display:inline-block;max-width:100%;font-size:14px;}/*!sc*/
.jRZWlf[data-size="small"]{color:var(--fgColor-default,var(--color-fg-default,#1F2328));margin-left:8px;}/*!sc*/
.kTvpNk{padding-left:8px;padding-top:8px;padding-bottom:8px;display:-webkit-box;display:-webkit-flex;display:-ms-flexbox;display:flex;-webkit-flex:1;-ms-flex:1;flex:1;-webkit-align-items:center;-webkit-box-align:center;-ms-flex-align:center;align-items:center;-webkit-box-pack:justify;-webkit-justify-content:space-between;-ms-flex-pack:justify;justify-content:space-between;background-color:var(--bgColor-muted,var(--color-canvas-subtle,#f6f8fa));border:1px solid var(--borderColor-default,var(--color-border-default));border-radius:6px 6px 0px 0px;}/*!sc*/
.iNMjfP{display:-webkit-box;display:-webkit-flex;display:-ms-flexbox;display:flex;-webkit-align-items:center;-webkit-box-align:center;-ms-flex-align:center;align-items:center;gap:8px;min-width:0;}/*!sc*/
.fefCSX{display:block;position:relative;-webkit-box-flex:1;-webkit-flex-grow:1;-ms-flex-positive:1;flex-grow:1;margin-top:-1px;margin-bottom:-1px;--separator-color:transparent;}/*!sc*/
.fefCSX:not(:last-child){margin-right:1px;}/*!sc*/
.fefCSX:not(:last-child):after{background-color:var(--separator-color);content:"";position:absolute;right:-2px;top:8px;bottom:8px;width:1px;}/*!sc*/
.fefCSX:focus-within:has(:focus-visible){--separator-color:transparent;}/*!sc*/
.fefCSX:first-child{margin-left:-1px;}/*!sc*/
.fefCSX:last-child{margin-right:-1px;}/*!sc*/
.idgUkN{display:block;position:relative;-webkit-box-flex:1;-webkit-flex-grow:1;-ms-flex-positive:1;flex-grow:1;margin-top:-1px;margin-bottom:-1px;--separator-color:var(--borderColor-default,var(--color-border-default,#d0d7de));}/*!sc*/
.idgUkN:not(:last-child){margin-right:1px;}/*!sc*/
.idgUkN:not(:last-child):after{background-color:var(--separator-color);content:"";position:absolute;right:-2px;top:8px;bottom:8px;width:1px;}/*!sc*/
.idgUkN:focus-within:has(:focus-visible){--separator-color:transparent;}/*!sc*/
.idgUkN:first-child{margin-left:-1px;}/*!sc*/
.idgUkN:last-child{margin-right:-1px;}/*!sc*/
.kcLCKF{display:-webkit-box;display:-webkit-flex;display:-ms-flexbox;display:flex;-webkit-align-items:center;-webkit-box-align:center;-ms-flex-align:center;align-items:center;gap:8px;margin-right:8px;}/*!sc*/
.kVWtTz{gap:8px;}/*!sc*/
.gWqxTd{padding-left:8px;padding-right:8px;}/*!sc*/
.gWqxTd linkButtonSx:hover:not([disabled]){-webkit-text-decoration:none;text-decoration:none;}/*!sc*/
.gWqxTd linkButtonSx:focus:not([disabled]){-webkit-text-decoration:none;text-decoration:none;}/*!sc*/
.gWqxTd linkButtonSx:active:not([disabled]){-webkit-text-decoration:none;text-decoration:none;}/*!sc*/
.ivobqY[data-size="small"][data-no-visuals]{border-top-left-radius:0;border-bottom-left-radius:0;}/*!sc*/
.kilKoS[data-size="small"][data-no-visuals]{border-top-right-radius:0;border-bottom-right-radius:0;border-right-width:0;}/*!sc*/
.kilKoS[data-size="small"][data-no-visuals]:hover:not([disabled]){-webkit-text-decoration:none;text-decoration:none;}/*!sc*/
.kilKoS[data-size="small"][data-no-visuals]:focus:not([disabled]){-webkit-text-decoration:none;text-decoration:none;}/*!sc*/
.kilKoS[data-size="small"][data-no-visuals]:active:not([disabled]){-webkit-text-decoration:none;text-decoration:none;}/*!sc*/
.ffkqe[data-size="small"][data-no-visuals]{color:var(--fgColor-muted,var(--color-fg-muted,#656d76));}/*!sc*/
.hGyMdv{border:1px solid;border-top:none;border-color:var(--borderColor-default,var(--color-border-default,#d0d7de));border-radius:0px 0px 6px 6px;min-width:273px;}/*!sc*/
.iWAocR{background-color:var(--bgColor-default,var(--color-canvas-default));border:0px;border-width:0;border-radius:0px 0px 6px 6px;padding:0;min-width:0;margin-top:46px;overflow:auto;}/*!sc*/
.cCoXib{position:fixed;top:0;right:0;height:100%;width:15px;-webkit-transition:-webkit-transform 0.3s;-webkit-transition:transform 0.3s;transition:transform 0.3s;z-index:1;}/*!sc*/
.cCoXib:hover{-webkit-transform:scaleX(1.5);-ms-transform:scaleX(1.5);transform:scaleX(1.5);}/*!sc*/
.fgsa-DI{display:-webkit-box;display:-webkit-flex;display:-ms-flexbox;display:flex;-webkit-flex-direction:column;-ms-flex-direction:column;flex-direction:column;-webkit-align-items:center;-webkit-box-align:center;-ms-flex-align:center;align-items:center;padding-top:16px;padding-bottom:16px;}/*!sc*/
data-styled.g1[id="Box-sc-g0xbh4-0"]{content:"hOfjFo,oDGAe,kowOcT,gISSDQ,fHCyST,hPvFuC,fFSoPl,birIjn,hNNCwk,jfIeyl,XosP,bCKfWo,gUkoLg,kOkWgo,lhbroM,khzwtX,gMOVLe,bZBlpz,lhTYNA,ffLUq,eTeVqd,fhbevO,fCjIQM,ftzGWg,dItACB,gjtfVk,cOxzdh,bTBnTW,bHLmSv,iKqMNA,FxAyp,leYMvG,KMPzq,hfKjHv,gZWyZE,dwYKDk,iDtIiT,cEytCf,fzFXnm,iMnkmv,ghzDag,kHuKdh,jGhzSQ,faNtbn,dwNhzn,fGwBZA,dJxjrT,eFxKDQ,dzCJzi,ldRxiI,fVkfyA,gNAmSV,jNEwzY,bsDwxw,jdLMhu,tOISc,hqwSEx,lzKZY,fHind,dnZoUW,jRZWlf,kTvpNk,iNMjfP,fefCSX,idgUkN,kcLCKF,kVWtTz,gWqxTd,ivobqY,kilKoS,ffkqe,hGyMdv,iWAocR,cCoXib,fgsa-DI,"}/*!sc*/
.eMMFM{min-width:0;}/*!sc*/
.eMMFM:where([data-size='small']){font-size:var(--text-body-size-small,0.75rem);line-height:var(--text-body-lineHeight-small,1.6666);}/*!sc*/
.eMMFM:where([data-size='medium']){font-size:var(--text-body-size-medium,0.875rem);line-height:var(--text-body-lineHeight-medium,1.4285);}/*!sc*/
.eMMFM:where([data-size='large']){font-size:var(--text-body-size-large,1rem);line-height:var(--text-body-lineHeight-large,1.5);}/*!sc*/
.eMMFM:where([data-weight='light']){font-weight:var(--base-text-weight-light,300);}/*!sc*/
.eMMFM:where([data-weight='normal']){font-weight:var(--base-text-weight-normal,400);}/*!sc*/
.eMMFM:where([data-weight='medium']){font-weight:var(--base-text-weight-medium,500);}/*!sc*/
.eMMFM:where([data-weight='semibold']){font-weight:var(--base-text-weight-semibold,600);}/*!sc*/
.HlHVj{padding-left:4px;padding-right:4px;font-weight:400;color:var(--fgColor-muted,var(--color-fg-muted,#656d76));font-size:16px;}/*!sc*/
.HlHVj:where([data-size='small']){font-size:var(--text-body-size-small,0.75rem);line-height:var(--text-body-lineHeight-small,1.6666);}/*!sc*/
.HlHVj:where([data-size='medium']){font-size:var(--text-body-size-medium,0.875rem);line-height:var(--text-body-lineHeight-medium,1.4285);}/*!sc*/
.HlHVj:where([data-size='large']){font-size:var(--text-body-size-large,1rem);line-height:var(--text-body-lineHeight-large,1.5);}/*!sc*/
.HlHVj:where([data-weight='light']){font-weight:var(--base-text-weight-light,300);}/*!sc*/
.HlHVj:where([data-weight='normal']){font-weight:var(--base-text-weight-normal,400);}/*!sc*/
.HlHVj:where([data-weight='medium']){font-weight:var(--base-text-weight-medium,500);}/*!sc*/
.HlHVj:where([data-weight='semibold']){font-weight:var(--base-text-weight-semibold,600);}/*!sc*/
.gHkVwM{color:var(--fgColor-muted,var(--color-fg-muted,#656d76));margin-right:4px;}/*!sc*/
.gHkVwM:where([data-size='small']){font-size:var(--text-body-size-small,0.75rem);line-height:var(--text-body-lineHeight-small,1.6666);}/*!sc*/
.gHkVwM:where([data-size='medium']){font-size:var(--text-body-size-medium,0.875rem);line-height:var(--text-body-lineHeight-medium,1.4285);}/*!sc*/
.gHkVwM:where([data-size='large']){font-size:var(--text-body-size-large,1rem);line-height:var(--text-body-lineHeight-large,1.5);}/*!sc*/
.gHkVwM:where([data-weight='light']){font-weight:var(--base-text-weight-light,300);}/*!sc*/
.gHkVwM:where([data-weight='normal']){font-weight:var(--base-text-weight-normal,400);}/*!sc*/
.gHkVwM:where([data-weight='medium']){font-weight:var(--base-text-weight-medium,500);}/*!sc*/
.gHkVwM:where([data-weight='semibold']){font-weight:var(--base-text-weight-semibold,600);}/*!sc*/
.lauzFl{padding-left:4px;padding-right:4px;font-weight:400;color:var(--fgColor-muted,var(--color-fg-muted,#656d76));font-size:14px;}/*!sc*/
.lauzFl:where([data-size='small']){font-size:var(--text-body-size-small,0.75rem);line-height:var(--text-body-lineHeight-small,1.6666);}/*!sc*/
.lauzFl:where([data-size='medium']){font-size:var(--text-body-size-medium,0.875rem);line-height:var(--text-body-lineHeight-medium,1.4285);}/*!sc*/
.lauzFl:where([data-size='large']){font-size:var(--text-body-size-large,1rem);line-height:var(--text-body-lineHeight-large,1.5);}/*!sc*/
.lauzFl:where([data-weight='light']){font-weight:var(--base-text-weight-light,300);}/*!sc*/
.lauzFl:where([data-weight='normal']){font-weight:var(--base-text-weight-normal,400);}/*!sc*/
.lauzFl:where([data-weight='medium']){font-weight:var(--base-text-weight-medium,500);}/*!sc*/
.lauzFl:where([data-weight='semibold']){font-weight:var(--base-text-weight-semibold,600);}/*!sc*/
data-styled.g5[id="Text__StyledText-sc-17v1xeu-0"]{content:"eMMFM,HlHVj,gHkVwM,lauzFl,"}/*!sc*/
.brGdpi{position:absolute;width:1px;height:1px;padding:0;margin:-1px;overflow:hidden;-webkit-clip:rect(0,0,0,0);clip:rect(0,0,0,0);white-space:nowrap;border-width:0;}/*!sc*/
data-styled.g6[id="_VisuallyHidden__VisuallyHidden-sc-11jhm7a-0"]{content:"brGdpi,"}/*!sc*/
.jkNcAv{border:0;font-size:inherit;font-family:inherit;background-color:transparent;-webkit-appearance:none;color:inherit;width:100%;}/*!sc*/
.jkNcAv:focus{outline:0;}/*!sc*/
data-styled.g13[id="UnstyledTextInput__ToggledUnstyledTextInput-sc-14ypya-0"]{content:"jkNcAv,"}/*!sc*/
.hLzFvi{font-size:14px;line-height:var(--base-size-20);color:var(--fgColor-default,var(--color-fg-default,#1F2328));vertical-align:middle;background-color:var(--bgColor-default,var(--color-canvas-default,#ffffff));border:1px solid var(--control-borderColor-rest,var(--borderColor-default,var(--color-border-default,#d0d7de)));border-radius:6px;outline:none;box-shadow:var(--shadow-inset,var(--color-primer-shadow-inset,inset 0 1px 0 rgba(208,215,222,0.2)));display:-webkit-inline-box;display:-webkit-inline-flex;display:-ms-inline-flexbox;display:inline-flex;-webkit-align-items:stretch;-webkit-box-align:stretch;-ms-flex-align:stretch;align-items:stretch;min-height:var(--base-size-32);overflow:hidden;--inner-action-size:var(--base-size-24);}/*!sc*/
.hLzFvi input,.hLzFvi textarea{cursor:text;}/*!sc*/
.hLzFvi select{cursor:pointer;}/*!sc*/
.hLzFvi input::-webkit-input-placeholder,.hLzFvi textarea::-webkit-input-placeholder,.hLzFvi select::-webkit-input-placeholder{color:var(---control-fgColor-placeholder,var(--fgColor-muted,var(--color-fg-muted,#656d76)));}/*!sc*/
.hLzFvi input::-moz-placeholder,.hLzFvi textarea::-moz-placeholder,.hLzFvi select::-moz-placeholder{color:var(---control-fgColor-placeholder,var(--fgColor-muted,var(--color-fg-muted,#656d76)));}/*!sc*/
.hLzFvi input:-ms-input-placeholder,.hLzFvi textarea:-ms-input-placeholder,.hLzFvi select:-ms-input-placeholder{color:var(---control-fgColor-placeholder,var(--fgColor-muted,var(--color-fg-muted,#656d76)));}/*!sc*/
.hLzFvi input::placeholder,.hLzFvi textarea::placeholder,.hLzFvi select::placeholder{color:var(---control-fgColor-placeholder,var(--fgColor-muted,var(--color-fg-muted,#656d76)));}/*!sc*/
.hLzFvi:where([data-trailing-action][data-focused]),.hLzFvi:where(:not([data-trailing-action]):focus-within){border-color:var(--fgColor-accent,var(--color-accent-fg,#0969da));outline:2px solid var(--fgColor-accent,var(--color-accent-fg,#0969da));outline-offset:-1px;}/*!sc*/
.hLzFvi > textarea{padding:var(--base-size-12);}/*!sc*/
.hLzFvi:where([data-contrast]){background-color:var(--bgColor-inset,var(--color-canvas-inset,#f6f8fa));}/*!sc*/
.hLzFvi:where([data-disabled]){color:var(--fgColor-disabled,var(--color-primer-fg-disabled,#8c959f));background-color:var(--control-bgColor-disabled,var(--color-input-disabled-bg,rgba(175,184,193,0.2)));box-shadow:none;border-color:var(--control-borderColor-disabled,var(--borderColor-default,var(--color-border-default,#d0d7de)));}/*!sc*/
.hLzFvi:where([data-disabled]) input,.hLzFvi:where([data-disabled]) textarea,.hLzFvi:where([data-disabled]) select{cursor:not-allowed;}/*!sc*/
.hLzFvi:where([data-monospace]){font-family:var(--fontStack-monospace,SFMono-Regular,Consolas,"Liberation Mono",Menlo,Courier,monospace);}/*!sc*/
.hLzFvi:where([data-validation='error']){border-color:var(--borderColor-danger-emphasis,var(--color-danger-emphasis,#cf222e));}/*!sc*/
.hLzFvi:where([data-validation='error']):where([data-trailing-action][data-focused]),.hLzFvi:where([data-validation='error']):where(:not([data-trailing-action])):focus-within{border-color:var(--fgColor-accent,var(--color-accent-fg,#0969da));outline:2px solid var(--fgColor-accent,var(--color-accent-fg,#0969da));outline-offset:-1px;}/*!sc*/
.hLzFvi:where([data-validation='success']){border-color:var(--bgColor-success-emphasis,var(--color-success-emphasis,#1f883d));}/*!sc*/
.hLzFvi:where([data-block]){width:100%;display:-webkit-box;display:-webkit-flex;display:-ms-flexbox;display:flex;-webkit-align-self:stretch;-ms-flex-item-align:stretch;align-self:stretch;}/*!sc*/
@media (min-width:768px){.hLzFvi{font-size:var(--text-body-size-medium);}}/*!sc*/
.hLzFvi:where([data-size='small']){--inner-action-size:var(--base-size-20);min-height:var(--base-size-28);padding-top:3px;padding-right:var(--base-size-8);padding-bottom:3px;padding-left:var(--base-size-8);font-size:var(--text-body-size-small);line-height:var(--base-size-20);}/*!sc*/
.hLzFvi:where([data-size='large']){--inner-action-size:var(--base-size-28);height:var(--base-size-40);padding-top:10px;padding-right:var(--base-size-8);padding-bottom:10px;padding-left:var(--base-size-8);}/*!sc*/
.hLzFvi:where([data-variant='small']){min-height:28px;padding-top:3px;padding-right:var(--base-size-8);padding-bottom:3px;padding-left:var(--base-size-8);font-size:(--text-body-size-small);line-height:var(--base-size-20);}/*!sc*/
.hLzFvi:where([data-variant='large']){padding-top:10px;padding-right:var(--base-size-8);padding-bottom:10px;padding-left:var(--base-size-8);font-size:var(--text-title-size-medium);}/*!sc*/
.hLzFvi{display:-webkit-box;display:-webkit-flex;display:-ms-flexbox;display:flex;min-width:160px;}/*!sc*/
data-styled.g14[id="TextInputWrapper__StyledTextInputBaseWrapper-sc-1mqhpbi-0"]{content:"hLzFvi,"}/*!sc*/
.iHYdQq{background-repeat:no-repeat;background-position:right 8px center;padding-right:0;padding-left:0;}/*!sc*/
.iHYdQq > :not(:last-child){margin-right:8px;}/*!sc*/
.iHYdQq .TextInput-icon,.iHYdQq .TextInput-action{-webkit-align-self:center;-ms-flex-item-align:center;align-self:center;color:var(--fgColor-muted,var(--color-fg-muted,#656d76));-webkit-flex-shrink:0;-ms-flex-negative:0;flex-shrink:0;}/*!sc*/
.iHYdQq > input,.iHYdQq > select{padding-right:0;padding-left:0;}/*!sc*/
.iHYdQq:where([data-leading-visual]){padding-left:var(--base-size-12);}/*!sc*/
.iHYdQq:where([data-trailing-visual]:not([data-trailing-action])){padding-right:var(--base-size-12);}/*!sc*/
.iHYdQq:where(:not([data-leading-visual])) > input,.iHYdQq:where(:not([data-leading-visual])) > select{padding-left:var(--base-size-12);}/*!sc*/
.iHYdQq:where(:not([data-trailing-visual]):not([data-trailing-action])) > input,.iHYdQq:where(:not([data-trailing-visual]):not([data-trailing-action])) > select{padding-right:var(--base-size-12);}/*!sc*/
.iHYdQq{display:-webkit-box;display:-webkit-flex;display:-ms-flexbox;display:flex;min-width:160px;}/*!sc*/
data-styled.g15[id="TextInputWrapper__StyledTextInputWrapper-sc-1mqhpbi-1"]{content:"iHYdQq,"}/*!sc*/
.jOyaRH{display:none;}/*!sc*/
.jOyaRH[popover]{position:absolute;padding:0.5em 0.75em;width:-webkit-max-content;width:-moz-max-content;width:max-content;margin:auto;-webkit-clip:auto;clip:auto;white-space:normal;font:normal normal 11px/1.5 -apple-system,BlinkMacSystemFont,"Segoe UI","Noto Sans",Helvetica,Arial,sans-serif,"Apple Color Emoji","Segoe UI Emoji";-webkit-font-smoothing:subpixel-antialiased;color:var(--tooltip-fgColor,var(--fgColor-onEmphasis,var(--color-fg-on-emphasis,#ffffff)));text-align:center;word-wrap:break-word;background:var(--tooltip-bgColor,var(--bgColor-emphasis,var(--color-neutral-emphasis-plus,#24292f)));border-radius:6px;border:0;opacity:0;max-width:250px;inset:auto;overflow:visible;}/*!sc*/
.jOyaRH[popover]:popover-open{display:block;}/*!sc*/
.jOyaRH[popover].\:popover-open{display:block;}/*!sc*/
@media (forced-colors:active){.jOyaRH{outline:1px solid transparent;}}/*!sc*/
.jOyaRH::after{position:absolute;display:block;right:0;left:0;height:var(--overlay-offset,0.25rem);content:'';}/*!sc*/
.jOyaRH[data-direction='n']::after,.jOyaRH[data-direction='ne']::after,.jOyaRH[data-direction='nw']::after{top:100%;}/*!sc*/
.jOyaRH[data-direction='s']::after,.jOyaRH[data-direction='se']::after,.jOyaRH[data-direction='sw']::after{bottom:100%;}/*!sc*/
.jOyaRH[data-direction='w']::after{position:absolute;display:block;height:100%;width:8px;content:'';bottom:0;left:100%;}/*!sc*/
.jOyaRH[data-direction='e']::after{position:absolute;display:block;height:100%;width:8px;content:'';bottom:0;right:100%;margin-left:-8px;}/*!sc*/
@-webkit-keyframes tooltip-appear{from{opacity:0;}to{opacity:1;}}/*!sc*/
@keyframes tooltip-appear{from{opacity:0;}to{opacity:1;}}/*!sc*/
.jOyaRH:popover-open,.jOyaRH:popover-open::before{-webkit-animation-name:tooltip-appear;animation-name:tooltip-appear;-webkit-animation-duration:0.1s;animation-duration:0.1s;-webkit-animation-fill-mode:forwards;animation-fill-mode:forwards;-webkit-animation-timing-function:ease-in;animation-timing-function:ease-in;-webkit-animation-delay:0s;animation-delay:0s;}/*!sc*/
.jOyaRH.\:popover-open,.jOyaRH.\:popover-open::before{-webkit-animation-name:tooltip-appear;animation-name:tooltip-appear;-webkit-animation-duration:0.1s;animation-duration:0.1s;-webkit-animation-fill-mode:forwards;animation-fill-mode:forwards;-webkit-animation-timing-function:ease-in;animation-timing-function:ease-in;-webkit-animation-delay:0s;animation-delay:0s;}/*!sc*/
data-styled.g16[id="Tooltip__StyledTooltip-sc-e45c7z-0"]{content:"jOyaRH,"}/*!sc*/
.hWlpPn{position:relative;display:inline-block;}/*!sc*/
.hWlpPn::after{position:absolute;z-index:1000000;display:none;padding:0.5em 0.75em;font:normal normal 11px/1.5 -apple-system,BlinkMacSystemFont,"Segoe UI","Noto Sans",Helvetica,Arial,sans-serif,"Apple Color Emoji","Segoe UI Emoji";-webkit-font-smoothing:subpixel-antialiased;color:var(--tooltip-fgColor,var(--fgColor-onEmphasis,var(--color-fg-on-emphasis,#ffffff)));text-align:center;-webkit-text-decoration:none;text-decoration:none;text-shadow:none;text-transform:none;-webkit-letter-spacing:normal;-moz-letter-spacing:normal;-ms-letter-spacing:normal;letter-spacing:normal;word-wrap:break-word;white-space:pre;pointer-events:none;content:attr(aria-label);background:var(--tooltip-bgColor,var(--bgColor-emphasis,var(--color-neutral-emphasis-plus,#24292f)));border-radius:6px;opacity:0;}/*!sc*/
@-webkit-keyframes tooltip-appear{from{opacity:0;}to{opacity:1;}}/*!sc*/
@keyframes tooltip-appear{from{opacity:0;}to{opacity:1;}}/*!sc*/
.hWlpPn:hover::after,.hWlpPn:active::after,.hWlpPn:focus::after,.hWlpPn:focus-within::after{display:inline-block;-webkit-text-decoration:none;text-decoration:none;-webkit-animation-name:tooltip-appear;animation-name:tooltip-appear;-webkit-animation-duration:0.1s;animation-duration:0.1s;-webkit-animation-fill-mode:forwards;animation-fill-mode:forwards;-webkit-animation-timing-function:ease-in;animation-timing-function:ease-in;-webkit-animation-delay:0s;animation-delay:0s;}/*!sc*/
.hWlpPn.tooltipped-no-delay:hover::after,.hWlpPn.tooltipped-no-delay:active::after,.hWlpPn.tooltipped-no-delay:focus::after,.hWlpPn.tooltipped-no-delay:focus-within::after{-webkit-animation-delay:0s;animation-delay:0s;}/*!sc*/
.hWlpPn.tooltipped-multiline:hover::after,.hWlpPn.tooltipped-multiline:active::after,.hWlpPn.tooltipped-multiline:focus::after,.hWlpPn.tooltipped-multiline:focus-within::after{display:table-cell;}/*!sc*/
.hWlpPn.tooltipped-s::after,.hWlpPn.tooltipped-se::after,.hWlpPn.tooltipped-sw::after{top:100%;right:50%;margin-top:6px;}/*!sc*/
.hWlpPn.tooltipped-se::after{right:auto;left:50%;margin-left:-16px;}/*!sc*/
.hWlpPn.tooltipped-sw::after{margin-right:-16px;}/*!sc*/
.hWlpPn.tooltipped-n::after,.hWlpPn.tooltipped-ne::after,.hWlpPn.tooltipped-nw::after{right:50%;bottom:100%;margin-bottom:6px;}/*!sc*/
.hWlpPn.tooltipped-ne::after{right:auto;left:50%;margin-left:-16px;}/*!sc*/
.hWlpPn.tooltipped-nw::after{margin-right:-16px;}/*!sc*/
.hWlpPn.tooltipped-s::after,.hWlpPn.tooltipped-n::after{-webkit-transform:translateX(50%);-ms-transform:translateX(50%);transform:translateX(50%);}/*!sc*/
.hWlpPn.tooltipped-w::after{right:100%;bottom:50%;margin-right:6px;-webkit-transform:translateY(50%);-ms-transform:translateY(50%);transform:translateY(50%);}/*!sc*/
.hWlpPn.tooltipped-e::after{bottom:50%;left:100%;margin-left:6px;-webkit-transform:translateY(50%);-ms-transform:translateY(50%);transform:translateY(50%);}/*!sc*/
.hWlpPn.tooltipped-multiline::after{width:-webkit-max-content;width:-moz-max-content;width:max-content;max-width:250px;word-wrap:break-word;white-space:pre-line;border-collapse:separate;}/*!sc*/
.hWlpPn.tooltipped-multiline.tooltipped-s::after,.hWlpPn.tooltipped-multiline.tooltipped-n::after{right:auto;left:50%;-webkit-transform:translateX(-50%);-ms-transform:translateX(-50%);transform:translateX(-50%);}/*!sc*/
.hWlpPn.tooltipped-multiline.tooltipped-w::after,.hWlpPn.tooltipped-multiline.tooltipped-e::after{right:100%;}/*!sc*/
.hWlpPn.tooltipped-align-right-2::after{right:0;margin-right:0;}/*!sc*/
.hWlpPn.tooltipped-align-left-2::after{left:0;margin-left:0;}/*!sc*/
data-styled.g17[id="Tooltip__TooltipBase-sc-17tf59c-0"]{content:"hWlpPn,"}/*!sc*/
.csITRj{display:inline-block;overflow:hidden;text-overflow:ellipsis;vertical-align:top;white-space:nowrap;max-width:125px;margin-left:4px;margin-right:8px;text-transform:capitalize;}/*!sc*/
.eAtkQz{display:inline-block;overflow:hidden;text-overflow:ellipsis;vertical-align:top;white-space:nowrap;max-width:125px;max-width:100%;}/*!sc*/
data-styled.g19[id="Truncate__StyledTruncate-sc-23o1d2-0"]{content:"csITRj,eAtkQz,"}/*!sc*/
.dwImxt{--segmented-control-button-inner-padding:12px;--segmented-control-button-bg-inset:4px;--segmented-control-outer-radius:6px;background-color:transparent;border-color:transparent;border-radius:var(--segmented-control-outer-radius);border-width:0;color:currentColor;cursor:pointer;font-family:inherit;font-size:inherit;font-weight:600;padding:0;height:100%;width:100%;}/*!sc*/
.dwImxt:focus:not(:disabled){box-shadow:none;outline:2px solid var(--fgColor-accent,var(--color-accent-fg,#0969da));outline-offset:-1px;}/*!sc*/
.dwImxt:focus:not(:disabled):not(:focus-visible){outline:solid 1px transparent;}/*!sc*/
.dwImxt:focus-visible:not(:disabled){box-shadow:none;outline:2px solid var(--fgColor-accent,var(--color-accent-fg,#0969da));outline-offset:-1px;}/*!sc*/
.dwImxt .segmentedControl-content{-webkit-align-items:center;-webkit-box-align:center;-ms-flex-align:center;align-items:center;background-color:var(--controlKnob-bgColor-rest,var(--color-segmented-control-button-bg,#ffffff));border-color:var(--controlKnob-borderColor-rest,var(--color-segmented-control-button-hover-active-selected-border,#8c959f));border-style:solid;border-width:1px;border-radius:var(--segmented-control-outer-radius);display:-webkit-box;display:-webkit-flex;display:-ms-flexbox;display:flex;height:100%;-webkit-box-pack:center;-webkit-justify-content:center;-ms-flex-pack:center;justify-content:center;padding-left:var(--segmented-control-button-inner-padding);padding-right:var(--segmented-control-button-inner-padding);}/*!sc*/
.dwImxt svg{fill:var(--fgColor-muted,var(--color-fg-muted,#656d76));}/*!sc*/
.dwImxt:focus:focus-visible:not(:last-child):after{width:0;}/*!sc*/
.dwImxt .segmentedControl-text:after{content:"Preview";display:block;font-weight:600;height:0;overflow:hidden;pointer-events:none;-webkit-user-select:none;-moz-user-select:none;-ms-user-select:none;user-select:none;visibility:hidden;}/*!sc*/
@media (pointer:coarse){.dwImxt:before{content:"";position:absolute;left:0;right:0;-webkit-transform:translateY(-50%);-ms-transform:translateY(-50%);transform:translateY(-50%);top:50%;min-height:44px;}}/*!sc*/
.iFTkun{--segmented-control-button-inner-padding:12px;--segmented-control-button-bg-inset:4px;--segmented-control-outer-radius:6px;background-color:transparent;border-color:transparent;border-radius:var(--segmented-control-outer-radius);border-width:0;color:currentColor;cursor:pointer;font-family:inherit;font-size:inherit;font-weight:400;padding:var(--segmented-control-button-bg-inset);height:100%;width:100%;}/*!sc*/
.iFTkun:focus:not(:disabled){box-shadow:none;outline:2px solid var(--fgColor-accent,var(--color-accent-fg,#0969da));outline-offset:-1px;}/*!sc*/
.iFTkun:focus:not(:disabled):not(:focus-visible){outline:solid 1px transparent;}/*!sc*/
.iFTkun:focus-visible:not(:disabled){box-shadow:none;outline:2px solid var(--fgColor-accent,var(--color-accent-fg,#0969da));outline-offset:-1px;}/*!sc*/
.iFTkun .segmentedControl-content{-webkit-align-items:center;-webkit-box-align:center;-ms-flex-align:center;align-items:center;background-color:transparent;border-color:transparent;border-style:solid;border-width:1px;border-radius:calc(var(--segmented-control-outer-radius) - var(--segmented-control-button-bg-inset) / 2);display:-webkit-box;display:-webkit-flex;display:-ms-flexbox;display:flex;height:100%;-webkit-box-pack:center;-webkit-justify-content:center;-ms-flex-pack:center;justify-content:center;padding-left:calc(var(--segmented-control-button-inner-padding) - var(--segmented-control-button-bg-inset));padding-right:calc(var(--segmented-control-button-inner-padding) - var(--segmented-control-button-bg-inset));}/*!sc*/
.iFTkun svg{fill:var(--fgColor-muted,var(--color-fg-muted,#656d76));}/*!sc*/
.iFTkun:hover .segmentedControl-content{background-color:var(--controlTrack-bgColor-hover,var(--color-segmented-control-button-hover-bg,rgba(175,184,193,0.2)));}/*!sc*/
.iFTkun:active .segmentedControl-content{background-color:var(--controlTrack-bgColor-active,var(--color-segmented-control-button-hover-active-bg,rgba(175,184,193,0.4)));}/*!sc*/
.iFTkun:focus:focus-visible:not(:last-child):after{width:0;}/*!sc*/
.iFTkun .segmentedControl-text:after{content:"Code";display:block;font-weight:600;height:0;overflow:hidden;pointer-events:none;-webkit-user-select:none;-moz-user-select:none;-ms-user-select:none;user-select:none;visibility:hidden;}/*!sc*/
@media (pointer:coarse){.iFTkun:before{content:"";position:absolute;left:0;right:0;-webkit-transform:translateY(-50%);-ms-transform:translateY(-50%);transform:translateY(-50%);top:50%;min-height:44px;}}/*!sc*/
.bHmvop{--segmented-control-button-inner-padding:12px;--segmented-control-button-bg-inset:4px;--segmented-control-outer-radius:6px;background-color:transparent;border-color:transparent;border-radius:var(--segmented-control-outer-radius);border-width:0;color:currentColor;cursor:pointer;font-family:inherit;font-size:inherit;font-weight:400;padding:var(--segmented-control-button-bg-inset);height:100%;width:100%;}/*!sc*/
.bHmvop:focus:not(:disabled){box-shadow:none;outline:2px solid var(--fgColor-accent,var(--color-accent-fg,#0969da));outline-offset:-1px;}/*!sc*/
.bHmvop:focus:not(:disabled):not(:focus-visible){outline:solid 1px transparent;}/*!sc*/
.bHmvop:focus-visible:not(:disabled){box-shadow:none;outline:2px solid var(--fgColor-accent,var(--color-accent-fg,#0969da));outline-offset:-1px;}/*!sc*/
.bHmvop .segmentedControl-content{-webkit-align-items:center;-webkit-box-align:center;-ms-flex-align:center;align-items:center;background-color:transparent;border-color:transparent;border-style:solid;border-width:1px;border-radius:calc(var(--segmented-control-outer-radius) - var(--segmented-control-button-bg-inset) / 2);display:-webkit-box;display:-webkit-flex;display:-ms-flexbox;display:flex;height:100%;-webkit-box-pack:center;-webkit-justify-content:center;-ms-flex-pack:center;justify-content:center;padding-left:calc(var(--segmented-control-button-inner-padding) - var(--segmented-control-button-bg-inset));padding-right:calc(var(--segmented-control-button-inner-padding) - var(--segmented-control-button-bg-inset));}/*!sc*/
.bHmvop svg{fill:var(--fgColor-muted,var(--color-fg-muted,#656d76));}/*!sc*/
.bHmvop:hover .segmentedControl-content{background-color:var(--controlTrack-bgColor-hover,var(--color-segmented-control-button-hover-bg,rgba(175,184,193,0.2)));}/*!sc*/
.bHmvop:active .segmentedControl-content{background-color:var(--controlTrack-bgColor-active,var(--color-segmented-control-button-hover-active-bg,rgba(175,184,193,0.4)));}/*!sc*/
.bHmvop:focus:focus-visible:not(:last-child):after{width:0;}/*!sc*/
.bHmvop .segmentedControl-text:after{content:"Blame";display:block;font-weight:600;height:0;overflow:hidden;pointer-events:none;-webkit-user-select:none;-moz-user-select:none;-ms-user-select:none;user-select:none;visibility:hidden;}/*!sc*/
@media (pointer:coarse){.bHmvop:before{content:"";position:absolute;left:0;right:0;-webkit-transform:translateY(-50%);-ms-transform:translateY(-50%);transform:translateY(-50%);top:50%;min-height:44px;}}/*!sc*/
data-styled.g105[id="SegmentedControlButton__SegmentedControlButtonStyled-sc-8lkgxl-0"]{content:"dwImxt,iFTkun,bHmvop,"}/*!sc*/
.lawgDG{background-color:var(--controlTrack-bgColor-rest,var(--color-segmented-control-bg,#eaeef2));border-radius:6px;border:1px solid;border-color:var(--controlTrack-borderColor-rest,transparent);display:-webkit-inline-box;display:-webkit-inline-flex;display:-ms-inline-flexbox;display:inline-flex;font-size:14px;height:28px;margin:0;padding:0;}/*!sc*/
data-styled.g107[id="SegmentedControl__SegmentedControlList-sc-1rzig82-0"]{content:"lawgDG,"}/*!sc*/
body[data-page-layout-dragging="true"]{cursor:col-resize;}/*!sc*/
body[data-page-layout-dragging="true"] *{-webkit-user-select:none;-moz-user-select:none;-ms-user-select:none;user-select:none;}/*!sc*/
data-styled.g108[id="sc-global-gbKrvU1"]{content:"sc-global-gbKrvU1,"}/*!sc*/
.jgdSGi{list-style:none;padding:0;margin:0;}/*!sc*/
.jgdSGi .PRIVATE_TreeView-item{outline:none;}/*!sc*/
.jgdSGi .PRIVATE_TreeView-item:focus-visible > div,.jgdSGi .PRIVATE_TreeView-item.focus-visible > div{box-shadow:inset 0 0 0 2px var(--fgColor-accent,var(--color-accent-fg,#0969da));}/*!sc*/
@media (forced-colors:active){.jgdSGi .PRIVATE_TreeView-item:focus-visible > div,.jgdSGi .PRIVATE_TreeView-item.focus-visible > div{outline:2px solid HighlightText;outline-offset:-2;}}/*!sc*/
.jgdSGi .PRIVATE_TreeView-item[data-has-leading-action]{--has-leading-action:1;}/*!sc*/
.jgdSGi .PRIVATE_TreeView-item-container{--level:1;--toggle-width:1rem;--min-item-height:2rem;position:relative;display:grid;--leading-action-width:calc(var(--has-leading-action,0) * 1.5rem);--spacer-width:calc(calc(var(--level) - 1) * (var(--toggle-width) / 2));grid-template-columns:var(--spacer-width) var(--leading-action-width) var(--toggle-width) 1fr;grid-template-areas:'spacer leadingAction toggle content';width:100%;font-size:14px;color:var(--fgColor-default,var(--color-fg-default,#1F2328));border-radius:6px;cursor:pointer;}/*!sc*/
.jgdSGi .PRIVATE_TreeView-item-container:hover{background-color:var(--control-transparent-bgColor-hover,var(--color-action-list-item-default-hover-bg,rgba(208,215,222,0.32)));}/*!sc*/
@media (forced-colors:active){.jgdSGi .PRIVATE_TreeView-item-container:hover{outline:2px solid transparent;outline-offset:-2px;}}/*!sc*/
@media (pointer:coarse){.jgdSGi .PRIVATE_TreeView-item-container{--toggle-width:1.5rem;--min-item-height:2.75rem;}}/*!sc*/
.jgdSGi .PRIVATE_TreeView-item-container:has(.PRIVATE_TreeView-item-skeleton):hover{background-color:transparent;cursor:default;}/*!sc*/
@media (forced-colors:active){.jgdSGi .PRIVATE_TreeView-item-container:has(.PRIVATE_TreeView-item-skeleton):hover{outline:none;}}/*!sc*/
.jgdSGi[data-omit-spacer='true'] .PRIVATE_TreeView-item-container{grid-template-columns:0 0 0 1fr;}/*!sc*/
.jgdSGi .PRIVATE_TreeView-item[aria-current='true'] > .PRIVATE_TreeView-item-container{background-color:var(--control-transparent-bgColor-selected,var(--color-action-list-item-default-selected-bg,rgba(208,215,222,0.24)));}/*!sc*/
.jgdSGi .PRIVATE_TreeView-item[aria-current='true'] > .PRIVATE_TreeView-item-container::after{content:'';position:absolute;top:calc(50% - 0.75rem);left:-8px;width:0.25rem;height:1.5rem;background-color:var(--fgColor-accent,var(--color-accent-fg,#0969da));border-radius:6px;}/*!sc*/
@media (forced-colors:active){.jgdSGi .PRIVATE_TreeView-item[aria-current='true'] > .PRIVATE_TreeView-item-container::after{background-color:HighlightText;}}/*!sc*/
.jgdSGi .PRIVATE_TreeView-item-toggle{grid-area:toggle;display:-webkit-box;display:-webkit-flex;display:-ms-flexbox;display:flex;-webkit-box-pack:center;-webkit-justify-content:center;-ms-flex-pack:center;justify-content:center;-webkit-align-items:flex-start;-webkit-box-align:flex-start;-ms-flex-align:flex-start;align-items:flex-start;padding-top:calc(var(--min-item-height) / 2 - 12px / 2);height:100%;color:var(--fgColor-muted,var(--color-fg-muted,#656d76));}/*!sc*/
.jgdSGi .PRIVATE_TreeView-item-toggle--hover:hover{background-color:var(--control-transparent-bgColor-hover,var(--color-tree-view-item-chevron-hover-bg,rgba(208,215,222,0.32)));}/*!sc*/
.jgdSGi .PRIVATE_TreeView-item-toggle--end{border-top-left-radius:6px;border-bottom-left-radius:6px;}/*!sc*/
.jgdSGi .PRIVATE_TreeView-item-content{grid-area:content;display:-webkit-box;display:-webkit-flex;display:-ms-flexbox;display:flex;height:100%;padding:0 8px;gap:8px;line-height:var(--custom-line-height,var(--text-body-lineHeight-medium,1.4285));padding-top:calc((var(--min-item-height) - var(--custom-line-height,1.3rem)) / 2);padding-bottom:calc((var(--min-item-height) - var(--custom-line-height,1.3rem)) / 2);}/*!sc*/
.jgdSGi .PRIVATE_TreeView-item-content-text{-webkit-flex:1 1 auto;-ms-flex:1 1 auto;flex:1 1 auto;width:0;}/*!sc*/
.jgdSGi[data-truncate-text='true'] .PRIVATE_TreeView-item-content-text{overflow:hidden;white-space:nowrap;text-overflow:ellipsis;}/*!sc*/
.jgdSGi[data-truncate-text='false'] .PRIVATE_TreeView-item-content-text{word-break:break-word;}/*!sc*/
.jgdSGi .PRIVATE_TreeView-item-visual{display:-webkit-box;display:-webkit-flex;display:-ms-flexbox;display:flex;-webkit-align-items:center;-webkit-box-align:center;-ms-flex-align:center;align-items:center;color:var(--fgColor-muted,var(--color-fg-muted,#656d76));height:var(--custom-line-height,1.3rem);}/*!sc*/
.jgdSGi .PRIVATE_TreeView-item-leading-action{display:-webkit-box;display:-webkit-flex;display:-ms-flexbox;display:flex;color:var(--fgColor-muted,var(--color-fg-muted,#656d76));grid-area:leadingAction;}/*!sc*/
.jgdSGi .PRIVATE_TreeView-item-leading-action > button{-webkit-flex-shrink:1;-ms-flex-negative:1;flex-shrink:1;}/*!sc*/
.jgdSGi .PRIVATE_TreeView-item-level-line{width:100%;height:100%;border-right:1px solid;border-color:var(--borderColor-muted,var(--color-border-subtle,rgba(31,35,40,0.15)));}/*!sc*/
@media (hover:hover){.jgdSGi .PRIVATE_TreeView-item-level-line{border-color:transparent;}.jgdSGi:hover .PRIVATE_TreeView-item-level-line,.jgdSGi:focus-within .PRIVATE_TreeView-item-level-line{border-color:var(--borderColor-muted,var(--color-border-subtle,rgba(31,35,40,0.15)));}}/*!sc*/
.jgdSGi .PRIVATE_TreeView-directory-icon{display:grid;color:var(--treeViewItem-leadingVisual-iconColor-rest,var(--color-tree-view-item-chevron-directory-fill,#54aeff));}/*!sc*/
.jgdSGi .PRIVATE_VisuallyHidden{position:absolute;width:1px;height:1px;padding:0;margin:-1px;overflow:hidden;-webkit-clip:rect(0,0,0,0);clip:rect(0,0,0,0);white-space:nowrap;border-width:0;}/*!sc*/
data-styled.g114[id="TreeView__UlBox-sc-4ex6b6-0"]{content:"jgdSGi,"}/*!sc*/
</style><meta data-hydrostats="publish"/> <!-- --> <!-- --> <button hidden="" data-testid="header-permalink-button" data-hotkey-scope="read-only-cursor-text-area"></button><button hidden=""></button><div><div style="--sticky-pane-height:100vh;--spacing:var(--spacing-none)" class="Box-sc-g0xbh4-0 hOfjFo"><div class="Box-sc-g0xbh4-0 oDGAe"><div class="Box-sc-g0xbh4-0 kowOcT"><div tabindex="0" class="Box-sc-g0xbh4-0 gISSDQ"><div class="Box-sc-g0xbh4-0 fHCyST"><div class="Box-sc-g0xbh4-0 hPvFuC"></div><div style="--pane-width:320px" class="Box-sc-g0xbh4-0 fFSoPl"><div class="react-tree-pane-contents-3-panel"><div id="repos-file-tree" class="Box-sc-g0xbh4-0 birIjn"><div class="Box-sc-g0xbh4-0 hNNCwk"><div class="Box-sc-g0xbh4-0 jfIeyl"><h2 class="Box-sc-g0xbh4-0 XosP prc-Heading-Heading-6CmGO"><button style="--button-color:fg.muted" type="button" aria-label="Expand file tree" data-testid="expand-file-tree-button-mobile" class="Box-sc-g0xbh4-0 bCKfWo prc-Button-ButtonBase-c50BI" data-loading="false" data-size="medium" data-variant="invisible" aria-describedby=":Rl6mplab:-loading-announcement"><span data-component="buttonContent" class="Box-sc-g0xbh4-0 gUkoLg prc-Button-ButtonContent-HKbr-"><span data-component="leadingVisual" class="prc-Button-Visual-2epfX prc-Button-VisualWrap-Db-eB"><svg aria-hidden="true" focusable="false" class="octicon octicon-arrow-left" viewBox="0 0 16 16" width="16" height="16" fill="currentColor" style="display:inline-block;user-select:none;vertical-align:text-bottom;overflow:visible"><path d="M7.78 12.53a.75.75 0 0 1-1.06 0L2.47 8.28a.75.75 0 0 1 0-1.06l4.25-4.25a.751.751 0 0 1 1.042.018.751.751 0 0 1 .018 1.042L4.81 7h7.44a.75.75 0 0 1 0 1.5H4.81l2.97 2.97a.75.75 0 0 1 0 1.06Z"></path></svg></span><span data-component="text" class="prc-Button-Label-pTQ3x">Files</span></span></button><span role="tooltip" aria-label="Collapse file tree" id="expand-button-file-tree-button" class="Tooltip__TooltipBase-sc-17tf59c-0 hWlpPn tooltipped-se"><button data-component="IconButton" type="button" data-testid="collapse-file-tree-button" aria-expanded="true" aria-controls="repos-file-tree" class="prc-Button-ButtonBase-c50BI position-relative ExpandFileTreeButton-module__expandButton--gL4is ExpandFileTreeButton-module__filesButtonBreakpoint--WfX9t fgColor-muted prc-Button-IconButton-szpyj" data-loading="false" data-no-visuals="true" data-size="medium" data-variant="invisible" aria-describedby=":R356mplab:-loading-announcement" aria-labelledby="expand-button-file-tree-button"><svg aria-hidden="true" focusable="false" class="octicon octicon-sidebar-expand" viewBox="0 0 16 16" width="16" height="16" fill="currentColor" style="display:inline-block;user-select:none;vertical-align:text-bottom;overflow:visible"><path d="m4.177 7.823 2.396-2.396A.25.25 0 0 1 7 5.604v4.792a.25.25 0 0 1-.427.177L4.177 8.177a.25.25 0 0 1 0-.354Z"></path><path d="M0 1.75C0 .784.784 0 1.75 0h12.5C15.216 0 16 .784 16 1.75v12.5A1.75 1.75 0 0 1 14.25 16H1.75A1.75 1.75 0 0 1 0 14.25Zm1.75-.25a.25.25 0 0 0-.25.25v12.5c0 .138.112.25.25.25H9.5v-13Zm12.5 13a.25.25 0 0 0 .25-.25V1.75a.25.25 0 0 0-.25-.25H11v13Z"></path></svg></button></span><button hidden="" data-testid="" data-hotkey-scope="read-only-cursor-text-area"></button></h2><h2 class="Box-sc-g0xbh4-0 kOkWgo prc-Heading-Heading-6CmGO">Files</h2></div><div class="Box-sc-g0xbh4-0 lhbroM"><div class="Box-sc-g0xbh4-0 khzwtX"><button type="button" aria-haspopup="true" aria-expanded="false" tabindex="0" aria-label="master branch" data-testid="anchor-button" class="Box-sc-g0xbh4-0 gMOVLe prc-Button-ButtonBase-c50BI react-repos-tree-pane-ref-selector width-full ref-selector-class" data-loading="false" data-size="medium" data-variant="default" aria-describedby="branch-picker-repos-header-ref-selector-loading-announcement" id="branch-picker-repos-header-ref-selector"><span data-component="buttonContent" class="Box-sc-g0xbh4-0 gUkoLg prc-Button-ButtonContent-HKbr-"><span data-component="text" class="prc-Button-Label-pTQ3x"><div class="Box-sc-g0xbh4-0 bZBlpz"><div class="Box-sc-g0xbh4-0 lhTYNA"><svg aria-hidden="true" focusable="false" class="octicon octicon-git-branch" viewBox="0 0 16 16" width="16" height="16" fill="currentColor" style="display:inline-block;user-select:none;vertical-align:text-bottom;overflow:visible"><path d="M9.5 3.25a2.25 2.25 0 1 1 3 2.122V6A2.5 2.5 0 0 1 10 8.5H6a1 1 0 0 0-1 1v1.128a2.251 2.251 0 1 1-1.5 0V5.372a2.25 2.25 0 1 1 1.5 0v1.836A2.493 2.493 0 0 1 6 7h4a1 1 0 0 0 1-1v-.628A2.25 2.25 0 0 1 9.5 3.25Zm-6 0a.75.75 0 1 0 1.5 0 .75.75 0 0 0-1.5 0Zm8.25-.75a.75.75 0 1 0 0 1.5.75.75 0 0 0 0-1.5ZM4.25 12a.75.75 0 1 0 0 1.5.75.75 0 0 0 0-1.5Z"></path></svg></div><div class="Box-sc-g0xbh4-0 ffLUq ref-selector-button-text-container"><span class="Text__StyledText-sc-17v1xeu-0 eMMFM"> <!-- -->master</span></div></div></span><span data-component="trailingVisual" class="prc-Button-Visual-2epfX prc-Button-VisualWrap-Db-eB"><svg aria-hidden="true" focusable="false" class="octicon octicon-triangle-down" viewBox="0 0 16 16" width="16" height="16" fill="currentColor" style="display:inline-block;user-select:none;vertical-align:text-bottom;overflow:visible"><path d="m4.427 7.427 3.396 3.396a.25.25 0 0 0 .354 0l3.396-3.396A.25.25 0 0 0 11.396 7H4.604a.25.25 0 0 0-.177.427Z"></path></svg></span></span></button><button hidden="" data-hotkey-scope="read-only-cursor-text-area"></button></div><div class="Box-sc-g0xbh4-0 eTeVqd"><a sx="[object Object]" data-component="IconButton" type="button" aria-label="Add file" class="Box-sc-g0xbh4-0 fhbevO prc-Button-ButtonBase-c50BI prc-Button-IconButton-szpyj" data-loading="false" data-no-visuals="true" data-size="medium" data-variant="default" aria-describedby=":R6q6mplab:-loading-announcement :Rq6mplab:" href="/tsonpham/PCodaAutocorrelation/new/master"><svg aria-hidden="true" focusable="false" class="octicon octicon-plus" viewBox="0 0 16 16" width="16" height="16" fill="currentColor" style="display:inline-block;user-select:none;vertical-align:text-bottom;overflow:visible"><path d="M7.75 2a.75.75 0 0 1 .75.75V7h4.25a.75.75 0 0 1 0 1.5H8.5v4.25a.75.75 0 0 1-1.5 0V8.5H2.75a.75.75 0 0 1 0-1.5H7V2.75A.75.75 0 0 1 7.75 2Z"></path></svg></a><span class="Tooltip__StyledTooltip-sc-e45c7z-0 jOyaRH" data-direction="s" aria-label="Add file" role="tooltip" aria-hidden="true" id=":Rq6mplab:">Add file</span><button data-component="IconButton" type="button" aria-label="Search this repository" class="Box-sc-g0xbh4-0 fCjIQM prc-Button-ButtonBase-c50BI prc-Button-IconButton-szpyj" data-loading="false" data-no-visuals="true" data-size="medium" data-variant="default" aria-describedby=":R3a6mplab:-loading-announcement"><svg aria-hidden="true" focusable="false" class="octicon octicon-search" viewBox="0 0 16 16" width="16" height="16" fill="currentColor" style="display:inline-block;user-select:none;vertical-align:text-bottom;overflow:visible"><path d="M10.68 11.74a6 6 0 0 1-7.922-8.982 6 6 0 0 1 8.982 7.922l3.04 3.04a.749.749 0 0 1-.326 1.275.749.749 0 0 1-.734-.215ZM11.5 7a4.499 4.499 0 1 0-8.997 0A4.499 4.499 0 0 0 11.5 7Z"></path></svg></button><button hidden="" data-testid="" data-hotkey-scope="read-only-cursor-text-area"></button></div></div></div><div class="Box-sc-g0xbh4-0 ftzGWg"><span class="TextInputWrapper__StyledTextInputBaseWrapper-sc-1mqhpbi-0 hLzFvi TextInputWrapper__StyledTextInputWrapper-sc-1mqhpbi-1 iHYdQq TextInput-wrapper" data-leading-visual="true" data-trailing-visual="true" aria-busy="false"><span class="TextInput-icon" id=":R5amplab:" aria-hidden="true"><svg aria-hidden="true" focusable="false" class="octicon octicon-search" viewBox="0 0 16 16" width="16" height="16" fill="currentColor" style="display:inline-block;user-select:none;vertical-align:text-bottom;overflow:visible"><path d="M10.68 11.74a6 6 0 0 1-7.922-8.982 6 6 0 0 1 8.982 7.922l3.04 3.04a.749.749 0 0 1-.326 1.275.749.749 0 0 1-.734-.215ZM11.5 7a4.499 4.499 0 1 0-8.997 0A4.499 4.499 0 0 0 11.5 7Z"></path></svg></span><input type="text" aria-label="Go to file" role="combobox" aria-controls="file-results-list" aria-expanded="false" aria-haspopup="dialog" autoCorrect="off" spellcheck="false" placeholder="Go to file" aria-describedby=":R5amplab: :R5amplabH1:" data-component="input" class="UnstyledTextInput__ToggledUnstyledTextInput-sc-14ypya-0 jkNcAv" value=""/><span class="TextInput-icon" id=":R5amplabH1:" aria-hidden="true"><div class="Box-sc-g0xbh4-0 dItACB"><kbd>t</kbd></div></span></span></div><button hidden="" data-testid="" data-hotkey-scope="read-only-cursor-text-area"></button><button hidden=""></button><div class="Box-sc-g0xbh4-0 gjtfVk"><div class="react-tree-show-tree-items"><div data-testid="repos-file-tree-container" class="Box-sc-g0xbh4-0 cOxzdh"><nav aria-label="File Tree Navigation"><span role="status" aria-live="polite" aria-atomic="true" class="_VisuallyHidden__VisuallyHidden-sc-11jhm7a-0 brGdpi"></span><ul role="tree" aria-label="Files" data-truncate-text="true" class="TreeView__UlBox-sc-4ex6b6-0 jgdSGi"><li class="PRIVATE_TreeView-item" tabindex="0" id="ST01-item" role="treeitem" aria-labelledby=":R39implab:" aria-describedby=":R39implabH1:" aria-level="1" aria-expanded="false" aria-selected="false"><div class="PRIVATE_TreeView-item-container" style="--level:1;content-visibility:auto;contain-intrinsic-size:auto 2rem"><div style="grid-area:spacer;display:flex"><div style="width:100%;display:flex"></div></div><div class="PRIVATE_TreeView-item-toggle PRIVATE_TreeView-item-toggle--hover PRIVATE_TreeView-item-toggle--end"><svg aria-hidden="true" focusable="false" class="octicon octicon-chevron-right" viewBox="0 0 12 12" width="12" height="12" fill="currentColor" style="display:inline-block;user-select:none;vertical-align:text-bottom;overflow:visible"><path d="M4.7 10c-.2 0-.4-.1-.5-.2-.3-.3-.3-.8 0-1.1L6.9 6 4.2 3.3c-.3-.3-.3-.8 0-1.1.3-.3.8-.3 1.1 0l3.3 3.2c.3.3.3.8 0 1.1L5.3 9.7c-.2.2-.4.3-.6.3Z"></path></svg></div><div id=":R39implab:" class="PRIVATE_TreeView-item-content"><div class="PRIVATE_VisuallyHidden" aria-hidden="true" id=":R39implabH1:"></div><div class="PRIVATE_TreeView-item-visual" aria-hidden="true"><div class="PRIVATE_TreeView-directory-icon"><svg aria-hidden="true" focusable="false" class="octicon octicon-file-directory-fill" viewBox="0 0 16 16" width="16" height="16" fill="currentColor" style="display:inline-block;user-select:none;vertical-align:text-bottom;overflow:visible"><path d="M1.75 1A1.75 1.75 0 0 0 0 2.75v10.5C0 14.216.784 15 1.75 15h12.5A1.75 1.75 0 0 0 16 13.25v-8.5A1.75 1.75 0 0 0 14.25 3H7.5a.25.25 0 0 1-.2-.1l-.9-1.2C6.07 1.26 5.55 1 5 1H1.75Z"></path></svg></div></div><span class="PRIVATE_TreeView-item-content-text"><span>ST01</span></span></div></div></li><li class="PRIVATE_TreeView-item" tabindex="0" id=".gitignore-item" role="treeitem" aria-labelledby=":R59implab:" aria-describedby=":R59implabH1:" aria-level="1" aria-selected="false"><div class="PRIVATE_TreeView-item-container" style="--level:1;content-visibility:auto;contain-intrinsic-size:auto 2rem"><div style="grid-area:spacer;display:flex"><div style="width:100%;display:flex"></div></div><div id=":R59implab:" class="PRIVATE_TreeView-item-content"><div class="PRIVATE_VisuallyHidden" aria-hidden="true" id=":R59implabH1:"></div><div class="PRIVATE_TreeView-item-visual" aria-hidden="true"><svg aria-hidden="true" focusable="false" class="octicon octicon-file" viewBox="0 0 16 16" width="16" height="16" fill="currentColor" style="display:inline-block;user-select:none;vertical-align:text-bottom;overflow:visible"><path d="M2 1.75C2 .784 2.784 0 3.75 0h6.586c.464 0 .909.184 1.237.513l2.914 2.914c.329.328.513.773.513 1.237v9.586A1.75 1.75 0 0 1 13.25 16h-9.5A1.75 1.75 0 0 1 2 14.25Zm1.75-.25a.25.25 0 0 0-.25.25v12.5c0 .138.112.25.25.25h9.5a.25.25 0 0 0 .25-.25V6h-2.75A1.75 1.75 0 0 1 9 4.25V1.5Zm6.75.062V4.25c0 .138.112.25.25.25h2.688l-.011-.013-2.914-2.914-.013-.011Z"></path></svg></div><span class="PRIVATE_TreeView-item-content-text"><span>.gitignore</span></span></div></div></li><li class="PRIVATE_TreeView-item" tabindex="0" id="Pcoda_autocorrelation.ipynb-item" role="treeitem" aria-labelledby=":R79implab:" aria-describedby=":R79implabH1:" aria-level="1" aria-current="true" aria-selected="false"><div class="PRIVATE_TreeView-item-container" style="--level:1"><div style="grid-area:spacer;display:flex"><div style="width:100%;display:flex"></div></div><div id=":R79implab:" class="PRIVATE_TreeView-item-content"><div class="PRIVATE_VisuallyHidden" aria-hidden="true" id=":R79implabH1:"></div><div class="PRIVATE_TreeView-item-visual" aria-hidden="true"><svg aria-hidden="true" focusable="false" class="octicon octicon-file" viewBox="0 0 16 16" width="16" height="16" fill="currentColor" style="display:inline-block;user-select:none;vertical-align:text-bottom;overflow:visible"><path d="M2 1.75C2 .784 2.784 0 3.75 0h6.586c.464 0 .909.184 1.237.513l2.914 2.914c.329.328.513.773.513 1.237v9.586A1.75 1.75 0 0 1 13.25 16h-9.5A1.75 1.75 0 0 1 2 14.25Zm1.75-.25a.25.25 0 0 0-.25.25v12.5c0 .138.112.25.25.25h9.5a.25.25 0 0 0 .25-.25V6h-2.75A1.75 1.75 0 0 1 9 4.25V1.5Zm6.75.062V4.25c0 .138.112.25.25.25h2.688l-.011-.013-2.914-2.914-.013-.011Z"></path></svg></div><span class="PRIVATE_TreeView-item-content-text"><span>Pcoda_autocorrelation.ipynb</span></span></div></div></li><li class="PRIVATE_TreeView-item" tabindex="0" id="Pcoda_autocorrelation.py-item" role="treeitem" aria-labelledby=":R99implab:" aria-describedby=":R99implabH1:" aria-level="1" aria-selected="false"><div class="PRIVATE_TreeView-item-container" style="--level:1;content-visibility:auto;contain-intrinsic-size:auto 2rem"><div style="grid-area:spacer;display:flex"><div style="width:100%;display:flex"></div></div><div id=":R99implab:" class="PRIVATE_TreeView-item-content"><div class="PRIVATE_VisuallyHidden" aria-hidden="true" id=":R99implabH1:"></div><div class="PRIVATE_TreeView-item-visual" aria-hidden="true"><svg aria-hidden="true" focusable="false" class="octicon octicon-file" viewBox="0 0 16 16" width="16" height="16" fill="currentColor" style="display:inline-block;user-select:none;vertical-align:text-bottom;overflow:visible"><path d="M2 1.75C2 .784 2.784 0 3.75 0h6.586c.464 0 .909.184 1.237.513l2.914 2.914c.329.328.513.773.513 1.237v9.586A1.75 1.75 0 0 1 13.25 16h-9.5A1.75 1.75 0 0 1 2 14.25Zm1.75-.25a.25.25 0 0 0-.25.25v12.5c0 .138.112.25.25.25h9.5a.25.25 0 0 0 .25-.25V6h-2.75A1.75 1.75 0 0 1 9 4.25V1.5Zm6.75.062V4.25c0 .138.112.25.25.25h2.688l-.011-.013-2.914-2.914-.013-.011Z"></path></svg></div><span class="PRIVATE_TreeView-item-content-text"><span>Pcoda_autocorrelation.py</span></span></div></div></li><li class="PRIVATE_TreeView-item" tabindex="0" id="Pham_Tkalcic_JGR2017.pdf-item" role="treeitem" aria-labelledby=":Rb9implab:" aria-describedby=":Rb9implabH1:" aria-level="1" aria-selected="false"><div class="PRIVATE_TreeView-item-container" style="--level:1;content-visibility:auto;contain-intrinsic-size:auto 2rem"><div style="grid-area:spacer;display:flex"><div style="width:100%;display:flex"></div></div><div id=":Rb9implab:" class="PRIVATE_TreeView-item-content"><div class="PRIVATE_VisuallyHidden" aria-hidden="true" id=":Rb9implabH1:"></div><div class="PRIVATE_TreeView-item-visual" aria-hidden="true"><svg aria-hidden="true" focusable="false" class="octicon octicon-file" viewBox="0 0 16 16" width="16" height="16" fill="currentColor" style="display:inline-block;user-select:none;vertical-align:text-bottom;overflow:visible"><path d="M2 1.75C2 .784 2.784 0 3.75 0h6.586c.464 0 .909.184 1.237.513l2.914 2.914c.329.328.513.773.513 1.237v9.586A1.75 1.75 0 0 1 13.25 16h-9.5A1.75 1.75 0 0 1 2 14.25Zm1.75-.25a.25.25 0 0 0-.25.25v12.5c0 .138.112.25.25.25h9.5a.25.25 0 0 0 .25-.25V6h-2.75A1.75 1.75 0 0 1 9 4.25V1.5Zm6.75.062V4.25c0 .138.112.25.25.25h2.688l-.011-.013-2.914-2.914-.013-.011Z"></path></svg></div><span class="PRIVATE_TreeView-item-content-text"><span>Pham_Tkalcic_JGR2017.pdf</span></span></div></div></li><li class="PRIVATE_TreeView-item" tabindex="0" id="Pham_Tkalcic_JGR2018.pdf-item" role="treeitem" aria-labelledby=":Rd9implab:" aria-describedby=":Rd9implabH1:" aria-level="1" aria-selected="false"><div class="PRIVATE_TreeView-item-container" style="--level:1;content-visibility:auto;contain-intrinsic-size:auto 2rem"><div style="grid-area:spacer;display:flex"><div style="width:100%;display:flex"></div></div><div id=":Rd9implab:" class="PRIVATE_TreeView-item-content"><div class="PRIVATE_VisuallyHidden" aria-hidden="true" id=":Rd9implabH1:"></div><div class="PRIVATE_TreeView-item-visual" aria-hidden="true"><svg aria-hidden="true" focusable="false" class="octicon octicon-file" viewBox="0 0 16 16" width="16" height="16" fill="currentColor" style="display:inline-block;user-select:none;vertical-align:text-bottom;overflow:visible"><path d="M2 1.75C2 .784 2.784 0 3.75 0h6.586c.464 0 .909.184 1.237.513l2.914 2.914c.329.328.513.773.513 1.237v9.586A1.75 1.75 0 0 1 13.25 16h-9.5A1.75 1.75 0 0 1 2 14.25Zm1.75-.25a.25.25 0 0 0-.25.25v12.5c0 .138.112.25.25.25h9.5a.25.25 0 0 0 .25-.25V6h-2.75A1.75 1.75 0 0 1 9 4.25V1.5Zm6.75.062V4.25c0 .138.112.25.25.25h2.688l-.011-.013-2.914-2.914-.013-.011Z"></path></svg></div><span class="PRIVATE_TreeView-item-content-text"><span>Pham_Tkalcic_JGR2018.pdf</span></span></div></div></li><li class="PRIVATE_TreeView-item" tabindex="0" id="README.md-item" role="treeitem" aria-labelledby=":Rf9implab:" aria-describedby=":Rf9implabH1:" aria-level="1" aria-selected="false"><div class="PRIVATE_TreeView-item-container" style="--level:1;content-visibility:auto;contain-intrinsic-size:auto 2rem"><div style="grid-area:spacer;display:flex"><div style="width:100%;display:flex"></div></div><div id=":Rf9implab:" class="PRIVATE_TreeView-item-content"><div class="PRIVATE_VisuallyHidden" aria-hidden="true" id=":Rf9implabH1:"></div><div class="PRIVATE_TreeView-item-visual" aria-hidden="true"><svg aria-hidden="true" focusable="false" class="octicon octicon-file" viewBox="0 0 16 16" width="16" height="16" fill="currentColor" style="display:inline-block;user-select:none;vertical-align:text-bottom;overflow:visible"><path d="M2 1.75C2 .784 2.784 0 3.75 0h6.586c.464 0 .909.184 1.237.513l2.914 2.914c.329.328.513.773.513 1.237v9.586A1.75 1.75 0 0 1 13.25 16h-9.5A1.75 1.75 0 0 1 2 14.25Zm1.75-.25a.25.25 0 0 0-.25.25v12.5c0 .138.112.25.25.25h9.5a.25.25 0 0 0 .25-.25V6h-2.75A1.75 1.75 0 0 1 9 4.25V1.5Zm6.75.062V4.25c0 .138.112.25.25.25h2.688l-.011-.013-2.914-2.914-.013-.011Z"></path></svg></div><span class="PRIVATE_TreeView-item-content-text"><span>README.md</span></span></div></div></li></ul></nav></div></div></div></div></div></div><div class="Box-sc-g0xbh4-0 bTBnTW"><div role="slider" aria-label="Draggable pane splitter" aria-valuemin="0" aria-valuemax="0" aria-valuenow="0" aria-valuetext="Pane width 0 pixels" tabindex="0" class="Box-sc-g0xbh4-0 bHLmSv"></div></div></div></div><div class="Box-sc-g0xbh4-0 iKqMNA"><div class="Box-sc-g0xbh4-0"></div><div class="Box-sc-g0xbh4-0 FxAyp"><div data-selector="repos-split-pane-content" tabindex="0" class="Box-sc-g0xbh4-0 leYMvG"><div class="Box-sc-g0xbh4-0 KMPzq"><div class="Box-sc-g0xbh4-0 hfKjHv container"><div class="px-3 pt-3 pb-0" id="StickyHeader"><div class="Box-sc-g0xbh4-0 gZWyZE"><div class="Box-sc-g0xbh4-0 dwYKDk"><div class="Box-sc-g0xbh4-0 iDtIiT"><div class="Box-sc-g0xbh4-0 cEytCf"><nav data-testid="breadcrumbs" aria-labelledby="repos-header-breadcrumb--wide-heading" id="repos-header-breadcrumb--wide" class="Box-sc-g0xbh4-0 fzFXnm"><h2 class="sr-only ScreenReaderHeading-module__userSelectNone--vW4Cq prc-Heading-Heading-6CmGO" data-testid="screen-reader-heading" id="repos-header-breadcrumb--wide-heading">Breadcrumbs</h2><ol class="Box-sc-g0xbh4-0 iMnkmv"><li class="Box-sc-g0xbh4-0 ghzDag"><a class="Box-sc-g0xbh4-0 kHuKdh prc-Link-Link-85e08" sx="[object Object]" data-testid="breadcrumbs-repo-link" href="/tsonpham/PCodaAutocorrelation/tree/master">PCodaAutocorrelation</a></li></ol></nav><div data-testid="breadcrumbs-filename" class="Box-sc-g0xbh4-0 ghzDag"><span class="Text__StyledText-sc-17v1xeu-0 HlHVj" aria-hidden="true">/</span><h1 class="Box-sc-g0xbh4-0 jGhzSQ prc-Heading-Heading-6CmGO" tabindex="-1" id="file-name-id-wide">Pcoda_autocorrelation.ipynb</h1></div><button data-component="IconButton" type="button" class="prc-Button-ButtonBase-c50BI ml-2 prc-Button-IconButton-szpyj" data-loading="false" data-no-visuals="true" data-size="small" data-variant="invisible" aria-describedby=":R3td9lab:-loading-announcement" aria-labelledby=":Rdd9lab:"><svg aria-hidden="true" focusable="false" class="octicon octicon-copy" viewBox="0 0 16 16" width="16" height="16" fill="currentColor" style="display:inline-block;user-select:none;vertical-align:text-bottom;overflow:visible"><path d="M0 6.75C0 5.784.784 5 1.75 5h1.5a.75.75 0 0 1 0 1.5h-1.5a.25.25 0 0 0-.25.25v7.5c0 .138.112.25.25.25h7.5a.25.25 0 0 0 .25-.25v-1.5a.75.75 0 0 1 1.5 0v1.5A1.75 1.75 0 0 1 9.25 16h-7.5A1.75 1.75 0 0 1 0 14.25Z"></path><path d="M5 1.75C5 .784 5.784 0 6.75 0h7.5C15.216 0 16 .784 16 1.75v7.5A1.75 1.75 0 0 1 14.25 11h-7.5A1.75 1.75 0 0 1 5 9.25Zm1.75-.25a.25.25 0 0 0-.25.25v7.5c0 .138.112.25.25.25h7.5a.25.25 0 0 0 .25-.25v-7.5a.25.25 0 0 0-.25-.25Z"></path></svg></button><span class="Tooltip__StyledTooltip-sc-e45c7z-0 jOyaRH CopyToClipboardButton-module__tooltip--Dq1IB" data-direction="nw" aria-label="Copy path" aria-hidden="true" id=":Rdd9lab:">Copy path</span></div></div><div class="react-code-view-header-element--wide"><div class="Box-sc-g0xbh4-0 faNtbn"><div class="d-flex gap-2"> <button type="button" class="Box-sc-g0xbh4-0 dwNhzn prc-Button-ButtonBase-c50BI" data-loading="false" data-no-visuals="true" data-size="medium" data-variant="default" aria-describedby=":R2l6d9lab:-loading-announcement"><span data-component="buttonContent" class="Box-sc-g0xbh4-0 gUkoLg prc-Button-ButtonContent-HKbr-"><span data-component="text" class="prc-Button-Label-pTQ3x">Blame</span></span></button><button hidden="" data-testid="" data-hotkey-scope="read-only-cursor-text-area"></button><button data-component="IconButton" type="button" aria-label="More file actions" title="More file actions" data-testid="more-file-actions-button-nav-menu-wide" aria-haspopup="true" aria-expanded="false" tabindex="0" class="Box-sc-g0xbh4-0 fGwBZA prc-Button-ButtonBase-c50BI js-blob-dropdown-click prc-Button-IconButton-szpyj" data-loading="false" data-no-visuals="true" data-size="medium" data-variant="default" aria-describedby=":R156d9lab:-loading-announcement" id=":R156d9lab:"><svg aria-hidden="true" focusable="false" class="octicon octicon-kebab-horizontal" viewBox="0 0 16 16" width="16" height="16" fill="currentColor" style="display:inline-block;user-select:none;vertical-align:text-bottom;overflow:visible"><path d="M8 9a1.5 1.5 0 1 0 0-3 1.5 1.5 0 0 0 0 3ZM1.5 9a1.5 1.5 0 1 0 0-3 1.5 1.5 0 0 0 0 3Zm13 0a1.5 1.5 0 1 0 0-3 1.5 1.5 0 0 0 0 3Z"></path></svg></button> </div></div></div><div class="react-code-view-header-element--narrow"><div class="Box-sc-g0xbh4-0 faNtbn"><div class="d-flex gap-2"> <button type="button" class="Box-sc-g0xbh4-0 dwNhzn prc-Button-ButtonBase-c50BI" data-loading="false" data-no-visuals="true" data-size="medium" data-variant="default" aria-describedby=":R2l7d9lab:-loading-announcement"><span data-component="buttonContent" class="Box-sc-g0xbh4-0 gUkoLg prc-Button-ButtonContent-HKbr-"><span data-component="text" class="prc-Button-Label-pTQ3x">Blame</span></span></button><button hidden="" data-testid="" data-hotkey-scope="read-only-cursor-text-area"></button><button data-component="IconButton" type="button" aria-label="More file actions" title="More file actions" data-testid="more-file-actions-button-nav-menu-narrow" aria-haspopup="true" aria-expanded="false" tabindex="0" class="Box-sc-g0xbh4-0 fGwBZA prc-Button-ButtonBase-c50BI js-blob-dropdown-click prc-Button-IconButton-szpyj" data-loading="false" data-no-visuals="true" data-size="medium" data-variant="default" aria-describedby=":R157d9lab:-loading-announcement" id=":R157d9lab:"><svg aria-hidden="true" focusable="false" class="octicon octicon-kebab-horizontal" viewBox="0 0 16 16" width="16" height="16" fill="currentColor" style="display:inline-block;user-select:none;vertical-align:text-bottom;overflow:visible"><path d="M8 9a1.5 1.5 0 1 0 0-3 1.5 1.5 0 0 0 0 3ZM1.5 9a1.5 1.5 0 1 0 0-3 1.5 1.5 0 0 0 0 3Zm13 0a1.5 1.5 0 1 0 0-3 1.5 1.5 0 0 0 0 3Z"></path></svg></button> </div></div></div></div></div></div></div></div><div class="Box-sc-g0xbh4-0 dJxjrT react-code-view-bottom-padding"> <div class="Box-sc-g0xbh4-0 eFxKDQ"></div> <!-- --> <!-- --> </div><div class="Box-sc-g0xbh4-0 dJxjrT"> <!-- --> <!-- --> <div class="d-flex flex-column border rounded-2 mb-3 pl-1"><div class="Box-sc-g0xbh4-0 dzCJzi"><h2 class="sr-only ScreenReaderHeading-module__userSelectNone--vW4Cq prc-Heading-Heading-6CmGO" data-testid="screen-reader-heading">Latest commit</h2><div style="width:120px" class="Skeleton Skeleton--text" data-testid="loading"> </div><div class="d-flex flex-shrink-0 gap-2"><div data-testid="latest-commit-details" class="d-none d-sm-flex flex-items-center"></div><div class="d-flex gap-2"><h2 class="sr-only ScreenReaderHeading-module__userSelectNone--vW4Cq prc-Heading-Heading-6CmGO" data-testid="screen-reader-heading">History</h2><a href="/tsonpham/PCodaAutocorrelation/commits/master/Pcoda_autocorrelation.ipynb" class="prc-Button-ButtonBase-c50BI d-none d-lg-flex LinkButton-module__code-view-link-button--xvCGA flex-items-center fgColor-default" data-loading="false" data-size="small" data-variant="invisible" aria-describedby=":R5dlal9lab:-loading-announcement"><span data-component="buttonContent" data-align="center" class="prc-Button-ButtonContent-HKbr-"><span data-component="leadingVisual" class="prc-Button-Visual-2epfX prc-Button-VisualWrap-Db-eB"><svg aria-hidden="true" focusable="false" class="octicon octicon-history" viewBox="0 0 16 16" width="16" height="16" fill="currentColor" style="display:inline-block;user-select:none;vertical-align:text-bottom;overflow:visible"><path d="m.427 1.927 1.215 1.215a8.002 8.002 0 1 1-1.6 5.685.75.75 0 1 1 1.493-.154 6.5 6.5 0 1 0 1.18-4.458l1.358 1.358A.25.25 0 0 1 3.896 6H.25A.25.25 0 0 1 0 5.75V2.104a.25.25 0 0 1 .427-.177ZM7.75 4a.75.75 0 0 1 .75.75v2.992l2.028.812a.75.75 0 0 1-.557 1.392l-2.5-1A.751.751 0 0 1 7 8.25v-3.5A.75.75 0 0 1 7.75 4Z"></path></svg></span><span data-component="text" class="prc-Button-Label-pTQ3x"><span class="fgColor-default">History</span></span></span></a><div class="d-sm-none"></div><div class="d-flex d-lg-none"><span role="tooltip" aria-label="History" id="history-icon-button-tooltip" class="Tooltip__TooltipBase-sc-17tf59c-0 hWlpPn tooltipped-n"><a href="/tsonpham/PCodaAutocorrelation/commits/master/Pcoda_autocorrelation.ipynb" class="prc-Button-ButtonBase-c50BI LinkButton-module__code-view-link-button--xvCGA flex-items-center fgColor-default" data-loading="false" data-size="small" data-variant="invisible" aria-describedby=":Rpdlal9lab:-loading-announcement history-icon-button-tooltip"><span data-component="buttonContent" data-align="center" class="prc-Button-ButtonContent-HKbr-"><span data-component="leadingVisual" class="prc-Button-Visual-2epfX prc-Button-VisualWrap-Db-eB"><svg aria-hidden="true" focusable="false" class="octicon octicon-history" viewBox="0 0 16 16" width="16" height="16" fill="currentColor" style="display:inline-block;user-select:none;vertical-align:text-bottom;overflow:visible"><path d="m.427 1.927 1.215 1.215a8.002 8.002 0 1 1-1.6 5.685.75.75 0 1 1 1.493-.154 6.5 6.5 0 1 0 1.18-4.458l1.358 1.358A.25.25 0 0 1 3.896 6H.25A.25.25 0 0 1 0 5.75V2.104a.25.25 0 0 1 .427-.177ZM7.75 4a.75.75 0 0 1 .75.75v2.992l2.028.812a.75.75 0 0 1-.557 1.392l-2.5-1A.751.751 0 0 1 7 8.25v-3.5A.75.75 0 0 1 7.75 4Z"></path></svg></span></span></a></span></div></div></div></div></div><div class="Box-sc-g0xbh4-0 ldRxiI"><div class="Box-sc-g0xbh4-0 fVkfyA container"><div class="Box-sc-g0xbh4-0 gNAmSV react-code-size-details-banner"><div class="Box-sc-g0xbh4-0 jNEwzY react-code-size-details-banner"><div class="Box-sc-g0xbh4-0 bsDwxw text-mono"><div title="executable file" class="Truncate__StyledTruncate-sc-23o1d2-0 csITRj"><span>executable file</span></div><span class="Text__StyledText-sc-17v1xeu-0 gHkVwM">·</span><div title="112 KB" data-testid="blob-size" class="Truncate__StyledTruncate-sc-23o1d2-0 eAtkQz"><span>343 lines (343 loc) · 112 KB</span></div></div></div></div><div class="Box-sc-g0xbh4-0 jdLMhu react-blob-view-header-sticky" id="repos-sticky-header"><div class="Box-sc-g0xbh4-0 tOISc"><div class="react-blob-sticky-header"><div class="Box-sc-g0xbh4-0 hqwSEx"><div class="Box-sc-g0xbh4-0 lzKZY"><div class="Box-sc-g0xbh4-0 fHind"><nav data-testid="breadcrumbs" aria-labelledby="sticky-breadcrumb-heading" id="sticky-breadcrumb" class="Box-sc-g0xbh4-0 fzFXnm"><h2 class="sr-only ScreenReaderHeading-module__userSelectNone--vW4Cq prc-Heading-Heading-6CmGO" data-testid="screen-reader-heading" id="sticky-breadcrumb-heading">Breadcrumbs</h2><ol class="Box-sc-g0xbh4-0 iMnkmv"><li class="Box-sc-g0xbh4-0 ghzDag"><a class="Box-sc-g0xbh4-0 kHuKdh prc-Link-Link-85e08" sx="[object Object]" data-testid="breadcrumbs-repo-link" href="/tsonpham/PCodaAutocorrelation/tree/master">PCodaAutocorrelation</a></li></ol></nav><div data-testid="breadcrumbs-filename" class="Box-sc-g0xbh4-0 ghzDag"><span class="Text__StyledText-sc-17v1xeu-0 lauzFl" aria-hidden="true">/</span><h1 class="Box-sc-g0xbh4-0 dnZoUW prc-Heading-Heading-6CmGO" tabindex="-1" id="sticky-file-name-id">Pcoda_autocorrelation.ipynb</h1></div></div><button style="--button-color:fg.default" type="button" class="Box-sc-g0xbh4-0 jRZWlf prc-Button-ButtonBase-c50BI" data-loading="false" data-size="small" data-variant="invisible" aria-describedby=":Riptal9lab:-loading-announcement"><span data-component="buttonContent" class="Box-sc-g0xbh4-0 gUkoLg prc-Button-ButtonContent-HKbr-"><span data-component="leadingVisual" class="prc-Button-Visual-2epfX prc-Button-VisualWrap-Db-eB"><svg aria-hidden="true" focusable="false" class="octicon octicon-arrow-up" viewBox="0 0 16 16" width="16" height="16" fill="currentColor" style="display:inline-block;user-select:none;vertical-align:text-bottom;overflow:visible"><path d="M3.47 7.78a.75.75 0 0 1 0-1.06l4.25-4.25a.75.75 0 0 1 1.06 0l4.25 4.25a.751.751 0 0 1-.018 1.042.751.751 0 0 1-1.042.018L9 4.81v7.44a.75.75 0 0 1-1.5 0V4.81L4.53 7.78a.75.75 0 0 1-1.06 0Z"></path></svg></span><span data-component="text" class="prc-Button-Label-pTQ3x">Top</span></span></button></div></div></div><div class="Box-sc-g0xbh4-0 kTvpNk"><h2 class="sr-only ScreenReaderHeading-module__userSelectNone--vW4Cq prc-Heading-Heading-6CmGO" data-testid="screen-reader-heading">File metadata and controls</h2><div class="Box-sc-g0xbh4-0 iNMjfP"><ul aria-label="File view" class="SegmentedControl__SegmentedControlList-sc-1rzig82-0 lawgDG" data-size="small"><li class="Box-sc-g0xbh4-0 fefCSX" data-selected="true"><button aria-current="true" class="SegmentedControlButton__SegmentedControlButtonStyled-sc-8lkgxl-0 dwImxt" type="button"><span class="segmentedControl-content"><div class="Box-sc-g0xbh4-0 segmentedControl-text" data-text="Preview">Preview</div></span></button></li><li class="Box-sc-g0xbh4-0 idgUkN"><button aria-current="false" class="SegmentedControlButton__SegmentedControlButtonStyled-sc-8lkgxl-0 iFTkun" type="button"><span class="segmentedControl-content"><div class="Box-sc-g0xbh4-0 segmentedControl-text" data-text="Code">Code</div></span></button></li><li class="Box-sc-g0xbh4-0 idgUkN"><button aria-current="false" class="SegmentedControlButton__SegmentedControlButtonStyled-sc-8lkgxl-0 bHmvop" type="button"><span class="segmentedControl-content"><div class="Box-sc-g0xbh4-0 segmentedControl-text" data-text="Blame">Blame</div></span></button></li></ul><button hidden="" data-testid="" data-hotkey-scope="read-only-cursor-text-area"></button><button hidden="" data-testid="" data-hotkey-scope="read-only-cursor-text-area"></button><button hidden="" data-testid="" data-hotkey-scope="read-only-cursor-text-area"></button><div class="Box-sc-g0xbh4-0 jNEwzY react-code-size-details-in-header"><div class="Box-sc-g0xbh4-0 bsDwxw text-mono"><div title="executable file" class="Truncate__StyledTruncate-sc-23o1d2-0 csITRj"><span>executable file</span></div><span class="Text__StyledText-sc-17v1xeu-0 gHkVwM">·</span><div title="112 KB" data-testid="blob-size" class="Truncate__StyledTruncate-sc-23o1d2-0 eAtkQz"><span>343 lines (343 loc) · 112 KB</span></div></div></div></div><div class="Box-sc-g0xbh4-0 kcLCKF"><div class="Box-sc-g0xbh4-0 pr-0 prc-ButtonGroup-ButtonGroup-vcMeG"><div><button data-component="IconButton" type="button" data-testid="copilot-ask-menu" class="prc-Button-ButtonBase-c50BI AskCopilotButton-module__square--o8kDO prc-Button-IconButton-szpyj" data-loading="false" data-no-visuals="true" data-size="small" data-variant="default" aria-describedby="blob-view-header-copilot-icon-loading-announcement" aria-labelledby=":Rbsptal9lab:" id="blob-view-header-copilot-icon"><svg aria-hidden="true" focusable="false" class="octicon octicon-copilot" viewBox="0 0 16 16" width="16" height="16" fill="currentColor" style="display:inline-block;user-select:none;vertical-align:text-bottom;overflow:visible"><path d="M7.998 15.035c-4.562 0-7.873-2.914-7.998-3.749V9.338c.085-.628.677-1.686 1.588-2.065.013-.07.024-.143.036-.218.029-.183.06-.384.126-.612-.201-.508-.254-1.084-.254-1.656 0-.87.128-1.769.693-2.484.579-.733 1.494-1.124 2.724-1.261 1.206-.134 2.262.034 2.944.765.05.053.096.108.139.165.044-.057.094-.112.143-.165.682-.731 1.738-.899 2.944-.765 1.23.137 2.145.528 2.724 1.261.566.715.693 1.614.693 2.484 0 .572-.053 1.148-.254 1.656.066.228.098.429.126.612.012.076.024.148.037.218.924.385 1.522 1.471 1.591 2.095v1.872c0 .766-3.351 3.795-8.002 3.795Zm0-1.485c2.28 0 4.584-1.11 5.002-1.433V7.862l-.023-.116c-.49.21-1.075.291-1.727.291-1.146 0-2.059-.327-2.71-.991A3.222 3.222 0 0 1 8 6.303a3.24 3.24 0 0 1-.544.743c-.65.664-1.563.991-2.71.991-.652 0-1.236-.081-1.727-.291l-.023.116v4.255c.419.323 2.722 1.433 5.002 1.433ZM6.762 2.83c-.193-.206-.637-.413-1.682-.297-1.019.113-1.479.404-1.713.7-.247.312-.369.789-.369 1.554 0 .793.129 1.171.308 1.371.162.181.519.379 1.442.379.853 0 1.339-.235 1.638-.54.315-.322.527-.827.617-1.553.117-.935-.037-1.395-.241-1.614Zm4.155-.297c-1.044-.116-1.488.091-1.681.297-.204.219-.359.679-.242 1.614.091.726.303 1.231.618 1.553.299.305.784.54 1.638.54.922 0 1.28-.198 1.442-.379.179-.2.308-.578.308-1.371 0-.765-.123-1.242-.37-1.554-.233-.296-.693-.587-1.713-.7Z"></path><path d="M6.25 9.037a.75.75 0 0 1 .75.75v1.501a.75.75 0 0 1-1.5 0V9.787a.75.75 0 0 1 .75-.75Zm4.25.75v1.501a.75.75 0 0 1-1.5 0V9.787a.75.75 0 0 1 1.5 0Z"></path></svg></button><span class="Tooltip__StyledTooltip-sc-e45c7z-0 jOyaRH" data-direction="s" aria-hidden="true" id=":Rbsptal9lab:">Ask Copilot about this file</span></div><div></div></div><div class="Box-sc-g0xbh4-0 kVWtTz react-blob-header-edit-and-raw-actions"><div class="Box-sc-g0xbh4-0 prc-ButtonGroup-ButtonGroup-vcMeG"><div><a href="https://github.com/tsonpham/PCodaAutocorrelation/raw/refs/heads/master/Pcoda_autocorrelation.ipynb" data-testid="raw-button" class="Box-sc-g0xbh4-0 gWqxTd prc-Button-ButtonBase-c50BI" data-loading="false" data-no-visuals="true" data-size="small" data-variant="default" aria-describedby=":R5csptal9lab:-loading-announcement"><span data-component="buttonContent" class="Box-sc-g0xbh4-0 gUkoLg prc-Button-ButtonContent-HKbr-"><span data-component="text" class="prc-Button-Label-pTQ3x">Raw</span></span></a></div><div><button data-component="IconButton" type="button" aria-label="Copy raw content" data-testid="copy-raw-button" class="prc-Button-ButtonBase-c50BI prc-Button-IconButton-szpyj" data-loading="false" data-no-visuals="true" data-size="small" data-variant="default" aria-describedby=":Rpcsptal9lab:-loading-announcement"><svg aria-hidden="true" focusable="false" class="octicon octicon-copy" viewBox="0 0 16 16" width="16" height="16" fill="currentColor" style="display:inline-block;user-select:none;vertical-align:text-bottom;overflow:visible"><path d="M0 6.75C0 5.784.784 5 1.75 5h1.5a.75.75 0 0 1 0 1.5h-1.5a.25.25 0 0 0-.25.25v7.5c0 .138.112.25.25.25h7.5a.25.25 0 0 0 .25-.25v-1.5a.75.75 0 0 1 1.5 0v1.5A1.75 1.75 0 0 1 9.25 16h-7.5A1.75 1.75 0 0 1 0 14.25Z"></path><path d="M5 1.75C5 .784 5.784 0 6.75 0h7.5C15.216 0 16 .784 16 1.75v7.5A1.75 1.75 0 0 1 14.25 11h-7.5A1.75 1.75 0 0 1 5 9.25Zm1.75-.25a.25.25 0 0 0-.25.25v7.5c0 .138.112.25.25.25h7.5a.25.25 0 0 0 .25-.25v-7.5a.25.25 0 0 0-.25-.25Z"></path></svg></button></div><div><span role="tooltip" aria-label="Download raw file" id=":Rdcsptal9lab:" class="Tooltip__TooltipBase-sc-17tf59c-0 hWlpPn tooltipped-n"><button data-component="IconButton" type="button" aria-label="Download raw content" data-testid="download-raw-button" class="Box-sc-g0xbh4-0 ivobqY prc-Button-ButtonBase-c50BI prc-Button-IconButton-szpyj" data-loading="false" data-no-visuals="true" data-size="small" data-variant="default" aria-describedby=":Rtcsptal9lab:-loading-announcement"><svg aria-hidden="true" focusable="false" class="octicon octicon-download" viewBox="0 0 16 16" width="16" height="16" fill="currentColor" style="display:inline-block;user-select:none;vertical-align:text-bottom;overflow:visible"><path d="M2.75 14A1.75 1.75 0 0 1 1 12.25v-2.5a.75.75 0 0 1 1.5 0v2.5c0 .138.112.25.25.25h10.5a.25.25 0 0 0 .25-.25v-2.5a.75.75 0 0 1 1.5 0v2.5A1.75 1.75 0 0 1 13.25 14Z"></path><path d="M7.25 7.689V2a.75.75 0 0 1 1.5 0v5.689l1.97-1.969a.749.749 0 1 1 1.06 1.06l-3.25 3.25a.749.749 0 0 1-1.06 0L4.22 6.78a.749.749 0 1 1 1.06-1.06l1.97 1.969Z"></path></svg></button></span></div></div><button hidden="" data-testid="raw-button-shortcut" data-hotkey-scope="read-only-cursor-text-area"></button><button hidden="" data-testid="copy-raw-button-shortcut" data-hotkey-scope="read-only-cursor-text-area"></button><button hidden="" data-testid="download-raw-button-shortcut" data-hotkey-scope="read-only-cursor-text-area"></button><a class="js-github-dev-shortcut d-none prc-Link-Link-85e08" href="https://github.dev/"></a><button hidden="" data-testid="" data-hotkey-scope="read-only-cursor-text-area"></button><a class="js-github-dev-new-tab-shortcut d-none prc-Link-Link-85e08" href="https://github.dev/" target="_blank"></a><button hidden="" data-testid="" data-hotkey-scope="read-only-cursor-text-area"></button><div class="Box-sc-g0xbh4-0 prc-ButtonGroup-ButtonGroup-vcMeG"><div><span role="tooltip" aria-label="Edit this file" id=":R6ksptal9lab:" class="Tooltip__TooltipBase-sc-17tf59c-0 hWlpPn tooltipped-nw"><a sx="[object Object]" data-component="IconButton" type="button" aria-label="Edit file" data-testid="edit-button" class="Box-sc-g0xbh4-0 kilKoS prc-Button-ButtonBase-c50BI prc-Button-IconButton-szpyj" data-loading="false" data-no-visuals="true" data-size="small" data-variant="default" aria-describedby=":Rmksptal9lab:-loading-announcement" href="/tsonpham/PCodaAutocorrelation/edit/master/Pcoda_autocorrelation.ipynb"><svg aria-hidden="true" focusable="false" class="octicon octicon-pencil" viewBox="0 0 16 16" width="16" height="16" fill="currentColor" style="display:inline-block;user-select:none;vertical-align:text-bottom;overflow:visible"><path d="M11.013 1.427a1.75 1.75 0 0 1 2.474 0l1.086 1.086a1.75 1.75 0 0 1 0 2.474l-8.61 8.61c-.21.21-.47.364-.756.445l-3.251.93a.75.75 0 0 1-.927-.928l.929-3.25c.081-.286.235-.547.445-.758l8.61-8.61Zm.176 4.823L9.75 4.81l-6.286 6.287a.253.253 0 0 0-.064.108l-.558 1.953 1.953-.558a.253.253 0 0 0 .108-.064Zm1.238-3.763a.25.25 0 0 0-.354 0L10.811 3.75l1.439 1.44 1.263-1.263a.25.25 0 0 0 0-.354Z"></path></svg></a></span></div><div><button data-component="IconButton" type="button" aria-label="More edit options" data-testid="more-edit-button" aria-haspopup="true" aria-expanded="false" tabindex="0" class="prc-Button-ButtonBase-c50BI prc-Button-IconButton-szpyj" data-loading="false" data-no-visuals="true" data-size="small" data-variant="default" aria-describedby=":Raksptal9lab:-loading-announcement" id=":Raksptal9lab:"><svg aria-hidden="true" focusable="false" class="octicon octicon-triangle-down" viewBox="0 0 16 16" width="16" height="16" fill="currentColor" style="display:inline-block;user-select:none;vertical-align:text-bottom;overflow:visible"><path d="m4.427 7.427 3.396 3.396a.25.25 0 0 0 .354 0l3.396-3.396A.25.25 0 0 0 11.396 7H4.604a.25.25 0 0 0-.177.427Z"></path></svg></button></div></div><button hidden="" data-testid="" data-hotkey="e,Shift+E" data-hotkey-scope="read-only-cursor-text-area"></button></div><div class="react-blob-header-edit-and-raw-actions-combined"><button data-component="IconButton" type="button" aria-label="Edit and raw actions" title="More file actions" data-testid="more-file-actions-button" aria-haspopup="true" aria-expanded="false" tabindex="0" class="Box-sc-g0xbh4-0 ffkqe prc-Button-ButtonBase-c50BI js-blob-dropdown-click prc-Button-IconButton-szpyj" data-loading="false" data-no-visuals="true" data-size="small" data-variant="invisible" aria-describedby=":Rnsptal9lab:-loading-announcement" id=":Rnsptal9lab:"><svg aria-hidden="true" focusable="false" class="octicon octicon-kebab-horizontal" viewBox="0 0 16 16" width="16" height="16" fill="currentColor" style="display:inline-block;user-select:none;vertical-align:text-bottom;overflow:visible"><path d="M8 9a1.5 1.5 0 1 0 0-3 1.5 1.5 0 0 0 0 3ZM1.5 9a1.5 1.5 0 1 0 0-3 1.5 1.5 0 0 0 0 3Zm13 0a1.5 1.5 0 1 0 0-3 1.5 1.5 0 0 0 0 3Z"></path></svg></button></div></div></div></div><div></div></div><div class="Box-sc-g0xbh4-0 hGyMdv"><section aria-labelledby="file-name-id-wide file-name-id-mobile" class="Box-sc-g0xbh4-0 iWAocR"><!--$!--><template></template><div class="Box-sc-g0xbh4-0 fgsa-DI"><span class="prc-Spinner-Box-qNUI9"><svg height="32px" width="32px" viewBox="0 0 16 16" fill="none" aria-hidden="true" aria-label="Loading" class="prc-Spinner-SpinnerAnimation-e7Gf-"><circle cx="8" cy="8" r="7" stroke="currentColor" stroke-opacity="0.25" stroke-width="2" vector-effect="non-scaling-stroke"></circle><path d="M15 8a7.002 7.002 0 00-7-7" stroke="currentColor" stroke-width="2" stroke-linecap="round" vector-effect="non-scaling-stroke"></path></svg></span></div><!--/$--></section></div></div></div> <!-- --> <!-- --> </div></div></div><div class="Box-sc-g0xbh4-0"></div></div></div></div></div><div id="find-result-marks-container" class="Box-sc-g0xbh4-0 cCoXib"></div><button hidden="" data-testid="" data-hotkey-scope="read-only-cursor-text-area"></button><button hidden=""></button></div> <!-- --> <!-- --> <script type="application/json" id="__PRIMER_DATA_:R0:__">{"resolvedServerColorMode":"day"}</script></div>
</react-app>
</turbo-frame>



  </div>

</turbo-frame>

    </main>
  </div>

  </div>

          <footer class="footer pt-8 pb-6 f6 color-fg-muted p-responsive" role="contentinfo" >
  <h2 class='sr-only'>Footer</h2>

  


  <div class="d-flex flex-justify-center flex-items-center flex-column-reverse flex-lg-row flex-wrap flex-lg-nowrap">
    <div class="d-flex flex-items-center flex-shrink-0 mx-2">
      <a aria-label="Homepage" title="GitHub" class="footer-octicon mr-2" href="https://github.com">
        <svg aria-hidden="true" height="24" viewBox="0 0 24 24" version="1.1" width="24" data-view-component="true" class="octicon octicon-mark-github">
    <path d="M12.5.75C6.146.75 1 5.896 1 12.25c0 5.089 3.292 9.387 7.863 10.91.575.101.79-.244.79-.546 0-.273-.014-1.178-.014-2.142-2.889.532-3.636-.704-3.866-1.35-.13-.331-.69-1.352-1.18-1.625-.402-.216-.977-.748-.014-.762.906-.014 1.553.834 1.769 1.179 1.035 1.74 2.688 1.25 3.349.948.1-.747.402-1.25.733-1.538-2.559-.287-5.232-1.279-5.232-5.678 0-1.25.445-2.285 1.178-3.09-.115-.288-.517-1.467.115-3.048 0 0 .963-.302 3.163 1.179.92-.259 1.897-.388 2.875-.388.977 0 1.955.13 2.875.388 2.2-1.495 3.162-1.179 3.162-1.179.633 1.581.23 2.76.115 3.048.733.805 1.179 1.825 1.179 3.09 0 4.413-2.688 5.39-5.247 5.678.417.36.776 1.05.776 2.128 0 1.538-.014 2.774-.014 3.162 0 .302.216.662.79.547C20.709 21.637 24 17.324 24 12.25 24 5.896 18.854.75 12.5.75Z"></path>
</svg>
</a>
      <span>
        &copy; 2025 GitHub,&nbsp;Inc.
      </span>
    </div>

    <nav aria-label="Footer">
      <h3 class="sr-only" id="sr-footer-heading">Footer navigation</h3>

      <ul class="list-style-none d-flex flex-justify-center flex-wrap mb-2 mb-lg-0" aria-labelledby="sr-footer-heading">

          <li class="mx-2">
            <a data-analytics-event="{&quot;category&quot;:&quot;Footer&quot;,&quot;action&quot;:&quot;go to Terms&quot;,&quot;label&quot;:&quot;text:terms&quot;}" href="https://docs.github.com/site-policy/github-terms/github-terms-of-service" data-view-component="true" class="Link--secondary Link">Terms</a>
          </li>

          <li class="mx-2">
            <a data-analytics-event="{&quot;category&quot;:&quot;Footer&quot;,&quot;action&quot;:&quot;go to privacy&quot;,&quot;label&quot;:&quot;text:privacy&quot;}" href="https://docs.github.com/site-policy/privacy-policies/github-privacy-statement" data-view-component="true" class="Link--secondary Link">Privacy</a>
          </li>

          <li class="mx-2">
            <a data-analytics-event="{&quot;category&quot;:&quot;Footer&quot;,&quot;action&quot;:&quot;go to security&quot;,&quot;label&quot;:&quot;text:security&quot;}" href="https://github.com/security" data-view-component="true" class="Link--secondary Link">Security</a>
          </li>

          <li class="mx-2">
            <a data-analytics-event="{&quot;category&quot;:&quot;Footer&quot;,&quot;action&quot;:&quot;go to status&quot;,&quot;label&quot;:&quot;text:status&quot;}" href="https://www.githubstatus.com/" data-view-component="true" class="Link--secondary Link">Status</a>
          </li>

          <li class="mx-2">
            <a data-analytics-event="{&quot;category&quot;:&quot;Footer&quot;,&quot;action&quot;:&quot;go to docs&quot;,&quot;label&quot;:&quot;text:docs&quot;}" href="https://docs.github.com/" data-view-component="true" class="Link--secondary Link">Docs</a>
          </li>

          <li class="mx-2">
            <a data-analytics-event="{&quot;category&quot;:&quot;Footer&quot;,&quot;action&quot;:&quot;go to contact&quot;,&quot;label&quot;:&quot;text:contact&quot;}" href="https://support.github.com?tags=dotcom-footer" data-view-component="true" class="Link--secondary Link">Contact</a>
          </li>

          <li class="mx-2" >
  <cookie-consent-link>
    <button
      type="button"
      class="Link--secondary underline-on-hover border-0 p-0 color-bg-transparent"
      data-action="click:cookie-consent-link#showConsentManagement"
      data-analytics-event="{&quot;location&quot;:&quot;footer&quot;,&quot;action&quot;:&quot;cookies&quot;,&quot;context&quot;:&quot;subfooter&quot;,&quot;tag&quot;:&quot;link&quot;,&quot;label&quot;:&quot;cookies_link_subfooter_footer&quot;}"
    >
      Manage cookies
    </button>
  </cookie-consent-link>
</li>

<li class="mx-2">
  <cookie-consent-link>
    <button
      type="button"
      class="Link--secondary underline-on-hover border-0 p-0 color-bg-transparent"
      data-action="click:cookie-consent-link#showConsentManagement"
      data-analytics-event="{&quot;location&quot;:&quot;footer&quot;,&quot;action&quot;:&quot;dont_share_info&quot;,&quot;context&quot;:&quot;subfooter&quot;,&quot;tag&quot;:&quot;link&quot;,&quot;label&quot;:&quot;dont_share_info_link_subfooter_footer&quot;}"
    >
      Do not share my personal information
    </button>
  </cookie-consent-link>
</li>

      </ul>
    </nav>
  </div>
</footer>



    <ghcc-consent id="ghcc" class="position-fixed bottom-0 left-0" style="z-index: 999999" data-initial-cookie-consent-allowed="" data-cookie-consent-required="false"></ghcc-consent>



  <div id="ajax-error-message" class="ajax-error-message flash flash-error" hidden>
    <svg aria-hidden="true" height="16" viewBox="0 0 16 16" version="1.1" width="16" data-view-component="true" class="octicon octicon-alert">
    <path d="M6.457 1.047c.659-1.234 2.427-1.234 3.086 0l6.082 11.378A1.75 1.75 0 0 1 14.082 15H1.918a1.75 1.75 0 0 1-1.543-2.575Zm1.763.707a.25.25 0 0 0-.44 0L1.698 13.132a.25.25 0 0 0 .22.368h12.164a.25.25 0 0 0 .22-.368Zm.53 3.996v2.5a.75.75 0 0 1-1.5 0v-2.5a.75.75 0 0 1 1.5 0ZM9 11a1 1 0 1 1-2 0 1 1 0 0 1 2 0Z"></path>
</svg>
    <button type="button" class="flash-close js-ajax-error-dismiss" aria-label="Dismiss error">
      <svg aria-hidden="true" height="16" viewBox="0 0 16 16" version="1.1" width="16" data-view-component="true" class="octicon octicon-x">
    <path d="M3.72 3.72a.75.75 0 0 1 1.06 0L8 6.94l3.22-3.22a.749.749 0 0 1 1.275.326.749.749 0 0 1-.215.734L9.06 8l3.22 3.22a.749.749 0 0 1-.326 1.275.749.749 0 0 1-.734-.215L8 9.06l-3.22 3.22a.751.751 0 0 1-1.042-.018.751.751 0 0 1-.018-1.042L6.94 8 3.72 4.78a.75.75 0 0 1 0-1.06Z"></path>
</svg>
    </button>
    You can’t perform that action at this time.
  </div>

    <template id="site-details-dialog">
  <details class="details-reset details-overlay details-overlay-dark lh-default color-fg-default hx_rsm" open>
    <summary role="button" aria-label="Close dialog"></summary>
    <details-dialog class="Box Box--overlay d-flex flex-column anim-fade-in fast hx_rsm-dialog hx_rsm-modal">
      <button class="Box-btn-octicon m-0 btn-octicon position-absolute right-0 top-0" type="button" aria-label="Close dialog" data-close-dialog>
        <svg aria-hidden="true" height="16" viewBox="0 0 16 16" version="1.1" width="16" data-view-component="true" class="octicon octicon-x">
    <path d="M3.72 3.72a.75.75 0 0 1 1.06 0L8 6.94l3.22-3.22a.749.749 0 0 1 1.275.326.749.749 0 0 1-.215.734L9.06 8l3.22 3.22a.749.749 0 0 1-.326 1.275.749.749 0 0 1-.734-.215L8 9.06l-3.22 3.22a.751.751 0 0 1-1.042-.018.751.751 0 0 1-.018-1.042L6.94 8 3.72 4.78a.75.75 0 0 1 0-1.06Z"></path>
</svg>
      </button>
      <div class="octocat-spinner my-6 js-details-dialog-spinner"></div>
    </details-dialog>
  </details>
</template>

    <div class="Popover js-hovercard-content position-absolute" style="display: none; outline: none;">
  <div class="Popover-message Popover-message--bottom-left Popover-message--large Box color-shadow-large" style="width:360px;">
  </div>
</div>

    <template id="snippet-clipboard-copy-button">
  <div class="zeroclipboard-container position-absolute right-0 top-0">
    <clipboard-copy aria-label="Copy" class="ClipboardButton btn js-clipboard-copy m-2 p-0" data-copy-feedback="Copied!" data-tooltip-direction="w">
      <svg aria-hidden="true" height="16" viewBox="0 0 16 16" version="1.1" width="16" data-view-component="true" class="octicon octicon-copy js-clipboard-copy-icon m-2">
    <path d="M0 6.75C0 5.784.784 5 1.75 5h1.5a.75.75 0 0 1 0 1.5h-1.5a.25.25 0 0 0-.25.25v7.5c0 .138.112.25.25.25h7.5a.25.25 0 0 0 .25-.25v-1.5a.75.75 0 0 1 1.5 0v1.5A1.75 1.75 0 0 1 9.25 16h-7.5A1.75 1.75 0 0 1 0 14.25Z"></path><path d="M5 1.75C5 .784 5.784 0 6.75 0h7.5C15.216 0 16 .784 16 1.75v7.5A1.75 1.75 0 0 1 14.25 11h-7.5A1.75 1.75 0 0 1 5 9.25Zm1.75-.25a.25.25 0 0 0-.25.25v7.5c0 .138.112.25.25.25h7.5a.25.25 0 0 0 .25-.25v-7.5a.25.25 0 0 0-.25-.25Z"></path>
</svg>
      <svg aria-hidden="true" height="16" viewBox="0 0 16 16" version="1.1" width="16" data-view-component="true" class="octicon octicon-check js-clipboard-check-icon color-fg-success d-none m-2">
    <path d="M13.78 4.22a.75.75 0 0 1 0 1.06l-7.25 7.25a.75.75 0 0 1-1.06 0L2.22 9.28a.751.751 0 0 1 .018-1.042.751.751 0 0 1 1.042-.018L6 10.94l6.72-6.72a.75.75 0 0 1 1.06 0Z"></path>
</svg>
    </clipboard-copy>
  </div>
</template>
<template id="snippet-clipboard-copy-button-unpositioned">
  <div class="zeroclipboard-container">
    <clipboard-copy aria-label="Copy" class="ClipboardButton btn btn-invisible js-clipboard-copy m-2 p-0 d-flex flex-justify-center flex-items-center" data-copy-feedback="Copied!" data-tooltip-direction="w">
      <svg aria-hidden="true" height="16" viewBox="0 0 16 16" version="1.1" width="16" data-view-component="true" class="octicon octicon-copy js-clipboard-copy-icon">
    <path d="M0 6.75C0 5.784.784 5 1.75 5h1.5a.75.75 0 0 1 0 1.5h-1.5a.25.25 0 0 0-.25.25v7.5c0 .138.112.25.25.25h7.5a.25.25 0 0 0 .25-.25v-1.5a.75.75 0 0 1 1.5 0v1.5A1.75 1.75 0 0 1 9.25 16h-7.5A1.75 1.75 0 0 1 0 14.25Z"></path><path d="M5 1.75C5 .784 5.784 0 6.75 0h7.5C15.216 0 16 .784 16 1.75v7.5A1.75 1.75 0 0 1 14.25 11h-7.5A1.75 1.75 0 0 1 5 9.25Zm1.75-.25a.25.25 0 0 0-.25.25v7.5c0 .138.112.25.25.25h7.5a.25.25 0 0 0 .25-.25v-7.5a.25.25 0 0 0-.25-.25Z"></path>
</svg>
      <svg aria-hidden="true" height="16" viewBox="0 0 16 16" version="1.1" width="16" data-view-component="true" class="octicon octicon-check js-clipboard-check-icon color-fg-success d-none">
    <path d="M13.78 4.22a.75.75 0 0 1 0 1.06l-7.25 7.25a.75.75 0 0 1-1.06 0L2.22 9.28a.751.751 0 0 1 .018-1.042.751.751 0 0 1 1.042-.018L6 10.94l6.72-6.72a.75.75 0 0 1 1.06 0Z"></path>
</svg>
    </clipboard-copy>
  </div>
</template>


    <style>
      .user-mention[href$="/tsonpham"] {
        color: var(--color-user-mention-fg);
        background-color: var(--bgColor-attention-muted, var(--color-attention-subtle));
        border-radius: 2px;
        margin-left: -2px;
        margin-right: -2px;
      }
      .user-mention[href$="/tsonpham"]:before,
      .user-mention[href$="/tsonpham"]:after {
        content: '';
        display: inline-block;
        width: 2px;
      }
    </style>


    </div>

    <div id="js-global-screen-reader-notice" class="sr-only mt-n1" aria-live="polite" aria-atomic="true" ></div>
    <div id="js-global-screen-reader-notice-assertive" class="sr-only mt-n1" aria-live="assertive" aria-atomic="true"></div>
  </body>
</html>

