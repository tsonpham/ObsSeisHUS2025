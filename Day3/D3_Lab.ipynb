{
 "cells": [
  {
   "cell_type": "markdown",
   "id": "0c20824a",
   "metadata": {
    "id": "0c20824a",
    "papermill": {
     "duration": 0.008726,
     "end_time": "2024-03-19T00:38:47.311179",
     "exception": false,
     "start_time": "2024-03-19T00:38:47.302453",
     "status": "completed"
    },
    "tags": []
   },
   "source": [
    "# Linear Regression\n",
    "\n",
    "[![Open In Colab](https://img.shields.io/badge/open%20in-Colab-b5e2fa?logo=googlecolab&style=flat-square&color=ffd670)](https://colab.research.google.com/github/tsonpham/ObsSeisHUS2025/blob/master/Day3/D3_Lab.ipynb)\n",
    "\n",
    "Prepared by Thanh-Son Pham (thanhson.pham@anu.edu.au), April 2025."
   ]
  },
  {
   "cell_type": "markdown",
   "id": "dfea3c18",
   "metadata": {
    "id": "dfea3c18",
    "papermill": {
     "duration": 0.007741,
     "end_time": "2024-03-19T00:38:47.326800",
     "exception": false,
     "start_time": "2024-03-19T00:38:47.319059",
     "status": "completed"
    },
    "tags": []
   },
   "source": [
    "<!-- [![Open In Colab](https://img.shields.io/badge/open%20in-Colab-b5e2fa?logo=googlecolab&style=flat-square&color=ffd670)]() -->\n",
    "\n",
    "Acknowledgement: This notebook is modified from the original [tutorial](https://colab.research.google.com/github/inlab-geo/cofi-examples/blob/main/tutorials/linear_regression/linear_regression.ipynb) of the open-source tool [CoFI](https://cofi.readthedocs.io/en/latest/index.html), the Common Framework for Inference, to demonstrate several approaches to solve the parameter estimation problem to a polynomial.\n",
    "\n",
    "We use the original functions from different software packages as a demonstration in this notebook. However, readers are encouraged to explore the original notebook to see how [CoFI](https://cofi.readthedocs.io/en/latest/index.html) bridges several concepts across inversioninto a unified framework."
   ]
  },
  {
   "cell_type": "markdown",
   "id": "ea9a2fb0",
   "metadata": {
    "id": "ea9a2fb0",
    "papermill": {
     "duration": 0.007557,
     "end_time": "2024-03-19T00:38:47.342386",
     "exception": false,
     "start_time": "2024-03-19T00:38:47.334829",
     "status": "completed"
    },
    "tags": []
   },
   "source": [
    "---\n",
    "\n",
    "## What we do in this notebook\n",
    "Here we demonstrate several ways to approach a simple **linear regression** problem, where we fit a polynomial function to data using three different algorithms:\n",
    "\n",
    "- by solution of a linear system of equations,\n",
    "- by optimization of a data misfit function\n",
    "- by Bayesian sampling of a Likelihood multiplied by a prior.\n",
    "\n",
    "<!-- ---\n",
    "\n",
    "## Learning outcomes\n",
    "\n",
    "- A demonstration of running CoFI for a class of parameter fitting problem.  Example of a CoFI **template**.\n",
    "- A demonstration of how CoFI may be used to  **experiment with different inference approaches** under a common interface.\n",
    "- A demonstration of CoFI's **expandability** in that it may be used with pre-set, or user defined, misfits, likelihood or priors.   -->\n"
   ]
  },
  {
   "cell_type": "code",
   "execution_count": null,
   "id": "bff01cea",
   "metadata": {
    "colab": {
     "base_uri": "https://localhost:8080/"
    },
    "executionInfo": {
     "elapsed": 2616,
     "status": "ok",
     "timestamp": 1744874882991,
     "user": {
      "displayName": "Thanh Son Pham",
      "userId": "17941529104681711853"
     },
     "user_tz": -420
    },
    "id": "bff01cea",
    "outputId": "239ad11f-23a1-406b-af3c-7052070d340d",
    "papermill": {
     "duration": 0.011531,
     "end_time": "2024-03-19T00:38:47.361506",
     "exception": false,
     "start_time": "2024-03-19T00:38:47.349975",
     "status": "completed"
    },
    "tags": []
   },
   "outputs": [],
   "source": [
    "# Environment setup (uncomment code below)\n",
    "\n",
    "# !pip install emcee corner"
   ]
  },
  {
   "cell_type": "code",
   "execution_count": null,
   "id": "f0682f78",
   "metadata": {
    "cellView": "form",
    "executionInfo": {
     "elapsed": 8,
     "status": "ok",
     "timestamp": 1744874883001,
     "user": {
      "displayName": "Thanh Son Pham",
      "userId": "17941529104681711853"
     },
     "user_tz": -420
    },
    "id": "f0682f78"
   },
   "outputs": [],
   "source": [
    "#@title Run to activate retina display\n",
    "\n",
    "%config InlineBackend.figure_format = \"retina\"\n",
    "from matplotlib import rcParams\n",
    "\n",
    "rcParams[\"savefig.dpi\"] = 100\n",
    "rcParams[\"figure.dpi\"] = 100\n",
    "rcParams[\"font.size\"] = 10"
   ]
  },
  {
   "cell_type": "markdown",
   "id": "bfa540ce",
   "metadata": {
    "id": "bfa540ce",
    "papermill": {
     "duration": 0.007598,
     "end_time": "2024-03-19T00:38:47.377186",
     "exception": false,
     "start_time": "2024-03-19T00:38:47.369588",
     "status": "completed"
    },
    "tags": []
   },
   "source": [
    "---\n",
    "## Preparation\n",
    "\n",
    "Let's start with some `(x,y)` data."
   ]
  },
  {
   "cell_type": "code",
   "execution_count": null,
   "id": "afab1163",
   "metadata": {
    "executionInfo": {
     "elapsed": 33,
     "status": "ok",
     "timestamp": 1744874883033,
     "user": {
      "displayName": "Thanh Son Pham",
      "userId": "17941529104681711853"
     },
     "user_tz": -420
    },
    "id": "afab1163",
    "papermill": {
     "duration": 0.337556,
     "end_time": "2024-03-19T00:38:47.722360",
     "exception": false,
     "start_time": "2024-03-19T00:38:47.384804",
     "status": "completed"
    },
    "tags": []
   },
   "outputs": [],
   "source": [
    "import numpy as np\n",
    "import matplotlib.pyplot as plt"
   ]
  },
  {
   "cell_type": "code",
   "execution_count": null,
   "id": "4d9b5eaf",
   "metadata": {
    "executionInfo": {
     "elapsed": 23,
     "status": "ok",
     "timestamp": 1744874883058,
     "user": {
      "displayName": "Thanh Son Pham",
      "userId": "17941529104681711853"
     },
     "user_tz": -420
    },
    "id": "4d9b5eaf",
    "papermill": {
     "duration": 0.013834,
     "end_time": "2024-03-19T00:38:47.744240",
     "exception": false,
     "start_time": "2024-03-19T00:38:47.730406",
     "status": "completed"
    },
    "tags": []
   },
   "outputs": [],
   "source": [
    "# here is some (x,y) data\n",
    "data_x = np.array([1.1530612244897958, -0.07142857142857162, -1.7857142857142858,\n",
    "                1.6428571428571423, -2.642857142857143, -1.0510204081632653,\n",
    "                1.1530612244897958, -1.295918367346939, -0.806122448979592,\n",
    "                -2.2755102040816326, -2.2755102040816326, -0.6836734693877551,\n",
    "                0.7857142857142856, 1.2755102040816322, -0.6836734693877551,\n",
    "                -3.2551020408163267, -0.9285714285714288, -3.377551020408163,\n",
    "                -0.6836734693877551, 1.7653061224489797])\n",
    "\n",
    "data_y = np.array([-7.550931153863841, -6.060810406314714, 3.080063056254076,\n",
    "                -4.499764131508964, 2.9462042659962333, -0.4645899453212615,\n",
    "                -7.43068837808917, 1.6273774547833582, -0.05922697815443567,\n",
    "                3.8462283231266903, 3.425851020301113, -0.05359797104829345,\n",
    "                -10.235538857712598, -5.929113775071286, -1.1871766078924957,\n",
    "                -4.124258811692425, 0.6969191559961637, -4.454022624935177,\n",
    "                -2.352842192972056, -4.25145590011172])\n",
    "sigma = 1   # estimation on the data noise"
   ]
  },
  {
   "cell_type": "markdown",
   "id": "c9264e92",
   "metadata": {
    "id": "c9264e92",
    "papermill": {
     "duration": 0.007577,
     "end_time": "2024-03-19T00:38:47.759887",
     "exception": false,
     "start_time": "2024-03-19T00:38:47.752310",
     "status": "completed"
    },
    "tags": []
   },
   "source": [
    "And now lets plot the data."
   ]
  },
  {
   "cell_type": "code",
   "execution_count": null,
   "id": "85091ea9",
   "metadata": {
    "colab": {
     "base_uri": "https://localhost:8080/",
     "height": 449
    },
    "executionInfo": {
     "elapsed": 229,
     "status": "ok",
     "timestamp": 1744874883266,
     "user": {
      "displayName": "Thanh Son Pham",
      "userId": "17941529104681711853"
     },
     "user_tz": -420
    },
    "id": "85091ea9",
    "outputId": "6be971bd-84e6-4142-88a7-53c5f132a72e",
    "papermill": {
     "duration": 0.128365,
     "end_time": "2024-03-19T00:38:47.895865",
     "exception": false,
     "start_time": "2024-03-19T00:38:47.767500",
     "status": "completed"
    },
    "tags": []
   },
   "outputs": [],
   "source": [
    "def plot_data(sigma=None):\n",
    "    if(sigma is None):\n",
    "        plt.scatter(data_x, data_y, color=\"lightcoral\", label=\"observed data\")\n",
    "        plt.xlabel(\"X\")\n",
    "        plt.ylabel(\"Y\")\n",
    "    else:\n",
    "        plt.errorbar(data_x, data_y, yerr=sigma, fmt='.', color=\"lightcoral\", ecolor='lightgrey', ms=10, label='observed data with error')\n",
    "plot_data(sigma=1)"
   ]
  },
  {
   "cell_type": "markdown",
   "id": "451698d6",
   "metadata": {
    "id": "451698d6",
    "papermill": {
     "duration": 0.007802,
     "end_time": "2024-03-19T00:38:47.912520",
     "exception": false,
     "start_time": "2024-03-19T00:38:47.904718",
     "status": "completed"
    },
    "tags": []
   },
   "source": [
    "---\n",
    "## Problem description\n",
    "\n",
    "To begin with, we will work with polynomial curves, $$y(x) = \\sum_{j=0}^M m_j x^j\\,.$$\n",
    "Here, $M$ is the 'order' of the polynomial: if $M=1$ we have a straight line with 2 parameters, if $M=2$ it will be a quadratic with 3 parameters, and so on. The $m_j, (j=0,\\dots M)$ are the 'model coefficients' that we seek to constrain from the data.\n",
    "\n",
    "For this class of problem, the forward operator takes the following linear form:\n",
    "\n",
    "$$\\left(\\begin{array}{c}y_0\\\\y_1\\\\\\vdots\\\\y_N\\end{array}\\right) = \\left(\\begin{array}{ccc}1&x_0&x_0^2&x_0^3\\\\1&x_1&x_1^2&x_1^3\\\\\\vdots&\\vdots&\\vdots\\\\1&x_N&x_N^2&x_N^3\\end{array}\\right)\\left(\\begin{array}{c}m_0\\\\m_1\\\\m_2\\\\m_3\\end{array}\\right)$$\n",
    "\n",
    "\n",
    "This clearly has the required general form, $\\mathbf{d} =G{\\mathbf m}$.\n",
    "\n",
    "where:\n",
    "\n",
    "- $\\textbf{d}$ is the vector of data values, ($y_0,y_1,\\dots,y_N$);\n",
    "- $\\textbf{m}$ is the vector of model parameters, ($m_0,m_1,m_2, m_3$), where $M=3$;\n",
    "- $G$ is the basis matrix (or design matrix) of this linear regression problem (also called the ***Jacobian*** matrix for this linear problem).\n",
    "\n",
    "We have a set of noisy data values, $y_i (i=0,\\dots,N)$, measured at known locations, $x_i (i=0,\\dots,N)$, and wish to find the best fit degree 3 polynomial.\n",
    "\n",
    "The function that generated our data is : $y=-6-5x+2x^2+x^3$, and we have added Gaussian random noise, ${N}(0,\\sigma^2)$, with $\\sigma=1.0$."
   ]
  },
  {
   "cell_type": "markdown",
   "id": "a5bb1ebe",
   "metadata": {
    "id": "a5bb1ebe",
    "papermill": {
     "duration": 0.007717,
     "end_time": "2024-03-19T00:38:47.928004",
     "exception": false,
     "start_time": "2024-03-19T00:38:47.920287",
     "status": "completed"
    },
    "tags": []
   },
   "source": [
    "We now build the Jacobian/G matrix for this problem and define a forward function which simply multiplies $\\mathbf m$ by $G$."
   ]
  },
  {
   "cell_type": "code",
   "execution_count": null,
   "id": "090a6cf4",
   "metadata": {
    "executionInfo": {
     "elapsed": 24,
     "status": "ok",
     "timestamp": 1744874883291,
     "user": {
      "displayName": "Thanh Son Pham",
      "userId": "17941529104681711853"
     },
     "user_tz": -420
    },
    "id": "090a6cf4",
    "papermill": {
     "duration": 0.012481,
     "end_time": "2024-03-19T00:38:47.948234",
     "exception": false,
     "start_time": "2024-03-19T00:38:47.935753",
     "status": "completed"
    },
    "tags": []
   },
   "outputs": [],
   "source": [
    "nparams = 4 # Number of model parameters to be solved for\n",
    "\n",
    "def jacobian(x=data_x, n=nparams):\n",
    "    return np.array([x**i for i in range(n)]).T\n",
    "\n",
    "def forward(model):\n",
    "    return jacobian().dot(model)\n",
    "\n",
    "def Cd_inv(sigma=sigma, ndata=len(data_x)):\n",
    "    return 1/sigma**2 * np.identity(ndata)"
   ]
  },
  {
   "cell_type": "markdown",
   "id": "b4c82ad7",
   "metadata": {
    "id": "b4c82ad7",
    "papermill": {
     "duration": 0.007863,
     "end_time": "2024-03-19T00:38:47.963975",
     "exception": false,
     "start_time": "2024-03-19T00:38:47.956112",
     "status": "completed"
    },
    "tags": []
   },
   "source": [
    "Define the true model for later."
   ]
  },
  {
   "cell_type": "code",
   "execution_count": null,
   "id": "256db79b",
   "metadata": {
    "executionInfo": {
     "elapsed": 2,
     "status": "ok",
     "timestamp": 1744874883295,
     "user": {
      "displayName": "Thanh Son Pham",
      "userId": "17941529104681711853"
     },
     "user_tz": -420
    },
    "id": "256db79b",
    "papermill": {
     "duration": 0.011927,
     "end_time": "2024-03-19T00:38:47.983664",
     "exception": false,
     "start_time": "2024-03-19T00:38:47.971737",
     "status": "completed"
    },
    "tags": []
   },
   "outputs": [],
   "source": [
    "# True model for plotting\n",
    "x = np.linspace(-3.5,2.5)              # x values to plot\n",
    "true_model = np.array([-6, -5, 2, 1])  # we know it for this case which will be useful later for comparison.\n",
    "\n",
    "true_y = jacobian(x,4).dot(true_model) # y values for true curve"
   ]
  },
  {
   "cell_type": "markdown",
   "id": "294ba6bf",
   "metadata": {
    "id": "294ba6bf",
    "papermill": {
     "duration": 0.007769,
     "end_time": "2024-03-19T00:38:47.999256",
     "exception": false,
     "start_time": "2024-03-19T00:38:47.991487",
     "status": "completed"
    },
    "tags": []
   },
   "source": [
    "Now lets plot the data with the curve from the true polynomial coefficients."
   ]
  },
  {
   "cell_type": "code",
   "execution_count": null,
   "id": "ac253cf3",
   "metadata": {
    "executionInfo": {
     "elapsed": 2,
     "status": "ok",
     "timestamp": 1744874883298,
     "user": {
      "displayName": "Thanh Son Pham",
      "userId": "17941529104681711853"
     },
     "user_tz": -420
    },
    "id": "ac253cf3",
    "papermill": {
     "duration": 0.013249,
     "end_time": "2024-03-19T00:38:48.020672",
     "exception": false,
     "start_time": "2024-03-19T00:38:48.007423",
     "status": "completed"
    },
    "tags": []
   },
   "outputs": [],
   "source": [
    "# Some plotting utilities\n",
    "def plot_model(x,y, label, color=None):\n",
    "    #x = np.linspace(-3.5,2.5)\n",
    "    #y = jacobian(x).dot(model)\n",
    "    plt.plot(x, y, color=color or \"darkorange\", label=label)\n",
    "    plt.xlabel(\"X\")\n",
    "    plt.ylabel(\"Y\")\n",
    "    plt.legend()\n",
    "\n",
    "def plot_models(models, label=\"Posterior samples\", color=\"seagreen\", alpha=0.1):\n",
    "    x = np.linspace(-3.5,2.5)\n",
    "    G = jacobian(x)\n",
    "    plt.plot(x, G.dot(models[0]), color=color, label=label, alpha=alpha)\n",
    "    for m in models:\n",
    "        plt.plot(x, G.dot(m), color=color, alpha=alpha)\n",
    "    # plt.xlabel(\"X\")\n",
    "    # plt.ylabel(\"Y\")\n",
    "    plt.legend()"
   ]
  },
  {
   "cell_type": "code",
   "execution_count": null,
   "id": "d9902849",
   "metadata": {
    "colab": {
     "base_uri": "https://localhost:8080/",
     "height": 449
    },
    "executionInfo": {
     "elapsed": 248,
     "status": "ok",
     "timestamp": 1744874883545,
     "user": {
      "displayName": "Thanh Son Pham",
      "userId": "17941529104681711853"
     },
     "user_tz": -420
    },
    "id": "d9902849",
    "outputId": "316608bb-8574-4278-9d17-5d2ad6ea38ae",
    "papermill": {
     "duration": 0.12557,
     "end_time": "2024-03-19T00:38:48.154514",
     "exception": false,
     "start_time": "2024-03-19T00:38:48.028944",
     "status": "completed"
    },
    "tags": []
   },
   "outputs": [],
   "source": [
    "plot_data(sigma=sigma)\n",
    "plot_model(x,true_y, \"true model\")"
   ]
  },
  {
   "cell_type": "markdown",
   "id": "5ee936e7",
   "metadata": {
    "id": "5ee936e7",
    "papermill": {
     "duration": 0.008186,
     "end_time": "2024-03-19T00:38:48.172370",
     "exception": false,
     "start_time": "2024-03-19T00:38:48.164184",
     "status": "completed"
    },
    "tags": []
   },
   "source": [
    "Now we have the data and the forward model we can start to try and estimate the coefficients of the polynomial from the data."
   ]
  },
  {
   "cell_type": "markdown",
   "id": "9d2abdff",
   "metadata": {
    "id": "9d2abdff",
    "papermill": {
     "duration": 0.008092,
     "end_time": "2024-03-19T00:38:48.204775",
     "exception": false,
     "start_time": "2024-03-19T00:38:48.196683",
     "status": "completed"
    },
    "tags": []
   },
   "source": [
    "---\n",
    "## 1. Linear system solver"
   ]
  },
  {
   "cell_type": "markdown",
   "id": "17f4df3a",
   "metadata": {
    "id": "17f4df3a",
    "papermill": {
     "duration": 0.008221,
     "end_time": "2024-03-19T00:38:48.468152",
     "exception": false,
     "start_time": "2024-03-19T00:38:48.459931",
     "status": "completed"
    },
    "tags": []
   },
   "source": [
    "Our first choice is to define a linear parameter estimation problem (without any regularization) to be infered with the standard least square (analytical) solution.\n",
    "\n",
    "$$\n",
    "m = (G^T C_d^{-1} G)^{-1} G^T C_d^{-1} d.\n",
    "$$"
   ]
  },
  {
   "cell_type": "code",
   "execution_count": null,
   "id": "pw9dgPy0iAUl",
   "metadata": {
    "colab": {
     "base_uri": "https://localhost:8080/"
    },
    "executionInfo": {
     "elapsed": 6,
     "status": "ok",
     "timestamp": 1744874883552,
     "user": {
      "displayName": "Thanh Son Pham",
      "userId": "17941529104681711853"
     },
     "user_tz": -420
    },
    "id": "pw9dgPy0iAUl",
    "outputId": "585dd532-67b6-4882-af01-801cc135a7f9"
   },
   "outputs": [],
   "source": [
    "# Jacobian matrix corresponding to known data_x\n",
    "G = jacobian()\n",
    "# Analytical least square solution\n",
    "L = G.T @ Cd_inv() @ G # @ is a short form for np.matmul, i.e., matrix multiplication\n",
    "R = G.T @ Cd_inv() @ data_y\n",
    "m = np.linalg.inv(L) @ R\n",
    "print (m)"
   ]
  },
  {
   "cell_type": "markdown",
   "id": "ae85d3ae",
   "metadata": {
    "id": "ae85d3ae"
   },
   "source": [
    "The analytical solution can be verified with the `scipy.linalg.lstsq` function."
   ]
  },
  {
   "cell_type": "code",
   "execution_count": null,
   "id": "6a1b4706",
   "metadata": {
    "colab": {
     "base_uri": "https://localhost:8080/"
    },
    "executionInfo": {
     "elapsed": 16,
     "status": "ok",
     "timestamp": 1744874883569,
     "user": {
      "displayName": "Thanh Son Pham",
      "userId": "17941529104681711853"
     },
     "user_tz": -420
    },
    "id": "6a1b4706",
    "outputId": "35b786b3-1853-4460-dc82-1b52cfcd3635",
    "papermill": {
     "duration": 0.012969,
     "end_time": "2024-03-19T00:38:48.511146",
     "exception": false,
     "start_time": "2024-03-19T00:38:48.498177",
     "status": "completed"
    },
    "tags": []
   },
   "outputs": [],
   "source": [
    "from scipy.linalg import lstsq\n",
    "\n",
    "m = lstsq(G, data_y)\n",
    "print(m[0])"
   ]
  },
  {
   "cell_type": "markdown",
   "id": "8f76e1dc",
   "metadata": {
    "id": "8f76e1dc",
    "papermill": {
     "duration": 0.008395,
     "end_time": "2024-03-19T00:38:48.528497",
     "exception": false,
     "start_time": "2024-03-19T00:38:48.520102",
     "status": "completed"
    },
    "tags": []
   },
   "source": [
    "Lets plot the solution for visual inspection."
   ]
  },
  {
   "cell_type": "code",
   "execution_count": null,
   "id": "ebf89658",
   "metadata": {
    "colab": {
     "base_uri": "https://localhost:8080/",
     "height": 449
    },
    "executionInfo": {
     "elapsed": 326,
     "status": "ok",
     "timestamp": 1744874883896,
     "user": {
      "displayName": "Thanh Son Pham",
      "userId": "17941529104681711853"
     },
     "user_tz": -420
    },
    "id": "ebf89658",
    "outputId": "c1e1e0cd-414c-45e7-85cf-6bc8cc329e48",
    "papermill": {
     "duration": 0.170701,
     "end_time": "2024-03-19T00:38:48.707453",
     "exception": false,
     "start_time": "2024-03-19T00:38:48.536752",
     "status": "completed"
    },
    "tags": []
   },
   "outputs": [],
   "source": [
    "plot_data()\n",
    "plot_model(x,jacobian(x).dot(m[0]), \"linear system solver\", color=\"seagreen\")\n",
    "plot_model(x,true_y, \"true model\", color=\"darkorange\")"
   ]
  },
  {
   "cell_type": "markdown",
   "id": "51cf6924",
   "metadata": {
    "id": "51cf6924",
    "papermill": {
     "duration": 0.008738,
     "end_time": "2024-03-19T00:38:48.725154",
     "exception": false,
     "start_time": "2024-03-19T00:38:48.716416",
     "status": "completed"
    },
    "tags": []
   },
   "source": [
    "---\n",
    "## 2. Optimizer\n",
    "\n",
    "The same overdetermined linear problem, $\\textbf{d} = G\\textbf{m}$, with Gaussian data noise can also be solved by minimising the squares of the\n",
    "residual of the linear equations, e.g. $\\textbf{r}^T \\textbf{C}_d^{-1}\\textbf{r}$ where\n",
    "$\\textbf{r}=\\textbf{d}-G\\textbf{m}$. The above matrix solver solution gives us the best data fitting model, but a direct optimisation approach could also be used, say when the number of unknowns is large and we do not wish, or are unable to provide the Jacobian function.\n",
    "\n",
    "So we use the `scipy.optimize.minimize` function with [Nelder-Mead](https://en.wikipedia.org/wiki/Nelder%E2%80%93Mead_method) derivative-free optimization to demonstrate this option."
   ]
  },
  {
   "cell_type": "code",
   "execution_count": null,
   "id": "LOkvnpMglyHa",
   "metadata": {
    "colab": {
     "base_uri": "https://localhost:8080/"
    },
    "executionInfo": {
     "elapsed": 5,
     "status": "ok",
     "timestamp": 1744874883903,
     "user": {
      "displayName": "Thanh Son Pham",
      "userId": "17941529104681711853"
     },
     "user_tz": -420
    },
    "id": "LOkvnpMglyHa",
    "outputId": "2013cea4-ecf7-4afd-a7e2-23af11291491"
   },
   "outputs": [],
   "source": [
    "def misfit(m):\n",
    "    return np.sum((jacobian() @ m - data_y)**2) / sigma**2\n",
    "\n",
    "from scipy.optimize import minimize\n",
    "res = minimize(misfit, np.ones(nparams), method='Nelder-Mead')\n",
    "\n",
    "print(res)"
   ]
  },
  {
   "cell_type": "markdown",
   "id": "c4756bcb",
   "metadata": {
    "id": "c4756bcb"
   },
   "source": [
    "Lets plot the optimal solution for visual inspection."
   ]
  },
  {
   "cell_type": "code",
   "execution_count": null,
   "id": "c42116b6",
   "metadata": {
    "colab": {
     "base_uri": "https://localhost:8080/",
     "height": 449
    },
    "executionInfo": {
     "elapsed": 339,
     "status": "ok",
     "timestamp": 1744874884241,
     "user": {
      "displayName": "Thanh Son Pham",
      "userId": "17941529104681711853"
     },
     "user_tz": -420
    },
    "id": "c42116b6",
    "outputId": "64835675-b3bb-400f-c974-dca70fe8971c",
    "papermill": {
     "duration": 0.164377,
     "end_time": "2024-03-19T00:38:49.009927",
     "exception": false,
     "start_time": "2024-03-19T00:38:48.845550",
     "status": "completed"
    },
    "tags": []
   },
   "outputs": [],
   "source": [
    "plot_data()\n",
    "plot_model(x,jacobian(x).dot(res.x), \"optimization solution\", color=\"cornflowerblue\")\n",
    "plot_model(x,true_y, \"true model\", color=\"darkorange\")"
   ]
  },
  {
   "cell_type": "markdown",
   "id": "e501c228",
   "metadata": {
    "id": "e501c228",
    "papermill": {
     "duration": 0.009161,
     "end_time": "2024-03-19T00:38:49.052648",
     "exception": false,
     "start_time": "2024-03-19T00:38:49.043487",
     "status": "completed"
    },
    "tags": []
   },
   "source": [
    "### Challenge: Change the polynomial degree\n",
    "\n",
    "Try and replace the 3rd order polynomial with a 1st order polynomial (i.e. $M=1$) by adding the required commands below. What does the plot looks like?\n",
    "\n",
    "Start from code below:\n",
    "\n",
    "```\n",
    "G = jacobian(x=data_x, n=2)\n",
    "# Analytical least square solution\n",
    "L = <CHANGE ME>\n",
    "R = <CHANGE ME>\n",
    "m = np.linalg.inv(L) @ R\n",
    "\n",
    "print(\"Inferred curve with n = 2 \")\n",
    "plot_data()\n",
    "plot_model(x,jacobian(x,2)@m, \"optimization solution\", color=\"cornflowerblue\")\n",
    "plot_model(x,true_y, \"true model\", color=\"darkorange\")\n",
    "```"
   ]
  },
  {
   "cell_type": "code",
   "execution_count": null,
   "id": "78e60226",
   "metadata": {
    "executionInfo": {
     "elapsed": 3,
     "status": "ok",
     "timestamp": 1744874884243,
     "user": {
      "displayName": "Thanh Son Pham",
      "userId": "17941529104681711853"
     },
     "user_tz": -420
    },
    "id": "78e60226",
    "papermill": {
     "duration": 0.012909,
     "end_time": "2024-03-19T00:38:49.074720",
     "exception": false,
     "start_time": "2024-03-19T00:38:49.061811",
     "status": "completed"
    },
    "tags": []
   },
   "outputs": [],
   "source": [
    "# Copy the template above, Replace <CHANGE ME> with your answer\n",
    "\n"
   ]
  },
  {
   "cell_type": "code",
   "execution_count": null,
   "id": "b8bf7da6",
   "metadata": {
    "cellView": "form",
    "colab": {
     "base_uri": "https://localhost:8080/",
     "height": 466
    },
    "executionInfo": {
     "elapsed": 483,
     "status": "ok",
     "timestamp": 1744874884727,
     "user": {
      "displayName": "Thanh Son Pham",
      "userId": "17941529104681711853"
     },
     "user_tz": -420
    },
    "id": "b8bf7da6",
    "jupyter": {
     "source_hidden": true
    },
    "outputId": "3367df62-edc2-4d3c-ef0b-3d465a595542",
    "papermill": {
     "duration": 0.170497,
     "end_time": "2024-03-19T00:38:49.254865",
     "exception": false,
     "start_time": "2024-03-19T00:38:49.084368",
     "status": "completed"
    },
    "tags": []
   },
   "outputs": [],
   "source": [
    "#@title Solution\n",
    "\n",
    "# Jacobian matrix corresponding to known data_x\n",
    "G = jacobian(x=data_x, n=2)\n",
    "# Analytical least square solution\n",
    "L = G.T @ Cd_inv() @ G # @ is a short form for np.matmul, i.e., matrix multiplication\n",
    "R = G.T @ Cd_inv() @ data_y\n",
    "m = np.linalg.inv(L) @ R\n",
    "\n",
    "print(\"Inferred curve with n = 2 \")\n",
    "plot_data()\n",
    "plot_model(x,jacobian(x,2)@m, \"optimization solution\", color=\"cornflowerblue\")\n",
    "plot_model(x,true_y, \"true model\", color=\"darkorange\")"
   ]
  },
  {
   "cell_type": "markdown",
   "id": "74f75e37",
   "metadata": {
    "id": "74f75e37",
    "papermill": {
     "duration": 0.009629,
     "end_time": "2024-03-19T00:38:49.275117",
     "exception": false,
     "start_time": "2024-03-19T00:38:49.265488",
     "status": "completed"
    },
    "tags": []
   },
   "source": [
    "-------"
   ]
  },
  {
   "cell_type": "markdown",
   "id": "36b5194b",
   "metadata": {
    "id": "36b5194b",
    "papermill": {
     "duration": 0.009557,
     "end_time": "2024-03-19T00:38:49.294255",
     "exception": false,
     "start_time": "2024-03-19T00:38:49.284698",
     "status": "completed"
    },
    "tags": []
   },
   "source": [
    "---\n",
    "## 3. Bayesian sampling"
   ]
  },
  {
   "cell_type": "markdown",
   "id": "52f5c635",
   "metadata": {
    "id": "52f5c635",
    "papermill": {
     "duration": 0.009567,
     "end_time": "2024-03-19T00:38:49.375539",
     "exception": false,
     "start_time": "2024-03-19T00:38:49.365972",
     "status": "completed"
    },
    "tags": []
   },
   "source": [
    "### Prior probability\n",
    "\n",
    "Bayesian sampling requires a prior probability density function. A common problem with polynomial coefficients as model parameters is that it is not at all obvious what a prior should be. Here we choose a uniform prior with specified bounds\n",
    "$$\n",
    "\\begin{align*}\n",
    "p({\\mathbf m}) &= \\frac{1}{V},\\quad  l_i \\le m_i \\le u_i, \\quad (i=1,\\dots,M)\\\\\n",
    "         &= 0, \\quad {\\rm otherwise},\n",
    "\\end{align*}\n",
    "$$\n",
    "where $l_i$ and $u_i$ are lower and upper bounds on the $i$th model coefficient.\n",
    "\n",
    "It is convient to work with log probability in Bayesian sampling and assume $V=1$ as it's a constant,\n",
    "$$\n",
    "\\begin{align*}\n",
    "\\log p({\\mathbf m}) &= 0,\\quad  l_i \\le m_i \\le u_i, \\quad (i=1,\\dots,M)\\\\\n",
    "         &= -\\infty, \\quad {\\rm otherwise},\n",
    "\\end{align*}\n",
    "$$\n",
    "\n",
    "Here use the uniform distribution with ${\\mathbf l}^T = (-10.,-10.,-10.,-10.)$, and ${\\mathbf u}^T = (10.,10.,10.,10.)$."
   ]
  },
  {
   "cell_type": "code",
   "execution_count": null,
   "id": "97730727",
   "metadata": {
    "executionInfo": {
     "elapsed": 1,
     "status": "ok",
     "timestamp": 1744874884730,
     "user": {
      "displayName": "Thanh Son Pham",
      "userId": "17941529104681711853"
     },
     "user_tz": -420
    },
    "id": "97730727",
    "papermill": {
     "duration": 0.013992,
     "end_time": "2024-03-19T00:38:49.399127",
     "exception": false,
     "start_time": "2024-03-19T00:38:49.385135",
     "status": "completed"
    },
    "tags": []
   },
   "outputs": [],
   "source": [
    "m_lower_bound = np.ones(nparams) * (-10.)             # lower bound for uniform prior\n",
    "m_upper_bound = np.ones(nparams) * 10                 # upper bound for uniform prior\n",
    "\n",
    "def log_prior(model):    # uniform distribution\n",
    "    for i in range(len(m_lower_bound)):\n",
    "        if model[i] < m_lower_bound[i] or model[i] > m_upper_bound[i]: return -np.inf\n",
    "    return 0.0 # model lies within bounds -> return log(1)"
   ]
  },
  {
   "cell_type": "markdown",
   "id": "1db3847f",
   "metadata": {
    "id": "1db3847f",
    "papermill": {
     "duration": 0.009571,
     "end_time": "2024-03-19T00:38:49.313421",
     "exception": false,
     "start_time": "2024-03-19T00:38:49.303850",
     "status": "completed"
    },
    "tags": []
   },
   "source": [
    "### Likelihood\n",
    "\n",
    "Since data errors follow a Gaussian in this example, we can define a likelihood function, $p({\\mathbf d}_{obs}| {\\mathbf m})$.\n",
    "\n",
    "$$\n",
    "p({\\mathbf d}_{obs} | {\\mathbf m}) = \\dfrac{1}{\\sqrt{(2\\pi)^N\\det(C_D)}} \\exp \\left\\{- \\frac{1}{2} ({\\mathbf d}_{obs}-{\\mathbf d}_{pred}({\\mathbf m}))^T C_D^{-1} ({\\mathbf d}_{obs}-{\\mathbf d}_{pred}({\\mathbf m})) \\right\\}\n",
    "$$\n",
    "\n",
    "where ${\\mathbf d}_{obs}$ represents the observed y values and ${\\mathbf d}_{pred}({\\mathbf m})$ are those predicted by the polynomial model $({\\mathbf m})$. The Likelihood is defined as the probability of observing the data actually observed, given a model. In practice we usually only need to evaluate the log of the Likelihood, $\\log p({\\mathbf d}_{obs} | {\\mathbf m})$.\n",
    "\n",
    "To do so, we require the inverse data covariance matrix describing the statistics of the noise in the data, $C_D^{-1}$. For this problem the data errors are independent with identical standard deviation in noise for each datum. Hence $C_D^{-1} = \\frac{1}{\\sigma^2}I$ and $\\det(C_D) = \\sigma^{2N}$ and the likelihood function becomes\n",
    "$$\n",
    "p({\\mathbf d}_{obs} | {\\mathbf m}) = (2\\pi \\sigma^2)^{-\\dfrac{N}{2}} \\exp \\left\\{- \\frac{1}{2} \\sum_{i=1}^N\\left(\\dfrac{d_{obs}^i - d_{pred}^i}{\\sigma}\\right)^2\\right\\}.\n",
    "$$\n",
    "\n",
    "For convenience, the log probability is often used to simplify the calculation and avoid floating over/underflow errors,\n",
    "$$\n",
    "\\log p({\\mathbf d}_{obs} | {\\mathbf m}) = - \\frac{1}{2}\\left(N \\log (2\\pi\\sigma^2) + \\sum_{i=1}^N\\left(\\dfrac{d_{obs}^i - d_{pred}^i}{\\sigma}\\right)^2\\right).\n",
    "$$\n",
    "\n",
    "When the data noise amplitude, $\\sigma$ is assumed or estimated a priori, the likelihood function can be simplified even further,\n",
    "$$\n",
    "\\log p({\\mathbf d}_{obs} | {\\mathbf m}) = - \\frac{1}{2}\\sum_{i=1}^N\\left(\\dfrac{d_{obs}^i - d_{pred}^i}{\\sigma}\\right)^2.\n",
    "$$\n",
    "\n",
    "Note that the data vector $\\mathbf y$ is ${\\mathbf d}_{obs}$ in this context."
   ]
  },
  {
   "cell_type": "code",
   "execution_count": null,
   "id": "6060a9e1",
   "metadata": {
    "executionInfo": {
     "elapsed": 2,
     "status": "ok",
     "timestamp": 1744874884734,
     "user": {
      "displayName": "Thanh Son Pham",
      "userId": "17941529104681711853"
     },
     "user_tz": -420
    },
    "id": "6060a9e1",
    "papermill": {
     "duration": 0.013993,
     "end_time": "2024-03-19T00:38:49.336999",
     "exception": false,
     "start_time": "2024-03-19T00:38:49.323006",
     "status": "completed"
    },
    "tags": []
   },
   "outputs": [],
   "source": [
    "sigma = 1.0                                     # common noise standard deviation\n",
    "def log_likelihood(model):\n",
    "    pred_y = forward(model)\n",
    "    residual = data_y - pred_y\n",
    "    return -0.5 * np.sum(residual**2 / sigma**2)"
   ]
  },
  {
   "cell_type": "markdown",
   "id": "0e4e26fb",
   "metadata": {
    "id": "0e4e26fb",
    "papermill": {
     "duration": 0.009585,
     "end_time": "2024-03-19T00:38:49.437635",
     "exception": false,
     "start_time": "2024-03-19T00:38:49.428050",
     "status": "completed"
    },
    "tags": []
   },
   "source": [
    "### Bayesian sampling\n",
    "\n",
    "In this aproach we sample a probability distribution rather than find a single best fit solution. Bayes' theorem tells us the the posterior distribution is proportional to the likelihood and the prior.\n",
    "\n",
    "$$p(\\mathbf{m}|\\mathbf{d}_{obs}) = K p(\\mathbf{d}_{obs}|\\mathbf{m})p(\\mathbf{m})$$\n",
    "\n",
    "where $K = \\dfrac{1}{p(\\mathbf{d}_{obs})}$ is some constant. Under the assumptions specified $p(\\mathbf{m}|\\mathbf{d}_{obs})$ gives a probability density of models that are supported by the data. We seek to draw random samples from $p(\\mathbf{m}|\\mathbf{d}_{obs})$ over model space and then to make inferences from the resulting ensemble of model parameters.\n",
    "\n",
    "When dropping the constant, the log posterior probability is written simply as,\n",
    "$$\n",
    "\\log p(\\mathbf{m}|\\mathbf{d}_{obs}) = \\log p(\\mathbf{d}_{obs}|\\mathbf{m}) + \\log p(\\mathbf{m}),\n",
    "$$\n",
    "or explicitly,\n",
    "$$\n",
    "\\begin{align*}\n",
    "\\log p({\\mathbf m} | {\\mathbf d}_{obs}) &= - \\frac{1}{2}\\sum_{i=1}^N\\left(\\dfrac{d_{obs}^i - d_{pred}^i}{\\sigma}\\right)^2,\\quad  l_i \\le m_i \\le u_i, \\quad (i=1,\\dots,M)\\\\\n",
    "         &= -\\infty, \\quad {\\rm otherwise},\n",
    "\\end{align*}\n",
    "$$\n",
    "\n",
    "A proposed sample $\\mathbf m$ will never be accepted if drawn outside the parameter boundaries and might accepted with some randomness.\n",
    "\n",
    "In this example we make use of *The Affine Invariant Markov chain Monte Carlo (MCMC) Ensemble sampler*\n",
    "[Goodman and Weare 2010](https://msp.org/camcos/2010/5-1/p04.xhtml) to sample the\n",
    "posterior distribution of the model. (See more details about [emcee](https://emcee.readthedocs.io/en/stable/))."
   ]
  },
  {
   "cell_type": "code",
   "execution_count": null,
   "id": "F9uzCspuoEH7",
   "metadata": {
    "executionInfo": {
     "elapsed": 1,
     "status": "ok",
     "timestamp": 1744874884737,
     "user": {
      "displayName": "Thanh Son Pham",
      "userId": "17941529104681711853"
     },
     "user_tz": -420
    },
    "id": "F9uzCspuoEH7"
   },
   "outputs": [],
   "source": [
    "def log_probbability(model):\n",
    "    return log_prior(model) + log_likelihood(model)"
   ]
  },
  {
   "cell_type": "markdown",
   "id": "74b332d7",
   "metadata": {
    "id": "74b332d7",
    "papermill": {
     "duration": 0.011505,
     "end_time": "2024-03-19T00:38:49.458730",
     "exception": false,
     "start_time": "2024-03-19T00:38:49.447225",
     "status": "completed"
    },
    "tags": []
   },
   "source": [
    "### Starting points for random walkers\n",
    "\n",
    "Now we define some hyperparameters (e.g. the number of walkers and steps), and initialise\n",
    "the random starting positions of walkers. We start all walkers in a small ball about a chosen point\n",
    "$(0, 0, 0, 0)$."
   ]
  },
  {
   "cell_type": "code",
   "execution_count": null,
   "id": "327326df",
   "metadata": {
    "executionInfo": {
     "elapsed": 1,
     "status": "ok",
     "timestamp": 1744874884739,
     "user": {
      "displayName": "Thanh Son Pham",
      "userId": "17941529104681711853"
     },
     "user_tz": -420
    },
    "id": "327326df",
    "papermill": {
     "duration": 0.017056,
     "end_time": "2024-03-19T00:38:49.485516",
     "exception": false,
     "start_time": "2024-03-19T00:38:49.468460",
     "status": "completed"
    },
    "tags": []
   },
   "outputs": [],
   "source": [
    "nwalkers = 32\n",
    "ndim = nparams\n",
    "nsteps = 10000\n",
    "walkers_start = np.zeros(nparams) + 1e-4 * np.random.randn(nwalkers, ndim)"
   ]
  },
  {
   "cell_type": "markdown",
   "id": "47194dc5",
   "metadata": {
    "id": "47194dc5",
    "papermill": {
     "duration": 0.009573,
     "end_time": "2024-03-19T00:38:49.504734",
     "exception": false,
     "start_time": "2024-03-19T00:38:49.495161",
     "status": "completed"
    },
    "tags": []
   },
   "source": [
    "### Run McMC chain to sample the posterior probability\n",
    "The ensemble sampler with 32 walkers is run for 10,000 steps, meaning there are 320,000 samples of the model space will be drawn from by the sampler."
   ]
  },
  {
   "cell_type": "code",
   "execution_count": null,
   "id": "9d1a6f4c",
   "metadata": {
    "colab": {
     "base_uri": "https://localhost:8080/"
    },
    "executionInfo": {
     "elapsed": 24356,
     "status": "ok",
     "timestamp": 1744874909097,
     "user": {
      "displayName": "Thanh Son Pham",
      "userId": "17941529104681711853"
     },
     "user_tz": -420
    },
    "id": "9d1a6f4c",
    "outputId": "1090c6d4-2d1e-44f7-c8d2-a55f4184a086",
    "papermill": {
     "duration": 8.399512,
     "end_time": "2024-03-19T00:38:57.913877",
     "exception": false,
     "start_time": "2024-03-19T00:38:49.514365",
     "status": "completed"
    },
    "tags": []
   },
   "outputs": [],
   "source": [
    "import emcee\n",
    "sampler = emcee.EnsembleSampler(nwalkers, ndim, log_probbability)\n",
    "output = sampler.run_mcmc(walkers_start, 10000, progress=True)"
   ]
  },
  {
   "cell_type": "markdown",
   "id": "64703e6f",
   "metadata": {
    "id": "64703e6f"
   },
   "source": [
    "### Analyse the Bayesian sampling output\n",
    "We use `arviz` package to inspect the analyse the output of a Bayesian inference."
   ]
  },
  {
   "cell_type": "code",
   "execution_count": null,
   "id": "56b73de2",
   "metadata": {
    "colab": {
     "base_uri": "https://localhost:8080/",
     "height": 411
    },
    "executionInfo": {
     "elapsed": 42,
     "status": "ok",
     "timestamp": 1744874909141,
     "user": {
      "displayName": "Thanh Son Pham",
      "userId": "17941529104681711853"
     },
     "user_tz": -420
    },
    "id": "56b73de2",
    "outputId": "99b111ce-a02f-44a0-d9f8-41fff2fcb492",
    "papermill": {
     "duration": 0.383525,
     "end_time": "2024-03-19T00:38:58.350115",
     "exception": false,
     "start_time": "2024-03-19T00:38:57.966590",
     "status": "completed"
    },
    "tags": []
   },
   "outputs": [],
   "source": [
    "import arviz as az\n",
    "labels = [\"$m_0$\", \"$m_1$\", \"$m_2$\",\"$m_3$\"]\n",
    "idata = az.from_emcee(sampler, var_names=labels)\n",
    "idata.get(\"posterior\")"
   ]
  },
  {
   "cell_type": "markdown",
   "id": "93a2ef95",
   "metadata": {
    "id": "93a2ef95"
   },
   "source": [
    "First, we use `plot_trace` to inspect the evolution of each model components as from the sampling chains. 32 chains are overlapped."
   ]
  },
  {
   "cell_type": "code",
   "execution_count": null,
   "id": "fcc2c92c",
   "metadata": {
    "colab": {
     "base_uri": "https://localhost:8080/",
     "height": 828
    },
    "executionInfo": {
     "elapsed": 6878,
     "status": "ok",
     "timestamp": 1744874916020,
     "user": {
      "displayName": "Thanh Son Pham",
      "userId": "17941529104681711853"
     },
     "user_tz": -420
    },
    "id": "fcc2c92c",
    "outputId": "130e2119-e450-4a94-89e8-04ab393d257f",
    "papermill": {
     "duration": 3.199835,
     "end_time": "2024-03-19T00:39:01.656332",
     "exception": false,
     "start_time": "2024-03-19T00:38:58.456497",
     "status": "completed"
    },
    "tags": []
   },
   "outputs": [],
   "source": [
    "# a standard `trace` plot\n",
    "axes = az.plot_trace(idata, backend_kwargs={\"constrained_layout\":True})\n",
    "# add legends\n",
    "for i, axes_pair in enumerate(axes):\n",
    "    ax1 = axes_pair[0]\n",
    "    ax2 = axes_pair[1]\n",
    "    ax1.axvline(true_model[i], linestyle='dotted', color='red')\n",
    "    ax1.set_xlabel(\"parameter value\")\n",
    "    ax1.set_ylabel(\"density value\")\n",
    "    ax2.set_xlabel(\"number of iterations\")\n",
    "    ax2.set_ylabel(\"parameter value\")"
   ]
  },
  {
   "cell_type": "markdown",
   "id": "93dd2629",
   "metadata": {
    "id": "93dd2629"
   },
   "source": [
    "Next, lets compute the autocorrelation time for each components in the chain. Read more [here](https://emcee.readthedocs.io/en/stable/tutorials/autocorr/#computing-autocorrelation-times). For this example, the autocorrelation time for all component is about $n_A = 60$."
   ]
  },
  {
   "cell_type": "code",
   "execution_count": null,
   "id": "3fc1db16",
   "metadata": {
    "colab": {
     "base_uri": "https://localhost:8080/"
    },
    "executionInfo": {
     "elapsed": 5,
     "status": "ok",
     "timestamp": 1744874916028,
     "user": {
      "displayName": "Thanh Son Pham",
      "userId": "17941529104681711853"
     },
     "user_tz": -420
    },
    "id": "3fc1db16",
    "outputId": "26c1206c-d14d-4c0d-c501-085a894cf9ab",
    "papermill": {
     "duration": 0.236364,
     "end_time": "2024-03-19T00:39:01.911576",
     "exception": false,
     "start_time": "2024-03-19T00:39:01.675212",
     "status": "completed"
    },
    "tags": []
   },
   "outputs": [],
   "source": [
    "tau = sampler.get_autocorr_time()\n",
    "print(f\"autocorrelation time: {tau}\")"
   ]
  },
  {
   "cell_type": "markdown",
   "id": "329fe1ce",
   "metadata": {
    "id": "329fe1ce"
   },
   "source": [
    "It is common practice to derive the final posterior distribution by discarding the first $5 \\times n_A = 300$ and thinning the chain at every $n_A/2= 30^{th}$ samples."
   ]
  },
  {
   "cell_type": "code",
   "execution_count": null,
   "id": "645afaf7",
   "metadata": {
    "executionInfo": {
     "elapsed": 2,
     "status": "ok",
     "timestamp": 1744874916031,
     "user": {
      "displayName": "Thanh Son Pham",
      "userId": "17941529104681711853"
     },
     "user_tz": -420
    },
    "id": "645afaf7"
   },
   "outputs": [],
   "source": [
    "flat_samples = sampler.get_chain(discard=300, thin=30, flat=True)"
   ]
  },
  {
   "cell_type": "markdown",
   "id": "240ab3ae",
   "metadata": {
    "id": "240ab3ae"
   },
   "source": [
    "We use a `corner` plot to summary the empirically estimated distribution of all model parameter. The title of the diagonal panels show the median and 95\\% confidence intervals."
   ]
  },
  {
   "cell_type": "code",
   "execution_count": null,
   "id": "486d4b00",
   "metadata": {
    "colab": {
     "base_uri": "https://localhost:8080/",
     "height": 718
    },
    "executionInfo": {
     "elapsed": 904,
     "status": "ok",
     "timestamp": 1744874916936,
     "user": {
      "displayName": "Thanh Son Pham",
      "userId": "17941529104681711853"
     },
     "user_tz": -420
    },
    "id": "486d4b00",
    "outputId": "69562869-d76c-4d86-a48e-1d235cc5dde8",
    "papermill": {
     "duration": 1.160259,
     "end_time": "2024-03-19T00:39:03.088135",
     "exception": false,
     "start_time": "2024-03-19T00:39:01.927876",
     "status": "completed"
    },
    "tags": []
   },
   "outputs": [],
   "source": [
    "import corner\n",
    "fig = corner.corner(flat_samples, labels=labels, truths=true_model,\n",
    "                     quantiles=[0.025, 0.5, 0.975], show_titles=True,\n",
    "                     title_kwargs={\"fontsize\": 12},\n",
    "                     levels=(0.68, 0.95), alpha=0.1)\n",
    "fig.set_size_inches(7, 7)\n",
    "plt.show()"
   ]
  },
  {
   "cell_type": "markdown",
   "id": "ece8a331",
   "metadata": {
    "id": "ece8a331",
    "papermill": {
     "duration": 0.016788,
     "end_time": "2024-03-19T00:39:03.122399",
     "exception": false,
     "start_time": "2024-03-19T00:39:03.105611",
     "status": "completed"
    },
    "tags": []
   },
   "source": [
    "Now we plot the predicted curves for the posterior ensemble of solutions."
   ]
  },
  {
   "cell_type": "code",
   "execution_count": null,
   "id": "4cb25359",
   "metadata": {
    "colab": {
     "base_uri": "https://localhost:8080/",
     "height": 454
    },
    "executionInfo": {
     "elapsed": 382,
     "status": "ok",
     "timestamp": 1744874917320,
     "user": {
      "displayName": "Thanh Son Pham",
      "userId": "17941529104681711853"
     },
     "user_tz": -420
    },
    "id": "4cb25359",
    "outputId": "fcd8421e-1ce7-450d-baf1-bf67ab5f125d",
    "papermill": {
     "duration": 0.362249,
     "end_time": "2024-03-19T00:39:03.501363",
     "exception": false,
     "start_time": "2024-03-19T00:39:03.139114",
     "status": "completed"
    },
    "tags": []
   },
   "outputs": [],
   "source": [
    "inds = np.random.randint(len(flat_samples), size=100) # get a random selection from posterior ensemble\n",
    "plot_data(sigma=sigma)\n",
    "plot_models(flat_samples[inds])\n",
    "plot_model(x,true_y, \"True model\", color=\"darkorange\")"
   ]
  },
  {
   "cell_type": "markdown",
   "id": "6807c365",
   "metadata": {
    "id": "6807c365",
    "papermill": {
     "duration": 0.017577,
     "end_time": "2024-03-19T00:39:03.702675",
     "exception": false,
     "start_time": "2024-03-19T00:39:03.685098",
     "status": "completed"
    },
    "tags": []
   },
   "source": [
    "### Challenge 1: Change the prior model bounds"
   ]
  },
  {
   "cell_type": "markdown",
   "id": "ca7d1628",
   "metadata": {
    "id": "ca7d1628",
    "papermill": {
     "duration": 0.017535,
     "end_time": "2024-03-19T00:39:03.738232",
     "exception": false,
     "start_time": "2024-03-19T00:39:03.720697",
     "status": "completed"
    },
    "tags": []
   },
   "source": [
    "Replace the previous prior bounds to new values\n",
    "\n",
    "The original  uniform bounds had  \n",
    "\n",
    "${\\mathbf l}^T = (-10.,-10.,-10.,-10.)$, and ${\\mathbf u}^T = (10.,10.,10.,10.)$.\n",
    "\n",
    "Lets replace with\n",
    "\n",
    "${\\mathbf l}^T = (-1.,-10.,-10.,-10.)$, and ${\\mathbf u}^T = (2.,10.,10.,10.)$.\n",
    "\n",
    "We have only changed the bounds of the first parameter. However since the true value of constant term was 6, these bounds are now inconsistent with the true model.\n",
    "\n",
    "What does this do to the posterior distribution?\n",
    "\n",
    "Start from the code template below:\n",
    "\n",
    "```\n",
    "m_lower_bound = <CHANGE ME>             # lower bound for uniform prior\n",
    "m_upper_bound = <CHANGE ME>                 # upper bound for uniform prior\n",
    "\n",
    "def log_prior(model):    # uniform distribution\n",
    "    for i in range(len(m_lower_bound)):\n",
    "        if model[i] < m_lower_bound[i] or model[i] > m_upper_bound[i]: return -np.inf\n",
    "    return 0.0 # model lies within bounds -> return log(1)\n",
    "\n",
    "######## re-run the sampler\n",
    "sampler.reset()\n",
    "sampler.run_mcmc(walkers_start, 10000, progress=True)\n",
    "\n",
    "flat_samples = sampler.get_chain(discard=300, thin=30, flat=True)\n",
    "inds = np.random.randint(len(flat_samples), size=100) # get a random selection from posterior ensemble\n",
    "\n",
    "######## plot the results\n",
    "print(\"Resulting samples with prior model lower bounds of <CHANGE ME>, upper bounds of <CHANGE ME>\")\n",
    "plot_data()\n",
    "plot_models(flat_samples[inds])\n",
    "plot_model(x, true_y, \"True model\", color=\"darkorange\")\n",
    "```"
   ]
  },
  {
   "cell_type": "code",
   "execution_count": null,
   "id": "c440f6ad",
   "metadata": {
    "executionInfo": {
     "elapsed": 2,
     "status": "ok",
     "timestamp": 1744874917324,
     "user": {
      "displayName": "Thanh Son Pham",
      "userId": "17941529104681711853"
     },
     "user_tz": -420
    },
    "id": "c440f6ad",
    "papermill": {
     "duration": 0.022616,
     "end_time": "2024-03-19T00:39:03.778502",
     "exception": false,
     "start_time": "2024-03-19T00:39:03.755886",
     "status": "completed"
    },
    "tags": []
   },
   "outputs": [],
   "source": [
    "# Copy the template above, Replace <CHANGE ME> with your answer\n",
    "\n"
   ]
  },
  {
   "cell_type": "code",
   "execution_count": null,
   "id": "196cc467",
   "metadata": {
    "cellView": "form",
    "colab": {
     "base_uri": "https://localhost:8080/",
     "height": 484
    },
    "executionInfo": {
     "elapsed": 14359,
     "status": "ok",
     "timestamp": 1744874931685,
     "user": {
      "displayName": "Thanh Son Pham",
      "userId": "17941529104681711853"
     },
     "user_tz": -420
    },
    "id": "196cc467",
    "jupyter": {
     "source_hidden": true
    },
    "outputId": "a417b90c-cbf7-4c01-8342-135f36b00f75",
    "papermill": {
     "duration": 8.265161,
     "end_time": "2024-03-19T00:39:12.064597",
     "exception": false,
     "start_time": "2024-03-19T00:39:03.799436",
     "status": "completed"
    },
    "tags": []
   },
   "outputs": [],
   "source": [
    "#@title Click for solution\n",
    "\n",
    "######## update the problem with the new prior bounds\n",
    "m_lower_bound = np.array([-1,-10,-10,-10])             # lower bound for uniform prior\n",
    "m_upper_bound = np.array([2,10,10,10])                 # upper bound for uniform prior\n",
    "\n",
    "def log_prior(model):    # uniform distribution\n",
    "    for i in range(len(m_lower_bound)):\n",
    "        if model[i] < m_lower_bound[i] or model[i] > m_upper_bound[i]: return -np.inf\n",
    "    return 0.0 # model lies within bounds -> return log(1)\n",
    "\n",
    "######## re-run the sampler\n",
    "sampler.reset()\n",
    "sampler.run_mcmc(walkers_start, 10000, progress=True)\n",
    "\n",
    "flat_samples = sampler.get_chain(discard=300, thin=30, flat=True)\n",
    "inds = np.random.randint(len(flat_samples), size=100) # get a random selection from posterior ensemble\n",
    "\n",
    "######## plot the results\n",
    "print(\"Resulting samples with prior model lower bounds of [-1,-10,-10,-10], upper bounds of [2,10,10,10]\")\n",
    "plot_data(sigma=1)\n",
    "plot_models(flat_samples[inds])\n",
    "plot_model(x, true_y, \"True model\", color=\"darkorange\")"
   ]
  },
  {
   "cell_type": "markdown",
   "id": "1eac787f",
   "metadata": {
    "id": "1eac787f",
    "papermill": {
     "duration": 0.021095,
     "end_time": "2024-03-19T00:39:12.109205",
     "exception": false,
     "start_time": "2024-03-19T00:39:12.088110",
     "status": "completed"
    },
    "tags": []
   },
   "source": [
    "Why do you think the posterior distribution looks like this?"
   ]
  },
  {
   "cell_type": "markdown",
   "id": "db6aa303",
   "metadata": {
    "id": "db6aa303",
    "papermill": {
     "duration": 0.02084,
     "end_time": "2024-03-19T00:39:12.192648",
     "exception": false,
     "start_time": "2024-03-19T00:39:12.171808",
     "status": "completed"
    },
    "tags": []
   },
   "source": [
    "### Challenge 2: Change the data uncertainty\n",
    "\n",
    "To change the data uncertainty we increase `sigma` and then redefine the log-Likelihood.\n",
    "\n",
    "Here we increase the assumed data standard deviation by a factor of of 50! So we are telling the inversion that the data are far less accurate than they actually are."
   ]
  },
  {
   "cell_type": "code",
   "execution_count": null,
   "id": "d7255b47",
   "metadata": {
    "executionInfo": {
     "elapsed": 13,
     "status": "ok",
     "timestamp": 1744874931713,
     "user": {
      "displayName": "Thanh Son Pham",
      "userId": "17941529104681711853"
     },
     "user_tz": -420
    },
    "id": "d7255b47",
    "papermill": {
     "duration": 0.026031,
     "end_time": "2024-03-19T00:39:12.239591",
     "exception": false,
     "start_time": "2024-03-19T00:39:12.213560",
     "status": "completed"
    },
    "tags": []
   },
   "outputs": [],
   "source": [
    "sigma = 10.0 # common noise standard deviation"
   ]
  },
  {
   "cell_type": "markdown",
   "id": "de4d4ddc",
   "metadata": {
    "id": "de4d4ddc",
    "papermill": {
     "duration": 0.020839,
     "end_time": "2024-03-19T00:39:12.281379",
     "exception": false,
     "start_time": "2024-03-19T00:39:12.260540",
     "status": "completed"
    },
    "tags": []
   },
   "source": [
    "Lets return the prior to the original bounds."
   ]
  },
  {
   "cell_type": "code",
   "execution_count": null,
   "id": "0b86326a",
   "metadata": {
    "executionInfo": {
     "elapsed": 2,
     "status": "ok",
     "timestamp": 1744874931717,
     "user": {
      "displayName": "Thanh Son Pham",
      "userId": "17941529104681711853"
     },
     "user_tz": -420
    },
    "id": "0b86326a",
    "papermill": {
     "duration": 0.025507,
     "end_time": "2024-03-19T00:39:12.327736",
     "exception": false,
     "start_time": "2024-03-19T00:39:12.302229",
     "status": "completed"
    },
    "tags": []
   },
   "outputs": [],
   "source": [
    "m_lower_bound = np.ones(nparams) * (-10.)             # lower bound for uniform prior\n",
    "m_upper_bound = np.ones(nparams) * 10                 # upper bound for uniform prior\n",
    "\n",
    "def log_prior(model):    # uniform distribution\n",
    "    for i in range(len(m_lower_bound)):\n",
    "        if model[i] < m_lower_bound[i] or model[i] > m_upper_bound[i]: return -np.inf\n",
    "    return 0.0 # model lies within bounds -> return log(1)"
   ]
  },
  {
   "cell_type": "markdown",
   "id": "fe93f319",
   "metadata": {
    "id": "fe93f319",
    "papermill": {
     "duration": 0.020813,
     "end_time": "2024-03-19T00:39:12.390049",
     "exception": false,
     "start_time": "2024-03-19T00:39:12.369236",
     "status": "completed"
    },
    "tags": []
   },
   "source": [
    "Your challenge is then to tell CoFI that the Likelihood and prior have changed and then to rerun the sample, and plot results.\n",
    "\n",
    "Feel free to start from the code below:\n",
    "\n",
    "```\n",
    "######## the likelihood function with the new Cdinv\n",
    "def log_likelihood(model):\n",
    "    pred_y = forward(model)\n",
    "    residual = data_y - pred_y\n",
    "    return <CHANGE ME>\n",
    "\n",
    "######## re-run the sampler\n",
    "sampler.reset()\n",
    "sampler.run_mcmc(walkers_start, 10000, progress=True)\n",
    "\n",
    "flat_samples = sampler.get_chain(discard=300, thin=30, flat=True)\n",
    "inds = np.random.randint(len(flat_samples), size=100) # get a random selection from posterior ensemble\n",
    "\n",
    "print(\"Resulting samples from changed data uncertainty\")\n",
    "plot_data()\n",
    "plot_models(flat_samples[inds])\n",
    "plot_model(x,true_y, \"True model\", color=\"darkorange\")\n",
    "```"
   ]
  },
  {
   "cell_type": "code",
   "execution_count": null,
   "id": "bc081a33",
   "metadata": {
    "executionInfo": {
     "elapsed": 7,
     "status": "ok",
     "timestamp": 1744874931725,
     "user": {
      "displayName": "Thanh Son Pham",
      "userId": "17941529104681711853"
     },
     "user_tz": -420
    },
    "id": "bc081a33",
    "papermill": {
     "duration": 0.024201,
     "end_time": "2024-03-19T00:39:12.435099",
     "exception": false,
     "start_time": "2024-03-19T00:39:12.410898",
     "status": "completed"
    },
    "tags": []
   },
   "outputs": [],
   "source": [
    "# Copy the template above, Replace <CHANGE ME> with your answer\n",
    "\n"
   ]
  },
  {
   "cell_type": "markdown",
   "id": "290bc973",
   "metadata": {
    "id": "290bc973",
    "papermill": {
     "duration": 0.020819,
     "end_time": "2024-03-19T00:39:12.476855",
     "exception": false,
     "start_time": "2024-03-19T00:39:12.456036",
     "status": "completed"
    },
    "tags": []
   },
   "source": [
    "The answer is in the next cells if you want to run them."
   ]
  },
  {
   "cell_type": "code",
   "execution_count": null,
   "id": "c617ca30",
   "metadata": {
    "colab": {
     "base_uri": "https://localhost:8080/",
     "height": 484
    },
    "executionInfo": {
     "elapsed": 14116,
     "status": "ok",
     "timestamp": 1744874945835,
     "user": {
      "displayName": "Thanh Son Pham",
      "userId": "17941529104681711853"
     },
     "user_tz": -420
    },
    "id": "c617ca30",
    "jupyter": {
     "source_hidden": true
    },
    "outputId": "fd1f9b5a-ec85-4c24-d96a-cddc8bed890a",
    "papermill": {
     "duration": 7.340664,
     "end_time": "2024-03-19T00:39:19.838460",
     "exception": false,
     "start_time": "2024-03-19T00:39:12.497796",
     "status": "completed"
    },
    "tags": []
   },
   "outputs": [],
   "source": [
    "#@title Click for solution\n",
    "\n",
    "######## the likelihood function with the new Cdinv\n",
    "def log_likelihood(model):\n",
    "    pred_y = forward(model)\n",
    "    residual = data_y - pred_y\n",
    "    return -0.5 * np.sum(residual**2 / sigma**2)\n",
    "\n",
    "######## re-run the sampler\n",
    "sampler.reset()\n",
    "sampler.run_mcmc(walkers_start, 10000, progress=True)\n",
    "\n",
    "flat_samples = sampler.get_chain(discard=300, thin=30, flat=True)\n",
    "inds = np.random.randint(len(flat_samples), size=100) # get a random selection from posterior ensemble\n",
    "\n",
    "print(\"Resulting samples from changed data uncertainty\")\n",
    "plot_data(sigma=1)\n",
    "plot_models(flat_samples[inds])\n",
    "plot_model(x,true_y, \"True model\", color=\"darkorange\")"
   ]
  },
  {
   "cell_type": "markdown",
   "id": "ed05852c",
   "metadata": {
    "id": "ed05852c",
    "papermill": {
     "duration": 0.024502,
     "end_time": "2024-03-19T00:39:19.888484",
     "exception": false,
     "start_time": "2024-03-19T00:39:19.863982",
     "status": "completed"
    },
    "tags": []
   },
   "source": [
    "### Challenge 3: Change the number of walkers / steps in the McMC algorithm (optional)\n",
    "\n",
    "Now lets decrease the number of steps performed by the McMC algorithm. It will be faster but perform less exploration of the model parameters.\n",
    "\n",
    "We suggest you reduce the number of steps taken by all 32 random walkers and see how it affects the posterior ensemble.\n",
    "\n",
    "You can start from code template below:\n",
    "\n",
    "```\n",
    "nsteps = <CHANGE ME>               # instead of 10000\n",
    "nwalkers = <CHANGE ME>             # instead of 32\n",
    "# update start with the new number of walkers\n",
    "walkers_start = np.zeros(nparams) + 1e-4 * np.random.randn(nwalkers, ndim)\n",
    "\n",
    "# let's return to the old uncertainty settings\n",
    "sigma = 1.0                                 # common noise standard deviation\n",
    "Cdinv = np.eye(len(data_y))/(sigma**2)      # inverse data covariance matrix\n",
    "\n",
    "# re-defining the sampler\n",
    "sampler = emcee.EnsembleSampler(nwalkers, ndim, log_probbability)\n",
    "\n",
    "######## re-run the sampler\n",
    "sampler.run_mcmc(walkers_start, nsteps, progress=True)\n",
    "\n",
    "######## CoFI InversionResult - plot result\n",
    "flat_samples = sampler.get_chain(discard=300, thin=30, flat=True)\n",
    "inds = np.random.randint(len(flat_samples), size=10) # get a random selection from posterior ensemble\n",
    "\n",
    "print(f\"Inference results from {nsteps} steps and {nwalkers} walkers\")\n",
    "plot_data()\n",
    "plot_models(flat_samples[inds])\n",
    "plot_model(x,true_y, \"True model\", color=\"darkorange\")\n",
    "```"
   ]
  },
  {
   "cell_type": "code",
   "execution_count": null,
   "id": "d128d944",
   "metadata": {
    "executionInfo": {
     "elapsed": 2,
     "status": "ok",
     "timestamp": 1744874945840,
     "user": {
      "displayName": "Thanh Son Pham",
      "userId": "17941529104681711853"
     },
     "user_tz": -420
    },
    "id": "d128d944",
    "papermill": {
     "duration": 0.036608,
     "end_time": "2024-03-19T00:39:19.949593",
     "exception": false,
     "start_time": "2024-03-19T00:39:19.912985",
     "status": "completed"
    },
    "tags": []
   },
   "outputs": [],
   "source": [
    "# Copy the template above, Replace <CHANGE ME> with your answer\n",
    "\n"
   ]
  },
  {
   "cell_type": "code",
   "execution_count": null,
   "id": "851fe2e3",
   "metadata": {
    "cellView": "form",
    "colab": {
     "base_uri": "https://localhost:8080/",
     "height": 484
    },
    "executionInfo": {
     "elapsed": 678,
     "status": "ok",
     "timestamp": 1744874946519,
     "user": {
      "displayName": "Thanh Son Pham",
      "userId": "17941529104681711853"
     },
     "user_tz": -420
    },
    "id": "851fe2e3",
    "jupyter": {
     "source_hidden": true
    },
    "outputId": "7600e5c2-4b73-4b6d-efd6-77a4af7d44b8",
    "papermill": {
     "duration": 0.503387,
     "end_time": "2024-03-19T00:39:20.477465",
     "exception": false,
     "start_time": "2024-03-19T00:39:19.974078",
     "status": "completed"
    },
    "tags": []
   },
   "outputs": [],
   "source": [
    "#@title Click for solution\n",
    "# change number of steps\n",
    "nsteps = 400              # instead of 10000\n",
    "\n",
    "# change number of walkers\n",
    "nwalkers = 30             # instead of 32\n",
    "walkers_start = np.zeros(nparams) + 1e-4 * np.random.randn(nwalkers, ndim)\n",
    "\n",
    "# let's return to the old uncertainty settings\n",
    "sigma = 1.0                                 # common noise standard deviation\n",
    "\n",
    "# re-defining the sampler\n",
    "sampler = emcee.EnsembleSampler(nwalkers, ndim, log_probbability)\n",
    "\n",
    "######## re-run the sampler\n",
    "sampler.run_mcmc(walkers_start, nsteps, progress=True)\n",
    "\n",
    "######## CoFI InversionResult - plot result\n",
    "flat_samples = sampler.get_chain(discard=300, thin=30, flat=True)\n",
    "inds = np.random.randint(len(flat_samples), size=10) # get a random selection from posterior ensemble\n",
    "\n",
    "print(f\"Inference results from {nsteps} steps and {nwalkers} walkers\")\n",
    "plot_data(sigma=1)\n",
    "plot_models(flat_samples[inds])\n",
    "plot_model(x,true_y, \"True model\", color=\"darkorange\")"
   ]
  },
  {
   "cell_type": "markdown",
   "id": "c0428c37",
   "metadata": {
    "id": "c0428c37"
   },
   "source": [
    "---\n",
    "## Bonus project\n",
    "\n",
    "Hello, thank you for being interested in the bonus project. Although everyone is encouraged to complete bonus projects, undergrad students will be considered for bonus points to their final exams. Best of luck!\n",
    "\n",
    "*In this project, you are asked to write the correct form of the likelihood function to infer the noise amplitude hyperparameter, $\\sigma$, together with the polinomial parameters.*\n",
    "\n",
    "If you submit a working code towards completing the task, you will get 50% points. If the code produces correct outcome, you will get 75%. The minimal two-paragraphs on the motivation and additional thoughts will get you to 100%.\n",
    "\n",
    "Please submit this jupyter notebook to the following form: https://forms.gle/L5QLLYMEnm277bTMA.\n",
    "\n",
    "To start please look at the cell below for some hints."
   ]
  },
  {
   "cell_type": "code",
   "execution_count": null,
   "id": "50f773de",
   "metadata": {
    "executionInfo": {
     "elapsed": 2,
     "status": "ok",
     "timestamp": 1744874946522,
     "user": {
      "displayName": "Thanh Son Pham",
      "userId": "17941529104681711853"
     },
     "user_tz": -420
    },
    "id": "50f773de"
   },
   "outputs": [],
   "source": [
    "## polynomial parameters' bounds\n",
    "m_lower_bound = np.ones(nparams) * (-10.)             # lower bound for uniform prior\n",
    "m_upper_bound = np.ones(nparams) * 10                 # upper bound for uniform prior\n",
    "## noise amplitude bounds\n",
    "sigma_lower_bound = 0.0\n",
    "sigma_upper_bound = 5.0\n",
    "\n",
    "def log_prior_b(model):    # uniform distribution\n",
    "    m = model[:-1] # model parameters\n",
    "    sigma = model[-1] # noise amplitude\n",
    "    for i in range(len(m_lower_bound)):\n",
    "        if model[i] < m_lower_bound[i] or model[i] > m_upper_bound[i]: return -np.inf\n",
    "    if sigma < sigma_lower_bound or sigma > sigma_upper_bound: return -np.inf\n",
    "    return 0.0 # model lies within bounds -> return log(1)\n",
    "\n",
    "def log_likelihood_b(model):\n",
    "    # unpack the composite model including 4 polynomial parameters and 1 noise amplitude\n",
    "    m = model[:-1] # model parameters\n",
    "    sigma = model[-1] # noise amplitude\n",
    "    ## ENTER YOUR CODE HERE\n",
    "\n",
    "    # hints about returned expression\n",
    "    return exp_term + norm_term\n",
    "\n",
    "def log_probbability_b(model):\n",
    "    return log_prior_b(model) + log_likelihood_b(model)"
   ]
  },
  {
   "cell_type": "markdown",
   "id": "74f916c7",
   "metadata": {},
   "source": [
    "The following cell prepares the sampler with the correct configuration. No edits may be needed."
   ]
  },
  {
   "cell_type": "code",
   "execution_count": null,
   "id": "67a66862",
   "metadata": {
    "colab": {
     "base_uri": "https://localhost:8080/"
    },
    "executionInfo": {
     "elapsed": 20919,
     "status": "ok",
     "timestamp": 1744874967442,
     "user": {
      "displayName": "Thanh Son Pham",
      "userId": "17941529104681711853"
     },
     "user_tz": -420
    },
    "id": "67a66862",
    "outputId": "84071e31-dfa3-4ca5-d7c5-757bf0e2a1e0"
   },
   "outputs": [],
   "source": [
    "#@markdown Set up and run the sampler\n",
    "# change number of walkers\n",
    "nwalkers = 32               # instead of 32\n",
    "nsteps = 10000              # instead of 10000\n",
    "# number of dimensions\n",
    "ndim_b = nparams + 1\n",
    "\n",
    "# starting walker position drwawn uniformly within the bounds\n",
    "walkers_start_b = np.random.uniform(0, 1, size=(nwalkers, ndim_b))\n",
    "walkers_start_b[:, :-1] = m_lower_bound + (m_upper_bound - m_lower_bound) * walkers_start_b[:, :-1]\n",
    "walkers_start_b[:, -1] = sigma_lower_bound + (sigma_upper_bound - sigma_lower_bound) * walkers_start_b[:, -1]\n",
    "\n",
    "######## re-run the sampler\n",
    "sampler_b = emcee.EnsembleSampler(nwalkers, ndim_b, log_probbability_b)\n",
    "sampler_b.run_mcmc(walkers_start_b, nsteps, progress=True)\n",
    "\n",
    "######## autocorrelation time\n",
    "tau_b = sampler_b.get_autocorr_time()\n",
    "print(f\"autocorrelation time: {tau_b}\")"
   ]
  },
  {
   "cell_type": "code",
   "execution_count": null,
   "id": "385ec2b3",
   "metadata": {
    "colab": {
     "base_uri": "https://localhost:8080/",
     "height": 728
    },
    "executionInfo": {
     "elapsed": 2054,
     "status": "ok",
     "timestamp": 1744875314958,
     "user": {
      "displayName": "Thanh Son Pham",
      "userId": "17941529104681711853"
     },
     "user_tz": -420
    },
    "id": "385ec2b3",
    "outputId": "137ae6e9-3e94-4369-bbfc-ff57f9c1a3f0"
   },
   "outputs": [],
   "source": [
    "#@markdown Plot marginalized sampled posterior\n",
    "######## corner plot to show pair-marginalized posterior distributions\n",
    "flat_samples = sampler_b.get_chain(discard=int(tau.max()), thin=int(tau.max()*.5), flat=True)\n",
    "fig = corner.corner(flat_samples, labels=labels + [\"$\\sigma$\"], truths=list(true_model) + [sigma],\n",
    "                        quantiles=[0.025, 0.5, 0.975], show_titles=True,\n",
    "                        levels=(0.68, 0.95), alpha=0.1)\n",
    "fig.set_size_inches(7, 7)\n",
    "plt.show()"
   ]
  },
  {
   "cell_type": "code",
   "execution_count": null,
   "id": "45c0b5eb",
   "metadata": {},
   "outputs": [],
   "source": [
    "#@markdown Posterior polynomial fit\n",
    "print(f\"Inference results from {nsteps} steps and {nwalkers} walkers\")\n",
    "plot_data(sigma=1)\n",
    "inds = np.random.randint(len(flat_samples), size=100)\n",
    "plot_models(flat_samples[inds, :4])\n",
    "plot_model(x,true_y, \"True model\", color=\"darkorange\")"
   ]
  }
 ],
 "metadata": {
  "colab": {
   "provenance": [
    {
     "file_id": "https://github.com/inlab-geo/cofi-examples/blob/main/tutorials/linear_regression/linear_regression.ipynb",
     "timestamp": 1742436480237
    }
   ]
  },
  "kernelspec": {
   "display_name": "emcee",
   "language": "python",
   "name": "python3"
  },
  "language_info": {
   "codemirror_mode": {
    "name": "ipython",
    "version": 3
   },
   "file_extension": ".py",
   "mimetype": "text/x-python",
   "name": "python",
   "nbconvert_exporter": "python",
   "pygments_lexer": "ipython3",
   "version": "3.11.7"
  },
  "papermill": {
   "default_parameters": {},
   "duration": 34.676302,
   "end_time": "2024-03-19T00:39:21.181784",
   "environment_variables": {},
   "exception": null,
   "input_path": "/home/jiawen/test/cofi-examples/tutorials/1_linear_regression.ipynb",
   "output_path": "/home/jiawen/test/cofi-examples/tutorials/1_linear_regression.ipynb",
   "parameters": {},
   "start_time": "2024-03-19T00:38:46.505482",
   "version": "2.4.0"
  }
 },
 "nbformat": 4,
 "nbformat_minor": 5
}
